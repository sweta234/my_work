{
 "cells": [
  {
   "cell_type": "code",
   "execution_count": 49,
   "id": "52a3f377",
   "metadata": {},
   "outputs": [],
   "source": [
    "list_= [2,4,5]"
   ]
  },
  {
   "cell_type": "code",
   "execution_count": 50,
   "id": "462fa06b",
   "metadata": {},
   "outputs": [
    {
     "name": "stdout",
     "output_type": "stream",
     "text": [
      "11\n"
     ]
    }
   ],
   "source": [
    "print (sum(list_))"
   ]
  },
  {
   "cell_type": "code",
   "execution_count": 51,
   "id": "e1b8a2dd",
   "metadata": {},
   "outputs": [
    {
     "name": "stdout",
     "output_type": "stream",
     "text": [
      "2\n"
     ]
    }
   ],
   "source": [
    "Sample_String = \"1234abcd\"\n",
    "print (Sample_String[1])"
   ]
  },
  {
   "cell_type": "code",
   "execution_count": 52,
   "id": "ce6abe4e",
   "metadata": {},
   "outputs": [
    {
     "name": "stdout",
     "output_type": "stream",
     "text": [
      "\n",
      "<function fac at 0x000002AE57361C10>\n"
     ]
    }
   ],
   "source": [
    "int_ = input()\n",
    "def fac(int_):\n",
    "    g = int_*int_\n",
    "    return g\n",
    "print (fac)"
   ]
  },
  {
   "cell_type": "code",
   "execution_count": 53,
   "id": "5af402f5",
   "metadata": {},
   "outputs": [
    {
     "name": "stdout",
     "output_type": "stream",
     "text": [
      "7\n",
      "7\n",
      "7\n",
      "None\n"
     ]
    }
   ],
   "source": [
    "x = range(3, 6)\n",
    "\n",
    "def g(g):\n",
    "    for i in x:\n",
    "        if i == g:\n",
    "            print (i)\n",
    "        else :\n",
    "            print (g)\n",
    "print (g(7))\n",
    "    \n",
    "    "
   ]
  },
  {
   "cell_type": "code",
   "execution_count": 54,
   "id": "fef71e74",
   "metadata": {},
   "outputs": [
    {
     "name": "stdout",
     "output_type": "stream",
     "text": [
      "[1, 2, 3, 4, 5]\n"
     ]
    }
   ],
   "source": [
    "def unique_list(l):\n",
    "  x = []\n",
    "  for a in l:\n",
    "    if a not in x:\n",
    "      x.append(a)\n",
    "  return x\n",
    "\n",
    "print(unique_list([1,2,3,3,3,3,4,5])) \n"
   ]
  },
  {
   "cell_type": "code",
   "execution_count": 55,
   "id": "277219a7",
   "metadata": {},
   "outputs": [
    {
     "name": "stdout",
     "output_type": "stream",
     "text": [
      "[2, 4]\n"
     ]
    }
   ],
   "source": [
    "def even(o):\n",
    "    x = []\n",
    "    for i in o:\n",
    "        if i % 2 == 0:\n",
    "            x.append(i)\n",
    "    return x\n",
    "print(even([1,2,3,3,3,3,4,5])) "
   ]
  },
  {
   "cell_type": "code",
   "execution_count": 56,
   "id": "ecf48252",
   "metadata": {},
   "outputs": [
    {
     "name": "stdout",
     "output_type": "stream",
     "text": [
      "not perfect\n",
      "None\n"
     ]
    }
   ],
   "source": [
    "def g(o):\n",
    "\n",
    "    if o % 2 == 0:\n",
    "        print ('perfect number')\n",
    "    else:\n",
    "        print ('not perfect')\n",
    "print (g(89))"
   ]
  },
  {
   "cell_type": "code",
   "execution_count": 57,
   "id": "cddf410e",
   "metadata": {},
   "outputs": [
    {
     "name": "stdout",
     "output_type": "stream",
     "text": [
      "[1, 4, 9, 16, 25, 36, 49, 64, 81, 100, 121, 144, 169, 196, 225, 256, 289, 324, 361, 400]\n"
     ]
    }
   ],
   "source": [
    "def printValues():\n",
    "\tl = list()\n",
    "\tfor i in range(1,21):\n",
    "\t\tl.append(i**2)\n",
    "\tprint(l)\n",
    "\t\t\n",
    "printValues()\n",
    "        "
   ]
  },
  {
   "cell_type": "code",
   "execution_count": 58,
   "id": "a9749c38",
   "metadata": {},
   "outputs": [
    {
     "name": "stdout",
     "output_type": "stream",
     "text": [
      "False\n"
     ]
    }
   ],
   "source": [
    "def puzzel(x):\n",
    "    for i in x:\n",
    "        if i == 19:\n",
    "            return True\n",
    "        elif i == 5:\n",
    "            return True\n",
    "        else:\n",
    "            return False\n",
    "print(puzzel([9, 9, 15, 7, 3, 8, 0, 2]))"
   ]
  },
  {
   "cell_type": "code",
   "execution_count": 59,
   "id": "e9b5af96",
   "metadata": {},
   "outputs": [
    {
     "name": "stdout",
     "output_type": "stream",
     "text": [
      "False\n"
     ]
    }
   ],
   "source": [
    "def cheak(x):\n",
    "    for i in x:\n",
    "        if len(x) == 8:\n",
    "            return True\n",
    "        elif i == 5:\n",
    "            return True\n",
    "        else:\n",
    "            return False\n",
    "print(cheak([9, 9, 15, 7, 3, 8, 0]))       "
   ]
  },
  {
   "cell_type": "code",
   "execution_count": 60,
   "id": "0cbd8fe7",
   "metadata": {},
   "outputs": [
    {
     "ename": "TypeError",
     "evalue": "chaek() missing 1 required positional argument: 'x'",
     "output_type": "error",
     "traceback": [
      "\u001b[1;31m---------------------------------------------------------------------------\u001b[0m",
      "\u001b[1;31mTypeError\u001b[0m                                 Traceback (most recent call last)",
      "\u001b[1;32m~\\AppData\\Local\\Temp/ipykernel_11256/1197609762.py\u001b[0m in \u001b[0;36m<module>\u001b[1;34m\u001b[0m\n\u001b[0;32m      5\u001b[0m         \u001b[1;32melse\u001b[0m\u001b[1;33m:\u001b[0m\u001b[1;33m\u001b[0m\u001b[1;33m\u001b[0m\u001b[0m\n\u001b[0;32m      6\u001b[0m             \u001b[1;32mreturn\u001b[0m \u001b[1;32mFalse\u001b[0m\u001b[1;33m\u001b[0m\u001b[1;33m\u001b[0m\u001b[0m\n\u001b[1;32m----> 7\u001b[1;33m \u001b[0mprint\u001b[0m\u001b[1;33m(\u001b[0m\u001b[0mchaek\u001b[0m\u001b[1;33m(\u001b[0m\u001b[1;33m)\u001b[0m\u001b[1;33m[\u001b[0m\u001b[1;36m0\u001b[0m\u001b[1;33m,\u001b[0m \u001b[1;36m10\u001b[0m\u001b[1;33m,\u001b[0m \u001b[1;36m20\u001b[0m\u001b[1;33m,\u001b[0m \u001b[1;36m30\u001b[0m\u001b[1;33m,\u001b[0m \u001b[1;36m40\u001b[0m\u001b[1;33m,\u001b[0m \u001b[1;36m50\u001b[0m\u001b[1;33m,\u001b[0m \u001b[1;36m60\u001b[0m\u001b[1;33m,\u001b[0m \u001b[1;36m70\u001b[0m\u001b[1;33m,\u001b[0m \u001b[1;36m80\u001b[0m\u001b[1;33m,\u001b[0m \u001b[1;36m90\u001b[0m\u001b[1;33m,\u001b[0m \u001b[1;36m100\u001b[0m\u001b[1;33m,\u001b[0m \u001b[1;36m110\u001b[0m\u001b[1;33m,\u001b[0m \u001b[1;36m120\u001b[0m\u001b[1;33m,\u001b[0m \u001b[1;36m130\u001b[0m\u001b[1;33m,\u001b[0m \u001b[1;36m140\u001b[0m\u001b[1;33m,\u001b[0m \u001b[1;36m150\u001b[0m\u001b[1;33m,\u001b[0m \u001b[1;36m160\u001b[0m\u001b[1;33m,\u001b[0m \u001b[1;36m170\u001b[0m\u001b[1;33m,\u001b[0m \u001b[1;36m180\u001b[0m\u001b[1;33m,\u001b[0m \u001b[1;36m190\u001b[0m\u001b[1;33m,\u001b[0m \u001b[1;36m200\u001b[0m\u001b[1;33m,\u001b[0m \u001b[1;36m210\u001b[0m\u001b[1;33m,\u001b[0m \u001b[1;36m220\u001b[0m\u001b[1;33m,\u001b[0m \u001b[1;36m230\u001b[0m\u001b[1;33m,\u001b[0m \u001b[1;36m240\u001b[0m\u001b[1;33m,\u001b[0m \u001b[1;36m250\u001b[0m\u001b[1;33m,\u001b[0m \u001b[1;36m260\u001b[0m\u001b[1;33m,\u001b[0m \u001b[1;36m270\u001b[0m\u001b[1;33m,\u001b[0m \u001b[1;36m280\u001b[0m\u001b[1;33m,\u001b[0m \u001b[1;36m290\u001b[0m\u001b[1;33m,\u001b[0m \u001b[1;36m300\u001b[0m\u001b[1;33m,\u001b[0m \u001b[1;36m310\u001b[0m\u001b[1;33m,\u001b[0m \u001b[1;36m320\u001b[0m\u001b[1;33m,\u001b[0m \u001b[1;36m330\u001b[0m\u001b[1;33m,\u001b[0m \u001b[1;36m340\u001b[0m\u001b[1;33m,\u001b[0m \u001b[1;36m350\u001b[0m\u001b[1;33m,\u001b[0m \u001b[1;36m360\u001b[0m\u001b[1;33m,\u001b[0m \u001b[1;36m370\u001b[0m\u001b[1;33m,\u001b[0m \u001b[1;36m380\u001b[0m\u001b[1;33m,\u001b[0m \u001b[1;36m390\u001b[0m\u001b[1;33m,\u001b[0m \u001b[1;36m400\u001b[0m\u001b[1;33m,\u001b[0m \u001b[1;36m410\u001b[0m\u001b[1;33m,\u001b[0m \u001b[1;36m420\u001b[0m\u001b[1;33m,\u001b[0m \u001b[1;36m430\u001b[0m\u001b[1;33m,\u001b[0m \u001b[1;36m440\u001b[0m\u001b[1;33m,\u001b[0m \u001b[1;36m450\u001b[0m\u001b[1;33m,\u001b[0m \u001b[1;36m460\u001b[0m\u001b[1;33m,\u001b[0m \u001b[1;36m470\u001b[0m\u001b[1;33m,\u001b[0m \u001b[1;36m480\u001b[0m\u001b[1;33m,\u001b[0m \u001b[1;36m490\u001b[0m\u001b[1;33m,\u001b[0m \u001b[1;36m500\u001b[0m\u001b[1;33m,\u001b[0m \u001b[1;36m510\u001b[0m\u001b[1;33m,\u001b[0m \u001b[1;36m520\u001b[0m\u001b[1;33m,\u001b[0m \u001b[1;36m530\u001b[0m\u001b[1;33m,\u001b[0m \u001b[1;36m540\u001b[0m\u001b[1;33m,\u001b[0m \u001b[1;36m550\u001b[0m\u001b[1;33m,\u001b[0m \u001b[1;36m560\u001b[0m\u001b[1;33m,\u001b[0m \u001b[1;36m570\u001b[0m\u001b[1;33m,\u001b[0m \u001b[1;36m580\u001b[0m\u001b[1;33m,\u001b[0m \u001b[1;36m590\u001b[0m\u001b[1;33m,\u001b[0m \u001b[1;36m600\u001b[0m\u001b[1;33m,\u001b[0m \u001b[1;36m610\u001b[0m\u001b[1;33m,\u001b[0m \u001b[1;36m620\u001b[0m\u001b[1;33m,\u001b[0m \u001b[1;36m630\u001b[0m\u001b[1;33m,\u001b[0m \u001b[1;36m640\u001b[0m\u001b[1;33m,\u001b[0m \u001b[1;36m650\u001b[0m\u001b[1;33m,\u001b[0m \u001b[1;36m660\u001b[0m\u001b[1;33m,\u001b[0m \u001b[1;36m670\u001b[0m\u001b[1;33m,\u001b[0m \u001b[1;36m680\u001b[0m\u001b[1;33m,\u001b[0m \u001b[1;36m690\u001b[0m\u001b[1;33m,\u001b[0m \u001b[1;36m700\u001b[0m\u001b[1;33m,\u001b[0m \u001b[1;36m710\u001b[0m\u001b[1;33m,\u001b[0m \u001b[1;36m720\u001b[0m\u001b[1;33m,\u001b[0m \u001b[1;36m730\u001b[0m\u001b[1;33m,\u001b[0m \u001b[1;36m740\u001b[0m\u001b[1;33m,\u001b[0m \u001b[1;36m750\u001b[0m\u001b[1;33m,\u001b[0m \u001b[1;36m760\u001b[0m\u001b[1;33m,\u001b[0m \u001b[1;36m770\u001b[0m\u001b[1;33m,\u001b[0m \u001b[1;36m780\u001b[0m\u001b[1;33m,\u001b[0m \u001b[1;36m790\u001b[0m\u001b[1;33m,\u001b[0m \u001b[1;36m800\u001b[0m\u001b[1;33m,\u001b[0m \u001b[1;36m810\u001b[0m\u001b[1;33m,\u001b[0m \u001b[1;36m820\u001b[0m\u001b[1;33m,\u001b[0m \u001b[1;36m830\u001b[0m\u001b[1;33m,\u001b[0m \u001b[1;36m840\u001b[0m\u001b[1;33m,\u001b[0m \u001b[1;36m850\u001b[0m\u001b[1;33m,\u001b[0m \u001b[1;36m860\u001b[0m\u001b[1;33m,\u001b[0m \u001b[1;36m870\u001b[0m\u001b[1;33m,\u001b[0m \u001b[1;36m880\u001b[0m\u001b[1;33m,\u001b[0m \u001b[1;36m890\u001b[0m\u001b[1;33m,\u001b[0m \u001b[1;36m900\u001b[0m\u001b[1;33m,\u001b[0m \u001b[1;36m910\u001b[0m\u001b[1;33m,\u001b[0m \u001b[1;36m920\u001b[0m\u001b[1;33m,\u001b[0m \u001b[1;36m930\u001b[0m\u001b[1;33m,\u001b[0m \u001b[1;36m940\u001b[0m\u001b[1;33m,\u001b[0m \u001b[1;36m950\u001b[0m\u001b[1;33m,\u001b[0m \u001b[1;36m960\u001b[0m\u001b[1;33m,\u001b[0m \u001b[1;36m970\u001b[0m\u001b[1;33m,\u001b[0m \u001b[1;36m980\u001b[0m\u001b[1;33m,\u001b[0m \u001b[1;36m990\u001b[0m\u001b[1;33m]\u001b[0m\u001b[1;33m)\u001b[0m\u001b[1;33m\u001b[0m\u001b[1;33m\u001b[0m\u001b[0m\n\u001b[0m",
      "\u001b[1;31mTypeError\u001b[0m: chaek() missing 1 required positional argument: 'x'"
     ]
    }
   ],
   "source": [
    "def chaek(x):\n",
    "    for i in x:\n",
    "        if i - i == 10:\n",
    "            return True\n",
    "        else:\n",
    "            return False\n",
    "print(chaek()[0, 10, 20, 30, 40, 50, 60, 70, 80, 90, 100, 110, 120, 130, 140, 150, 160, 170, 180, 190, 200, 210, 220, 230, 240, 250, 260, 270, 280, 290, 300, 310, 320, 330, 340, 350, 360, 370, 380, 390, 400, 410, 420, 430, 440, 450, 460, 470, 480, 490, 500, 510, 520, 530, 540, 550, 560, 570, 580, 590, 600, 610, 620, 630, 640, 650, 660, 670, 680, 690, 700, 710, 720, 730, 740, 750, 760, 770, 780, 790, 800, 810, 820, 830, 840, 850, 860, 870, 880, 890, 900, 910, 920, 930, 940, 950, 960, 970, 980, 990])"
   ]
  },
  {
   "cell_type": "code",
   "execution_count": null,
   "id": "83e7d10e",
   "metadata": {},
   "outputs": [],
   "source": [
    "def chaek(x):\n",
    "    for i in x:\n",
    "        if len(x) == sum(x)\n",
    "          return True\n",
    "        else:\n",
    "            return False\n",
    "print(cheak([0, 1, 2, 3, 4, 5]))"
   ]
  },
  {
   "cell_type": "code",
   "execution_count": 61,
   "id": "4a44e6ce",
   "metadata": {},
   "outputs": [
    {
     "name": "stdout",
     "output_type": "stream",
     "text": [
      "['hello', 'my name is Peter', 'I am 26 years old']\n"
     ]
    }
   ],
   "source": [
    "txt = \"hello, my name is Peter, I am 26 years old\"\n",
    "\n",
    "x = txt.split(\", \")\n",
    "\n",
    "print(x)"
   ]
  },
  {
   "cell_type": "code",
   "execution_count": 62,
   "id": "3f3c05f6",
   "metadata": {},
   "outputs": [
    {
     "name": "stdout",
     "output_type": "stream",
     "text": [
      "None\n"
     ]
    }
   ],
   "source": [
    "def sp(x):\n",
    "    y = []\n",
    "    x.split(\" ,\")\n",
    "    y.append\n",
    "print(sp(\"hello, my name is Peter, I am 26 years old\"))"
   ]
  },
  {
   "cell_type": "code",
   "execution_count": 63,
   "id": "8b7c37de",
   "metadata": {},
   "outputs": [],
   "source": [
    "def test(nums):\n",
    "    return all([nums[i] != nums[i + 1] for i in range(len(nums)-1)]) and len(set(nums)) == 4"
   ]
  },
  {
   "cell_type": "code",
   "execution_count": 64,
   "id": "f5bcef92",
   "metadata": {},
   "outputs": [
    {
     "name": "stdout",
     "output_type": "stream",
     "text": [
      "['( ())', ' ((()()())) ', ' (()) ()']\n"
     ]
    }
   ],
   "source": [
    "x = \"( ()), ((()()())) , (()) ()\"\n",
    "h = x.split(\",\")\n",
    "print (h)\n"
   ]
  },
  {
   "cell_type": "code",
   "execution_count": 65,
   "id": "72a8aa95",
   "metadata": {},
   "outputs": [
    {
     "ename": "SyntaxError",
     "evalue": "unexpected EOF while parsing (Temp/ipykernel_11256/1286985846.py, line 5)",
     "output_type": "error",
     "traceback": [
      "\u001b[1;36m  File \u001b[1;32m\"C:\\Users\\win10\\AppData\\Local\\Temp/ipykernel_11256/1286985846.py\"\u001b[1;36m, line \u001b[1;32m5\u001b[0m\n\u001b[1;33m    print(in_((0, 12, 4, 3, 49, 9, 1, 5, 3))\u001b[0m\n\u001b[1;37m                                            ^\u001b[0m\n\u001b[1;31mSyntaxError\u001b[0m\u001b[1;31m:\u001b[0m unexpected EOF while parsing\n"
     ]
    }
   ],
   "source": [
    "def in_(x):\n",
    "    #f = []\n",
    "    for i in x:\n",
    "        print (x.index(10))\n",
    "print(in_((0, 12, 4, 3, 49, 9, 1, 5, 3))"
   ]
  },
  {
   "cell_type": "code",
   "execution_count": 66,
   "id": "c602d8f0",
   "metadata": {},
   "outputs": [
    {
     "name": "stdout",
     "output_type": "stream",
     "text": [
      "False\n"
     ]
    }
   ],
   "source": [
    "def chaek(x):\n",
    "    for i in x:\n",
    "        if x[:4] == x[:-4]:\n",
    "            return True\n",
    "        else:\n",
    "            return False\n",
    "print(chaek(['palindrome', 'madamimadam', '', 'foo', 'eyes']))\n",
    "    "
   ]
  },
  {
   "cell_type": "code",
   "execution_count": 67,
   "id": "c024545a",
   "metadata": {},
   "outputs": [
    {
     "name": "stdout",
     "output_type": "stream",
     "text": [
      "Original strings:\n",
      "['palindrome', 'madamimadam', '', 'foo', 'eyes']\n",
      "\n",
      "Test whether the given strings are palindromes or not:\n",
      "[False, True, True, False, False]\n"
     ]
    }
   ],
   "source": [
    "\n",
    "def test(strs):\n",
    "    return [s == s[::-1] for s in strs]\n",
    "strs = ['palindrome', 'madamimadam', '', 'foo', 'eyes']\n",
    "print(\"Original strings:\")\n",
    "print(strs)\n",
    "print(\"\\nTest whether the given strings are palindromes or not:\")\n",
    "print(test(strs))"
   ]
  },
  {
   "cell_type": "code",
   "execution_count": 68,
   "id": "8e8efa34",
   "metadata": {},
   "outputs": [
    {
     "name": "stdout",
     "output_type": "stream",
     "text": [
      "False\n"
     ]
    }
   ],
   "source": [
    "def d(x):\n",
    "    for i in x:\n",
    "        if x[:1] == 'ca':\n",
    "            print (x)\n",
    "        else:\n",
    "            return False\n",
    "print(d(['cat', 'car', 'fear', 'center']))"
   ]
  },
  {
   "cell_type": "code",
   "execution_count": 69,
   "id": "fa088de9",
   "metadata": {},
   "outputs": [
    {
     "name": "stdout",
     "output_type": "stream",
     "text": [
      "fear\n"
     ]
    }
   ],
   "source": [
    "['cat', 'car', 'fear', 'center']\n",
    "def d(x):\n",
    "    for i in x:\n",
    "        return  max(x)\n",
    "print(d(['cat', 'car', 'fear', 'center']))"
   ]
  },
  {
   "cell_type": "code",
   "execution_count": 70,
   "id": "136b784b",
   "metadata": {},
   "outputs": [],
   "source": [
    "def gh(x):\n",
    "    for i in x:\n",
    "        print (len(max(i)))"
   ]
  },
  {
   "cell_type": "code",
   "execution_count": 71,
   "id": "c1bf9d63",
   "metadata": {},
   "outputs": [
    {
     "name": "stdout",
     "output_type": "stream",
     "text": [
      "1\n",
      "1\n",
      "1\n",
      "1\n",
      "None\n"
     ]
    }
   ],
   "source": [
    "print(gh(['cat', 'car', 'fear', 'center']))"
   ]
  },
  {
   "cell_type": "code",
   "execution_count": 72,
   "id": "33c8a230",
   "metadata": {},
   "outputs": [
    {
     "name": "stdout",
     "output_type": "stream",
     "text": [
      "Longest String is :  watermelon\n"
     ]
    }
   ],
   "source": [
    "#input list\n",
    "list1 = ['apple', 'banana', 'watermelon', 'orange'] \n",
    "\n",
    "max_len = -1\n",
    "for ele in list1: \n",
    "    if(len(ele) > max_len): \n",
    "        max_len = len(ele) \n",
    "        res = ele \n",
    "        \n",
    "print(\"Longest String is : \", res) "
   ]
  },
  {
   "cell_type": "code",
   "execution_count": 73,
   "id": "d8fd3b14",
   "metadata": {},
   "outputs": [
    {
     "ename": "TypeError",
     "evalue": "g() missing 1 required positional argument: 'subst'",
     "output_type": "error",
     "traceback": [
      "\u001b[1;31m---------------------------------------------------------------------------\u001b[0m",
      "\u001b[1;31mTypeError\u001b[0m                                 Traceback (most recent call last)",
      "\u001b[1;32m~\\AppData\\Local\\Temp/ipykernel_11256/2540911452.py\u001b[0m in \u001b[0;36m<module>\u001b[1;34m\u001b[0m\n\u001b[0;32m      4\u001b[0m         \u001b[1;32mif\u001b[0m \u001b[0ms\u001b[0m \u001b[1;32min\u001b[0m \u001b[0msubst\u001b[0m\u001b[1;33m:\u001b[0m\u001b[1;33m\u001b[0m\u001b[1;33m\u001b[0m\u001b[0m\n\u001b[0;32m      5\u001b[0m             \u001b[0mprint\u001b[0m \u001b[1;33m(\u001b[0m\u001b[0msub\u001b[0m\u001b[1;33m)\u001b[0m\u001b[1;33m\u001b[0m\u001b[1;33m\u001b[0m\u001b[0m\n\u001b[1;32m----> 6\u001b[1;33m \u001b[0mprint\u001b[0m\u001b[1;33m(\u001b[0m\u001b[0mg\u001b[0m\u001b[1;33m(\u001b[0m \u001b[1;33m[\u001b[0m\u001b[1;34m'apple'\u001b[0m\u001b[1;33m,\u001b[0m \u001b[1;34m'banana'\u001b[0m\u001b[1;33m,\u001b[0m \u001b[1;34m'watermelon'\u001b[0m\u001b[1;33m,\u001b[0m \u001b[1;34m'orange'\u001b[0m\u001b[1;33m]\u001b[0m\u001b[1;33m)\u001b[0m\u001b[1;33m,\u001b[0m \u001b[1;34m'na'\u001b[0m\u001b[1;33m)\u001b[0m\u001b[1;33m\u001b[0m\u001b[1;33m\u001b[0m\u001b[0m\n\u001b[0m",
      "\u001b[1;31mTypeError\u001b[0m: g() missing 1 required positional argument: 'subst'"
     ]
    }
   ],
   "source": [
    "list1 = ['apple', 'banana', 'watermelon', 'orange'] \n",
    "def g(sub,subst):\n",
    "    for s in sub:\n",
    "        if s in subst:\n",
    "            print (sub)\n",
    "print(g( ['apple', 'banana', 'watermelon', 'orange']), 'na')"
   ]
  },
  {
   "cell_type": "code",
   "execution_count": 74,
   "id": "161e0ac2",
   "metadata": {},
   "outputs": [
    {
     "name": "stdout",
     "output_type": "stream",
     "text": [
      "5\n",
      "6\n",
      "10\n",
      "6\n",
      "None\n"
     ]
    }
   ],
   "source": [
    "def gf(x):\n",
    "    for i in x:\n",
    "        print (len(i))\n",
    "print (gf(['apple', 'banana', 'watermelon', 'orange'] ))"
   ]
  },
  {
   "cell_type": "code",
   "execution_count": 75,
   "id": "dcabd52d",
   "metadata": {},
   "outputs": [
    {
     "name": "stdout",
     "output_type": "stream",
     "text": [
      "None\n"
     ]
    }
   ],
   "source": [
    "def sp(x):\n",
    "    for i in x:\n",
    "        if i == (' '):\n",
    "            print (x.split(\" ,\"))\n",
    "print (sp(['a','b','c','d']))"
   ]
  },
  {
   "cell_type": "code",
   "execution_count": 76,
   "id": "a071db80",
   "metadata": {},
   "outputs": [
    {
     "name": "stdout",
     "output_type": "stream",
     "text": [
      "True\n"
     ]
    }
   ],
   "source": [
    "def cheak(x):\n",
    "    if sorted(x) == x:\n",
    "        return True\n",
    "    else:\n",
    "        return False\n",
    "print(cheak([1, 2, 3, 4, 5, 6]))"
   ]
  },
  {
   "cell_type": "code",
   "execution_count": 77,
   "id": "84daf849",
   "metadata": {},
   "outputs": [
    {
     "name": "stdout",
     "output_type": "stream",
     "text": [
      "True\n"
     ]
    }
   ],
   "source": [
    "def cheak(x):\n",
    "    for i in x:\n",
    "        if len(i.split(\" , \")):\n",
    "            return True\n",
    "        else:\n",
    "            return False\n",
    "print (cheak(['cat', 'car', 'fear', 'center']))\n",
    "        "
   ]
  },
  {
   "cell_type": "code",
   "execution_count": 78,
   "id": "ced1f914",
   "metadata": {},
   "outputs": [],
   "source": [
    "def g(x):\n",
    "    for i in x:\n",
    "        if i  == ascii(i):\n",
    "            print (sum(x))"
   ]
  },
  {
   "cell_type": "code",
   "execution_count": 79,
   "id": "3377369e",
   "metadata": {},
   "outputs": [
    {
     "name": "stdout",
     "output_type": "stream",
     "text": [
      "None\n"
     ]
    }
   ],
   "source": [
    "print(g(\"PytHon ExerciSEs\"))"
   ]
  },
  {
   "cell_type": "code",
   "execution_count": 80,
   "id": "173cb851",
   "metadata": {},
   "outputs": [
    {
     "name": "stdout",
     "output_type": "stream",
     "text": [
      "3\n",
      "3\n",
      "9\n",
      "11\n",
      "12\n"
     ]
    },
    {
     "ename": "IndexError",
     "evalue": "list index out of range",
     "output_type": "error",
     "traceback": [
      "\u001b[1;31m---------------------------------------------------------------------------\u001b[0m",
      "\u001b[1;31mIndexError\u001b[0m                                Traceback (most recent call last)",
      "\u001b[1;32m~\\AppData\\Local\\Temp/ipykernel_11256/2444423253.py\u001b[0m in \u001b[0;36m<module>\u001b[1;34m\u001b[0m\n\u001b[0;32m      3\u001b[0m         \u001b[1;32mif\u001b[0m \u001b[0mx\u001b[0m\u001b[1;33m[\u001b[0m\u001b[0mi\u001b[0m\u001b[1;33m]\u001b[0m \u001b[1;33m<\u001b[0m \u001b[0mx\u001b[0m\u001b[1;33m[\u001b[0m\u001b[0mi\u001b[0m\u001b[1;33m-\u001b[0m\u001b[1;36m1\u001b[0m\u001b[1;33m]\u001b[0m\u001b[1;33m:\u001b[0m\u001b[1;33m\u001b[0m\u001b[1;33m\u001b[0m\u001b[0m\n\u001b[0;32m      4\u001b[0m             \u001b[0mprint\u001b[0m \u001b[1;33m(\u001b[0m\u001b[0mx\u001b[0m\u001b[1;33m.\u001b[0m\u001b[0mindex\u001b[0m\u001b[1;33m(\u001b[0m\u001b[0mi\u001b[0m\u001b[1;33m)\u001b[0m\u001b[1;33m)\u001b[0m\u001b[1;33m\u001b[0m\u001b[1;33m\u001b[0m\u001b[0m\n\u001b[1;32m----> 5\u001b[1;33m \u001b[0mprint\u001b[0m\u001b[1;33m(\u001b[0m\u001b[0mch\u001b[0m\u001b[1;33m(\u001b[0m\u001b[1;33m[\u001b[0m\u001b[1;36m0\u001b[0m\u001b[1;33m,\u001b[0m \u001b[1;33m-\u001b[0m\u001b[1;36m1\u001b[0m\u001b[1;33m,\u001b[0m \u001b[1;36m3\u001b[0m\u001b[1;33m,\u001b[0m \u001b[1;36m8\u001b[0m\u001b[1;33m,\u001b[0m \u001b[1;36m5\u001b[0m\u001b[1;33m,\u001b[0m \u001b[1;36m9\u001b[0m\u001b[1;33m,\u001b[0m \u001b[1;36m8\u001b[0m\u001b[1;33m,\u001b[0m \u001b[1;36m14\u001b[0m\u001b[1;33m,\u001b[0m \u001b[1;36m2\u001b[0m\u001b[1;33m,\u001b[0m \u001b[1;36m4\u001b[0m\u001b[1;33m,\u001b[0m \u001b[1;36m3\u001b[0m\u001b[1;33m,\u001b[0m \u001b[1;33m-\u001b[0m\u001b[1;36m10\u001b[0m\u001b[1;33m,\u001b[0m \u001b[1;36m10\u001b[0m\u001b[1;33m,\u001b[0m \u001b[1;36m17\u001b[0m\u001b[1;33m,\u001b[0m \u001b[1;36m41\u001b[0m\u001b[1;33m,\u001b[0m \u001b[1;36m22\u001b[0m\u001b[1;33m,\u001b[0m \u001b[1;33m-\u001b[0m\u001b[1;36m4\u001b[0m\u001b[1;33m,\u001b[0m \u001b[1;33m-\u001b[0m\u001b[1;36m4\u001b[0m\u001b[1;33m,\u001b[0m \u001b[1;33m-\u001b[0m\u001b[1;36m15\u001b[0m\u001b[1;33m,\u001b[0m \u001b[1;36m0\u001b[0m\u001b[1;33m]\u001b[0m\u001b[1;33m)\u001b[0m\u001b[1;33m)\u001b[0m\u001b[1;33m\u001b[0m\u001b[1;33m\u001b[0m\u001b[0m\n\u001b[0m",
      "\u001b[1;32m~\\AppData\\Local\\Temp/ipykernel_11256/2444423253.py\u001b[0m in \u001b[0;36mch\u001b[1;34m(x)\u001b[0m\n\u001b[0;32m      1\u001b[0m \u001b[1;32mdef\u001b[0m \u001b[0mch\u001b[0m\u001b[1;33m(\u001b[0m\u001b[0mx\u001b[0m\u001b[1;33m)\u001b[0m\u001b[1;33m:\u001b[0m\u001b[1;33m\u001b[0m\u001b[1;33m\u001b[0m\u001b[0m\n\u001b[0;32m      2\u001b[0m     \u001b[1;32mfor\u001b[0m \u001b[0mi\u001b[0m \u001b[1;32min\u001b[0m \u001b[0mx\u001b[0m\u001b[1;33m:\u001b[0m\u001b[1;33m\u001b[0m\u001b[1;33m\u001b[0m\u001b[0m\n\u001b[1;32m----> 3\u001b[1;33m         \u001b[1;32mif\u001b[0m \u001b[0mx\u001b[0m\u001b[1;33m[\u001b[0m\u001b[0mi\u001b[0m\u001b[1;33m]\u001b[0m \u001b[1;33m<\u001b[0m \u001b[0mx\u001b[0m\u001b[1;33m[\u001b[0m\u001b[0mi\u001b[0m\u001b[1;33m-\u001b[0m\u001b[1;36m1\u001b[0m\u001b[1;33m]\u001b[0m\u001b[1;33m:\u001b[0m\u001b[1;33m\u001b[0m\u001b[1;33m\u001b[0m\u001b[0m\n\u001b[0m\u001b[0;32m      4\u001b[0m             \u001b[0mprint\u001b[0m \u001b[1;33m(\u001b[0m\u001b[0mx\u001b[0m\u001b[1;33m.\u001b[0m\u001b[0mindex\u001b[0m\u001b[1;33m(\u001b[0m\u001b[0mi\u001b[0m\u001b[1;33m)\u001b[0m\u001b[1;33m)\u001b[0m\u001b[1;33m\u001b[0m\u001b[1;33m\u001b[0m\u001b[0m\n\u001b[0;32m      5\u001b[0m \u001b[0mprint\u001b[0m\u001b[1;33m(\u001b[0m\u001b[0mch\u001b[0m\u001b[1;33m(\u001b[0m\u001b[1;33m[\u001b[0m\u001b[1;36m0\u001b[0m\u001b[1;33m,\u001b[0m \u001b[1;33m-\u001b[0m\u001b[1;36m1\u001b[0m\u001b[1;33m,\u001b[0m \u001b[1;36m3\u001b[0m\u001b[1;33m,\u001b[0m \u001b[1;36m8\u001b[0m\u001b[1;33m,\u001b[0m \u001b[1;36m5\u001b[0m\u001b[1;33m,\u001b[0m \u001b[1;36m9\u001b[0m\u001b[1;33m,\u001b[0m \u001b[1;36m8\u001b[0m\u001b[1;33m,\u001b[0m \u001b[1;36m14\u001b[0m\u001b[1;33m,\u001b[0m \u001b[1;36m2\u001b[0m\u001b[1;33m,\u001b[0m \u001b[1;36m4\u001b[0m\u001b[1;33m,\u001b[0m \u001b[1;36m3\u001b[0m\u001b[1;33m,\u001b[0m \u001b[1;33m-\u001b[0m\u001b[1;36m10\u001b[0m\u001b[1;33m,\u001b[0m \u001b[1;36m10\u001b[0m\u001b[1;33m,\u001b[0m \u001b[1;36m17\u001b[0m\u001b[1;33m,\u001b[0m \u001b[1;36m41\u001b[0m\u001b[1;33m,\u001b[0m \u001b[1;36m22\u001b[0m\u001b[1;33m,\u001b[0m \u001b[1;33m-\u001b[0m\u001b[1;36m4\u001b[0m\u001b[1;33m,\u001b[0m \u001b[1;33m-\u001b[0m\u001b[1;36m4\u001b[0m\u001b[1;33m,\u001b[0m \u001b[1;33m-\u001b[0m\u001b[1;36m15\u001b[0m\u001b[1;33m,\u001b[0m \u001b[1;36m0\u001b[0m\u001b[1;33m]\u001b[0m\u001b[1;33m)\u001b[0m\u001b[1;33m)\u001b[0m\u001b[1;33m\u001b[0m\u001b[1;33m\u001b[0m\u001b[0m\n",
      "\u001b[1;31mIndexError\u001b[0m: list index out of range"
     ]
    }
   ],
   "source": [
    "def ch(x):\n",
    "    for i in x:\n",
    "        if x[i] < x[i-1]:\n",
    "            print (x.index(i))\n",
    "print(ch([0, -1, 3, 8, 5, 9, 8, 14, 2, 4, 3, -10, 10, 17, 41, 22, -4, -4, -15, 0]))"
   ]
  },
  {
   "cell_type": "code",
   "execution_count": 81,
   "id": "8791f31d",
   "metadata": {},
   "outputs": [
    {
     "name": "stdout",
     "output_type": "stream",
     "text": [
      "None\n"
     ]
    }
   ],
   "source": [
    "def uq(x):\n",
    "    for i in x:\n",
    "        if i != i:\n",
    "            print(i)\n",
    "print(uq(['cat', 'catatatatctsa', 'abcdefhijklmnop', '124259239185125', '', 'foo', 'unique']))\n",
    "            "
   ]
  },
  {
   "cell_type": "code",
   "execution_count": 82,
   "id": "f9fd0e94",
   "metadata": {},
   "outputs": [
    {
     "name": "stdout",
     "output_type": "stream",
     "text": [
      "None\n"
     ]
    }
   ],
   "source": [
    "def in_(x):\n",
    "    for i in x:\n",
    "        if i+i == 0:\n",
    "            print(x.index(i))\n",
    "print (in_([1, -4, 6, 7, 4]))"
   ]
  },
  {
   "cell_type": "code",
   "execution_count": 83,
   "id": "735e2467",
   "metadata": {},
   "outputs": [
    {
     "name": "stdout",
     "output_type": "stream",
     "text": [
      "Original List:\n",
      "[1, -4, 6, 7, 4]\n",
      "Indices of two numbers that sum to 0 in the said list:\n",
      "[4, 1]\n",
      "\n",
      "Original List:\n",
      "[1232, -20352, 12547, 12440, 741, 341, 525, 20352, 91, 20]\n",
      "Indices of two numbers that sum to 0 in the said list:\n",
      "[1, 7]\n"
     ]
    }
   ],
   "source": [
    "#License: https://bit.ly/3oLErEI\n",
    "\n",
    "def test(nums):\n",
    "    s = set(nums)\n",
    "    for i in s:\n",
    "        if -i in s:\n",
    "            return [nums.index(i), nums.index(-i)]\n",
    "\n",
    "nums = [1, -4, 6, 7, 4]\n",
    "print(\"Original List:\")\n",
    "print(nums) \n",
    "print(\"Indices of two numbers that sum to 0 in the said list:\")\n",
    "print(test(nums))\n",
    "nums=[1232, -20352, 12547, 12440, 741, 341, 525, 20352, 91, 20]\n",
    "print(\"\\nOriginal List:\")\n",
    "print(nums) \n",
    "print(\"Indices of two numbers that sum to 0 in the said list:\")\n",
    "print(test(nums)) \n"
   ]
  },
  {
   "cell_type": "code",
   "execution_count": 84,
   "id": "220688fa",
   "metadata": {},
   "outputs": [
    {
     "name": "stdout",
     "output_type": "stream",
     "text": [
      "0\n",
      "1\n",
      "2\n",
      "3\n",
      "4\n",
      "5\n",
      "6\n",
      "2\n",
      "8\n",
      "3\n",
      "None\n"
     ]
    }
   ],
   "source": [
    "def c(x):\n",
    "    for i in x:\n",
    "        if x.upper():\n",
    "            print (x.index(i))\n",
    "print(c('w3rEsOUrcE'))"
   ]
  },
  {
   "cell_type": "code",
   "execution_count": 85,
   "id": "42ab4d09",
   "metadata": {},
   "outputs": [
    {
     "ename": "TypeError",
     "evalue": "int() argument must be a string, a bytes-like object or a number, not 'method'",
     "output_type": "error",
     "traceback": [
      "\u001b[1;31m---------------------------------------------------------------------------\u001b[0m",
      "\u001b[1;31mTypeError\u001b[0m                                 Traceback (most recent call last)",
      "\u001b[1;32m~\\AppData\\Local\\Temp/ipykernel_11256/3807626895.py\u001b[0m in \u001b[0;36m<module>\u001b[1;34m\u001b[0m\n\u001b[1;32m----> 1\u001b[1;33m \u001b[0mx\u001b[0m \u001b[1;33m=\u001b[0m \u001b[0mint\u001b[0m\u001b[1;33m(\u001b[0m\u001b[0minput\u001b[0m\u001b[1;33m)\u001b[0m\u001b[1;33m\u001b[0m\u001b[1;33m\u001b[0m\u001b[0m\n\u001b[0m\u001b[0;32m      2\u001b[0m \u001b[1;32mdef\u001b[0m \u001b[0msum_\u001b[0m\u001b[1;33m(\u001b[0m\u001b[0mx\u001b[0m\u001b[1;33m)\u001b[0m\u001b[1;33m:\u001b[0m\u001b[1;33m\u001b[0m\u001b[1;33m\u001b[0m\u001b[0m\n\u001b[0;32m      3\u001b[0m     \u001b[1;32mfor\u001b[0m \u001b[0mi\u001b[0m \u001b[1;32min\u001b[0m \u001b[0mx\u001b[0m\u001b[1;33m:\u001b[0m\u001b[1;33m\u001b[0m\u001b[1;33m\u001b[0m\u001b[0m\n\u001b[0;32m      4\u001b[0m         \u001b[1;32mif\u001b[0m \u001b[0mi\u001b[0m \u001b[1;33m%\u001b[0m \u001b[1;36m2\u001b[0m \u001b[1;33m==\u001b[0m \u001b[1;36m1\u001b[0m\u001b[1;33m:\u001b[0m\u001b[1;33m\u001b[0m\u001b[1;33m\u001b[0m\u001b[0m\n\u001b[0;32m      5\u001b[0m             \u001b[1;32mreturn\u001b[0m \u001b[1;33m(\u001b[0m\u001b[0msum\u001b[0m\u001b[1;33m(\u001b[0m\u001b[0mi\u001b[0m\u001b[1;33m)\u001b[0m\u001b[1;33m)\u001b[0m\u001b[1;33m\u001b[0m\u001b[1;33m\u001b[0m\u001b[0m\n",
      "\u001b[1;31mTypeError\u001b[0m: int() argument must be a string, a bytes-like object or a number, not 'method'"
     ]
    }
   ],
   "source": [
    "x = int(input)\n",
    "def sum_(x):\n",
    "    for i in x:\n",
    "        if i % 2 == 1:\n",
    "            return (sum(i))\n",
    "\n",
    "print(sum_(x))"
   ]
  },
  {
   "cell_type": "code",
   "execution_count": 86,
   "id": "82ca5a90",
   "metadata": {},
   "outputs": [],
   "source": [
    "def test(nums):\n",
    "     return sorted(nums, key=lambda n: sum(int(c) for c in str(n) if c != \"-\"))"
   ]
  },
  {
   "cell_type": "code",
   "execution_count": 87,
   "id": "c2e2e4d8",
   "metadata": {},
   "outputs": [
    {
     "name": "stdout",
     "output_type": "stream",
     "text": [
      "True\n"
     ]
    }
   ],
   "source": [
    "def tri(nums):\n",
    "    for c in nums:\n",
    "        if sum(c) == 0:\n",
    "            return True\n",
    "        else:\n",
    "            return False\n",
    "print (tri([[1, 2, -3], [-4, 0, 4], [0, 1, -5], [1, 1, 1], [-2, 4, -1]]))"
   ]
  },
  {
   "cell_type": "code",
   "execution_count": 88,
   "id": "42926b32",
   "metadata": {},
   "outputs": [],
   "source": [
    "def d(x):\n",
    "    for i in x:\n",
    "        if  i == ['z,b,t,g,h']:\n",
    "            print (x.count(i))\n",
    "        "
   ]
  },
  {
   "cell_type": "code",
   "execution_count": 89,
   "id": "444cdef9",
   "metadata": {},
   "outputs": [
    {
     "name": "stdout",
     "output_type": "stream",
     "text": [
      "None\n"
     ]
    }
   ],
   "source": [
    "print(d('dfghf'))"
   ]
  },
  {
   "cell_type": "code",
   "execution_count": 90,
   "id": "d433586f",
   "metadata": {},
   "outputs": [
    {
     "name": "stdout",
     "output_type": "stream",
     "text": [
      "False\n"
     ]
    }
   ],
   "source": [
    "def g(x):\n",
    "    for i in x:\n",
    "        if i == hex(i):\n",
    "            return True\n",
    "        else:\n",
    "            return False\n",
    "        \n",
    "print (g([0, 2, 4, 6, 8, 22, 44]))"
   ]
  },
  {
   "cell_type": "code",
   "execution_count": 91,
   "id": "4131ea07",
   "metadata": {},
   "outputs": [
    {
     "name": "stdout",
     "output_type": "stream",
     "text": [
      "Enter a string:\n",
      "The string is a palindrome\n"
     ]
    }
   ],
   "source": [
    "x=(input((\"Enter a string:\")))\n",
    "if(x==x[:-1]):\n",
    "      print(\"The string is a palindrome\")\n",
    "else:\n",
    "      print(\"Not a palindrome\")"
   ]
  },
  {
   "cell_type": "code",
   "execution_count": 92,
   "id": "920bd257",
   "metadata": {},
   "outputs": [
    {
     "name": "stdout",
     "output_type": "stream",
     "text": [
      "4\n"
     ]
    }
   ],
   "source": [
    "def ev(x):\n",
    "    for i in x:\n",
    "        if i%2 == 0:\n",
    "            return (i)\n",
    "print(ev([1, 9, 4, 6, 10, 11, 14, 8]))\n"
   ]
  },
  {
   "cell_type": "code",
   "execution_count": 93,
   "id": "007e02a9",
   "metadata": {},
   "outputs": [
    {
     "name": "stdout",
     "output_type": "stream",
     "text": [
      "Original list:\n",
      "[1, 9, 4, 6, 10, 11, 14, 8]\n",
      "Minimum even value and its index of the said array of numbers:\n",
      "[4, 2]\n",
      "Original list:\n",
      "[1, 7, 4, 4, 9, 2]\n",
      "Minimum even value and its index of the said array of numbers:\n",
      "[2, 5]\n",
      "Original list:\n",
      "[1, 7, 7, 5, 9]\n",
      "Minimum even value and its index of the said array of numbers:\n",
      "[]\n"
     ]
    }
   ],
   "source": [
    "#License: https://bit.ly/3oLErEI\n",
    "\n",
    "def test(nums):\n",
    "    if any(n % 2 == 0 for n in nums):\n",
    "        return min([v, i] for i, v in enumerate(nums) if v % 2 == 0)\n",
    "    else:\n",
    "        return []\n",
    "\n",
    "nums =  [1, 9, 4, 6, 10, 11, 14, 8]\n",
    "print(\"Original list:\")\n",
    "print(nums)\n",
    "print(\"Minimum even value and its index of the said array of numbers:\")\n",
    "print(test(nums))\n",
    "nums =  [1, 7, 4, 4, 9, 2]\n",
    "print(\"Original list:\")\n",
    "print(nums)\n",
    "print(\"Minimum even value and its index of the said array of numbers:\")\n",
    "print(test(nums)) \n",
    "nums =  [1, 7, 7, 5, 9]\n",
    "print(\"Original list:\")\n",
    "print(nums)\n",
    "print(\"Minimum even value and its index of the said array of numbers:\")\n",
    "print(test(nums)) \n"
   ]
  },
  {
   "cell_type": "code",
   "execution_count": 94,
   "id": "3168db2d",
   "metadata": {},
   "outputs": [
    {
     "name": "stdout",
     "output_type": "stream",
     "text": [
      "18\n",
      "24\n",
      "32\n"
     ]
    }
   ],
   "source": [
    "ages = [5, 12, 17, 18, 24, 32]\n",
    "\n",
    "def myFunc(x):\n",
    "  if x < 18:\n",
    "    return False\n",
    "  else:\n",
    "    return True\n",
    "\n",
    "adults = filter(myFunc, ages)\n",
    "\n",
    "for x in adults:\n",
    "  print(x)"
   ]
  },
  {
   "cell_type": "code",
   "execution_count": 95,
   "id": "63463ae7",
   "metadata": {},
   "outputs": [],
   "source": [
    "d = [11, -6, -103, -200]\n",
    "\n",
    "def my(x):\n",
    "    if x+x == 0:\n",
    "        return True\n",
    "    else:\n",
    "        return False\n",
    "y = filter(my,d)\n",
    "\n",
    "for x in y:\n",
    "    print(x)\n",
    "    "
   ]
  },
  {
   "cell_type": "code",
   "execution_count": 96,
   "id": "94b65e99",
   "metadata": {},
   "outputs": [],
   "source": [
    "def fg(x):\n",
    "    for i in x:\n",
    "        if (x[0] <= x[1] and x[i-2] <= x[i-1]):\n",
    "            print (x.index(i))\n",
    "        "
   ]
  },
  {
   "cell_type": "code",
   "execution_count": 97,
   "id": "441a4203",
   "metadata": {},
   "outputs": [
    {
     "name": "stdout",
     "output_type": "stream",
     "text": [
      "1\n",
      "2\n",
      "3\n",
      "5\n",
      "6\n",
      "None\n"
     ]
    }
   ],
   "source": [
    "print(fg([1, 2, 3, 0, 4, 5, 6]))"
   ]
  },
  {
   "cell_type": "code",
   "execution_count": 98,
   "id": "6ea9b6b9",
   "metadata": {},
   "outputs": [
    {
     "ename": "TypeError",
     "evalue": "'type' object is not iterable",
     "output_type": "error",
     "traceback": [
      "\u001b[1;31m---------------------------------------------------------------------------\u001b[0m",
      "\u001b[1;31mTypeError\u001b[0m                                 Traceback (most recent call last)",
      "\u001b[1;32m~\\AppData\\Local\\Temp/ipykernel_11256/2637457071.py\u001b[0m in \u001b[0;36m<module>\u001b[1;34m\u001b[0m\n\u001b[0;32m      4\u001b[0m         \u001b[1;32mif\u001b[0m \u001b[0mi\u001b[0m \u001b[1;32mis\u001b[0m \u001b[0mmax\u001b[0m\u001b[1;33m(\u001b[0m\u001b[0mi\u001b[0m\u001b[1;33m)\u001b[0m\u001b[1;33m:\u001b[0m\u001b[1;33m\u001b[0m\u001b[1;33m\u001b[0m\u001b[0m\n\u001b[0;32m      5\u001b[0m             \u001b[0mcount\u001b[0m \u001b[1;33m=\u001b[0m \u001b[0mcount\u001b[0m\u001b[1;33m+\u001b[0m\u001b[1;36m1\u001b[0m\u001b[1;33m\u001b[0m\u001b[1;33m\u001b[0m\u001b[0m\n\u001b[1;32m----> 6\u001b[1;33m \u001b[0mprint\u001b[0m\u001b[1;33m(\u001b[0m\u001b[0mh\u001b[0m\u001b[1;33m(\u001b[0m\u001b[1;33m[\u001b[0m\u001b[1;36m1\u001b[0m\u001b[1;33m,\u001b[0m \u001b[1;36m2\u001b[0m\u001b[1;33m,\u001b[0m \u001b[1;36m2\u001b[0m\u001b[1;33m,\u001b[0m \u001b[1;36m3\u001b[0m\u001b[1;33m,\u001b[0m \u001b[1;36m3\u001b[0m\u001b[1;33m,\u001b[0m \u001b[1;36m4\u001b[0m\u001b[1;33m,\u001b[0m \u001b[1;36m4\u001b[0m\u001b[1;33m,\u001b[0m \u001b[1;36m4\u001b[0m\u001b[1;33m,\u001b[0m \u001b[1;36m4\u001b[0m\u001b[1;33m]\u001b[0m\u001b[1;33m)\u001b[0m\u001b[1;33m)\u001b[0m\u001b[1;33m\u001b[0m\u001b[1;33m\u001b[0m\u001b[0m\n\u001b[0m",
      "\u001b[1;32m~\\AppData\\Local\\Temp/ipykernel_11256/2637457071.py\u001b[0m in \u001b[0;36mh\u001b[1;34m(x)\u001b[0m\n\u001b[0;32m      1\u001b[0m \u001b[0mcount\u001b[0m \u001b[1;33m=\u001b[0m \u001b[1;36m0\u001b[0m\u001b[1;33m\u001b[0m\u001b[1;33m\u001b[0m\u001b[0m\n\u001b[0;32m      2\u001b[0m \u001b[1;32mdef\u001b[0m \u001b[0mh\u001b[0m\u001b[1;33m(\u001b[0m\u001b[0mx\u001b[0m\u001b[1;33m)\u001b[0m\u001b[1;33m:\u001b[0m\u001b[1;33m\u001b[0m\u001b[1;33m\u001b[0m\u001b[0m\n\u001b[1;32m----> 3\u001b[1;33m     \u001b[1;32mfor\u001b[0m \u001b[0mx\u001b[0m \u001b[1;32min\u001b[0m \u001b[0mrange\u001b[0m\u001b[1;33m:\u001b[0m\u001b[1;33m\u001b[0m\u001b[1;33m\u001b[0m\u001b[0m\n\u001b[0m\u001b[0;32m      4\u001b[0m         \u001b[1;32mif\u001b[0m \u001b[0mi\u001b[0m \u001b[1;32mis\u001b[0m \u001b[0mmax\u001b[0m\u001b[1;33m(\u001b[0m\u001b[0mi\u001b[0m\u001b[1;33m)\u001b[0m\u001b[1;33m:\u001b[0m\u001b[1;33m\u001b[0m\u001b[1;33m\u001b[0m\u001b[0m\n\u001b[0;32m      5\u001b[0m             \u001b[0mcount\u001b[0m \u001b[1;33m=\u001b[0m \u001b[0mcount\u001b[0m\u001b[1;33m+\u001b[0m\u001b[1;36m1\u001b[0m\u001b[1;33m\u001b[0m\u001b[1;33m\u001b[0m\u001b[0m\n",
      "\u001b[1;31mTypeError\u001b[0m: 'type' object is not iterable"
     ]
    }
   ],
   "source": [
    "count = 0\n",
    "def h(x):\n",
    "    for x in range:\n",
    "        if i is max(i):\n",
    "            count = count+1\n",
    "print(h([1, 2, 2, 3, 3, 4, 4, 4, 4]))"
   ]
  },
  {
   "cell_type": "code",
   "execution_count": 99,
   "id": "0efa6115",
   "metadata": {},
   "outputs": [
    {
     "name": "stdout",
     "output_type": "stream",
     "text": [
      "4\n",
      "6\n",
      "None\n"
     ]
    }
   ],
   "source": [
    "def ev(stre):\n",
    "    for i in stre:\n",
    "        if len(i)%2 == 0:\n",
    "            print (len(i))\n",
    "print (ev(['Red', 'Black', 'White', 'Green', 'Pink', 'Orange']))"
   ]
  },
  {
   "cell_type": "code",
   "execution_count": 100,
   "id": "1cafeb53",
   "metadata": {},
   "outputs": [
    {
     "name": "stdout",
     "output_type": "stream",
     "text": [
      "60\n"
     ]
    }
   ],
   "source": [
    "# Python3 program to compute\n",
    "# product of digits in the number.\n",
    "\n",
    "# Function to get product of digits\n",
    "def getProduct(n):\n",
    "\n",
    "\tproduct = 1\n",
    "\n",
    "\twhile (n != 0):\n",
    "\t\tproduct = product * (n % 10)\n",
    "\t\tn = n // 10\n",
    "\n",
    "\treturn product\n",
    "\n",
    "# Driver Code\n",
    "n = 4513\n",
    "print(getProduct(n))\n",
    "\n",
    "# This code is contributed\n",
    "# by mohit kumar\n",
    "\n",
    "    \n",
    "    "
   ]
  },
  {
   "cell_type": "code",
   "execution_count": 101,
   "id": "ad697f36",
   "metadata": {},
   "outputs": [
    {
     "ename": "NameError",
     "evalue": "name 'test_list' is not defined",
     "output_type": "error",
     "traceback": [
      "\u001b[1;31m---------------------------------------------------------------------------\u001b[0m",
      "\u001b[1;31mNameError\u001b[0m                                 Traceback (most recent call last)",
      "\u001b[1;32m~\\AppData\\Local\\Temp/ipykernel_11256/2997249256.py\u001b[0m in \u001b[0;36m<module>\u001b[1;34m\u001b[0m\n\u001b[0;32m      4\u001b[0m     \u001b[1;33m[\u001b[0m\u001b[0mres\u001b[0m\u001b[1;33m.\u001b[0m\u001b[0mappend\u001b[0m\u001b[1;33m(\u001b[0m\u001b[0mx\u001b[0m\u001b[1;33m)\u001b[0m \u001b[1;32mfor\u001b[0m \u001b[0mx\u001b[0m \u001b[1;32min\u001b[0m \u001b[0mtest_list\u001b[0m \u001b[1;32mif\u001b[0m \u001b[0mx\u001b[0m \u001b[1;32mnot\u001b[0m \u001b[1;32min\u001b[0m \u001b[0mres\u001b[0m\u001b[1;33m]\u001b[0m\u001b[1;33m\u001b[0m\u001b[1;33m\u001b[0m\u001b[0m\n\u001b[0;32m      5\u001b[0m \u001b[1;33m\u001b[0m\u001b[0m\n\u001b[1;32m----> 6\u001b[1;33m \u001b[0mprint\u001b[0m\u001b[1;33m(\u001b[0m\u001b[0mu\u001b[0m\u001b[1;33m(\u001b[0m\u001b[1;33m[\u001b[0m\u001b[1;36m1\u001b[0m\u001b[1;33m,\u001b[0m \u001b[1;36m3\u001b[0m\u001b[1;33m,\u001b[0m \u001b[1;36m5\u001b[0m\u001b[1;33m,\u001b[0m \u001b[1;36m6\u001b[0m\u001b[1;33m,\u001b[0m \u001b[1;36m3\u001b[0m\u001b[1;33m,\u001b[0m \u001b[1;36m5\u001b[0m\u001b[1;33m,\u001b[0m \u001b[1;36m6\u001b[0m\u001b[1;33m,\u001b[0m \u001b[1;36m1\u001b[0m\u001b[1;33m]\u001b[0m\u001b[1;33m)\u001b[0m\u001b[1;33m)\u001b[0m\u001b[1;33m\u001b[0m\u001b[1;33m\u001b[0m\u001b[0m\n\u001b[0m",
      "\u001b[1;32m~\\AppData\\Local\\Temp/ipykernel_11256/2997249256.py\u001b[0m in \u001b[0;36mu\u001b[1;34m(x)\u001b[0m\n\u001b[0;32m      2\u001b[0m \u001b[1;32mdef\u001b[0m \u001b[0mu\u001b[0m\u001b[1;33m(\u001b[0m\u001b[0mx\u001b[0m\u001b[1;33m)\u001b[0m\u001b[1;33m:\u001b[0m\u001b[1;33m\u001b[0m\u001b[1;33m\u001b[0m\u001b[0m\n\u001b[0;32m      3\u001b[0m     \u001b[0mres\u001b[0m \u001b[1;33m=\u001b[0m \u001b[1;33m[\u001b[0m\u001b[1;33m]\u001b[0m\u001b[1;33m\u001b[0m\u001b[1;33m\u001b[0m\u001b[0m\n\u001b[1;32m----> 4\u001b[1;33m     \u001b[1;33m[\u001b[0m\u001b[0mres\u001b[0m\u001b[1;33m.\u001b[0m\u001b[0mappend\u001b[0m\u001b[1;33m(\u001b[0m\u001b[0mx\u001b[0m\u001b[1;33m)\u001b[0m \u001b[1;32mfor\u001b[0m \u001b[0mx\u001b[0m \u001b[1;32min\u001b[0m \u001b[0mtest_list\u001b[0m \u001b[1;32mif\u001b[0m \u001b[0mx\u001b[0m \u001b[1;32mnot\u001b[0m \u001b[1;32min\u001b[0m \u001b[0mres\u001b[0m\u001b[1;33m]\u001b[0m\u001b[1;33m\u001b[0m\u001b[1;33m\u001b[0m\u001b[0m\n\u001b[0m\u001b[0;32m      5\u001b[0m \u001b[1;33m\u001b[0m\u001b[0m\n\u001b[0;32m      6\u001b[0m \u001b[0mprint\u001b[0m\u001b[1;33m(\u001b[0m\u001b[0mu\u001b[0m\u001b[1;33m(\u001b[0m\u001b[1;33m[\u001b[0m\u001b[1;36m1\u001b[0m\u001b[1;33m,\u001b[0m \u001b[1;36m3\u001b[0m\u001b[1;33m,\u001b[0m \u001b[1;36m5\u001b[0m\u001b[1;33m,\u001b[0m \u001b[1;36m6\u001b[0m\u001b[1;33m,\u001b[0m \u001b[1;36m3\u001b[0m\u001b[1;33m,\u001b[0m \u001b[1;36m5\u001b[0m\u001b[1;33m,\u001b[0m \u001b[1;36m6\u001b[0m\u001b[1;33m,\u001b[0m \u001b[1;36m1\u001b[0m\u001b[1;33m]\u001b[0m\u001b[1;33m)\u001b[0m\u001b[1;33m)\u001b[0m\u001b[1;33m\u001b[0m\u001b[1;33m\u001b[0m\u001b[0m\n",
      "\u001b[1;31mNameError\u001b[0m: name 'test_list' is not defined"
     ]
    }
   ],
   "source": [
    "x = [1, 3, 5, 6, 3, 5, 6, 1]\n",
    "def u(x):\n",
    "    res = []\n",
    "    [res.append(x) for x in test_list if x not in res]\n",
    "    \n",
    "print(u([1, 3, 5, 6, 3, 5, 6, 1]))"
   ]
  },
  {
   "cell_type": "code",
   "execution_count": 102,
   "id": "cbd87296",
   "metadata": {},
   "outputs": [],
   "source": [
    "\n",
    "def test(nums):\n",
    "    return list(dict.fromkeys(nums))"
   ]
  },
  {
   "cell_type": "code",
   "execution_count": 103,
   "id": "cf2d75e0",
   "metadata": {},
   "outputs": [
    {
     "name": "stdout",
     "output_type": "stream",
     "text": [
      "1\n",
      "3\n",
      "79\n",
      "False\n"
     ]
    }
   ],
   "source": [
    "def test(nums):\n",
    "    for i in nums:\n",
    "        if i > 10:\n",
    "            print (i)\n",
    "        elif i%2==1:\n",
    "            print (i)\n",
    "        else:\n",
    "            return False\n",
    "print (test([1, 3, 79, 10, 4, 1, 39, 62]))\n",
    "        "
   ]
  },
  {
   "cell_type": "code",
   "execution_count": 104,
   "id": "56c204d1",
   "metadata": {},
   "outputs": [
    {
     "ename": "TypeError",
     "evalue": "'int' object is not iterable",
     "output_type": "error",
     "traceback": [
      "\u001b[1;31m---------------------------------------------------------------------------\u001b[0m",
      "\u001b[1;31mTypeError\u001b[0m                                 Traceback (most recent call last)",
      "\u001b[1;32m~\\AppData\\Local\\Temp/ipykernel_11256/761698289.py\u001b[0m in \u001b[0;36m<module>\u001b[1;34m\u001b[0m\n\u001b[0;32m      1\u001b[0m \u001b[1;32mfor\u001b[0m \u001b[0mnum\u001b[0m \u001b[1;32min\u001b[0m \u001b[0mrange\u001b[0m\u001b[1;33m(\u001b[0m\u001b[1;36m12\u001b[0m\u001b[1;33m,\u001b[0m\u001b[1;36m51\u001b[0m\u001b[1;33m)\u001b[0m\u001b[1;33m:\u001b[0m\u001b[1;33m\u001b[0m\u001b[1;33m\u001b[0m\u001b[0m\n\u001b[0;32m      2\u001b[0m     \u001b[1;32mif\u001b[0m \u001b[0mnum\u001b[0m\u001b[1;33m%\u001b[0m\u001b[1;36m2\u001b[0m \u001b[1;33m==\u001b[0m \u001b[1;36m0\u001b[0m\u001b[1;33m:\u001b[0m\u001b[1;33m\u001b[0m\u001b[1;33m\u001b[0m\u001b[0m\n\u001b[1;32m----> 3\u001b[1;33m         \u001b[0mprint\u001b[0m \u001b[1;33m(\u001b[0m\u001b[0mmax\u001b[0m\u001b[1;33m(\u001b[0m\u001b[0mnum\u001b[0m\u001b[1;33m)\u001b[0m\u001b[1;33m)\u001b[0m\u001b[1;33m\u001b[0m\u001b[1;33m\u001b[0m\u001b[0m\n\u001b[0m",
      "\u001b[1;31mTypeError\u001b[0m: 'int' object is not iterable"
     ]
    }
   ],
   "source": [
    "for num in range(12,51):\n",
    "    if num%2 == 0:\n",
    "        print (max(num))"
   ]
  },
  {
   "cell_type": "code",
   "execution_count": 105,
   "id": "96cc109a",
   "metadata": {},
   "outputs": [],
   "source": [
    "def test(m, n):\n",
    "    if m > n or (m == n and m % 2 == 1):\n",
    "        return -1\n",
    "    return n if n % 2 == 0 else n - 1"
   ]
  },
  {
   "cell_type": "code",
   "execution_count": 106,
   "id": "b4fb510f",
   "metadata": {},
   "outputs": [],
   "source": [
    "x  = ['abc.txt', 'windows.dll', 'tiger.png', 'rose.jpg', 'test.py', 'win32.exe']\n",
    "for s in x:\n",
    "    if s[-3] == '.txt':\n",
    "        print ('yes')\n",
    "    "
   ]
  },
  {
   "cell_type": "code",
   "execution_count": 107,
   "id": "63839959",
   "metadata": {},
   "outputs": [],
   "source": [
    "def j(x):\n",
    "    for i in x:\n",
    "        \n",
    "        if i % 2 == 0:\n",
    "            print (sum(i))"
   ]
  },
  {
   "cell_type": "code",
   "execution_count": 108,
   "id": "8959c309",
   "metadata": {},
   "outputs": [
    {
     "ename": "NameError",
     "evalue": "name 'thisdict' is not defined",
     "output_type": "error",
     "traceback": [
      "\u001b[1;31m---------------------------------------------------------------------------\u001b[0m",
      "\u001b[1;31mNameError\u001b[0m                                 Traceback (most recent call last)",
      "\u001b[1;32m~\\AppData\\Local\\Temp/ipykernel_11256/1445939856.py\u001b[0m in \u001b[0;36m<module>\u001b[1;34m\u001b[0m\n\u001b[1;32m----> 1\u001b[1;33m \u001b[1;32mfor\u001b[0m \u001b[0mx\u001b[0m \u001b[1;32min\u001b[0m \u001b[0mthisdict\u001b[0m\u001b[1;33m.\u001b[0m\u001b[0mvalues\u001b[0m\u001b[1;33m(\u001b[0m\u001b[1;33m)\u001b[0m\u001b[1;33m:\u001b[0m\u001b[1;33m\u001b[0m\u001b[1;33m\u001b[0m\u001b[0m\n\u001b[0m\u001b[0;32m      2\u001b[0m     \u001b[0mprint\u001b[0m\u001b[1;33m(\u001b[0m\u001b[0mx\u001b[0m\u001b[1;33m)\u001b[0m\u001b[1;33m\u001b[0m\u001b[1;33m\u001b[0m\u001b[0m\n",
      "\u001b[1;31mNameError\u001b[0m: name 'thisdict' is not defined"
     ]
    }
   ],
   "source": [
    "for x in thisdict.values():\n",
    "    print(x)"
   ]
  },
  {
   "cell_type": "code",
   "execution_count": 109,
   "id": "51400fef",
   "metadata": {},
   "outputs": [],
   "source": [
    "def dic_(thisdict):\n",
    "    for x in thisdict:\n",
    "        if x != x:\n",
    "            print (x)"
   ]
  },
  {
   "cell_type": "code",
   "execution_count": 110,
   "id": "f874c8d9",
   "metadata": {},
   "outputs": [
    {
     "name": "stdout",
     "output_type": "stream",
     "text": [
      "None\n"
     ]
    }
   ],
   "source": [
    "print(dic_({'red': '', 'GREEN': '', 'blue': 'orange'}))"
   ]
  },
  {
   "cell_type": "code",
   "execution_count": 111,
   "id": "e0fd9a65",
   "metadata": {},
   "outputs": [],
   "source": [
    "def test(dict_data):\n",
    "    for different in dict_data:\n",
    "        if all(k.islower() != different.islower() for k in dict_data if k != different):\n",
    "            return different"
   ]
  },
  {
   "cell_type": "code",
   "execution_count": 112,
   "id": "e6610d96",
   "metadata": {},
   "outputs": [],
   "source": [
    "def cheak(x):\n",
    "    for i in x:\n",
    "        if len[x] % 2 == 0:\n",
    "            print (i)\n",
    "            "
   ]
  },
  {
   "cell_type": "code",
   "execution_count": 113,
   "id": "ae447c23",
   "metadata": {},
   "outputs": [],
   "source": [
    "def in_(x):\n",
    "    for i in x:\n",
    "        if i+i+i == 0:\n",
    "            print (index.x(i))\n",
    "           "
   ]
  },
  {
   "cell_type": "code",
   "execution_count": 114,
   "id": "c785a0d6",
   "metadata": {},
   "outputs": [
    {
     "name": "stdout",
     "output_type": "stream",
     "text": [
      "None\n"
     ]
    }
   ],
   "source": [
    "print(in_([12, -7, 3, -89, 14, 4, -78, -1, 2, 7]))"
   ]
  },
  {
   "cell_type": "code",
   "execution_count": 115,
   "id": "bb0ab2be",
   "metadata": {},
   "outputs": [],
   "source": [
    "x = 'asdfgb'\n",
    "if x == 'a,e,i,o,u':\n",
    "    print (x)"
   ]
  },
  {
   "cell_type": "code",
   "execution_count": 116,
   "id": "ecfabe60",
   "metadata": {},
   "outputs": [
    {
     "name": "stdout",
     "output_type": "stream",
     "text": [
      "resta$t\n"
     ]
    }
   ],
   "source": [
    "def change_char(str1):\n",
    "  char = str1[0]\n",
    "  str1 = str1.replace(char, '$')\n",
    "  str1 = char + str1[1:]\n",
    "\n",
    "  return str1\n",
    "\n",
    "print(change_char('restart'))"
   ]
  },
  {
   "cell_type": "code",
   "execution_count": 117,
   "id": "7482f0d3",
   "metadata": {},
   "outputs": [],
   "source": [
    "def g(x):\n",
    "    if x[-3:] == 'ing':\n",
    "        return (x+'ly')\n",
    "    elif (len(x)) > 3:\n",
    "        return  (x)\n",
    "    else :\n",
    "        print (x)\n",
    "        "
   ]
  },
  {
   "cell_type": "code",
   "execution_count": 118,
   "id": "dc85cb6a",
   "metadata": {},
   "outputs": [
    {
     "name": "stdout",
     "output_type": "stream",
     "text": [
      "abc\n",
      "None\n"
     ]
    }
   ],
   "source": [
    "print (g('abc'))"
   ]
  },
  {
   "cell_type": "code",
   "execution_count": 119,
   "id": "68d6a5f5",
   "metadata": {},
   "outputs": [
    {
     "name": "stdout",
     "output_type": "stream",
     "text": [
      "The lyrics is poor that poor!\n"
     ]
    }
   ],
   "source": [
    "string = 'The lyrics is not that poor!'\n",
    "if 'not' in string:\n",
    "    print (string.replace('not','poor'))"
   ]
  },
  {
   "cell_type": "code",
   "execution_count": 120,
   "id": "9fad33b2",
   "metadata": {},
   "outputs": [
    {
     "name": "stdout",
     "output_type": "stream",
     "text": [
      "\n"
     ]
    },
    {
     "ename": "TypeError",
     "evalue": "'int' object is not iterable",
     "output_type": "error",
     "traceback": [
      "\u001b[1;31m---------------------------------------------------------------------------\u001b[0m",
      "\u001b[1;31mTypeError\u001b[0m                                 Traceback (most recent call last)",
      "\u001b[1;32m~\\AppData\\Local\\Temp/ipykernel_11256/2939317560.py\u001b[0m in \u001b[0;36m<module>\u001b[1;34m\u001b[0m\n\u001b[0;32m      1\u001b[0m \u001b[0mf\u001b[0m \u001b[1;33m=\u001b[0m \u001b[0minput\u001b[0m\u001b[1;33m(\u001b[0m\u001b[1;33m)\u001b[0m\u001b[1;33m\u001b[0m\u001b[1;33m\u001b[0m\u001b[0m\n\u001b[1;32m----> 2\u001b[1;33m \u001b[0mprint\u001b[0m\u001b[1;33m(\u001b[0m\u001b[0mmax\u001b[0m\u001b[1;33m(\u001b[0m\u001b[0mlen\u001b[0m\u001b[1;33m(\u001b[0m\u001b[0mf\u001b[0m\u001b[1;33m)\u001b[0m\u001b[1;33m)\u001b[0m\u001b[1;33m)\u001b[0m\u001b[1;33m\u001b[0m\u001b[1;33m\u001b[0m\u001b[0m\n\u001b[0m",
      "\u001b[1;31mTypeError\u001b[0m: 'int' object is not iterable"
     ]
    }
   ],
   "source": [
    "f = input()\n",
    "print(max(len(f)))"
   ]
  },
  {
   "cell_type": "code",
   "execution_count": 121,
   "id": "6164e4e4",
   "metadata": {},
   "outputs": [
    {
     "name": "stdout",
     "output_type": "stream",
     "text": [
      "hsdfgcvb\n",
      "None\n"
     ]
    }
   ],
   "source": [
    "f = 'asdfgcvb'\n",
    "def f(f,k):\n",
    "    k = f[0]\n",
    "    print (f.replace(k,'h'))\n",
    "print (f('asdfgcvb',8))"
   ]
  },
  {
   "cell_type": "code",
   "execution_count": 122,
   "id": "5991f970",
   "metadata": {},
   "outputs": [
    {
     "name": "stdout",
     "output_type": "stream",
     "text": [
      "asdfgcvb\n"
     ]
    }
   ],
   "source": [
    "x = 'asdfgcvb'\n",
    "def g(x):\n",
    "    new = x[:2] + x[2:]\n",
    "    return new\n",
    "print(g('asdfgcvb'))"
   ]
  },
  {
   "cell_type": "code",
   "execution_count": 123,
   "id": "7747aa18",
   "metadata": {},
   "outputs": [
    {
     "name": "stdout",
     "output_type": "stream",
     "text": [
      "dbca\n",
      "52341\n"
     ]
    }
   ],
   "source": [
    "def change_sring(str1):\n",
    "      return str1[-1:] + str1[1:-1] + str1[:1]\n",
    "\t  \n",
    "print(change_sring('abcd'))\n",
    "print(change_sring('12345'))\n"
   ]
  },
  {
   "cell_type": "code",
   "execution_count": 124,
   "id": "34b3ca6d",
   "metadata": {},
   "outputs": [
    {
     "name": "stdout",
     "output_type": "stream",
     "text": [
      "None\n"
     ]
    }
   ],
   "source": [
    "def count_(x):\n",
    "    for i in x:\n",
    "        string = x.count(i)\n",
    "print (count_('asdfgf'))"
   ]
  },
  {
   "cell_type": "code",
   "execution_count": 125,
   "id": "3ac517e2",
   "metadata": {},
   "outputs": [
    {
     "name": "stdout",
     "output_type": "stream",
     "text": [
      "The count is: 1\n"
     ]
    }
   ],
   "source": [
    "# define string\n",
    "string = \"Python is awesome, isn't it?\"\n",
    "for i in string:\n",
    "\n",
    "          count = string.count(i)\n",
    "\n",
    "# print count\n",
    "print(\"The count is:\", count)"
   ]
  },
  {
   "cell_type": "code",
   "execution_count": 126,
   "id": "b6b14498",
   "metadata": {},
   "outputs": [
    {
     "name": "stdout",
     "output_type": "stream",
     "text": [
      "\n",
      "\n"
     ]
    }
   ],
   "source": [
    "x = input()\n",
    "print (x.upper())"
   ]
  },
  {
   "cell_type": "code",
   "execution_count": 127,
   "id": "4bc3bded",
   "metadata": {},
   "outputs": [
    {
     "name": "stdout",
     "output_type": "stream",
     "text": [
      "\n",
      "[]\n"
     ]
    }
   ],
   "source": [
    "g = input()\n",
    "x = sorted(g)\n",
    "print (x)"
   ]
  },
  {
   "cell_type": "code",
   "execution_count": 128,
   "id": "543ffa7a",
   "metadata": {},
   "outputs": [
    {
     "name": "stdout",
     "output_type": "stream",
     "text": [
      "  Python Tutorial <b/>\n"
     ]
    }
   ],
   "source": [
    "print ('  Python Tutorial {}'.format('<b/>'))"
   ]
  },
  {
   "cell_type": "code",
   "execution_count": 129,
   "id": "28101a09",
   "metadata": {},
   "outputs": [
    {
     "name": "stdout",
     "output_type": "stream",
     "text": [
      "onononon\n"
     ]
    }
   ],
   "source": [
    "x = 'python'\n",
    "print (x[-2:]*4)"
   ]
  },
  {
   "cell_type": "code",
   "execution_count": 130,
   "id": "28666805",
   "metadata": {},
   "outputs": [
    {
     "name": "stdout",
     "output_type": "stream",
     "text": [
      "pyt\n"
     ]
    }
   ],
   "source": [
    "x = 'python'\n",
    "print (x[:3])"
   ]
  },
  {
   "cell_type": "code",
   "execution_count": 131,
   "id": "15d8f107",
   "metadata": {},
   "outputs": [
    {
     "name": "stdout",
     "output_type": "stream",
     "text": [
      "<reversed object at 0x000002AE5738E370>\n",
      "None\n"
     ]
    }
   ],
   "source": [
    "def string_(stre):\n",
    "    if len(stre)> 4:\n",
    "        print (reversed(stre))\n",
    "    else:\n",
    "        return False\n",
    "print (string_('asdfghgf'))"
   ]
  },
  {
   "cell_type": "code",
   "execution_count": 132,
   "id": "bd3ea4e9",
   "metadata": {},
   "outputs": [
    {
     "name": "stdout",
     "output_type": "stream",
     "text": [
      "None\n"
     ]
    }
   ],
   "source": [
    "def fr(stre):\n",
    "    for i in stre:\n",
    "        if stre[:4] == stre.upper():\n",
    "            print (stre.upper())\n",
    "print (fr('SDFGgvgASDFG'))"
   ]
  },
  {
   "cell_type": "code",
   "execution_count": 133,
   "id": "be291db8",
   "metadata": {},
   "outputs": [
    {
     "name": "stdout",
     "output_type": "stream",
     "text": [
      "False\n"
     ]
    }
   ],
   "source": [
    "x = 'python with'\n",
    "f = x.startswith('hello')\n",
    "print (f)"
   ]
  },
  {
   "cell_type": "code",
   "execution_count": 134,
   "id": "0c3b9373",
   "metadata": {},
   "outputs": [
    {
     "name": "stdout",
     "output_type": "stream",
     "text": [
      "21.89\n"
     ]
    }
   ],
   "source": [
    "print(float(21.89))"
   ]
  },
  {
   "cell_type": "code",
   "execution_count": 135,
   "id": "bec0ad48",
   "metadata": {},
   "outputs": [
    {
     "name": "stdout",
     "output_type": "stream",
     "text": [
      "\n",
      "Original Number:  3.1415926\n",
      "Formatted Number: 3\n",
      "Original Number:  12.9999\n",
      "Formatted Number: 13\n",
      "\n"
     ]
    }
   ],
   "source": [
    "x = 3.1415926\n",
    "y = 12.9999\n",
    "print(\"\\nOriginal Number: \", x)\n",
    "print(\"Formatted Number: \"+\"{:.0f}\".format(x));\n",
    "print(\"Original Number: \", y)\n",
    "print(\"Formatted Number: \"+\"{:.0f}\".format(y));\n",
    "print() \n"
   ]
  },
  {
   "cell_type": "code",
   "execution_count": 136,
   "id": "3169ffc8",
   "metadata": {},
   "outputs": [
    {
     "name": "stdout",
     "output_type": "stream",
     "text": [
      " 0 3\n"
     ]
    }
   ],
   "source": [
    "text = \" {fno} 3\".format(fno=0)\n",
    "print(text)"
   ]
  },
  {
   "cell_type": "code",
   "execution_count": 137,
   "id": "7aecf527",
   "metadata": {},
   "outputs": [
    {
     "name": "stdout",
     "output_type": "stream",
     "text": [
      "sdfd***\n"
     ]
    }
   ],
   "source": [
    "x = 'sdfd'\n",
    "print (x+\"***\")"
   ]
  },
  {
   "cell_type": "code",
   "execution_count": 138,
   "id": "b43e1f3b",
   "metadata": {},
   "outputs": [
    {
     "ename": "SyntaxError",
     "evalue": "invalid syntax (Temp/ipykernel_11256/2551015193.py, line 1)",
     "output_type": "error",
     "traceback": [
      "\u001b[1;36m  File \u001b[1;32m\"C:\\Users\\win10\\AppData\\Local\\Temp/ipykernel_11256/2551015193.py\"\u001b[1;36m, line \u001b[1;32m1\u001b[0m\n\u001b[1;33m    text = \" {fno} 0.25\".format(fno=)\u001b[0m\n\u001b[1;37m                                    ^\u001b[0m\n\u001b[1;31mSyntaxError\u001b[0m\u001b[1;31m:\u001b[0m invalid syntax\n"
     ]
    }
   ],
   "source": [
    "text = \" {fno} 0.25\".format(fno=)\n",
    "print(text)"
   ]
  },
  {
   "cell_type": "code",
   "execution_count": 139,
   "id": "dc35ea1e",
   "metadata": {},
   "outputs": [
    {
     "name": "stdout",
     "output_type": "stream",
     "text": [
      "1\n",
      "1\n",
      "2\n",
      "2\n",
      "2\n",
      "1\n",
      "2\n",
      "2\n",
      "2\n"
     ]
    }
   ],
   "source": [
    "x = 'asdfghgfd'\n",
    "for i in x:\n",
    "        print (x.count(i))"
   ]
  },
  {
   "cell_type": "code",
   "execution_count": 140,
   "id": "c2f75991",
   "metadata": {},
   "outputs": [
    {
     "name": "stdout",
     "output_type": "stream",
     "text": [
      "dlroW olleH\n"
     ]
    }
   ],
   "source": [
    "txt = \"Hello World\"[::-1]\n",
    "print(txt)"
   ]
  },
  {
   "cell_type": "code",
   "execution_count": 141,
   "id": "981de4a2",
   "metadata": {},
   "outputs": [
    {
     "name": "stdout",
     "output_type": "stream",
     "text": [
      "of all fruits banana is my favorite\n"
     ]
    }
   ],
   "source": [
    "txt = \"     banana     \"\n",
    "\n",
    "x = txt.strip()\n",
    "\n",
    "print(\"of all fruits\", x, \"is my favorite\")"
   ]
  },
  {
   "cell_type": "code",
   "execution_count": 142,
   "id": "9d105dfa",
   "metadata": {},
   "outputs": [
    {
     "name": "stdout",
     "output_type": "stream",
     "text": [
      "2\n",
      "2\n",
      "3\n",
      "1\n",
      "2\n",
      "1\n",
      "1\n",
      "1\n",
      "1\n",
      "2\n",
      "4\n",
      "1\n",
      "1\n",
      "1\n",
      "4\n",
      "1\n",
      "1\n",
      "2\n",
      "1\n",
      "1\n",
      "1\n",
      "4\n",
      "1\n",
      "3\n",
      "2\n",
      "2\n",
      "2\n",
      "3\n",
      "1\n",
      "1\n",
      "1\n",
      "1\n",
      "1\n",
      "4\n",
      "1\n"
     ]
    }
   ],
   "source": [
    "string  = 'thequickbrownfoxjumpsoverthelazydog'\n",
    "for i in string:\n",
    "    print (string.count(i))"
   ]
  },
  {
   "cell_type": "code",
   "execution_count": 143,
   "id": "b987d00d",
   "metadata": {},
   "outputs": [
    {
     "name": "stdout",
     "output_type": "stream",
     "text": [
      "current postion  are: 0\n",
      "current postion  are: 1\n",
      "current postion  are: 2\n",
      "current postion  are: 3\n",
      "current postion  are: 4\n",
      "current postion  are: 5\n",
      "current postion  are: 6\n",
      "current postion  are: 2\n",
      "current postion  are: 8\n",
      "current postion  are: 3\n"
     ]
    }
   ],
   "source": [
    "x = 'w3resource'\n",
    "for i in x:\n",
    "    print ('current postion  are:',x.index(i))"
   ]
  },
  {
   "cell_type": "code",
   "execution_count": 144,
   "id": "bf075ffa",
   "metadata": {},
   "outputs": [
    {
     "name": "stdout",
     "output_type": "stream",
     "text": [
      "not found\n"
     ]
    }
   ],
   "source": [
    "x = 'w3resource'\n",
    "y = 'abcdefghijklmnopqrstuvwxyz'\n",
    "\n",
    "if y in x:\n",
    "    print ('found!')\n",
    "else:\n",
    "    print ('not found')\n",
    "    "
   ]
  },
  {
   "cell_type": "code",
   "execution_count": 145,
   "id": "664984a8",
   "metadata": {},
   "outputs": [
    {
     "name": "stdout",
     "output_type": "stream",
     "text": [
      "w3reSOURCE.COM\n"
     ]
    }
   ],
   "source": [
    "str1 = 'W3RESOURCE.COM'\n",
    "print(str1[:4].lower() + str1[4:])\n"
   ]
  },
  {
   "cell_type": "code",
   "execution_count": 146,
   "id": "bb4fff4c",
   "metadata": {},
   "outputs": [
    {
     "name": "stdout",
     "output_type": "stream",
     "text": [
      "This is one two three four\n"
     ]
    }
   ],
   "source": [
    "string = \"32.054,23\"\n",
    "print(\"This is {} {} {} {}\"\n",
    "      .format(\"one\", \"two\", \"three\", \"four\"))"
   ]
  },
  {
   "cell_type": "code",
   "execution_count": 147,
   "id": "e27abe1a",
   "metadata": {},
   "outputs": [
    {
     "name": "stdout",
     "output_type": "stream",
     "text": [
      "2\n",
      "2\n",
      "1\n",
      "2\n",
      "2\n",
      "None\n"
     ]
    }
   ],
   "source": [
    "str1 = 'W3RESOURCE.COM'\n",
    "def gh(str1):\n",
    "    \n",
    "    for i in str1:\n",
    "        if i in \"aeiuoAEIOU\":\n",
    "            print (str1.count(i))\n",
    "print (gh('W3RESOURCE.COM'))\n"
   ]
  },
  {
   "cell_type": "code",
   "execution_count": 148,
   "id": "61498e62",
   "metadata": {},
   "outputs": [
    {
     "name": "stdout",
     "output_type": "stream",
     "text": [
      "4\n",
      "['e', 'o', 'u', 'e']\n"
     ]
    }
   ],
   "source": [
    "def vowel(text):\n",
    "    vowels = \"aeiuoAEIOU\"\n",
    "    print(len([letter for letter in text if letter in vowels]))\n",
    "    print([letter for letter in text if letter in vowels])\n",
    "vowel('w3resource');\n"
   ]
  },
  {
   "cell_type": "code",
   "execution_count": 149,
   "id": "8f5dc2bb",
   "metadata": {},
   "outputs": [
    {
     "name": "stdout",
     "output_type": "stream",
     "text": [
      "thisdf\n"
     ]
    }
   ],
   "source": [
    "string = 'this df'\n",
    "fg = string.replace(\" \",\"\")\n",
    "print (fg)"
   ]
  },
  {
   "cell_type": "code",
   "execution_count": 150,
   "id": "19decb9c",
   "metadata": {},
   "outputs": [
    {
     "name": "stdout",
     "output_type": "stream",
     "text": [
      "Wm\n"
     ]
    }
   ],
   "source": [
    "str1 = 'W3RESOURCE.COM'\n",
    "print(str1[0].upper() + str1[-1].lower())"
   ]
  },
  {
   "cell_type": "code",
   "execution_count": 151,
   "id": "fdd47cc5",
   "metadata": {},
   "outputs": [],
   "source": [
    "def d(str1):\n",
    "    for i in str1:\n",
    "        if i == i:\n",
    "            print (replace(i))"
   ]
  },
  {
   "cell_type": "code",
   "execution_count": 152,
   "id": "bd38e05f",
   "metadata": {},
   "outputs": [
    {
     "name": "stdout",
     "output_type": "stream",
     "text": [
      "geksfor\n"
     ]
    }
   ],
   "source": [
    "string=\"geeksforgeeks\"\n",
    "p=\"\"\n",
    "for char in string:\n",
    "\tif char not in p:\n",
    "\t\tp=p+char\n",
    "print(p)\n",
    "k=list(\"geeksforgeeks\")\n"
   ]
  },
  {
   "cell_type": "code",
   "execution_count": 153,
   "id": "ba1a63f3",
   "metadata": {},
   "outputs": [
    {
     "ename": "SyntaxError",
     "evalue": "invalid syntax (Temp/ipykernel_11256/2968769020.py, line 3)",
     "output_type": "error",
     "traceback": [
      "\u001b[1;36m  File \u001b[1;32m\"C:\\Users\\win10\\AppData\\Local\\Temp/ipykernel_11256/2968769020.py\"\u001b[1;36m, line \u001b[1;32m3\u001b[0m\n\u001b[1;33m    def\u001b[0m\n\u001b[1;37m        ^\u001b[0m\n\u001b[1;31mSyntaxError\u001b[0m\u001b[1;31m:\u001b[0m invalid syntax\n"
     ]
    }
   ],
   "source": [
    "string=\"1234\"\n",
    "p = ''\n",
    "def \n",
    "for i in string:\n",
    "    if i == i.isdigit():\n",
    "        print (sum(i))"
   ]
  },
  {
   "cell_type": "code",
   "execution_count": 154,
   "id": "c36b283e",
   "metadata": {},
   "outputs": [
    {
     "name": "stdout",
     "output_type": "stream",
     "text": [
      "15\n",
      "10\n"
     ]
    }
   ],
   "source": [
    "def sum_digits_string(str1):\n",
    "    sum_digit = 0\n",
    "    for x in str1:\n",
    "        if x.isdigit() == True:\n",
    "            z = int(x)\n",
    "            sum_digit = sum_digit + z\n",
    "\n",
    "    return sum_digit\n",
    "     \n",
    "print(sum_digits_string(\"123abcd45\"))\n",
    "print(sum_digits_string(\"abcd1234\"))\n"
   ]
  },
  {
   "cell_type": "code",
   "execution_count": 155,
   "id": "ca214153",
   "metadata": {},
   "outputs": [
    {
     "ename": "SyntaxError",
     "evalue": "invalid syntax (Temp/ipykernel_11256/917660774.py, line 4)",
     "output_type": "error",
     "traceback": [
      "\u001b[1;36m  File \u001b[1;32m\"C:\\Users\\win10\\AppData\\Local\\Temp/ipykernel_11256/917660774.py\"\u001b[1;36m, line \u001b[1;32m4\u001b[0m\n\u001b[1;33m    if s not in  :\u001b[0m\n\u001b[1;37m                 ^\u001b[0m\n\u001b[1;31mSyntaxError\u001b[0m\u001b[1;31m:\u001b[0m invalid syntax\n"
     ]
    }
   ],
   "source": [
    "def dup(d):\n",
    "    g = \"\"\n",
    "    for s in d:\n",
    "        if s not in  :\n",
    "            g = g+s\n",
    "            print (g)\n",
    "\n",
    "           "
   ]
  },
  {
   "cell_type": "code",
   "execution_count": 156,
   "id": "ee5faf4b",
   "metadata": {},
   "outputs": [
    {
     "ename": "NameError",
     "evalue": "name 'dup' is not defined",
     "output_type": "error",
     "traceback": [
      "\u001b[1;31m---------------------------------------------------------------------------\u001b[0m",
      "\u001b[1;31mNameError\u001b[0m                                 Traceback (most recent call last)",
      "\u001b[1;32m~\\AppData\\Local\\Temp/ipykernel_11256/2980667416.py\u001b[0m in \u001b[0;36m<module>\u001b[1;34m\u001b[0m\n\u001b[1;32m----> 1\u001b[1;33m \u001b[0mprint\u001b[0m\u001b[1;33m(\u001b[0m\u001b[0mdup\u001b[0m\u001b[1;33m(\u001b[0m\u001b[1;34m'13ab2cd45'\u001b[0m\u001b[1;33m)\u001b[0m\u001b[1;33m)\u001b[0m\u001b[1;33m\u001b[0m\u001b[1;33m\u001b[0m\u001b[0m\n\u001b[0m",
      "\u001b[1;31mNameError\u001b[0m: name 'dup' is not defined"
     ]
    }
   ],
   "source": [
    "print(dup('13ab2cd45'))"
   ]
  },
  {
   "cell_type": "code",
   "execution_count": 157,
   "id": "a1411f8a",
   "metadata": {},
   "outputs": [],
   "source": [
    "def buil(d):\n",
    "    g = ''\n",
    "    h = ''\n",
    "    for s in d:\n",
    "        if s not in g:\n",
    "            g= g+s\n",
    "            print (g)\n",
    "        elif s in h:\n",
    "            h = h+s\n",
    "            print (h)\n",
    "        \n",
    "        "
   ]
  },
  {
   "cell_type": "code",
   "execution_count": 158,
   "id": "718a9d1d",
   "metadata": {},
   "outputs": [
    {
     "name": "stdout",
     "output_type": "stream",
     "text": [
      "1\n",
      "13\n",
      "13a\n",
      "13ab\n",
      "13ab2\n",
      "13ab2c\n",
      "13ab2cd\n",
      "13ab2cd4\n",
      "13ab2cd45\n",
      "None\n"
     ]
    }
   ],
   "source": [
    "print (buil('13ab2cd45'))"
   ]
  },
  {
   "cell_type": "code",
   "execution_count": 159,
   "id": "6842e9bd",
   "metadata": {},
   "outputs": [
    {
     "name": "stdout",
     "output_type": "stream",
     "text": [
      "egh\n",
      "abcf\n"
     ]
    }
   ],
   "source": [
    "from collections import Counter  \n",
    "def generateStrings(input): \n",
    "     str_char_ctr = Counter(input) \n",
    "     part1 = [ key for (key,count) in str_char_ctr.items() if count==1] \n",
    "     part2 = [ key for (key,count) in str_char_ctr.items() if count>1] \n",
    "     part1.sort() \n",
    "     part2.sort()\n",
    "     return part1,part2\n",
    "input = \"aabbcceffgh\"\n",
    "s1, s2 = generateStrings(input)\n",
    "print(''.join(s1))   \n",
    "print(''.join(s2))\n"
   ]
  },
  {
   "cell_type": "code",
   "execution_count": 160,
   "id": "f0eaab40",
   "metadata": {},
   "outputs": [],
   "source": [
    "string = 'asdfghjhgf'\n",
    "def rem(str1):\n",
    "    gh = 'g'\n",
    "    for s in str1:\n",
    "        if s  == gh:\n",
    "            print (str1.replace(s, \"\"))"
   ]
  },
  {
   "cell_type": "code",
   "execution_count": 161,
   "id": "7d7e219e",
   "metadata": {},
   "outputs": [
    {
     "name": "stdout",
     "output_type": "stream",
     "text": [
      "asdfhjhf\n",
      "asdfhjhf\n",
      "None\n"
     ]
    }
   ],
   "source": [
    "print (rem('asdfghjhgf'))"
   ]
  },
  {
   "cell_type": "code",
   "execution_count": 162,
   "id": "1100ab22",
   "metadata": {},
   "outputs": [],
   "source": [
    "def remove_characters(str1,c):\n",
    "    return ''.join([el for el in str1 if el == c])"
   ]
  },
  {
   "cell_type": "code",
   "execution_count": 163,
   "id": "301eb6eb",
   "metadata": {},
   "outputs": [],
   "source": [
    "def cou(x):\n",
    "    for sr in x:\n",
    "        upp = 0\n",
    "        if x.upper() == sr:\n",
    "              upp +=1\n",
    "        else:\n",
    "            return False"
   ]
  },
  {
   "cell_type": "code",
   "execution_count": 164,
   "id": "8be6ed64",
   "metadata": {},
   "outputs": [
    {
     "name": "stdout",
     "output_type": "stream",
     "text": [
      "False\n"
     ]
    }
   ],
   "source": [
    "print (cou('Asdfghgfd'))"
   ]
  },
  {
   "cell_type": "code",
   "execution_count": 165,
   "id": "a7512375",
   "metadata": {},
   "outputs": [],
   "source": [
    "g = 'Asdfghgfd'"
   ]
  },
  {
   "cell_type": "code",
   "execution_count": 166,
   "id": "189b89f1",
   "metadata": {},
   "outputs": [
    {
     "ename": "TypeError",
     "evalue": "'str' object is not callable",
     "output_type": "error",
     "traceback": [
      "\u001b[1;31m---------------------------------------------------------------------------\u001b[0m",
      "\u001b[1;31mTypeError\u001b[0m                                 Traceback (most recent call last)",
      "\u001b[1;32m~\\AppData\\Local\\Temp/ipykernel_11256/344003064.py\u001b[0m in \u001b[0;36m<module>\u001b[1;34m\u001b[0m\n\u001b[0;32m      3\u001b[0m         \u001b[1;32mreturn\u001b[0m \u001b[0mint\u001b[0m\u001b[1;33m(\u001b[0m\u001b[0mstr_len\u001b[0m \u001b[1;33m*\u001b[0m \u001b[1;33m(\u001b[0m\u001b[0mstr_len\u001b[0m \u001b[1;33m+\u001b[0m \u001b[1;36m1\u001b[0m\u001b[1;33m)\u001b[0m \u001b[1;33m/\u001b[0m \u001b[1;36m2\u001b[0m\u001b[1;33m)\u001b[0m\u001b[1;33m;\u001b[0m\u001b[1;33m\u001b[0m\u001b[1;33m\u001b[0m\u001b[0m\n\u001b[0;32m      4\u001b[0m \u001b[1;33m\u001b[0m\u001b[0m\n\u001b[1;32m----> 5\u001b[1;33m \u001b[0mstr1\u001b[0m \u001b[1;33m=\u001b[0m \u001b[0minput\u001b[0m\u001b[1;33m(\u001b[0m\u001b[1;34m\"Input a string: \"\u001b[0m\u001b[1;33m)\u001b[0m\u001b[1;33m\u001b[0m\u001b[1;33m\u001b[0m\u001b[0m\n\u001b[0m\u001b[0;32m      6\u001b[0m \u001b[0mprint\u001b[0m\u001b[1;33m(\u001b[0m\u001b[1;34m\"Number of substrings:\"\u001b[0m\u001b[1;33m)\u001b[0m\u001b[1;33m\u001b[0m\u001b[1;33m\u001b[0m\u001b[0m\n\u001b[0;32m      7\u001b[0m \u001b[0mprint\u001b[0m\u001b[1;33m(\u001b[0m\u001b[0mnumber_of_substrings\u001b[0m\u001b[1;33m(\u001b[0m\u001b[0mstr1\u001b[0m\u001b[1;33m)\u001b[0m\u001b[1;33m)\u001b[0m\u001b[1;33m\u001b[0m\u001b[1;33m\u001b[0m\u001b[0m\n",
      "\u001b[1;31mTypeError\u001b[0m: 'str' object is not callable"
     ]
    }
   ],
   "source": [
    "def number_of_substrings(str): \n",
    "\tstr_len = len(str); \n",
    "\treturn int(str_len * (str_len + 1) / 2); \n",
    "\n",
    "str1 = input(\"Input a string: \")\n",
    "print(\"Number of substrings:\") \n",
    "print(number_of_substrings(str1))\n"
   ]
  },
  {
   "cell_type": "code",
   "execution_count": 167,
   "id": "ebff4d3f",
   "metadata": {},
   "outputs": [
    {
     "name": "stdout",
     "output_type": "stream",
     "text": [
      "dfghgfdsA\n"
     ]
    }
   ],
   "source": [
    "g = 'Asdfghgfd'\n",
    "print (g[::-1])"
   ]
  },
  {
   "cell_type": "code",
   "execution_count": 168,
   "id": "e84de18c",
   "metadata": {},
   "outputs": [
    {
     "name": "stdout",
     "output_type": "stream",
     "text": [
      "Asdfghgfd\n"
     ]
    }
   ],
   "source": [
    "g = 'Asdf ghgfd'\n",
    "x = g.replace(\" \",'')\n",
    "print (x)\n"
   ]
  },
  {
   "cell_type": "code",
   "execution_count": 169,
   "id": "aa722775",
   "metadata": {},
   "outputs": [
    {
     "name": "stdout",
     "output_type": "stream",
     "text": [
      "4\n",
      "4\n"
     ]
    }
   ],
   "source": [
    "g = ('adgg','asdfghd','sdfg')\n",
    "for i in g:\n",
    "    if len(i) % 2 == 0:\n",
    "        print (len(i))"
   ]
  },
  {
   "cell_type": "code",
   "execution_count": 170,
   "id": "a9c407e0",
   "metadata": {},
   "outputs": [
    {
     "name": "stdout",
     "output_type": "stream",
     "text": [
      "ASDF\n"
     ]
    }
   ],
   "source": [
    "g = 'Asdfghgfd'\n",
    "x = g[:4].upper()\n",
    "print (x)\n"
   ]
  },
  {
   "cell_type": "code",
   "execution_count": 171,
   "id": "1974d2e2",
   "metadata": {},
   "outputs": [
    {
     "name": "stdout",
     "output_type": "stream",
     "text": [
      "\n"
     ]
    }
   ],
   "source": [
    "g = 'Asdfghgfd'\n",
    "x = g[:0].upper() and g[:-1].upper()\n",
    "print (x)"
   ]
  },
  {
   "cell_type": "code",
   "execution_count": 172,
   "id": "15830cbe",
   "metadata": {},
   "outputs": [],
   "source": [
    "f = 'asdfghg12345'\n",
    "def ty(f):\n",
    "    \n",
    "    for i in f:\n",
    "        if i.isdigit():\n",
    "            print('True')\n",
    "        "
   ]
  },
  {
   "cell_type": "code",
   "execution_count": 173,
   "id": "cb89b984",
   "metadata": {},
   "outputs": [
    {
     "name": "stdout",
     "output_type": "stream",
     "text": [
      "True\n",
      "True\n",
      "True\n",
      "True\n",
      "True\n",
      "None\n"
     ]
    }
   ],
   "source": [
    "print(ty('asdfghg12345'))"
   ]
  },
  {
   "cell_type": "code",
   "execution_count": 174,
   "id": "ff43296c",
   "metadata": {},
   "outputs": [],
   "source": [
    "f = 'asdfghjhgfdsx'\n",
    "g = 'asdfghrfdccvftyhjn'\n",
    "def cheak(f,g):\n",
    "    for srt in f:\n",
    "        for sr in g:\n",
    "            if  srt == sr:\n",
    "                print (f.count(srt))"
   ]
  },
  {
   "cell_type": "code",
   "execution_count": 175,
   "id": "8a07c6f4",
   "metadata": {},
   "outputs": [
    {
     "name": "stdout",
     "output_type": "stream",
     "text": [
      "1\n",
      "1\n",
      "1\n",
      "None\n"
     ]
    }
   ],
   "source": [
    "print (cheak('asdf','adfg'))"
   ]
  },
  {
   "cell_type": "code",
   "execution_count": 176,
   "id": "1fde6a1d",
   "metadata": {},
   "outputs": [
    {
     "name": "stdout",
     "output_type": "stream",
     "text": [
      "Johnz\n"
     ]
    }
   ],
   "source": [
    "x = min(\"Mike\", \"Johnz\", \"Vicky\")\n",
    "\n",
    "print(x)\n",
    "    "
   ]
  },
  {
   "cell_type": "code",
   "execution_count": 177,
   "id": "9df74d8d",
   "metadata": {},
   "outputs": [
    {
     "name": "stdout",
     "output_type": "stream",
     "text": [
      "The original string is : GeeksforGeeks\n"
     ]
    },
    {
     "ename": "TypeError",
     "evalue": "'str' object is not callable",
     "output_type": "error",
     "traceback": [
      "\u001b[1;31m---------------------------------------------------------------------------\u001b[0m",
      "\u001b[1;31mTypeError\u001b[0m                                 Traceback (most recent call last)",
      "\u001b[1;32m~\\AppData\\Local\\Temp/ipykernel_11256/3240645901.py\u001b[0m in \u001b[0;36m<module>\u001b[1;34m\u001b[0m\n\u001b[0;32m     16\u001b[0m \u001b[1;33m\u001b[0m\u001b[0m\n\u001b[0;32m     17\u001b[0m \u001b[1;31m# printing result\u001b[0m\u001b[1;33m\u001b[0m\u001b[1;33m\u001b[0m\u001b[0m\n\u001b[1;32m---> 18\u001b[1;33m \u001b[0mprint\u001b[0m \u001b[1;33m(\u001b[0m\u001b[1;34m\"The minimum of all characters in GeeksforGeeks is : \"\u001b[0m \u001b[1;33m+\u001b[0m \u001b[0mstr\u001b[0m\u001b[1;33m(\u001b[0m\u001b[0mres\u001b[0m\u001b[1;33m)\u001b[0m\u001b[1;33m)\u001b[0m\u001b[1;33m\u001b[0m\u001b[1;33m\u001b[0m\u001b[0m\n\u001b[0m",
      "\u001b[1;31mTypeError\u001b[0m: 'str' object is not callable"
     ]
    }
   ],
   "source": [
    "# Python 3 code to demonstrate\n",
    "# Least Frequent Character in String\n",
    "# collections.Counter() + min()\n",
    "from collections import Counter\n",
    "\n",
    "# initializing string\n",
    "test_str = \"GeeksforGeeks\"\n",
    "\n",
    "# printing original string\n",
    "print (\"The original string is : \" + test_str)\n",
    "\n",
    "# using collections.Counter() + min() to get\n",
    "# Least Frequent Character in String\n",
    "res = Counter(test_str)\n",
    "res = min(res, key = res.get)\n",
    "\n",
    "# printing result\n",
    "print (\"The minimum of all characters in GeeksforGeeks is : \" + str(res))\n"
   ]
  },
  {
   "cell_type": "code",
   "execution_count": 178,
   "id": "e2950774",
   "metadata": {},
   "outputs": [
    {
     "ename": "TypeError",
     "evalue": "'int' object is not iterable",
     "output_type": "error",
     "traceback": [
      "\u001b[1;31m---------------------------------------------------------------------------\u001b[0m",
      "\u001b[1;31mTypeError\u001b[0m                                 Traceback (most recent call last)",
      "\u001b[1;32m~\\AppData\\Local\\Temp/ipykernel_11256/2154065191.py\u001b[0m in \u001b[0;36m<module>\u001b[1;34m\u001b[0m\n\u001b[0;32m      7\u001b[0m \u001b[0mk\u001b[0m \u001b[1;33m=\u001b[0m \u001b[1;36m3\u001b[0m\u001b[1;33m\u001b[0m\u001b[1;33m\u001b[0m\u001b[0m\n\u001b[0;32m      8\u001b[0m \u001b[0mstr\u001b[0m \u001b[1;33m=\u001b[0m\u001b[1;34m\"geek for geeks\"\u001b[0m\u001b[1;33m\u001b[0m\u001b[1;33m\u001b[0m\u001b[0m\n\u001b[1;32m----> 9\u001b[1;33m \u001b[0mprint\u001b[0m\u001b[1;33m(\u001b[0m\u001b[0mcheak\u001b[0m\u001b[1;33m(\u001b[0m\u001b[0mtest_str\u001b[0m\u001b[1;33m,\u001b[0m \u001b[0mk\u001b[0m\u001b[1;33m)\u001b[0m\u001b[1;33m)\u001b[0m\u001b[1;33m\u001b[0m\u001b[1;33m\u001b[0m\u001b[0m\n\u001b[0m",
      "\u001b[1;32m~\\AppData\\Local\\Temp/ipykernel_11256/1696088484.py\u001b[0m in \u001b[0;36mcheak\u001b[1;34m(f, g)\u001b[0m\n\u001b[0;32m      3\u001b[0m \u001b[1;32mdef\u001b[0m \u001b[0mcheak\u001b[0m\u001b[1;33m(\u001b[0m\u001b[0mf\u001b[0m\u001b[1;33m,\u001b[0m\u001b[0mg\u001b[0m\u001b[1;33m)\u001b[0m\u001b[1;33m:\u001b[0m\u001b[1;33m\u001b[0m\u001b[1;33m\u001b[0m\u001b[0m\n\u001b[0;32m      4\u001b[0m     \u001b[1;32mfor\u001b[0m \u001b[0msrt\u001b[0m \u001b[1;32min\u001b[0m \u001b[0mf\u001b[0m\u001b[1;33m:\u001b[0m\u001b[1;33m\u001b[0m\u001b[1;33m\u001b[0m\u001b[0m\n\u001b[1;32m----> 5\u001b[1;33m         \u001b[1;32mfor\u001b[0m \u001b[0msr\u001b[0m \u001b[1;32min\u001b[0m \u001b[0mg\u001b[0m\u001b[1;33m:\u001b[0m\u001b[1;33m\u001b[0m\u001b[1;33m\u001b[0m\u001b[0m\n\u001b[0m\u001b[0;32m      6\u001b[0m             \u001b[1;32mif\u001b[0m  \u001b[0msrt\u001b[0m \u001b[1;33m==\u001b[0m \u001b[0msr\u001b[0m\u001b[1;33m:\u001b[0m\u001b[1;33m\u001b[0m\u001b[1;33m\u001b[0m\u001b[0m\n\u001b[0;32m      7\u001b[0m                 \u001b[0mprint\u001b[0m \u001b[1;33m(\u001b[0m\u001b[0mf\u001b[0m\u001b[1;33m.\u001b[0m\u001b[0mcount\u001b[0m\u001b[1;33m(\u001b[0m\u001b[0msrt\u001b[0m\u001b[1;33m)\u001b[0m\u001b[1;33m)\u001b[0m\u001b[1;33m\u001b[0m\u001b[1;33m\u001b[0m\u001b[0m\n",
      "\u001b[1;31mTypeError\u001b[0m: 'int' object is not iterable"
     ]
    }
   ],
   "source": [
    "test_str = \"GeeksforGeeks\"\n",
    "def cheaK(test_str,k):\n",
    "    for srt in test_str:\n",
    "        #r = 9\n",
    "        if len(srt) > k:\n",
    "            print (srt)\n",
    "k = 3\n",
    "str =\"geek for geeks\"\n",
    "print(cheak(test_str, k))   "
   ]
  },
  {
   "cell_type": "code",
   "execution_count": 179,
   "id": "38477af7",
   "metadata": {},
   "outputs": [
    {
     "name": "stdout",
     "output_type": "stream",
     "text": [
      "koala\n",
      "cat\n",
      "fox\n",
      "panda\n",
      "chipmunk\n",
      "sloth\n",
      "penguin\n",
      "dolphin\n"
     ]
    }
   ],
   "source": [
    "\n",
    "lst=[\"koala\", \"cat\", \"fox\", \"panda\", \"chipmunk\", \"sloth\", \"penguin\", \"dolphin\"]\n",
    "#Type your answer here.\n",
    "for i in lst:\n",
    "      print (i)\n",
    "\n",
    "\n",
    "\n"
   ]
  },
  {
   "cell_type": "code",
   "execution_count": 2,
   "id": "556e2518",
   "metadata": {},
   "outputs": [
    {
     "name": "stdout",
     "output_type": "stream",
     "text": [
      "o\n",
      "o\n",
      "o\n",
      "o\n",
      "o\n"
     ]
    }
   ],
   "source": [
    "lst=\"koala\"\n",
    "for i in lst:\n",
    "    print (lst[1])\n",
    "\n"
   ]
  },
  {
   "cell_type": "code",
   "execution_count": 5,
   "id": "671d82d5",
   "metadata": {},
   "outputs": [
    {
     "name": "stdout",
     "output_type": "stream",
     "text": [
      "3200\n"
     ]
    }
   ],
   "source": [
    "l=[]\n",
    "for i in range(2000, 3201):\n",
    "    if (i%7==0) and (i%5!=0):\n",
    "        l.append(str(i))\n",
    "\n",
    "print (i)"
   ]
  },
  {
   "cell_type": "code",
   "execution_count": 13,
   "id": "03b5f663",
   "metadata": {},
   "outputs": [
    {
     "name": "stdout",
     "output_type": "stream",
     "text": [
      "['8']\n"
     ]
    }
   ],
   "source": [
    "l='34,67,55,33,12,98'\n",
    "for values in l:\n",
    "      lis = values.split(\",\")\n",
    "print (list(lis))\n"
   ]
  },
  {
   "cell_type": "code",
   "execution_count": 14,
   "id": "f61eeefe",
   "metadata": {},
   "outputs": [
    {
     "name": "stdout",
     "output_type": "stream",
     "text": [
      "sdrfghj\n",
      "SDRFGHJ\n"
     ]
    }
   ],
   "source": [
    "f = input()\n",
    "print (f.upper())"
   ]
  },
  {
   "cell_type": "code",
   "execution_count": 16,
   "id": "ed144a42",
   "metadata": {},
   "outputs": [
    {
     "name": "stdout",
     "output_type": "stream",
     "text": [
      "56\n",
      "[93.61194029850746]\n"
     ]
    }
   ],
   "source": [
    "D = int(input())\n",
    "C = 56\n",
    "H = 67\n",
    "Q =  [(2 * C * D)/H]\n",
    "print (Q)\n"
   ]
  },
  {
   "cell_type": "code",
   "execution_count": 4,
   "id": "4c576482",
   "metadata": {},
   "outputs": [
    {
     "name": "stdout",
     "output_type": "stream",
     "text": [
      "aertgh\n",
      "['aertgh']\n"
     ]
    }
   ],
   "source": [
    "items=[x for x in input().split(',')]\n",
    "items.sort()\n",
    "print (items)"
   ]
  },
  {
   "cell_type": "code",
   "execution_count": 5,
   "id": "8842bbfe",
   "metadata": {},
   "outputs": [
    {
     "name": "stdout",
     "output_type": "stream",
     "text": [
      "asdfghj\n",
      "ASDFGHJ\n"
     ]
    }
   ],
   "source": [
    "x = input()\n",
    "print (x.upper())"
   ]
  },
  {
   "cell_type": "code",
   "execution_count": 9,
   "id": "23dcdbcf",
   "metadata": {},
   "outputs": [
    {
     "name": "stdout",
     "output_type": "stream",
     "text": [
      "sdfgh\n",
      "['d', 'f', 'g', 'h', 's']\n"
     ]
    }
   ],
   "source": [
    "px = input()\n",
    "p=\"\"\n",
    "for char in px:\n",
    "\tif char not in p:\n",
    "\t\tp=p+char\n",
    "print(sorted(p))\n",
    "#k=list(\"geeksforgeeks\")\n"
   ]
  },
  {
   "cell_type": "code",
   "execution_count": 20,
   "id": "93b6f306",
   "metadata": {},
   "outputs": [
    {
     "name": "stdout",
     "output_type": "stream",
     "text": [
      "1000\n",
      "1002\n",
      "1004\n",
      "1006\n",
      "1008\n",
      "1010\n",
      "1012\n",
      "1014\n",
      "1016\n",
      "1018\n",
      "1020\n",
      "1022\n",
      "1024\n",
      "1026\n",
      "1028\n",
      "1030\n",
      "1032\n",
      "1034\n",
      "1036\n",
      "1038\n",
      "1040\n",
      "1042\n",
      "1044\n",
      "1046\n",
      "1048\n",
      "1050\n",
      "1052\n",
      "1054\n",
      "1056\n",
      "1058\n",
      "1060\n",
      "1062\n",
      "1064\n",
      "1066\n",
      "1068\n",
      "1070\n",
      "1072\n",
      "1074\n",
      "1076\n",
      "1078\n",
      "1080\n",
      "1082\n",
      "1084\n",
      "1086\n",
      "1088\n",
      "1090\n",
      "1092\n",
      "1094\n",
      "1096\n",
      "1098\n",
      "1100\n",
      "1102\n",
      "1104\n",
      "1106\n",
      "1108\n",
      "1110\n",
      "1112\n",
      "1114\n",
      "1116\n",
      "1118\n",
      "1120\n",
      "1122\n",
      "1124\n",
      "1126\n",
      "1128\n",
      "1130\n",
      "1132\n",
      "1134\n",
      "1136\n",
      "1138\n",
      "1140\n",
      "1142\n",
      "1144\n",
      "1146\n",
      "1148\n",
      "1150\n",
      "1152\n",
      "1154\n",
      "1156\n",
      "1158\n",
      "1160\n",
      "1162\n",
      "1164\n",
      "1166\n",
      "1168\n",
      "1170\n",
      "1172\n",
      "1174\n",
      "1176\n",
      "1178\n",
      "1180\n",
      "1182\n",
      "1184\n",
      "1186\n",
      "1188\n",
      "1190\n",
      "1192\n",
      "1194\n",
      "1196\n",
      "1198\n",
      "1200\n",
      "1202\n",
      "1204\n",
      "1206\n",
      "1208\n",
      "1210\n",
      "1212\n",
      "1214\n",
      "1216\n",
      "1218\n",
      "1220\n",
      "1222\n",
      "1224\n",
      "1226\n",
      "1228\n",
      "1230\n",
      "1232\n",
      "1234\n",
      "1236\n",
      "1238\n",
      "1240\n",
      "1242\n",
      "1244\n",
      "1246\n",
      "1248\n",
      "1250\n",
      "1252\n",
      "1254\n",
      "1256\n",
      "1258\n",
      "1260\n",
      "1262\n",
      "1264\n",
      "1266\n",
      "1268\n",
      "1270\n",
      "1272\n",
      "1274\n",
      "1276\n",
      "1278\n",
      "1280\n",
      "1282\n",
      "1284\n",
      "1286\n",
      "1288\n",
      "1290\n",
      "1292\n",
      "1294\n",
      "1296\n",
      "1298\n",
      "1300\n",
      "1302\n",
      "1304\n",
      "1306\n",
      "1308\n",
      "1310\n",
      "1312\n",
      "1314\n",
      "1316\n",
      "1318\n",
      "1320\n",
      "1322\n",
      "1324\n",
      "1326\n",
      "1328\n",
      "1330\n",
      "1332\n",
      "1334\n",
      "1336\n",
      "1338\n",
      "1340\n",
      "1342\n",
      "1344\n",
      "1346\n",
      "1348\n",
      "1350\n",
      "1352\n",
      "1354\n",
      "1356\n",
      "1358\n",
      "1360\n",
      "1362\n",
      "1364\n",
      "1366\n",
      "1368\n",
      "1370\n",
      "1372\n",
      "1374\n",
      "1376\n",
      "1378\n",
      "1380\n",
      "1382\n",
      "1384\n",
      "1386\n",
      "1388\n",
      "1390\n",
      "1392\n",
      "1394\n",
      "1396\n",
      "1398\n",
      "1400\n",
      "1402\n",
      "1404\n",
      "1406\n",
      "1408\n",
      "1410\n",
      "1412\n",
      "1414\n",
      "1416\n",
      "1418\n",
      "1420\n",
      "1422\n",
      "1424\n",
      "1426\n",
      "1428\n",
      "1430\n",
      "1432\n",
      "1434\n",
      "1436\n",
      "1438\n",
      "1440\n",
      "1442\n",
      "1444\n",
      "1446\n",
      "1448\n",
      "1450\n",
      "1452\n",
      "1454\n",
      "1456\n",
      "1458\n",
      "1460\n",
      "1462\n",
      "1464\n",
      "1466\n",
      "1468\n",
      "1470\n",
      "1472\n",
      "1474\n",
      "1476\n",
      "1478\n",
      "1480\n",
      "1482\n",
      "1484\n",
      "1486\n",
      "1488\n",
      "1490\n",
      "1492\n",
      "1494\n",
      "1496\n",
      "1498\n",
      "1500\n",
      "1502\n",
      "1504\n",
      "1506\n",
      "1508\n",
      "1510\n",
      "1512\n",
      "1514\n",
      "1516\n",
      "1518\n",
      "1520\n",
      "1522\n",
      "1524\n",
      "1526\n",
      "1528\n",
      "1530\n",
      "1532\n",
      "1534\n",
      "1536\n",
      "1538\n",
      "1540\n",
      "1542\n",
      "1544\n",
      "1546\n",
      "1548\n",
      "1550\n",
      "1552\n",
      "1554\n",
      "1556\n",
      "1558\n",
      "1560\n",
      "1562\n",
      "1564\n",
      "1566\n",
      "1568\n",
      "1570\n",
      "1572\n",
      "1574\n",
      "1576\n",
      "1578\n",
      "1580\n",
      "1582\n",
      "1584\n",
      "1586\n",
      "1588\n",
      "1590\n",
      "1592\n",
      "1594\n",
      "1596\n",
      "1598\n",
      "1600\n",
      "1602\n",
      "1604\n",
      "1606\n",
      "1608\n",
      "1610\n",
      "1612\n",
      "1614\n",
      "1616\n",
      "1618\n",
      "1620\n",
      "1622\n",
      "1624\n",
      "1626\n",
      "1628\n",
      "1630\n",
      "1632\n",
      "1634\n",
      "1636\n",
      "1638\n",
      "1640\n",
      "1642\n",
      "1644\n",
      "1646\n",
      "1648\n",
      "1650\n",
      "1652\n",
      "1654\n",
      "1656\n",
      "1658\n",
      "1660\n",
      "1662\n",
      "1664\n",
      "1666\n",
      "1668\n",
      "1670\n",
      "1672\n",
      "1674\n",
      "1676\n",
      "1678\n",
      "1680\n",
      "1682\n",
      "1684\n",
      "1686\n",
      "1688\n",
      "1690\n",
      "1692\n",
      "1694\n",
      "1696\n",
      "1698\n",
      "1700\n",
      "1702\n",
      "1704\n",
      "1706\n",
      "1708\n",
      "1710\n",
      "1712\n",
      "1714\n",
      "1716\n",
      "1718\n",
      "1720\n",
      "1722\n",
      "1724\n",
      "1726\n",
      "1728\n",
      "1730\n",
      "1732\n",
      "1734\n",
      "1736\n",
      "1738\n",
      "1740\n",
      "1742\n",
      "1744\n",
      "1746\n",
      "1748\n",
      "1750\n",
      "1752\n",
      "1754\n",
      "1756\n",
      "1758\n",
      "1760\n",
      "1762\n",
      "1764\n",
      "1766\n",
      "1768\n",
      "1770\n",
      "1772\n",
      "1774\n",
      "1776\n",
      "1778\n",
      "1780\n",
      "1782\n",
      "1784\n",
      "1786\n",
      "1788\n",
      "1790\n",
      "1792\n",
      "1794\n",
      "1796\n",
      "1798\n",
      "1800\n",
      "1802\n",
      "1804\n",
      "1806\n",
      "1808\n",
      "1810\n",
      "1812\n",
      "1814\n",
      "1816\n",
      "1818\n",
      "1820\n",
      "1822\n",
      "1824\n",
      "1826\n",
      "1828\n",
      "1830\n",
      "1832\n",
      "1834\n",
      "1836\n",
      "1838\n",
      "1840\n",
      "1842\n",
      "1844\n",
      "1846\n",
      "1848\n",
      "1850\n",
      "1852\n",
      "1854\n",
      "1856\n",
      "1858\n",
      "1860\n",
      "1862\n",
      "1864\n",
      "1866\n",
      "1868\n",
      "1870\n",
      "1872\n",
      "1874\n",
      "1876\n",
      "1878\n",
      "1880\n",
      "1882\n",
      "1884\n",
      "1886\n",
      "1888\n",
      "1890\n",
      "1892\n",
      "1894\n",
      "1896\n",
      "1898\n",
      "1900\n",
      "1902\n",
      "1904\n",
      "1906\n",
      "1908\n",
      "1910\n",
      "1912\n",
      "1914\n",
      "1916\n",
      "1918\n",
      "1920\n",
      "1922\n",
      "1924\n",
      "1926\n",
      "1928\n",
      "1930\n",
      "1932\n",
      "1934\n",
      "1936\n",
      "1938\n",
      "1940\n",
      "1942\n",
      "1944\n",
      "1946\n",
      "1948\n",
      "1950\n",
      "1952\n",
      "1954\n",
      "1956\n",
      "1958\n",
      "1960\n",
      "1962\n",
      "1964\n",
      "1966\n",
      "1968\n",
      "1970\n",
      "1972\n",
      "1974\n",
      "1976\n",
      "1978\n",
      "1980\n",
      "1982\n",
      "1984\n",
      "1986\n",
      "1988\n",
      "1990\n",
      "1992\n",
      "1994\n",
      "1996\n",
      "1998\n",
      "2000\n",
      "2002\n",
      "2004\n",
      "2006\n",
      "2008\n",
      "2010\n",
      "2012\n",
      "2014\n",
      "2016\n",
      "2018\n",
      "2020\n",
      "2022\n",
      "2024\n",
      "2026\n",
      "2028\n",
      "2030\n",
      "2032\n",
      "2034\n",
      "2036\n",
      "2038\n",
      "2040\n",
      "2042\n",
      "2044\n",
      "2046\n",
      "2048\n",
      "2050\n",
      "2052\n",
      "2054\n",
      "2056\n",
      "2058\n",
      "2060\n",
      "2062\n",
      "2064\n",
      "2066\n",
      "2068\n",
      "2070\n",
      "2072\n",
      "2074\n",
      "2076\n",
      "2078\n",
      "2080\n",
      "2082\n",
      "2084\n",
      "2086\n",
      "2088\n",
      "2090\n",
      "2092\n",
      "2094\n",
      "2096\n",
      "2098\n",
      "2100\n",
      "2102\n",
      "2104\n",
      "2106\n",
      "2108\n",
      "2110\n",
      "2112\n",
      "2114\n",
      "2116\n",
      "2118\n",
      "2120\n",
      "2122\n",
      "2124\n",
      "2126\n",
      "2128\n",
      "2130\n",
      "2132\n",
      "2134\n",
      "2136\n",
      "2138\n",
      "2140\n",
      "2142\n",
      "2144\n",
      "2146\n",
      "2148\n",
      "2150\n",
      "2152\n",
      "2154\n",
      "2156\n",
      "2158\n",
      "2160\n",
      "2162\n",
      "2164\n",
      "2166\n",
      "2168\n",
      "2170\n",
      "2172\n",
      "2174\n",
      "2176\n",
      "2178\n",
      "2180\n",
      "2182\n",
      "2184\n",
      "2186\n",
      "2188\n",
      "2190\n",
      "2192\n",
      "2194\n",
      "2196\n",
      "2198\n",
      "2200\n",
      "2202\n",
      "2204\n",
      "2206\n",
      "2208\n",
      "2210\n",
      "2212\n",
      "2214\n",
      "2216\n",
      "2218\n",
      "2220\n",
      "2222\n",
      "2224\n",
      "2226\n",
      "2228\n",
      "2230\n",
      "2232\n",
      "2234\n",
      "2236\n",
      "2238\n",
      "2240\n",
      "2242\n",
      "2244\n",
      "2246\n",
      "2248\n",
      "2250\n",
      "2252\n",
      "2254\n",
      "2256\n",
      "2258\n",
      "2260\n",
      "2262\n",
      "2264\n",
      "2266\n",
      "2268\n",
      "2270\n",
      "2272\n",
      "2274\n",
      "2276\n",
      "2278\n",
      "2280\n",
      "2282\n",
      "2284\n",
      "2286\n",
      "2288\n",
      "2290\n",
      "2292\n",
      "2294\n",
      "2296\n",
      "2298\n",
      "2300\n",
      "2302\n",
      "2304\n",
      "2306\n",
      "2308\n",
      "2310\n",
      "2312\n",
      "2314\n",
      "2316\n",
      "2318\n",
      "2320\n",
      "2322\n",
      "2324\n",
      "2326\n",
      "2328\n",
      "2330\n",
      "2332\n",
      "2334\n",
      "2336\n",
      "2338\n",
      "2340\n",
      "2342\n",
      "2344\n",
      "2346\n",
      "2348\n",
      "2350\n",
      "2352\n",
      "2354\n",
      "2356\n",
      "2358\n",
      "2360\n",
      "2362\n",
      "2364\n",
      "2366\n",
      "2368\n",
      "2370\n",
      "2372\n",
      "2374\n",
      "2376\n",
      "2378\n",
      "2380\n",
      "2382\n",
      "2384\n",
      "2386\n",
      "2388\n",
      "2390\n",
      "2392\n",
      "2394\n",
      "2396\n",
      "2398\n",
      "2400\n",
      "2402\n",
      "2404\n",
      "2406\n",
      "2408\n",
      "2410\n",
      "2412\n",
      "2414\n",
      "2416\n",
      "2418\n",
      "2420\n",
      "2422\n",
      "2424\n",
      "2426\n",
      "2428\n",
      "2430\n",
      "2432\n",
      "2434\n",
      "2436\n",
      "2438\n",
      "2440\n",
      "2442\n",
      "2444\n",
      "2446\n",
      "2448\n",
      "2450\n",
      "2452\n",
      "2454\n",
      "2456\n",
      "2458\n",
      "2460\n",
      "2462\n",
      "2464\n",
      "2466\n",
      "2468\n",
      "2470\n",
      "2472\n",
      "2474\n",
      "2476\n",
      "2478\n",
      "2480\n",
      "2482\n",
      "2484\n",
      "2486\n",
      "2488\n",
      "2490\n",
      "2492\n",
      "2494\n",
      "2496\n",
      "2498\n",
      "2500\n",
      "2502\n",
      "2504\n",
      "2506\n",
      "2508\n",
      "2510\n",
      "2512\n",
      "2514\n",
      "2516\n",
      "2518\n",
      "2520\n",
      "2522\n",
      "2524\n",
      "2526\n",
      "2528\n",
      "2530\n",
      "2532\n",
      "2534\n",
      "2536\n",
      "2538\n",
      "2540\n",
      "2542\n",
      "2544\n",
      "2546\n",
      "2548\n",
      "2550\n",
      "2552\n",
      "2554\n",
      "2556\n",
      "2558\n",
      "2560\n",
      "2562\n",
      "2564\n",
      "2566\n",
      "2568\n",
      "2570\n",
      "2572\n",
      "2574\n",
      "2576\n",
      "2578\n",
      "2580\n",
      "2582\n",
      "2584\n",
      "2586\n",
      "2588\n",
      "2590\n",
      "2592\n",
      "2594\n",
      "2596\n",
      "2598\n",
      "2600\n",
      "2602\n",
      "2604\n",
      "2606\n",
      "2608\n",
      "2610\n",
      "2612\n",
      "2614\n",
      "2616\n",
      "2618\n",
      "2620\n",
      "2622\n",
      "2624\n",
      "2626\n",
      "2628\n",
      "2630\n",
      "2632\n",
      "2634\n",
      "2636\n",
      "2638\n",
      "2640\n",
      "2642\n",
      "2644\n",
      "2646\n",
      "2648\n",
      "2650\n",
      "2652\n",
      "2654\n",
      "2656\n",
      "2658\n",
      "2660\n",
      "2662\n",
      "2664\n",
      "2666\n",
      "2668\n",
      "2670\n",
      "2672\n",
      "2674\n",
      "2676\n",
      "2678\n",
      "2680\n",
      "2682\n",
      "2684\n",
      "2686\n",
      "2688\n",
      "2690\n",
      "2692\n",
      "2694\n",
      "2696\n",
      "2698\n",
      "2700\n",
      "2702\n",
      "2704\n",
      "2706\n",
      "2708\n",
      "2710\n",
      "2712\n",
      "2714\n",
      "2716\n",
      "2718\n",
      "2720\n",
      "2722\n",
      "2724\n",
      "2726\n",
      "2728\n",
      "2730\n",
      "2732\n",
      "2734\n",
      "2736\n",
      "2738\n",
      "2740\n",
      "2742\n",
      "2744\n",
      "2746\n",
      "2748\n",
      "2750\n",
      "2752\n",
      "2754\n",
      "2756\n",
      "2758\n",
      "2760\n",
      "2762\n",
      "2764\n",
      "2766\n",
      "2768\n",
      "2770\n",
      "2772\n",
      "2774\n",
      "2776\n",
      "2778\n",
      "2780\n",
      "2782\n",
      "2784\n",
      "2786\n",
      "2788\n",
      "2790\n",
      "2792\n",
      "2794\n",
      "2796\n",
      "2798\n",
      "2800\n",
      "2802\n",
      "2804\n",
      "2806\n",
      "2808\n",
      "2810\n",
      "2812\n",
      "2814\n",
      "2816\n",
      "2818\n",
      "2820\n",
      "2822\n",
      "2824\n",
      "2826\n",
      "2828\n",
      "2830\n",
      "2832\n",
      "2834\n",
      "2836\n",
      "2838\n",
      "2840\n",
      "2842\n",
      "2844\n",
      "2846\n",
      "2848\n",
      "2850\n",
      "2852\n",
      "2854\n",
      "2856\n",
      "2858\n",
      "2860\n",
      "2862\n",
      "2864\n",
      "2866\n",
      "2868\n",
      "2870\n",
      "2872\n",
      "2874\n",
      "2876\n",
      "2878\n",
      "2880\n",
      "2882\n",
      "2884\n",
      "2886\n",
      "2888\n",
      "2890\n",
      "2892\n",
      "2894\n",
      "2896\n",
      "2898\n",
      "2900\n",
      "2902\n",
      "2904\n",
      "2906\n",
      "2908\n",
      "2910\n",
      "2912\n",
      "2914\n",
      "2916\n",
      "2918\n",
      "2920\n",
      "2922\n",
      "2924\n",
      "2926\n",
      "2928\n",
      "2930\n",
      "2932\n",
      "2934\n",
      "2936\n",
      "2938\n",
      "2940\n",
      "2942\n",
      "2944\n",
      "2946\n",
      "2948\n",
      "2950\n",
      "2952\n",
      "2954\n",
      "2956\n",
      "2958\n",
      "2960\n",
      "2962\n",
      "2964\n",
      "2966\n",
      "2968\n",
      "2970\n",
      "2972\n",
      "2974\n",
      "2976\n",
      "2978\n",
      "2980\n",
      "2982\n",
      "2984\n",
      "2986\n",
      "2988\n",
      "2990\n",
      "2992\n",
      "2994\n",
      "2996\n",
      "2998\n"
     ]
    }
   ],
   "source": [
    "x = range (1000,3000)\n",
    "for i in x:\n",
    "    if i % 2 == 0:\n",
    "        print (i)"
   ]
  },
  {
   "cell_type": "code",
   "execution_count": 21,
   "id": "0951a3a6",
   "metadata": {},
   "outputs": [
    {
     "name": "stdout",
     "output_type": "stream",
     "text": [
      "14\n"
     ]
    }
   ],
   "source": [
    "x = 'ASEDRFTGYHGFDC'\n",
    "print (len(x))"
   ]
  },
  {
   "cell_type": "code",
   "execution_count": 22,
   "id": "f8bc89f7",
   "metadata": {},
   "outputs": [
    {
     "ename": "SyntaxError",
     "evalue": "Missing parentheses in call to 'print'. Did you mean print(\"LETTERS\", d[\"LETTERS\"])? (Temp/ipykernel_392/3795197453.py, line 10)",
     "output_type": "error",
     "traceback": [
      "\u001b[1;36m  File \u001b[1;32m\"C:\\Users\\win10\\AppData\\Local\\Temp/ipykernel_392/3795197453.py\"\u001b[1;36m, line \u001b[1;32m10\u001b[0m\n\u001b[1;33m    print \"LETTERS\", d[\"LETTERS\"]\u001b[0m\n\u001b[1;37m          ^\u001b[0m\n\u001b[1;31mSyntaxError\u001b[0m\u001b[1;31m:\u001b[0m Missing parentheses in call to 'print'. Did you mean print(\"LETTERS\", d[\"LETTERS\"])?\n"
     ]
    }
   ],
   "source": [
    "s = input()\n",
    "d={\"DIGITS\":0, \"LETTERS\":0}\n",
    "for c in s:\n",
    "    if c.isdigit():\n",
    "        d[\"DIGITS\"]+=1\n",
    "    elif c.isalpha():\n",
    "        d[\"LETTERS\"]+=1\n",
    "    else:\n",
    "        pass\n",
    "print \"LETTERS\", d[\"LETTERS\"]\n",
    "print \"DIGITS\", d[\"DIGITS\"]"
   ]
  },
  {
   "cell_type": "code",
   "execution_count": 28,
   "id": "6358000b",
   "metadata": {},
   "outputs": [
    {
     "name": "stdout",
     "output_type": "stream",
     "text": [
      "DFfghj\n",
      "1\n",
      "1\n"
     ]
    }
   ],
   "source": [
    "x = input()\n",
    "for char in x:\n",
    "    if char == char.upper():\n",
    "        print (len(char))"
   ]
  },
  {
   "cell_type": "code",
   "execution_count": 30,
   "id": "ecc20a38",
   "metadata": {},
   "outputs": [
    {
     "name": "stdout",
     "output_type": "stream",
     "text": [
      "7380\n"
     ]
    }
   ],
   "source": [
    "a = 9\n",
    "print (a+a*a+a*a*a+a*a*a*a)"
   ]
  },
  {
   "cell_type": "code",
   "execution_count": 31,
   "id": "41e1484c",
   "metadata": {},
   "outputs": [
    {
     "name": "stdout",
     "output_type": "stream",
     "text": [
      "1\n",
      "3\n",
      "5\n",
      "7\n",
      "9\n"
     ]
    }
   ],
   "source": [
    "x = [1,2,3,4,5,6,7,8,9]\n",
    "for i in x:\n",
    "    if i % 2 == 1:\n",
    "        print (i)"
   ]
  },
  {
   "cell_type": "code",
   "execution_count": 2,
   "id": "b1b40e86",
   "metadata": {},
   "outputs": [
    {
     "name": "stdout",
     "output_type": "stream",
     "text": [
      "['asdfc', 'rfdx', 'zdfgzxhgf']\n"
     ]
    }
   ],
   "source": [
    "x = ('zdfg''zxhgf','asdfc', 'rfdx')\n",
    "print (sorted(x))"
   ]
  },
  {
   "cell_type": "code",
   "execution_count": 5,
   "id": "bd124299",
   "metadata": {},
   "outputs": [
    {
     "name": "stdout",
     "output_type": "stream",
     "text": [
      "105\n",
      "112\n",
      "119\n",
      "126\n",
      "133\n",
      "140\n",
      "147\n",
      "154\n",
      "161\n",
      "168\n",
      "175\n",
      "182\n",
      "189\n",
      "196\n",
      "203\n",
      "210\n",
      "217\n",
      "224\n",
      "231\n",
      "238\n",
      "245\n",
      "252\n",
      "259\n",
      "266\n",
      "273\n",
      "280\n",
      "287\n",
      "294\n"
     ]
    }
   ],
   "source": [
    "z = range(100,300)\n",
    "for i in z:\n",
    "    if i% 7 == 0:\n",
    "        print (i)\n"
   ]
  },
  {
   "cell_type": "code",
   "execution_count": 9,
   "id": "73774a31",
   "metadata": {},
   "outputs": [
    {
     "name": "stdout",
     "output_type": "stream",
     "text": [
      "6\n",
      "36\n"
     ]
    }
   ],
   "source": [
    "z = int(input())\n",
    "print (z*z)"
   ]
  },
  {
   "cell_type": "code",
   "execution_count": 3,
   "id": "c4cb95cd",
   "metadata": {},
   "outputs": [
    {
     "name": "stdout",
     "output_type": "stream",
     "text": [
      "integer function.\n"
     ]
    }
   ],
   "source": [
    "def power(a, b):\n",
    "\t\"\"\"integer function.\"\"\"\n",
    "\n",
    "\treturn int(b)\n",
    "\n",
    "print(power.__doc__)\n"
   ]
  },
  {
   "cell_type": "code",
   "execution_count": 7,
   "id": "740d8ff2",
   "metadata": {},
   "outputs": [
    {
     "name": "stdout",
     "output_type": "stream",
     "text": [
      "4\n",
      "4\n",
      "15\n"
     ]
    }
   ],
   "source": [
    "x = int(input())\n",
    "Y = int(input())\n",
    "def sum_(X,Y):\n",
    "    return X+Y\n",
    "print (sum_(6,9))"
   ]
  },
  {
   "cell_type": "code",
   "execution_count": 8,
   "id": "0daba30b",
   "metadata": {},
   "outputs": [
    {
     "name": "stdout",
     "output_type": "stream",
     "text": [
      "45\n"
     ]
    }
   ],
   "source": [
    "x = 45\n",
    "print (str(x))"
   ]
  },
  {
   "cell_type": "code",
   "execution_count": 16,
   "id": "0d7ddd37",
   "metadata": {},
   "outputs": [
    {
     "name": "stdout",
     "output_type": "stream",
     "text": [
      "56\n",
      "5\n",
      "61\n"
     ]
    }
   ],
   "source": [
    "x = int(input())\n",
    "y = int(input())\n",
    "\n",
    "print (x+y)"
   ]
  },
  {
   "cell_type": "code",
   "execution_count": 18,
   "id": "687cbe44",
   "metadata": {},
   "outputs": [
    {
     "name": "stdout",
     "output_type": "stream",
     "text": [
      "7\n"
     ]
    }
   ],
   "source": [
    "def sum_str(a, b):\n",
    "    return str(int(a or 0) + int(b or 0))\n",
    "print(sum_str(3,4))"
   ]
  },
  {
   "cell_type": "code",
   "execution_count": 20,
   "id": "321616f8",
   "metadata": {},
   "outputs": [
    {
     "name": "stdout",
     "output_type": "stream",
     "text": [
      "wer\n",
      "asdf\n",
      "werasdf\n"
     ]
    }
   ],
   "source": [
    "d = input()\n",
    "f = input()\n",
    "print (d+f)"
   ]
  },
  {
   "cell_type": "code",
   "execution_count": 25,
   "id": "5d63844a",
   "metadata": {},
   "outputs": [
    {
     "ename": "TypeError",
     "evalue": "'int' object is not iterable",
     "output_type": "error",
     "traceback": [
      "\u001b[1;31m---------------------------------------------------------------------------\u001b[0m",
      "\u001b[1;31mTypeError\u001b[0m                                 Traceback (most recent call last)",
      "\u001b[1;32m~\\AppData\\Local\\Temp/ipykernel_10348/2854194128.py\u001b[0m in \u001b[0;36m<module>\u001b[1;34m\u001b[0m\n\u001b[0;32m      5\u001b[0m     \u001b[1;32melse\u001b[0m\u001b[1;33m:\u001b[0m\u001b[1;33m\u001b[0m\u001b[1;33m\u001b[0m\u001b[0m\n\u001b[0;32m      6\u001b[0m         \u001b[1;32mreturn\u001b[0m \u001b[0mmax\u001b[0m\u001b[1;33m(\u001b[0m\u001b[0mlen\u001b[0m\u001b[1;33m(\u001b[0m\u001b[0md\u001b[0m\u001b[1;33m)\u001b[0m\u001b[1;33m)\u001b[0m\u001b[1;33m\u001b[0m\u001b[1;33m\u001b[0m\u001b[0m\n\u001b[1;32m----> 7\u001b[1;33m \u001b[0mprint\u001b[0m \u001b[1;33m(\u001b[0m\u001b[0mdf\u001b[0m\u001b[1;33m(\u001b[0m\u001b[1;34m'sdfg'\u001b[0m\u001b[1;33m,\u001b[0m\u001b[1;34m'sdfghjhgf'\u001b[0m\u001b[1;33m)\u001b[0m\u001b[1;33m)\u001b[0m\u001b[1;33m\u001b[0m\u001b[1;33m\u001b[0m\u001b[0m\n\u001b[0m\u001b[0;32m      8\u001b[0m \u001b[1;33m\u001b[0m\u001b[0m\n",
      "\u001b[1;32m~\\AppData\\Local\\Temp/ipykernel_10348/2854194128.py\u001b[0m in \u001b[0;36mdf\u001b[1;34m(d, g)\u001b[0m\n\u001b[0;32m      4\u001b[0m         \u001b[0mprint\u001b[0m \u001b[1;33m(\u001b[0m\u001b[0md\u001b[0m\u001b[1;33m)\u001b[0m\u001b[1;33m\u001b[0m\u001b[1;33m\u001b[0m\u001b[0m\n\u001b[0;32m      5\u001b[0m     \u001b[1;32melse\u001b[0m\u001b[1;33m:\u001b[0m\u001b[1;33m\u001b[0m\u001b[1;33m\u001b[0m\u001b[0m\n\u001b[1;32m----> 6\u001b[1;33m         \u001b[1;32mreturn\u001b[0m \u001b[0mmax\u001b[0m\u001b[1;33m(\u001b[0m\u001b[0mlen\u001b[0m\u001b[1;33m(\u001b[0m\u001b[0md\u001b[0m\u001b[1;33m)\u001b[0m\u001b[1;33m)\u001b[0m\u001b[1;33m\u001b[0m\u001b[1;33m\u001b[0m\u001b[0m\n\u001b[0m\u001b[0;32m      7\u001b[0m \u001b[0mprint\u001b[0m \u001b[1;33m(\u001b[0m\u001b[0mdf\u001b[0m\u001b[1;33m(\u001b[0m\u001b[1;34m'sdfg'\u001b[0m\u001b[1;33m,\u001b[0m\u001b[1;34m'sdfghjhgf'\u001b[0m\u001b[1;33m)\u001b[0m\u001b[1;33m)\u001b[0m\u001b[1;33m\u001b[0m\u001b[1;33m\u001b[0m\u001b[0m\n\u001b[0;32m      8\u001b[0m \u001b[1;33m\u001b[0m\u001b[0m\n",
      "\u001b[1;31mTypeError\u001b[0m: 'int' object is not iterable"
     ]
    }
   ],
   "source": [
    "def df(d,g):\n",
    "    \n",
    "    if len(d) == len(g):\n",
    "        print (d)\n",
    "    else:\n",
    "        return max(len(d))\n",
    "print (df('sdfg','sdfghjhgf'))\n",
    "        \n"
   ]
  },
  {
   "cell_type": "code",
   "execution_count": 30,
   "id": "3742ad4d",
   "metadata": {},
   "outputs": [
    {
     "name": "stdout",
     "output_type": "stream",
     "text": [
      "three\n"
     ]
    }
   ],
   "source": [
    "def printValue(s1,s2):\n",
    "\tlen1 = len(s1)\n",
    "\tlen2 = len(s2)\n",
    "\tif len1>len2:\n",
    "\t\tprint (s1)\n",
    "\telif len2>len1:\n",
    "\t\tprint (s2)\n",
    "\telse:\n",
    "\t\tprint (s1)\n",
    "\t\tprint (s2)\n",
    "\t\t\n",
    "\n",
    "\t\t\n",
    "printValue(\"one\",\"three\")\n",
    "\n"
   ]
  },
  {
   "cell_type": "code",
   "execution_count": 36,
   "id": "f5ec3d99",
   "metadata": {},
   "outputs": [
    {
     "ename": "AttributeError",
     "evalue": "'dict' object has no attribute 'item'",
     "output_type": "error",
     "traceback": [
      "\u001b[1;31m---------------------------------------------------------------------------\u001b[0m",
      "\u001b[1;31mAttributeError\u001b[0m                            Traceback (most recent call last)",
      "\u001b[1;32m~\\AppData\\Local\\Temp/ipykernel_10348/127826619.py\u001b[0m in \u001b[0;36m<module>\u001b[1;34m\u001b[0m\n\u001b[0;32m      6\u001b[0m         \u001b[0mprint\u001b[0m \u001b[1;33m(\u001b[0m\u001b[0mk\u001b[0m\u001b[1;33m)\u001b[0m\u001b[1;33m\u001b[0m\u001b[1;33m\u001b[0m\u001b[0m\n\u001b[0;32m      7\u001b[0m \u001b[1;33m\u001b[0m\u001b[0m\n\u001b[1;32m----> 8\u001b[1;33m \u001b[0mprint\u001b[0m \u001b[1;33m(\u001b[0m\u001b[0mdf\u001b[0m\u001b[1;33m(\u001b[0m\u001b[1;33m)\u001b[0m\u001b[1;33m)\u001b[0m\u001b[1;33m\u001b[0m\u001b[1;33m\u001b[0m\u001b[0m\n\u001b[0m",
      "\u001b[1;32m~\\AppData\\Local\\Temp/ipykernel_10348/127826619.py\u001b[0m in \u001b[0;36mdf\u001b[1;34m()\u001b[0m\n\u001b[0;32m      3\u001b[0m     \u001b[1;32mfor\u001b[0m \u001b[0mi\u001b[0m \u001b[1;32min\u001b[0m \u001b[0mrange\u001b[0m\u001b[1;33m(\u001b[0m\u001b[1;36m1\u001b[0m\u001b[1;33m,\u001b[0m\u001b[1;36m21\u001b[0m\u001b[1;33m)\u001b[0m\u001b[1;33m:\u001b[0m\u001b[1;33m\u001b[0m\u001b[1;33m\u001b[0m\u001b[0m\n\u001b[0;32m      4\u001b[0m         \u001b[0md\u001b[0m\u001b[1;33m[\u001b[0m\u001b[0mi\u001b[0m\u001b[1;33m]\u001b[0m \u001b[1;33m=\u001b[0m \u001b[0mi\u001b[0m\u001b[1;33m**\u001b[0m\u001b[1;36m2\u001b[0m\u001b[1;33m\u001b[0m\u001b[1;33m\u001b[0m\u001b[0m\n\u001b[1;32m----> 5\u001b[1;33m     \u001b[1;32mfor\u001b[0m \u001b[0mk\u001b[0m \u001b[1;32min\u001b[0m \u001b[0md\u001b[0m\u001b[1;33m.\u001b[0m\u001b[0mitem\u001b[0m\u001b[1;33m(\u001b[0m\u001b[1;33m)\u001b[0m\u001b[1;33m:\u001b[0m\u001b[1;33m\u001b[0m\u001b[1;33m\u001b[0m\u001b[0m\n\u001b[0m\u001b[0;32m      6\u001b[0m         \u001b[0mprint\u001b[0m \u001b[1;33m(\u001b[0m\u001b[0mk\u001b[0m\u001b[1;33m)\u001b[0m\u001b[1;33m\u001b[0m\u001b[1;33m\u001b[0m\u001b[0m\n\u001b[0;32m      7\u001b[0m \u001b[1;33m\u001b[0m\u001b[0m\n",
      "\u001b[1;31mAttributeError\u001b[0m: 'dict' object has no attribute 'item'"
     ]
    }
   ],
   "source": [
    "def df():\n",
    "    d = dict()\n",
    "    for i in range(1,21):\n",
    "        d[i] = i**2\n",
    "    for k in d.item():\n",
    "        print (k)\n",
    "\n",
    "print (df())"
   ]
  },
  {
   "cell_type": "code",
   "execution_count": 50,
   "id": "2d26eef9",
   "metadata": {},
   "outputs": [
    {
     "ename": "AttributeError",
     "evalue": "'dict' object has no attribute 'append'",
     "output_type": "error",
     "traceback": [
      "\u001b[1;31m---------------------------------------------------------------------------\u001b[0m",
      "\u001b[1;31mAttributeError\u001b[0m                            Traceback (most recent call last)",
      "\u001b[1;32m~\\AppData\\Local\\Temp/ipykernel_10348/2084577428.py\u001b[0m in \u001b[0;36m<module>\u001b[1;34m\u001b[0m\n\u001b[0;32m      4\u001b[0m         \u001b[0md\u001b[0m\u001b[1;33m[\u001b[0m\u001b[0mi\u001b[0m\u001b[1;33m]\u001b[0m \u001b[1;33m=\u001b[0m \u001b[0mi\u001b[0m\u001b[1;33m**\u001b[0m\u001b[1;36m2\u001b[0m\u001b[1;33m\u001b[0m\u001b[1;33m\u001b[0m\u001b[0m\n\u001b[0;32m      5\u001b[0m         \u001b[0md\u001b[0m\u001b[1;33m.\u001b[0m\u001b[0mappend\u001b[0m\u001b[1;33m(\u001b[0m\u001b[0mi\u001b[0m\u001b[1;33m)\u001b[0m\u001b[1;33m\u001b[0m\u001b[1;33m\u001b[0m\u001b[0m\n\u001b[1;32m----> 6\u001b[1;33m \u001b[0mprint\u001b[0m \u001b[1;33m(\u001b[0m\u001b[0mgh\u001b[0m\u001b[1;33m(\u001b[0m\u001b[1;33m)\u001b[0m\u001b[1;33m)\u001b[0m\u001b[1;33m\u001b[0m\u001b[1;33m\u001b[0m\u001b[0m\n\u001b[0m",
      "\u001b[1;32m~\\AppData\\Local\\Temp/ipykernel_10348/2084577428.py\u001b[0m in \u001b[0;36mgh\u001b[1;34m()\u001b[0m\n\u001b[0;32m      3\u001b[0m     \u001b[1;32mfor\u001b[0m \u001b[0mi\u001b[0m \u001b[1;32min\u001b[0m \u001b[0mrange\u001b[0m\u001b[1;33m(\u001b[0m\u001b[1;36m1\u001b[0m\u001b[1;33m,\u001b[0m\u001b[1;36m21\u001b[0m\u001b[1;33m)\u001b[0m\u001b[1;33m:\u001b[0m\u001b[1;33m\u001b[0m\u001b[1;33m\u001b[0m\u001b[0m\n\u001b[0;32m      4\u001b[0m         \u001b[0md\u001b[0m\u001b[1;33m[\u001b[0m\u001b[0mi\u001b[0m\u001b[1;33m]\u001b[0m \u001b[1;33m=\u001b[0m \u001b[0mi\u001b[0m\u001b[1;33m**\u001b[0m\u001b[1;36m2\u001b[0m\u001b[1;33m\u001b[0m\u001b[1;33m\u001b[0m\u001b[0m\n\u001b[1;32m----> 5\u001b[1;33m         \u001b[0md\u001b[0m\u001b[1;33m.\u001b[0m\u001b[0mappend\u001b[0m\u001b[1;33m(\u001b[0m\u001b[0mi\u001b[0m\u001b[1;33m)\u001b[0m\u001b[1;33m\u001b[0m\u001b[1;33m\u001b[0m\u001b[0m\n\u001b[0m\u001b[0;32m      6\u001b[0m \u001b[0mprint\u001b[0m \u001b[1;33m(\u001b[0m\u001b[0mgh\u001b[0m\u001b[1;33m(\u001b[0m\u001b[1;33m)\u001b[0m\u001b[1;33m)\u001b[0m\u001b[1;33m\u001b[0m\u001b[1;33m\u001b[0m\u001b[0m\n",
      "\u001b[1;31mAttributeError\u001b[0m: 'dict' object has no attribute 'append'"
     ]
    }
   ],
   "source": [
    "def gh():\n",
    "    d = dict()\n",
    "    for i in range(1,21):\n",
    "        d[i] = i**2\n",
    "        d.append(i)\n",
    "print (gh())  "
   ]
  },
  {
   "cell_type": "code",
   "execution_count": 52,
   "id": "9fb988a7",
   "metadata": {},
   "outputs": [
    {
     "name": "stdout",
     "output_type": "stream",
     "text": [
      "[1, 4, 9, 16, 25]\n"
     ]
    }
   ],
   "source": [
    "def printList():\n",
    "\tli=list()\n",
    "\tfor i in range(1,21):\n",
    "\t\tli.append(i**2)\n",
    "\tprint (li[:5])\n",
    "\t\t\n",
    "\n",
    "printList()"
   ]
  },
  {
   "cell_type": "code",
   "execution_count": 55,
   "id": "7f73f6d3",
   "metadata": {},
   "outputs": [
    {
     "name": "stdout",
     "output_type": "stream",
     "text": [
      "[256, 289, 324, 361, 400]\n"
     ]
    }
   ],
   "source": [
    "def printList():\n",
    "\tli=list()\n",
    "\tfor i in range(1,21):\n",
    "\t\tli.append(i**2)\n",
    "\tprint (li[-5:])\n",
    "\t\t\n",
    "\n",
    "printList()"
   ]
  },
  {
   "cell_type": "code",
   "execution_count": 59,
   "id": "28828797",
   "metadata": {},
   "outputs": [
    {
     "ename": "AttributeError",
     "evalue": "'tuple' object has no attribute 'append'",
     "output_type": "error",
     "traceback": [
      "\u001b[1;31m---------------------------------------------------------------------------\u001b[0m",
      "\u001b[1;31mAttributeError\u001b[0m                            Traceback (most recent call last)",
      "\u001b[1;32m~\\AppData\\Local\\Temp/ipykernel_10348/3424069863.py\u001b[0m in \u001b[0;36m<module>\u001b[1;34m\u001b[0m\n\u001b[0;32m      4\u001b[0m         \u001b[0mg\u001b[0m\u001b[1;33m.\u001b[0m\u001b[0mappend\u001b[0m\u001b[1;33m(\u001b[0m\u001b[0mi\u001b[0m\u001b[1;33m**\u001b[0m\u001b[1;36m2\u001b[0m\u001b[1;33m)\u001b[0m\u001b[1;33m\u001b[0m\u001b[1;33m\u001b[0m\u001b[0m\n\u001b[0;32m      5\u001b[0m         \u001b[0mprint\u001b[0m \u001b[1;33m(\u001b[0m\u001b[0mg\u001b[0m\u001b[1;33m)\u001b[0m\u001b[1;33m\u001b[0m\u001b[1;33m\u001b[0m\u001b[0m\n\u001b[1;32m----> 6\u001b[1;33m \u001b[0mprint\u001b[0m \u001b[1;33m(\u001b[0m\u001b[0mtup\u001b[0m\u001b[1;33m(\u001b[0m\u001b[1;33m)\u001b[0m\u001b[1;33m)\u001b[0m\u001b[1;33m\u001b[0m\u001b[1;33m\u001b[0m\u001b[0m\n\u001b[0m",
      "\u001b[1;32m~\\AppData\\Local\\Temp/ipykernel_10348/3424069863.py\u001b[0m in \u001b[0;36mtup\u001b[1;34m()\u001b[0m\n\u001b[0;32m      2\u001b[0m     \u001b[0mg\u001b[0m \u001b[1;33m=\u001b[0m \u001b[0mtuple\u001b[0m\u001b[1;33m(\u001b[0m\u001b[1;33m)\u001b[0m\u001b[1;33m\u001b[0m\u001b[1;33m\u001b[0m\u001b[0m\n\u001b[0;32m      3\u001b[0m     \u001b[1;32mfor\u001b[0m \u001b[0mi\u001b[0m \u001b[1;32min\u001b[0m \u001b[0mrange\u001b[0m\u001b[1;33m(\u001b[0m\u001b[1;36m1\u001b[0m\u001b[1;33m,\u001b[0m\u001b[1;36m21\u001b[0m\u001b[1;33m)\u001b[0m\u001b[1;33m:\u001b[0m\u001b[1;33m\u001b[0m\u001b[1;33m\u001b[0m\u001b[0m\n\u001b[1;32m----> 4\u001b[1;33m         \u001b[0mg\u001b[0m\u001b[1;33m.\u001b[0m\u001b[0mappend\u001b[0m\u001b[1;33m(\u001b[0m\u001b[0mi\u001b[0m\u001b[1;33m**\u001b[0m\u001b[1;36m2\u001b[0m\u001b[1;33m)\u001b[0m\u001b[1;33m\u001b[0m\u001b[1;33m\u001b[0m\u001b[0m\n\u001b[0m\u001b[0;32m      5\u001b[0m         \u001b[0mprint\u001b[0m \u001b[1;33m(\u001b[0m\u001b[0mg\u001b[0m\u001b[1;33m)\u001b[0m\u001b[1;33m\u001b[0m\u001b[1;33m\u001b[0m\u001b[0m\n\u001b[0;32m      6\u001b[0m \u001b[0mprint\u001b[0m \u001b[1;33m(\u001b[0m\u001b[0mtup\u001b[0m\u001b[1;33m(\u001b[0m\u001b[1;33m)\u001b[0m\u001b[1;33m)\u001b[0m\u001b[1;33m\u001b[0m\u001b[1;33m\u001b[0m\u001b[0m\n",
      "\u001b[1;31mAttributeError\u001b[0m: 'tuple' object has no attribute 'append'"
     ]
    }
   ],
   "source": [
    "def tup():\n",
    "    g = tuple()\n",
    "    for i in range(1,21):\n",
    "        g.append(i**2)\n",
    "        print (g)\n",
    "print (tup())"
   ]
  },
  {
   "cell_type": "code",
   "execution_count": 1,
   "id": "1e9214c5",
   "metadata": {},
   "outputs": [
    {
     "name": "stdout",
     "output_type": "stream",
     "text": [
      "asdfg\n",
      "bsdfg\n",
      "asdfgbsdfg\n"
     ]
    }
   ],
   "source": [
    "d = input()\n",
    "f = input()\n",
    "print (d+f)"
   ]
  },
  {
   "cell_type": "code",
   "execution_count": 8,
   "id": "0d0d19c1",
   "metadata": {},
   "outputs": [
    {
     "ename": "SyntaxError",
     "evalue": "Missing parentheses in call to 'print'. Did you mean print(s1)? (Temp/ipykernel_11848/4287582728.py, line 5)",
     "output_type": "error",
     "traceback": [
      "\u001b[1;36m  File \u001b[1;32m\"C:\\Users\\win10\\AppData\\Local\\Temp/ipykernel_11848/4287582728.py\"\u001b[1;36m, line \u001b[1;32m5\u001b[0m\n\u001b[1;33m    print s1\u001b[0m\n\u001b[1;37m          ^\u001b[0m\n\u001b[1;31mSyntaxError\u001b[0m\u001b[1;31m:\u001b[0m Missing parentheses in call to 'print'. Did you mean print(s1)?\n"
     ]
    }
   ],
   "source": [
    "def printValue(s1,s2):\n",
    "\tlen1 = len(s1)\n",
    "\tlen2 = len(s2)\n",
    "\tif len1>len2:\n",
    "\t\tprint s1\n",
    "\telif len2>len1:\n",
    "\t\tprint s2\n",
    "\telse:\n",
    "\t\tprint s1\n",
    "\t\tprint s2\n",
    "\t\t\n",
    "\n",
    "printValue(\"one\",\"three\")"
   ]
  },
  {
   "cell_type": "code",
   "execution_count": 10,
   "id": "d012b118",
   "metadata": {},
   "outputs": [
    {
     "name": "stdout",
     "output_type": "stream",
     "text": [
      "(1, 2, 3, 4, 5)\n",
      "(6, 7, 8, 9, 10)\n"
     ]
    }
   ],
   "source": [
    "df = (1,2,3,4,5,6,7,8,9,10)\n",
    "print (df[:5])\n",
    "print (df[5:])"
   ]
  },
  {
   "cell_type": "code",
   "execution_count": 11,
   "id": "5a4490a4",
   "metadata": {},
   "outputs": [
    {
     "name": "stdout",
     "output_type": "stream",
     "text": [
      "(1, 2, 3, 4, 5)\n",
      "(6, 7, 8, 9, 10)\n"
     ]
    }
   ],
   "source": [
    "tp=(1,2,3,4,5,6,7,8,9,10)\n",
    "tp1=tp[:5]\n",
    "tp2=tp[5:]\n",
    "print (tp1)\n",
    "print (tp2)"
   ]
  },
  {
   "cell_type": "code",
   "execution_count": 15,
   "id": "1c96133e",
   "metadata": {},
   "outputs": [
    {
     "name": "stdout",
     "output_type": "stream",
     "text": [
      "2\n",
      "4\n",
      "6\n",
      "8\n",
      "10\n"
     ]
    }
   ],
   "source": [
    "tp=(1,2,3,4,5,6,7,8,9,10)\n",
    "for i in tp:\n",
    "    f = tuple()\n",
    "    if i % 2== 0:\n",
    "        print (i)"
   ]
  },
  {
   "cell_type": "code",
   "execution_count": 20,
   "id": "b9326b7f",
   "metadata": {},
   "outputs": [
    {
     "name": "stdout",
     "output_type": "stream",
     "text": [
      "1\n"
     ]
    }
   ],
   "source": [
    "li = [1,2,3,4,5,6,7,8,9,10]\n",
    "for i in li:\n",
    "    if i**2 == i:\n",
    "        print (i)\n",
    "        "
   ]
  },
  {
   "cell_type": "code",
   "execution_count": 25,
   "id": "af6adacc",
   "metadata": {},
   "outputs": [
    {
     "name": "stdout",
     "output_type": "stream",
     "text": [
      "[20]\n"
     ]
    }
   ],
   "source": [
    "for x in range(1,21):\n",
    "    f = []\n",
    "    if  x % 2== 0:\n",
    "        f.append(x)\n",
    "print (f)"
   ]
  },
  {
   "cell_type": "code",
   "execution_count": 26,
   "id": "d60e0ec7",
   "metadata": {},
   "outputs": [
    {
     "ename": "SyntaxError",
     "evalue": "Missing parentheses in call to 'print'. Did you mean print(\"America\")? (Temp/ipykernel_11848/2347935904.py, line 4)",
     "output_type": "error",
     "traceback": [
      "\u001b[1;36m  File \u001b[1;32m\"C:\\Users\\win10\\AppData\\Local\\Temp/ipykernel_11848/2347935904.py\"\u001b[1;36m, line \u001b[1;32m4\u001b[0m\n\u001b[1;33m    print \"America\"\u001b[0m\n\u001b[1;37m          ^\u001b[0m\n\u001b[1;31mSyntaxError\u001b[0m\u001b[1;31m:\u001b[0m Missing parentheses in call to 'print'. Did you mean print(\"America\")?\n"
     ]
    }
   ],
   "source": [
    "class American(object):\n",
    "    @staticmethod\n",
    "    def printNationality():\n",
    "        print \"America\"\n",
    "\n",
    "anAmerican = American()\n",
    "anAmerican.print Nationality()\n",
    "American.print Nationality()"
   ]
  },
  {
   "cell_type": "code",
   "execution_count": 10,
   "id": "6b29e883",
   "metadata": {},
   "outputs": [
    {
     "name": "stdout",
     "output_type": "stream",
     "text": [
      "10\n",
      "10\n",
      "10\n",
      "10\n",
      "10\n",
      "10\n",
      "56\n",
      "56\n",
      "56\n",
      "56\n",
      "56\n",
      "56\n"
     ]
    }
   ],
   "source": [
    "x = [1,3,5,6,8,10,11,56]\n",
    "y = [12,34,56,7,89,10]\n",
    "for i in x:\n",
    "    for o in y:\n",
    "        if i in y:\n",
    "            print (i)"
   ]
  },
  {
   "cell_type": "code",
   "execution_count": 11,
   "id": "b2adeaf2",
   "metadata": {},
   "outputs": [
    {
     "name": "stdout",
     "output_type": "stream",
     "text": [
      "1\n"
     ]
    }
   ],
   "source": [
    "x = [1,3,5,6,8,10,11,56]\n",
    "print (x.index(3))"
   ]
  },
  {
   "cell_type": "code",
   "execution_count": 12,
   "id": "bb0810ce",
   "metadata": {},
   "outputs": [
    {
     "name": "stdout",
     "output_type": "stream",
     "text": [
      "['asdf', 'asdfg']\n"
     ]
    }
   ],
   "source": [
    "x = ['asdf','asdfg']\n",
    "print(str(x))\n"
   ]
  },
  {
   "cell_type": "code",
   "execution_count": 19,
   "id": "ab2e8ee7",
   "metadata": {},
   "outputs": [
    {
     "name": "stdout",
     "output_type": "stream",
     "text": [
      "None\n",
      "None\n",
      "None\n",
      "None\n",
      "None\n",
      "None\n",
      "None\n",
      "None\n"
     ]
    }
   ],
   "source": [
    "x = [1,3,5,6,8,10,11,56]\n",
    "d = []\n",
    "for i in x:\n",
    "        print (d.append(x))\n"
   ]
  },
  {
   "cell_type": "code",
   "execution_count": 20,
   "id": "9348fed7",
   "metadata": {},
   "outputs": [
    {
     "name": "stdout",
     "output_type": "stream",
     "text": [
      "-2\n",
      "0\n",
      "0\n",
      "None\n",
      "None\n"
     ]
    }
   ],
   "source": [
    "def second_smallest(numbers):\n",
    "  if (len(numbers)<2):\n",
    "    return\n",
    "  if ((len(numbers)==2)  and (numbers[0] == numbers[1]) ):\n",
    "    return\n",
    "  dup_items = set()\n",
    "  uniq_items = []\n",
    "  for x in numbers:\n",
    "    if x not in dup_items:\n",
    "      uniq_items.append(x)\n",
    "      dup_items.add(x)\n",
    "  uniq_items.sort()    \n",
    "  return  uniq_items[1]   \n",
    "\n",
    "print(second_smallest([1, 2, -8, -2, 0, -2]))\n",
    "print(second_smallest([1, 1, 0, 0, 2, -2, -2]))\n",
    "print(second_smallest([1, 1, 1, 0, 0, 0, 2, -2, -2]))\n",
    "print(second_smallest([2,2]))\n",
    "print(second_smallest([2]))\n"
   ]
  },
  {
   "cell_type": "code",
   "execution_count": 23,
   "id": "101eccdc",
   "metadata": {},
   "outputs": [
    {
     "name": "stdout",
     "output_type": "stream",
     "text": [
      "Original List :  [10, 20, 30, 40, 20, 50, 60, 40]\n",
      "List of unique numbers :  [40, 10, 50, 20, 60, 30]\n"
     ]
    }
   ],
   "source": [
    "my_list = [10, 20, 30, 40, 20, 50, 60, 40]\n",
    "print(\"Original List : \",my_list)\n",
    "my_set = set(my_list)\n",
    "my_new_list = list(my_set)\n",
    "print(\"List of unique numbers : \",my_new_list)\n"
   ]
  },
  {
   "cell_type": "code",
   "execution_count": 26,
   "id": "6d511d36",
   "metadata": {},
   "outputs": [
    {
     "ename": "TypeError",
     "evalue": "'int' object is not iterable",
     "output_type": "error",
     "traceback": [
      "\u001b[1;31m---------------------------------------------------------------------------\u001b[0m",
      "\u001b[1;31mTypeError\u001b[0m                                 Traceback (most recent call last)",
      "\u001b[1;32m~\\AppData\\Local\\Temp/ipykernel_15488/2225902699.py\u001b[0m in \u001b[0;36m<module>\u001b[1;34m\u001b[0m\n\u001b[0;32m      2\u001b[0m \u001b[1;32mfor\u001b[0m \u001b[0mo\u001b[0m \u001b[1;32min\u001b[0m \u001b[0mmy_list\u001b[0m\u001b[1;33m:\u001b[0m\u001b[1;33m\u001b[0m\u001b[1;33m\u001b[0m\u001b[0m\n\u001b[0;32m      3\u001b[0m     \u001b[0mf\u001b[0m \u001b[1;33m=\u001b[0m \u001b[0mlen\u001b[0m\u001b[1;33m(\u001b[0m\u001b[0mmy_list\u001b[0m\u001b[1;33m)\u001b[0m\u001b[1;33m\u001b[0m\u001b[1;33m\u001b[0m\u001b[0m\n\u001b[1;32m----> 4\u001b[1;33m     \u001b[0mprint\u001b[0m \u001b[1;33m(\u001b[0m\u001b[0mmax\u001b[0m\u001b[1;33m(\u001b[0m\u001b[0mf\u001b[0m\u001b[1;33m)\u001b[0m\u001b[1;33m)\u001b[0m\u001b[1;33m\u001b[0m\u001b[1;33m\u001b[0m\u001b[0m\n\u001b[0m",
      "\u001b[1;31mTypeError\u001b[0m: 'int' object is not iterable"
     ]
    }
   ],
   "source": [
    "my_list = [10, 20, 30, 40, 20, 50, 60, 40]\n",
    "for o in my_list:\n",
    "    f = len(my_list)\n",
    "    print (max(f))"
   ]
  },
  {
   "cell_type": "code",
   "execution_count": 27,
   "id": "e7bafd10",
   "metadata": {},
   "outputs": [
    {
     "name": "stdout",
     "output_type": "stream",
     "text": [
      "[[], [1], [1, 2], [2], [1, 2, 3], [2, 3], [3]]\n"
     ]
    }
   ],
   "source": [
    "# Python program to print all\n",
    "# sublist from a given list\n",
    "\n",
    "# function to generate all the sub lists\n",
    "def sub_lists (l):\n",
    "\tlists = [[]]\n",
    "\tfor i in range(len(l) + 1):\n",
    "\t\tfor j in range(i):\n",
    "\t\t\tlists.append(l[j: i])\n",
    "\treturn lists\n",
    "\n",
    "# driver code\n",
    "l1 = [1, 2, 3]\n",
    "print(sub_lists(l1))\n"
   ]
  },
  {
   "cell_type": "code",
   "execution_count": 29,
   "id": "542e26b0",
   "metadata": {},
   "outputs": [
    {
     "name": "stdout",
     "output_type": "stream",
     "text": [
      "['p1', 'q1', 'p2', 'q2', 'p3', 'q3', 'p4', 'q4']\n"
     ]
    }
   ],
   "source": [
    "my_list = ['p', 'q']\n",
    "n = 4\n",
    "new_list = ['{}{}'.format(x, y) for y in range(1, n+1) for x in my_list]\n",
    "print(new_list)\n"
   ]
  },
  {
   "cell_type": "code",
   "execution_count": 7,
   "id": "be8fc207",
   "metadata": {},
   "outputs": [],
   "source": [
    "def mul(a,d,b):\n",
    "    for a in range(1,10):\n",
    "        print (a)"
   ]
  },
  {
   "cell_type": "code",
   "execution_count": 12,
   "id": "24e93953",
   "metadata": {},
   "outputs": [
    {
     "name": "stdout",
     "output_type": "stream",
     "text": [
      "g\n",
      "g\n",
      "g\n",
      "g\n",
      "g\n",
      "e\n",
      "e\n",
      "e\n",
      "e\n",
      "e\n",
      "n\n",
      "n\n",
      "n\n",
      "n\n",
      "n\n"
     ]
    }
   ],
   "source": [
    "d = ['g','h','d','e','n']\n",
    "g = ['f','d','h','a','c']\n",
    "\n",
    "for str1 in d:\n",
    "    for str2 in g:\n",
    "        if str1 not in g:\n",
    "            h = ','.join(str1)\n",
    "            print (h)"
   ]
  },
  {
   "cell_type": "code",
   "execution_count": 16,
   "id": "a32a0136",
   "metadata": {},
   "outputs": [
    {
     "name": "stdout",
     "output_type": "stream",
     "text": [
      "['g', 'h', 'd', 'e', 'n']\n"
     ]
    }
   ],
   "source": [
    "d = ['g','h','d','e','n']\n",
    "var1 = d\n",
    "print (var1)"
   ]
  },
  {
   "cell_type": "code",
   "execution_count": 20,
   "id": "56c25a2a",
   "metadata": {},
   "outputs": [],
   "source": [
    "for d in range(1,5):\n",
    "    f = []\n",
    "    f.append(d)"
   ]
  },
  {
   "cell_type": "code",
   "execution_count": 21,
   "id": "23d458c8",
   "metadata": {},
   "outputs": [
    {
     "name": "stdout",
     "output_type": "stream",
     "text": [
      "[4]\n"
     ]
    }
   ],
   "source": [
    "print (f)"
   ]
  },
  {
   "cell_type": "code",
   "execution_count": 23,
   "id": "9c6555d8",
   "metadata": {},
   "outputs": [
    {
     "name": "stdout",
     "output_type": "stream",
     "text": [
      "['d', 'e', 'g', 'h', 'n']\n"
     ]
    }
   ],
   "source": [
    "d = ['g','h','d','e','n']\n",
    "print (sorted(d))"
   ]
  },
  {
   "cell_type": "code",
   "execution_count": 1,
   "id": "52dcfe83",
   "metadata": {},
   "outputs": [
    {
     "name": "stdout",
     "output_type": "stream",
     "text": [
      "None\n"
     ]
    }
   ],
   "source": [
    " g = [1, 1, 2, 3, 4, 4, 5, 1]\n",
    "print (g.insert(4 , 'dfg'))    \n"
   ]
  },
  {
   "cell_type": "code",
   "execution_count": 13,
   "id": "84b0e9d1",
   "metadata": {},
   "outputs": [
    {
     "name": "stdout",
     "output_type": "stream",
     "text": [
      "22\n",
      "4\n",
      "16\n",
      "9\n",
      "11\n",
      "12\n",
      "14\n",
      "5\n",
      "18\n"
     ]
    }
   ],
   "source": [
    "Original = [22.4, 4.0, 16.22, 9.1, 11.0, 12.22, 14.2, 5.2, 17.5]\n",
    "for i in Original:\n",
    "    d = round(i)\n",
    "    print   (d)\n",
    "#print (max(d))"
   ]
  },
  {
   "cell_type": "code",
   "execution_count": 14,
   "id": "7fe942cd",
   "metadata": {},
   "outputs": [
    {
     "name": "stdout",
     "output_type": "stream",
     "text": [
      "[[0, 0, 0, 0, 0], [0, 0, 0, 0, 0], [0, 0, 0, 0, 0], [0, 0, 0, 0, 0]]\n"
     ]
    }
   ],
   "source": [
    "# Python program to create a m x n matrix\n",
    "# with all 0s\n",
    "m = 4\n",
    "n = 5\n",
    "\n",
    "a = [[0 for x in range(n)] for x in range(m)]\n",
    "print(a)\n"
   ]
  },
  {
   "cell_type": "code",
   "execution_count": 19,
   "id": "2f05eb22",
   "metadata": {},
   "outputs": [
    {
     "name": "stdout",
     "output_type": "stream",
     "text": [
      "[[1, 1, 1], [1, 1, 1], [1, 1, 1]]\n"
     ]
    }
   ],
   "source": [
    "m = 3\n",
    "n = 3\n",
    "\n",
    "a = [[1  for x in range(m)] for x in range(n)]\n",
    "print(a)"
   ]
  },
  {
   "cell_type": "code",
   "execution_count": 21,
   "id": "e609d890",
   "metadata": {},
   "outputs": [
    {
     "name": "stdout",
     "output_type": "stream",
     "text": [
      "1\n",
      "1\n",
      "1\n",
      "1\n"
     ]
    }
   ],
   "source": [
    "g = [[1, 3], [5, 7], [9, 11], [13, 15, 17]]\n",
    "for i in g:\n",
    "    \n",
    "    print (g.count(i))"
   ]
  },
  {
   "cell_type": "code",
   "execution_count": 23,
   "id": "bcc0c5ae",
   "metadata": {},
   "outputs": [
    {
     "name": "stdout",
     "output_type": "stream",
     "text": [
      "3\n"
     ]
    }
   ],
   "source": [
    "g = [[0], [1, 3], [5, 7], [9, 11], [13, 15, 17]]\n",
    "max_length = max(len(x) for x in g )\n",
    "print (max_length)\n",
    "\n"
   ]
  },
  {
   "cell_type": "code",
   "execution_count": 24,
   "id": "4df3d4e2",
   "metadata": {},
   "outputs": [
    {
     "name": "stdout",
     "output_type": "stream",
     "text": [
      "1\n",
      "0\n",
      "1\n",
      "1\n"
     ]
    }
   ],
   "source": [
    "x = [[1, 3], [5, 7], [1, 11], [1, 15, 7]]\n",
    "for i in x:\n",
    "    f = 1\n",
    "    print (i.count(f))\n"
   ]
  },
  {
   "cell_type": "code",
   "execution_count": 25,
   "id": "bb2af754",
   "metadata": {},
   "outputs": [
    {
     "name": "stdout",
     "output_type": "stream",
     "text": [
      "[[0], [0, 7], [1, 3], [2], [9, 11], [13, 15, 17]]\n"
     ]
    }
   ],
   "source": [
    "f = [[2], [0], [1, 3], [0, 7], [9, 11], [13, 15, 17]]\n",
    "print (sorted(f))\n"
   ]
  },
  {
   "cell_type": "code",
   "execution_count": 26,
   "id": "5fa2baf6",
   "metadata": {},
   "outputs": [
    {
     "ename": "SyntaxError",
     "evalue": "invalid syntax (Temp/ipykernel_9624/234345419.py, line 3)",
     "output_type": "error",
     "traceback": [
      "\u001b[1;36m  File \u001b[1;32m\"C:\\Users\\win10\\AppData\\Local\\Temp/ipykernel_9624/234345419.py\"\u001b[1;36m, line \u001b[1;32m3\u001b[0m\n\u001b[1;33m    if i range > 4:\u001b[0m\n\u001b[1;37m         ^\u001b[0m\n\u001b[1;31mSyntaxError\u001b[0m\u001b[1;31m:\u001b[0m invalid syntax\n"
     ]
    }
   ],
   "source": [
    "f = [[2], [0], [1, 2, 3], [0, 1, 2, 3, 6, 7], [9, 11], [13, 14, 15, 17]]\n",
    "for i in range(1,4):\n",
    "    if i not in \n"
   ]
  },
  {
   "cell_type": "code",
   "execution_count": 4,
   "id": "6739cd2a",
   "metadata": {},
   "outputs": [
    {
     "name": "stdout",
     "output_type": "stream",
     "text": [
      "Original list:\n",
      "['Python', 'list', 'exercises', 'practice', 'solution']\n",
      "\n",
      "After scrambling the letters of the strings of the said list:\n",
      "['otyPhn', 'itsl', 'seeecsrix', 'carecitp', 'tosinulo']\n"
     ]
    }
   ],
   "source": [
    "from random import shuffle\n",
    "\n",
    "def shuffle_word(text_list):\n",
    "    text_list = list(text_list)\n",
    "    shuffle(text_list)\n",
    "    return ''.join(text_list)\n",
    "\n",
    "text_list = ['Python', 'list', 'exercises', 'practice', 'solution'] \n",
    "print(\"Original list:\")\n",
    "print(text_list)\n",
    "print(\"\\nAfter scrambling the letters of the strings of the said list:\")\n",
    "result =  [shuffle_word(word) for word in text_list]\n",
    "print(result) \n"
   ]
  },
  {
   "cell_type": "code",
   "execution_count": 9,
   "id": "533b1e7d",
   "metadata": {},
   "outputs": [
    {
     "ename": "SyntaxError",
     "evalue": "'return' outside function (Temp/ipykernel_2924/1878075407.py, line 3)",
     "output_type": "error",
     "traceback": [
      "\u001b[1;36m  File \u001b[1;32m\"C:\\Users\\win10\\AppData\\Local\\Temp/ipykernel_2924/1878075407.py\"\u001b[1;36m, line \u001b[1;32m3\u001b[0m\n\u001b[1;33m    return max_\u001b[0m\n\u001b[1;37m    ^\u001b[0m\n\u001b[1;31mSyntaxError\u001b[0m\u001b[1;31m:\u001b[0m 'return' outside function\n"
     ]
    }
   ],
   "source": [
    "def gh(d):\n",
    "     max_ = max(i for i in d if isinstance(i , int)) \n",
    "return max_"
   ]
  },
  {
   "cell_type": "code",
   "execution_count": 13,
   "id": "c25930d8",
   "metadata": {},
   "outputs": [],
   "source": [
    "def fg(d,f):\n",
    "    d = ( i for i in d  and g for g in f if str1 == i  )\n",
    "    return (i)"
   ]
  },
  {
   "cell_type": "code",
   "execution_count": 14,
   "id": "e0930bb1",
   "metadata": {},
   "outputs": [
    {
     "ename": "NameError",
     "evalue": "name 'g' is not defined",
     "output_type": "error",
     "traceback": [
      "\u001b[1;31m---------------------------------------------------------------------------\u001b[0m",
      "\u001b[1;31mNameError\u001b[0m                                 Traceback (most recent call last)",
      "\u001b[1;32m~\\AppData\\Local\\Temp/ipykernel_2924/658540111.py\u001b[0m in \u001b[0;36m<module>\u001b[1;34m\u001b[0m\n\u001b[1;32m----> 1\u001b[1;33m \u001b[0mprint\u001b[0m \u001b[1;33m(\u001b[0m\u001b[0mfg\u001b[0m\u001b[1;33m(\u001b[0m\u001b[1;33m[\u001b[0m\u001b[1;36m1\u001b[0m\u001b[1;33m,\u001b[0m \u001b[1;36m1\u001b[0m\u001b[1;33m,\u001b[0m \u001b[1;36m3\u001b[0m\u001b[1;33m,\u001b[0m \u001b[1;36m4\u001b[0m\u001b[1;33m,\u001b[0m \u001b[1;36m5\u001b[0m\u001b[1;33m,\u001b[0m \u001b[1;36m6\u001b[0m\u001b[1;33m,\u001b[0m \u001b[1;36m7\u001b[0m\u001b[1;33m]\u001b[0m\u001b[1;33m,\u001b[0m\u001b[1;33m[\u001b[0m\u001b[1;36m0\u001b[0m\u001b[1;33m,\u001b[0m \u001b[1;36m1\u001b[0m\u001b[1;33m,\u001b[0m \u001b[1;36m2\u001b[0m\u001b[1;33m,\u001b[0m \u001b[1;36m3\u001b[0m\u001b[1;33m,\u001b[0m \u001b[1;36m4\u001b[0m\u001b[1;33m,\u001b[0m \u001b[1;36m5\u001b[0m\u001b[1;33m,\u001b[0m \u001b[1;36m7\u001b[0m\u001b[1;33m]\u001b[0m\u001b[1;33m)\u001b[0m\u001b[1;33m)\u001b[0m\u001b[1;33m\u001b[0m\u001b[1;33m\u001b[0m\u001b[0m\n\u001b[0m",
      "\u001b[1;32m~\\AppData\\Local\\Temp/ipykernel_2924/3282587944.py\u001b[0m in \u001b[0;36mfg\u001b[1;34m(d, f)\u001b[0m\n\u001b[0;32m      1\u001b[0m \u001b[1;32mdef\u001b[0m \u001b[0mfg\u001b[0m\u001b[1;33m(\u001b[0m\u001b[0md\u001b[0m\u001b[1;33m,\u001b[0m\u001b[0mf\u001b[0m\u001b[1;33m)\u001b[0m\u001b[1;33m:\u001b[0m\u001b[1;33m\u001b[0m\u001b[1;33m\u001b[0m\u001b[0m\n\u001b[1;32m----> 2\u001b[1;33m     \u001b[0md\u001b[0m \u001b[1;33m=\u001b[0m \u001b[1;33m(\u001b[0m \u001b[0mi\u001b[0m \u001b[1;32mfor\u001b[0m \u001b[0mi\u001b[0m \u001b[1;32min\u001b[0m \u001b[0md\u001b[0m  \u001b[1;32mand\u001b[0m \u001b[0mg\u001b[0m \u001b[1;32mfor\u001b[0m \u001b[0mg\u001b[0m \u001b[1;32min\u001b[0m \u001b[0mf\u001b[0m \u001b[1;32mif\u001b[0m \u001b[0mstr1\u001b[0m \u001b[1;33m==\u001b[0m \u001b[0mi\u001b[0m  \u001b[1;33m)\u001b[0m\u001b[1;33m\u001b[0m\u001b[1;33m\u001b[0m\u001b[0m\n\u001b[0m\u001b[0;32m      3\u001b[0m     \u001b[1;32mreturn\u001b[0m \u001b[1;33m(\u001b[0m\u001b[0mi\u001b[0m\u001b[1;33m)\u001b[0m\u001b[1;33m\u001b[0m\u001b[1;33m\u001b[0m\u001b[0m\n",
      "\u001b[1;31mNameError\u001b[0m: name 'g' is not defined"
     ]
    }
   ],
   "source": [
    "print (fg([1, 1, 3, 4, 5, 6, 7],[0, 1, 2, 3, 4, 5, 7]))"
   ]
  },
  {
   "cell_type": "code",
   "execution_count": 20,
   "id": "49e665d8",
   "metadata": {},
   "outputs": [],
   "source": [
    "d = ['Python', 'list', 'exercises', 'practice', 'solution']\n",
    "def ex(d):\n",
    "    f = 8 \n",
    "    d = (i for i in d if len(i) == f)\n",
    "    return  (i)\n"
   ]
  },
  {
   "cell_type": "code",
   "execution_count": 21,
   "id": "66710730",
   "metadata": {},
   "outputs": [
    {
     "name": "stdout",
     "output_type": "stream",
     "text": [
      "3\n"
     ]
    }
   ],
   "source": [
    "print (ex(['Python', 'list', 'exercises', 'practice', 'solution']))"
   ]
  },
  {
   "cell_type": "code",
   "execution_count": 25,
   "id": "e4a059e9",
   "metadata": {},
   "outputs": [
    {
     "name": "stdout",
     "output_type": "stream",
     "text": [
      "0\n",
      "0\n",
      "0\n",
      "0\n",
      "0\n",
      "0\n",
      "0\n",
      "0\n"
     ]
    }
   ],
   "source": [
    "d = [1, 1, 3, 4, 4, 5, 6, 7]\n",
    "for i in d:\n",
    "    print (i- i)\n"
   ]
  },
  {
   "cell_type": "code",
   "execution_count": 26,
   "id": "8e1ea4e9",
   "metadata": {},
   "outputs": [
    {
     "name": "stdout",
     "output_type": "stream",
     "text": [
      "Original list:\n",
      "[1, 1, 3, 4, 4, 5, 6, 7]\n",
      "Difference between consecutive numbers of the said list:\n",
      "[0, 2, 1, 0, 1, 1, 1]\n",
      "\n",
      "Original list:\n",
      "[4, 5, 8, 9, 6, 10]\n",
      "Difference between consecutive numbers of the said list:\n",
      "[1, 3, 1, -3, 4]\n"
     ]
    }
   ],
   "source": [
    "def diff_consecutive_nums(nums):\n",
    "    result = [b-a for a, b in zip(nums[:-1], nums[1:])]\n",
    "    return result\n",
    "\n",
    "nums1 = [1, 1, 3, 4, 4, 5, 6, 7]\n",
    "print(\"Original list:\")\n",
    "print(nums1)\n",
    "print(\"Difference between consecutive numbers of the said list:\") \n",
    "print(diff_consecutive_nums(nums1))\n",
    "\n",
    "nums2 = [4, 5, 8, 9, 6, 10]\n",
    "print(\"\\nOriginal list:\")\n",
    "print(nums2)\n",
    "print(\"Difference between consecutive numbers of the said list:\") \n",
    "print(diff_consecutive_nums(nums2))\n"
   ]
  },
  {
   "cell_type": "code",
   "execution_count": 28,
   "id": "37bc9905",
   "metadata": {},
   "outputs": [
    {
     "name": "stdout",
     "output_type": "stream",
     "text": [
      "0.875\n"
     ]
    }
   ],
   "source": [
    "d = [1, 1, 3, 4, 4, 5, 6, 7]\n",
    "f = (i for i in d  )\n",
    "print (i/len(d))"
   ]
  },
  {
   "cell_type": "code",
   "execution_count": 32,
   "id": "dd84d351",
   "metadata": {},
   "outputs": [
    {
     "ename": "AttributeError",
     "evalue": "'int' object has no attribute 'isnumeric'",
     "output_type": "error",
     "traceback": [
      "\u001b[1;31m---------------------------------------------------------------------------\u001b[0m",
      "\u001b[1;31mAttributeError\u001b[0m                            Traceback (most recent call last)",
      "\u001b[1;32m~\\AppData\\Local\\Temp/ipykernel_2924/850137764.py\u001b[0m in \u001b[0;36m<module>\u001b[1;34m\u001b[0m\n\u001b[0;32m      1\u001b[0m \u001b[0mf\u001b[0m \u001b[1;33m=\u001b[0m \u001b[1;33m[\u001b[0m\u001b[1;36m1\u001b[0m\u001b[1;33m,\u001b[0m \u001b[1;34m'abcd'\u001b[0m\u001b[1;33m,\u001b[0m \u001b[1;36m3\u001b[0m\u001b[1;33m,\u001b[0m \u001b[1;36m1.2\u001b[0m\u001b[1;33m,\u001b[0m \u001b[1;36m4\u001b[0m\u001b[1;33m,\u001b[0m \u001b[1;34m'xyz'\u001b[0m\u001b[1;33m,\u001b[0m \u001b[1;36m5\u001b[0m\u001b[1;33m,\u001b[0m \u001b[1;34m'pqr'\u001b[0m\u001b[1;33m,\u001b[0m \u001b[1;36m7\u001b[0m\u001b[1;33m,\u001b[0m \u001b[1;33m-\u001b[0m\u001b[1;36m5\u001b[0m\u001b[1;33m,\u001b[0m \u001b[1;33m-\u001b[0m\u001b[1;36m12.22\u001b[0m\u001b[1;33m]\u001b[0m\u001b[1;33m\u001b[0m\u001b[1;33m\u001b[0m\u001b[0m\n\u001b[0;32m      2\u001b[0m \u001b[0mg\u001b[0m \u001b[1;33m=\u001b[0m \u001b[1;33m(\u001b[0m\u001b[0mstr1\u001b[0m \u001b[1;32mfor\u001b[0m \u001b[0mstr1\u001b[0m \u001b[1;32min\u001b[0m \u001b[0mf\u001b[0m\u001b[1;33m)\u001b[0m\u001b[1;33m\u001b[0m\u001b[1;33m\u001b[0m\u001b[0m\n\u001b[1;32m----> 3\u001b[1;33m \u001b[0mo\u001b[0m \u001b[1;33m=\u001b[0m \u001b[0mi\u001b[0m\u001b[1;33m.\u001b[0m\u001b[0misnumeric\u001b[0m\u001b[1;33m\u001b[0m\u001b[1;33m\u001b[0m\u001b[0m\n\u001b[0m\u001b[0;32m      4\u001b[0m \u001b[1;32mif\u001b[0m \u001b[0mi\u001b[0m \u001b[1;33m==\u001b[0m \u001b[0mo\u001b[0m\u001b[1;33m:\u001b[0m\u001b[1;33m\u001b[0m\u001b[1;33m\u001b[0m\u001b[0m\n\u001b[0;32m      5\u001b[0m     \u001b[0mprint\u001b[0m \u001b[1;33m(\u001b[0m\u001b[0mi\u001b[0m\u001b[1;33m)\u001b[0m\u001b[1;33m\u001b[0m\u001b[1;33m\u001b[0m\u001b[0m\n",
      "\u001b[1;31mAttributeError\u001b[0m: 'int' object has no attribute 'isnumeric'"
     ]
    }
   ],
   "source": [
    "f = [1, 'abcd', 3, 1.2, 4, 'xyz', 5, 'pqr', 7, -5, -12.22]\n",
    "g = (str1 for str1 in f)\n",
    "o = i.isnumeric\n",
    "if i == o:\n",
    "    print (i)\n"
   ]
  },
  {
   "cell_type": "code",
   "execution_count": 33,
   "id": "4251ffae",
   "metadata": {},
   "outputs": [
    {
     "name": "stdout",
     "output_type": "stream",
     "text": [
      "Original Nested list:\n",
      "[[1, 2, 3], [2, 4, 5], [1, 1, 1]]\n",
      "After removing 1st column:\n",
      "[[2, 3], [4, 5], [1, 1]]\n",
      "\n",
      "Original Nested list:\n",
      "[[1, 2, 3], [-2, 4, -5], [1, -1, 1]]\n",
      "After removing 3rd column:\n",
      "[[1, 2], [-2, 4], [1, -1]]\n"
     ]
    }
   ],
   "source": [
    "def remove_column(nums, n):\n",
    "   for i in nums: \n",
    "    del i[n] \n",
    "   return nums\n",
    "\n",
    "list1 = [[1, 2, 3], [2, 4, 5], [1, 1, 1]]\n",
    "n = 0\n",
    "print(\"Original Nested list:\")\n",
    "print(list1)\n",
    "print(\"After removing 1st column:\")\n",
    "print(remove_column(list1, n))\n",
    "\n",
    "list2 = [[1, 2, 3], [-2, 4, -5], [1, -1, 1]]\n",
    "n = 2\n",
    "print(\"\\nOriginal Nested list:\")\n",
    "print(list2)\n",
    "print(\"After removing 3rd column:\")\n",
    "print(remove_column(list2, n))\n"
   ]
  },
  {
   "cell_type": "code",
   "execution_count": 36,
   "id": "231251e4",
   "metadata": {},
   "outputs": [],
   "source": [
    "g = [[1, 2, 3], [2, 4, 5], [1, 1, 1]]\n",
    "def gh(g ,h):\n",
    "    for i in g:\n",
    "        f = i[h]\n",
    "        return g\n"
   ]
  },
  {
   "cell_type": "code",
   "execution_count": 37,
   "id": "313b5f98",
   "metadata": {},
   "outputs": [],
   "source": [
    "f = [1, 2, 3, 4, 5, 6, 7, 8, 9, 10]\n",
    "def g(f):\n",
    "    f = (i for i in f )\n",
    "    return (i[:3])"
   ]
  },
  {
   "cell_type": "code",
   "execution_count": 4,
   "id": "d3e56f12",
   "metadata": {},
   "outputs": [
    {
     "ename": "TypeError",
     "evalue": "'int' object is not iterable",
     "output_type": "error",
     "traceback": [
      "\u001b[1;31m---------------------------------------------------------------------------\u001b[0m",
      "\u001b[1;31mTypeError\u001b[0m                                 Traceback (most recent call last)",
      "\u001b[1;32m~\\AppData\\Local\\Temp/ipykernel_788/834967389.py\u001b[0m in \u001b[0;36m<module>\u001b[1;34m\u001b[0m\n\u001b[0;32m      1\u001b[0m \u001b[0md\u001b[0m \u001b[1;33m=\u001b[0m \u001b[1;33m[\u001b[0m\u001b[1;36m2\u001b[0m\u001b[1;33m,\u001b[0m \u001b[1;36m3\u001b[0m\u001b[1;33m,\u001b[0m \u001b[1;36m8\u001b[0m\u001b[1;33m,\u001b[0m \u001b[1;36m4\u001b[0m\u001b[1;33m,\u001b[0m \u001b[1;36m7\u001b[0m\u001b[1;33m,\u001b[0m \u001b[1;36m9\u001b[0m\u001b[1;33m,\u001b[0m \u001b[1;36m8\u001b[0m\u001b[1;33m,\u001b[0m \u001b[1;36m2\u001b[0m\u001b[1;33m,\u001b[0m \u001b[1;36m6\u001b[0m\u001b[1;33m,\u001b[0m \u001b[1;36m5\u001b[0m\u001b[1;33m,\u001b[0m \u001b[1;36m1\u001b[0m\u001b[1;33m,\u001b[0m \u001b[1;36m6\u001b[0m\u001b[1;33m,\u001b[0m \u001b[1;36m1\u001b[0m\u001b[1;33m,\u001b[0m \u001b[1;36m2\u001b[0m\u001b[1;33m,\u001b[0m \u001b[1;36m3\u001b[0m\u001b[1;33m,\u001b[0m \u001b[1;36m4\u001b[0m\u001b[1;33m,\u001b[0m \u001b[1;36m6\u001b[0m\u001b[1;33m,\u001b[0m \u001b[1;36m9\u001b[0m\u001b[1;33m,\u001b[0m \u001b[1;36m1\u001b[0m\u001b[1;33m,\u001b[0m \u001b[1;36m2\u001b[0m\u001b[1;33m]\u001b[0m\u001b[1;33m\u001b[0m\u001b[1;33m\u001b[0m\u001b[0m\n\u001b[0;32m      2\u001b[0m \u001b[1;32mfor\u001b[0m \u001b[0mi\u001b[0m \u001b[1;32min\u001b[0m \u001b[0md\u001b[0m\u001b[1;33m:\u001b[0m\u001b[1;33m\u001b[0m\u001b[1;33m\u001b[0m\u001b[0m\n\u001b[1;32m----> 3\u001b[1;33m     \u001b[0mprint\u001b[0m \u001b[1;33m(\u001b[0m\u001b[0mmax\u001b[0m\u001b[1;33m(\u001b[0m\u001b[0md\u001b[0m\u001b[1;33m.\u001b[0m\u001b[0mcount\u001b[0m\u001b[1;33m(\u001b[0m\u001b[0mi\u001b[0m\u001b[1;33m)\u001b[0m\u001b[1;33m)\u001b[0m\u001b[1;33m)\u001b[0m\u001b[1;33m\u001b[0m\u001b[1;33m\u001b[0m\u001b[0m\n\u001b[0m",
      "\u001b[1;31mTypeError\u001b[0m: 'int' object is not iterable"
     ]
    }
   ],
   "source": [
    "d = [2, 3, 8, 4, 7, 9, 8, 2, 6, 5, 1, 6, 1, 2, 3, 4, 6, 9, 1, 2]\n",
    "for i in d:\n",
    "    print (max(d.count(i)))\n"
   ]
  },
  {
   "cell_type": "code",
   "execution_count": 6,
   "id": "2b88fdfe",
   "metadata": {},
   "outputs": [],
   "source": [
    "d = [2, 3, 8, 4, 7, 9, 8, 2, 6, 5, 1, 6, 1, 2, 3, 4, 6, 9, 1, 2]\n",
    "def gh(d, n):\n",
    "    re = (i.pop(n) for i in d)\n",
    "    return re\n"
   ]
  },
  {
   "cell_type": "code",
   "execution_count": 7,
   "id": "8389111c",
   "metadata": {},
   "outputs": [
    {
     "name": "stdout",
     "output_type": "stream",
     "text": [
      "<generator object gh.<locals>.<genexpr> at 0x000001CF95A73270>\n"
     ]
    }
   ],
   "source": [
    "print (gh( [2, 3, 8, 4, 7, 9, 8, 2, 6, 5, 1, 6, 1, 2, 3, 4, 6, 9, 1, 2], 9))"
   ]
  },
  {
   "cell_type": "code",
   "execution_count": 8,
   "id": "ddee82cc",
   "metadata": {},
   "outputs": [],
   "source": [
    "f = [1, 2, 4, 6, 8, 10, 12, 14, 16, 17]\n",
    "def so(f):\n",
    "    if f == (sorted(f)):\n",
    "        print ('sorted')"
   ]
  },
  {
   "cell_type": "code",
   "execution_count": 11,
   "id": "5129e34f",
   "metadata": {},
   "outputs": [],
   "source": [
    "d = [('Greyson Fulton', 98, 99), ('Brady Kent', 97, 96), ('Wyatt Knott', 91, 94), ('Beau Turnbull', 94, 98)]\n",
    "def df(d,y):\n",
    "    re = (i.pop(y) for str1, i in d)\n",
    "    return re\n",
    "d = [('Greyson Fulton', 98, 99), ('Brady Kent', 97, 96), ('Wyatt Knott', 91, 94), ('Beau Turnbull', 94, 98)]\n",
    "y = 4"
   ]
  },
  {
   "cell_type": "code",
   "execution_count": 14,
   "id": "cfcbbebd",
   "metadata": {},
   "outputs": [],
   "source": [
    "d = [1, 2, 4, 6, 8, 2, 1, 4, 10, 12, 14, 12, 16, 17]\n",
    "for i in d:\n",
    "    if i not in d:\n",
    "        print ('True')\n"
   ]
  },
  {
   "cell_type": "code",
   "execution_count": 15,
   "id": "0494dbc9",
   "metadata": {},
   "outputs": [
    {
     "name": "stdout",
     "output_type": "stream",
     "text": [
      "[('Beau Turnbull', 94, 98), ('Brady Kent', 97, 96), ('Greyson Fulton', 98, 99), ('Wyatt Knott', 91, 94)]\n"
     ]
    }
   ],
   "source": [
    "d = [('Greyson Fulton', 98, 99), ('Brady Kent', 97, 96), ('Wyatt Knott', 91, 94), ('Beau Turnbull', 94, 98)]\n",
    "print (sorted(d))"
   ]
  },
  {
   "cell_type": "code",
   "execution_count": 17,
   "id": "73fbfd1d",
   "metadata": {},
   "outputs": [
    {
     "name": "stdout",
     "output_type": "stream",
     "text": [
      "asdfg\n",
      "asdfg\n",
      "asdfg\n",
      "asdfg\n",
      "asdfg\n",
      "asdfg\n",
      "asdfg\n",
      "asdfg\n",
      "asdfg\n",
      "asdfg\n"
     ]
    }
   ],
   "source": [
    "list1 = [1, 2, 3, 4, 5, 6, 7, 8, 9, 10]\n",
    "list2 = [2, 4, 6, 8]\n",
    "for i in list1:\n",
    "    if i in list1:\n",
    "        print ('asdfg')"
   ]
  },
  {
   "cell_type": "code",
   "execution_count": 2,
   "id": "bdc62c9d",
   "metadata": {},
   "outputs": [
    {
     "ename": "NameError",
     "evalue": "name 'i' is not defined",
     "output_type": "error",
     "traceback": [
      "\u001b[1;31m---------------------------------------------------------------------------\u001b[0m",
      "\u001b[1;31mNameError\u001b[0m                                 Traceback (most recent call last)",
      "\u001b[1;32m~\\AppData\\Local\\Temp/ipykernel_12088/2260721181.py\u001b[0m in \u001b[0;36m<module>\u001b[1;34m\u001b[0m\n\u001b[0;32m      7\u001b[0m \u001b[0ms\u001b[0m \u001b[1;33m=\u001b[0m \u001b[1;33m[\u001b[0m\u001b[1;36m1\u001b[0m\u001b[1;33m,\u001b[0m \u001b[1;36m2\u001b[0m\u001b[1;33m,\u001b[0m \u001b[1;36m3\u001b[0m\u001b[1;33m,\u001b[0m \u001b[1;36m4\u001b[0m\u001b[1;33m,\u001b[0m \u001b[1;36m5\u001b[0m\u001b[1;33m,\u001b[0m \u001b[1;36m6\u001b[0m\u001b[1;33m,\u001b[0m \u001b[1;36m7\u001b[0m\u001b[1;33m,\u001b[0m \u001b[1;36m8\u001b[0m\u001b[1;33m,\u001b[0m \u001b[1;36m9\u001b[0m\u001b[1;33m,\u001b[0m \u001b[1;36m10\u001b[0m\u001b[1;33m]\u001b[0m\u001b[1;33m\u001b[0m\u001b[1;33m\u001b[0m\u001b[0m\n\u001b[0;32m      8\u001b[0m \u001b[0mn\u001b[0m \u001b[1;33m=\u001b[0m \u001b[1;36m9\u001b[0m\u001b[1;33m\u001b[0m\u001b[1;33m\u001b[0m\u001b[0m\n\u001b[1;32m----> 9\u001b[1;33m \u001b[0mprint\u001b[0m \u001b[1;33m(\u001b[0m\u001b[0mfg\u001b[0m\u001b[1;33m(\u001b[0m\u001b[0ms\u001b[0m\u001b[1;33m,\u001b[0m\u001b[0mn\u001b[0m\u001b[1;33m)\u001b[0m\u001b[1;33m)\u001b[0m\u001b[1;33m\u001b[0m\u001b[1;33m\u001b[0m\u001b[0m\n\u001b[0m",
      "\u001b[1;32m~\\AppData\\Local\\Temp/ipykernel_12088/2260721181.py\u001b[0m in \u001b[0;36mfg\u001b[1;34m(s, n)\u001b[0m\n\u001b[0;32m      4\u001b[0m     \u001b[0mn\u001b[0m \u001b[1;33m=\u001b[0m \u001b[1;36m9\u001b[0m\u001b[1;33m\u001b[0m\u001b[1;33m\u001b[0m\u001b[0m\n\u001b[0;32m      5\u001b[0m     \u001b[0mresult\u001b[0m \u001b[1;33m=\u001b[0m \u001b[1;33m(\u001b[0m\u001b[0mi\u001b[0m \u001b[1;32mfor\u001b[0m \u001b[0mi\u001b[0m \u001b[1;32min\u001b[0m \u001b[0ms\u001b[0m \u001b[1;33m)\u001b[0m\u001b[1;33m\u001b[0m\u001b[1;33m\u001b[0m\u001b[0m\n\u001b[1;32m----> 6\u001b[1;33m     \u001b[1;32mreturn\u001b[0m \u001b[0mn\u001b[0m\u001b[1;33m+\u001b[0m\u001b[0mi\u001b[0m\u001b[1;33m[\u001b[0m\u001b[1;36m1\u001b[0m\u001b[1;33m]\u001b[0m\u001b[1;33m-\u001b[0m \u001b[0mn\u001b[0m\u001b[1;33m\u001b[0m\u001b[1;33m\u001b[0m\u001b[0m\n\u001b[0m\u001b[0;32m      7\u001b[0m \u001b[0ms\u001b[0m \u001b[1;33m=\u001b[0m \u001b[1;33m[\u001b[0m\u001b[1;36m1\u001b[0m\u001b[1;33m,\u001b[0m \u001b[1;36m2\u001b[0m\u001b[1;33m,\u001b[0m \u001b[1;36m3\u001b[0m\u001b[1;33m,\u001b[0m \u001b[1;36m4\u001b[0m\u001b[1;33m,\u001b[0m \u001b[1;36m5\u001b[0m\u001b[1;33m,\u001b[0m \u001b[1;36m6\u001b[0m\u001b[1;33m,\u001b[0m \u001b[1;36m7\u001b[0m\u001b[1;33m,\u001b[0m \u001b[1;36m8\u001b[0m\u001b[1;33m,\u001b[0m \u001b[1;36m9\u001b[0m\u001b[1;33m,\u001b[0m \u001b[1;36m10\u001b[0m\u001b[1;33m]\u001b[0m\u001b[1;33m\u001b[0m\u001b[1;33m\u001b[0m\u001b[0m\n\u001b[0;32m      8\u001b[0m \u001b[0mn\u001b[0m \u001b[1;33m=\u001b[0m \u001b[1;36m9\u001b[0m\u001b[1;33m\u001b[0m\u001b[1;33m\u001b[0m\u001b[0m\n",
      "\u001b[1;31mNameError\u001b[0m: name 'i' is not defined"
     ]
    }
   ],
   "source": [
    "s = [1, 2, 3, 4, 5, 6, 7, 8, 9, 10]\n",
    "\n",
    "def fg(s,n):\n",
    "    n = 9\n",
    "    result = (i for i in s )\n",
    "    return n+i[1]- n\n",
    "s = [1, 2, 3, 4, 5, 6, 7, 8, 9, 10]\n",
    "n = 9\n",
    "print (fg(s,n))"
   ]
  },
  {
   "cell_type": "code",
   "execution_count": 3,
   "id": "14896043",
   "metadata": {},
   "outputs": [],
   "source": [
    "d = ['red', 'black', 'white', 'green', 'orange']\n",
    "for str1 in d:\n",
    "    f = 'dfg'\n",
    "    if f in d:\n",
    "        print ('true')\n"
   ]
  },
  {
   "cell_type": "code",
   "execution_count": 13,
   "id": "51cf3606",
   "metadata": {},
   "outputs": [
    {
     "name": "stdout",
     "output_type": "stream",
     "text": [
      "['red', 'white', 'orange']\n"
     ]
    }
   ],
   "source": [
    "gh = ['red', 'black', 'white', 'green', 'orange']\n",
    "print (gh[::2])"
   ]
  },
  {
   "cell_type": "code",
   "execution_count": 18,
   "id": "019b840c",
   "metadata": {},
   "outputs": [],
   "source": [
    "dg = [[12, 18, 23, 25, 45], [7, 12, 18, 24, 28], [1, 5, 8, 12, 15, 16, 18]]\n",
    "for i in dg:\n",
    "    if i not in dg:\n",
    "        print (i)"
   ]
  },
  {
   "cell_type": "code",
   "execution_count": 28,
   "id": "358eee88",
   "metadata": {},
   "outputs": [
    {
     "name": "stdout",
     "output_type": "stream",
     "text": [
      "deR\n",
      "neerG\n",
      "eulB\n",
      "etihW\n",
      "kcalB\n"
     ]
    }
   ],
   "source": [
    "p = ['Red', 'Green', 'Blue', 'White', 'Black']\n",
    "for i in p:\n",
    "    print (i[::-1])\n"
   ]
  },
  {
   "cell_type": "code",
   "execution_count": 33,
   "id": "ce134c38",
   "metadata": {},
   "outputs": [],
   "source": [
    "Original = [10, 20, 30, 40, 20, 50, 60, 40]\n",
    "for i in Original:\n",
    "    if i not in Original:\n",
    "        print (i*i)\n",
    "Original = [10, 20, 30, 40, 20, 50, 60, 40]\n"
   ]
  },
  {
   "cell_type": "code",
   "execution_count": 34,
   "id": "f5ccdb0a",
   "metadata": {},
   "outputs": [
    {
     "name": "stdout",
     "output_type": "stream",
     "text": [
      "Original list:\n",
      "list1: [1, 2, 3, 4, 5, 6, 7]\n",
      "list2: [10, 20, 30, 40, 50, 60, 70]\n",
      "list3: [100, 200, 300, 400, 500, 600, 700]\n",
      "\n",
      "Interleave multiple lists:\n",
      "[1, 10, 100, 2, 20, 200, 3, 30, 300, 4, 40, 400, 5, 50, 500, 6, 60, 600, 7, 70, 700]\n"
     ]
    }
   ],
   "source": [
    "def interleave_multiple_lists(list1,list2,list3):\n",
    "    result = [el for pair in zip(list1, list2, list3) for el in pair]\n",
    "    return result\n",
    "     \n",
    "list1 = [1,2,3,4,5,6,7]\n",
    "list2 = [10,20,30,40,50,60,70]\n",
    "list3 = [100,200,300,400,500,600,700]\n",
    "print(\"Original list:\")\n",
    "print(\"list1:\",list1)\n",
    "print(\"list2:\",list2)\n",
    "print(\"list3:\",list3)\n",
    "print(\"\\nInterleave multiple lists:\")\n",
    "print(interleave_multiple_lists(list1,list2,list3))\n"
   ]
  },
  {
   "cell_type": "code",
   "execution_count": 36,
   "id": "eaead7d5",
   "metadata": {},
   "outputs": [
    {
     "name": "stdout",
     "output_type": "stream",
     "text": [
      "['Red color', 'Orange#', 'Green', 'Orange @', 'White']\n"
     ]
    }
   ],
   "source": [
    "list1 =  ['Red color', 'Orange#', 'Green', 'Orange @', 'White']\n",
    "for i in list1:\n",
    "    f = '#@color'\n",
    "    if i == f:\n",
    "        print (list1.pop(i))\n",
    "print (list1)       "
   ]
  },
  {
   "cell_type": "code",
   "execution_count": 39,
   "id": "e60adee4",
   "metadata": {},
   "outputs": [
    {
     "name": "stdout",
     "output_type": "stream",
     "text": [
      "[4, 3, 2, 1]\n",
      "[8, 7, 6, 5]\n",
      "[12, 11, 10, 9]\n",
      "[16, 15, 14, 13]\n"
     ]
    }
   ],
   "source": [
    "y = [[1, 2, 3, 4], [5, 6, 7, 8], [9, 10, 11, 12], [13, 14, 15, 16]]\n",
    "for i in y:\n",
    "    print (i[::-1])\n"
   ]
  },
  {
   "cell_type": "code",
   "execution_count": 41,
   "id": "e53096e4",
   "metadata": {},
   "outputs": [
    {
     "name": "stdout",
     "output_type": "stream",
     "text": [
      "True\n"
     ]
    }
   ],
   "source": [
    "v = [1, 2, 3, 4, 5, 6, 7, 8]\n",
    "r =[2, 2, 3, 1, 2, 6, 7, 9]\n",
    "t = [2, 1, 3, 1, 2, 6, 7, 9]\n",
    "if len(v)==len(r)==len(t):\n",
    "    print ('True')\n",
    "    \n"
   ]
  },
  {
   "cell_type": "code",
   "execution_count": 8,
   "id": "f10d55d2",
   "metadata": {},
   "outputs": [],
   "source": [
    "Original = [10, 20, 30, 40, 20, 50, 60, 40]\n",
    "for i in Original:\n",
    "    if i not in Original:\n",
    "        print (i*i)\n",
    "              \n"
   ]
  },
  {
   "cell_type": "code",
   "execution_count": 11,
   "id": "2f2f85bd",
   "metadata": {},
   "outputs": [
    {
     "name": "stdout",
     "output_type": "stream",
     "text": [
      "[1, 2, 3, 4, 5, 6, 7, 10, 20, 30, 40, 50, 60, 70, 100, 200, 300, 400, 500, 600, 700]\n"
     ]
    }
   ],
   "source": [
    "list1 = [1, 2, 3, 4, 5, 6, 7]\n",
    "list2 = [10, 20, 30, 40, 50, 60, 70]\n",
    "list3 = [100, 200, 300, 400, 500, 600, 700]\n",
    "\n",
    "print (list1+list2+list3)\n"
   ]
  },
  {
   "cell_type": "code",
   "execution_count": 21,
   "id": "47447933",
   "metadata": {},
   "outputs": [
    {
     "ename": "NameError",
     "evalue": "name 'str1' is not defined",
     "output_type": "error",
     "traceback": [
      "\u001b[1;31m---------------------------------------------------------------------------\u001b[0m",
      "\u001b[1;31mNameError\u001b[0m                                 Traceback (most recent call last)",
      "\u001b[1;32m~\\AppData\\Local\\Temp/ipykernel_15088/3662743388.py\u001b[0m in \u001b[0;36m<module>\u001b[1;34m\u001b[0m\n\u001b[0;32m      1\u001b[0m \u001b[0mg\u001b[0m \u001b[1;33m=\u001b[0m \u001b[1;33m[\u001b[0m\u001b[1;34m'Python'\u001b[0m\u001b[1;33m,\u001b[0m \u001b[1;34m'Exercises'\u001b[0m\u001b[1;33m,\u001b[0m \u001b[1;34m'Practice'\u001b[0m\u001b[1;33m,\u001b[0m \u001b[1;34m'Solution'\u001b[0m\u001b[1;33m,\u001b[0m \u001b[1;34m'Exercises'\u001b[0m\u001b[1;33m]\u001b[0m\u001b[1;33m\u001b[0m\u001b[1;33m\u001b[0m\u001b[0m\n\u001b[0;32m      2\u001b[0m \u001b[0md\u001b[0m \u001b[1;33m=\u001b[0m \u001b[1;33m(\u001b[0m\u001b[0mstr1\u001b[0m \u001b[1;32mfor\u001b[0m \u001b[0mstr1\u001b[0m \u001b[1;32min\u001b[0m \u001b[0mg\u001b[0m \u001b[1;32mif\u001b[0m \u001b[0mstr1\u001b[0m \u001b[1;32mnot\u001b[0m \u001b[1;32min\u001b[0m \u001b[0mg\u001b[0m\u001b[1;33m)\u001b[0m\u001b[1;33m\u001b[0m\u001b[1;33m\u001b[0m\u001b[0m\n\u001b[1;32m----> 3\u001b[1;33m \u001b[0mprint\u001b[0m  \u001b[1;33m(\u001b[0m\u001b[0mstr1\u001b[0m\u001b[1;33m)\u001b[0m\u001b[1;33m\u001b[0m\u001b[1;33m\u001b[0m\u001b[0m\n\u001b[0m",
      "\u001b[1;31mNameError\u001b[0m: name 'str1' is not defined"
     ]
    }
   ],
   "source": [
    "g = ['Python', 'Exercises', 'Practice', 'Solution', 'Exercises']\n",
    "d = (str1 for str1 in g if str1 not in g)\n",
    "print  (str1)"
   ]
  },
  {
   "cell_type": "code",
   "execution_count": 26,
   "id": "2fba8f3c",
   "metadata": {},
   "outputs": [
    {
     "name": "stdout",
     "output_type": "stream",
     "text": [
      "Original list:\n",
      "[19, 'red', 12, 'green', 'blue', 10, 'white', 'green', 1]\n",
      "\n",
      "Sort the said  mixed list of integers and strings:\n",
      "[1, 10, 12, 19, 'blue', 'green', 'green', 'red', 'white']\n"
     ]
    }
   ],
   "source": [
    "def sort_mixed_list(mixed_list):\n",
    "    int_part = sorted([i for i in mixed_list if type(i) is int])\n",
    "    str_part = sorted([i for i in mixed_list if type(i) is str])\n",
    "    return int_part + str_part\n",
    "mixed_list = [19,'red',12,'green','blue', 10,'white','green',1]\n",
    "print(\"Original list:\")\n",
    "print(mixed_list)\n",
    "print(\"\\nSort the said  mixed list of integers and strings:\")\n",
    "print(sort_mixed_list(mixed_list))\n"
   ]
  },
  {
   "cell_type": "code",
   "execution_count": 45,
   "id": "2d6ebd6f",
   "metadata": {},
   "outputs": [
    {
     "name": "stdout",
     "output_type": "stream",
     "text": [
      "None\n"
     ]
    }
   ],
   "source": [
    "v = ['4', '12', '45', '7', '0', '100', '200', '-12', '-500']\n",
    "f = [int(i)  for i in v]\n",
    "print (f.sort())"
   ]
  },
  {
   "cell_type": "code",
   "execution_count": 46,
   "id": "e0cde29c",
   "metadata": {},
   "outputs": [
    {
     "name": "stdout",
     "output_type": "stream",
     "text": [
      "None\n"
     ]
    }
   ],
   "source": [
    "v = ['4', '12', '45', '7', '0', '100', '200', '-12', '-500']\n",
    "f = v.sort(key = int)\n",
    "print (f)"
   ]
  },
  {
   "cell_type": "code",
   "execution_count": 53,
   "id": "a4212b1d",
   "metadata": {},
   "outputs": [
    {
     "name": "stdout",
     "output_type": "stream",
     "text": [
      "[]\n",
      "[]\n",
      "[]\n",
      "[]\n",
      "[]\n",
      "None\n"
     ]
    }
   ],
   "source": [
    "x = [[], [], [], 'Red', 'Green', [1, 2], 'Blue', [], []]\n",
    "def che(x):\n",
    "    f = []\n",
    "    for i in x:\n",
    "        if i == f:\n",
    "            print (i)\n",
    "x = [[], [], [], 'Red', 'Green', [1, 2], 'Blue', [], []]\n",
    "print (che(x))"
   ]
  },
  {
   "cell_type": "code",
   "execution_count": 1,
   "id": "58ea1b35",
   "metadata": {},
   "outputs": [
    {
     "name": "stdout",
     "output_type": "stream",
     "text": [
      "8\n",
      "17\n",
      "29\n"
     ]
    }
   ],
   "source": [
    "d = [[1, 2, 3, 2], [4, 5, 6, 2], [7, 8, 9, 5]]\n",
    "for i in d:\n",
    "    print (sum(i))\n"
   ]
  },
  {
   "cell_type": "code",
   "execution_count": 12,
   "id": "c3c953ee",
   "metadata": {},
   "outputs": [
    {
     "name": "stdout",
     "output_type": "stream",
     "text": [
      "[1]\n",
      "[4]\n",
      "[7]\n"
     ]
    }
   ],
   "source": [
    "d = [[1, 2, 3, 2], [4, 5, 6, 2], [7, 1, 9, 5]]\n",
    "for i in d:\n",
    "    print (i[:1])\n"
   ]
  },
  {
   "cell_type": "code",
   "execution_count": 13,
   "id": "1e74d71f",
   "metadata": {},
   "outputs": [],
   "source": [
    "def gen(d):\n",
    "    for d in range(1,10):\n",
    "        if d == 2 or 9 or 10:\n",
    "            break"
   ]
  },
  {
   "cell_type": "code",
   "execution_count": 14,
   "id": "7967cfc7",
   "metadata": {},
   "outputs": [
    {
     "name": "stdout",
     "output_type": "stream",
     "text": [
      "None\n"
     ]
    }
   ],
   "source": [
    "print (gen(10))"
   ]
  },
  {
   "cell_type": "code",
   "execution_count": 25,
   "id": "999445c0",
   "metadata": {},
   "outputs": [
    {
     "name": "stdout",
     "output_type": "stream",
     "text": [
      "Original list:\n",
      "['red', 'green', 'blue', 'white', 'black', 'orange']\n",
      "\n",
      "Remove words:\n",
      "['white', 'orange']\n",
      "\n",
      "After removing the specified words from the said list:\n",
      "['red', 'green', 'blue', 'black']\n"
     ]
    }
   ],
   "source": [
    "def remove_words(list1, remove_words):\n",
    "    for word in list(list1):\n",
    "        if word in remove_words:\n",
    "            list1.remove(word)\n",
    "    return list1        \n",
    "colors = ['red', 'green', 'blue', 'white', 'black', 'orange']\n",
    "remove_colors = ['white', 'orange']\n",
    "print(\"Original list:\")\n",
    "print(colors)\n",
    "print(\"\\nRemove words:\")\n",
    "print(remove_colors)\n",
    "print(\"\\nAfter removing the specified words from the said list:\")\n",
    "print(remove_words(colors, remove_colors))\n"
   ]
  },
  {
   "cell_type": "code",
   "execution_count": 27,
   "id": "1cf6da55",
   "metadata": {},
   "outputs": [
    {
     "name": "stdout",
     "output_type": "stream",
     "text": [
      "[['white', 'black', 'pink'], ['green', 'blue'], ['orange', 'red']]\n"
     ]
    }
   ],
   "source": [
    "d = [['orange', 'red'], ['green', 'blue'], ['white', 'black', 'pink']]\n",
    "print (d[::-1])"
   ]
  },
  {
   "cell_type": "code",
   "execution_count": 28,
   "id": "33631368",
   "metadata": {},
   "outputs": [
    {
     "name": "stdout",
     "output_type": "stream",
     "text": [
      "[0, 1, 2, 3, 4, 5, 6, 7, 8, 9, 10, 11]\n"
     ]
    }
   ],
   "source": [
    "d =[1, 3, 5, 7, 9, 11]\n",
    "u = [0, 2, 4, 6, 8, 10]\n",
    "print (sorted(d+u))\n"
   ]
  },
  {
   "cell_type": "code",
   "execution_count": 29,
   "id": "5ceada3d",
   "metadata": {},
   "outputs": [
    {
     "name": "stdout",
     "output_type": "stream",
     "text": [
      "Counter({'A': 3})\n"
     ]
    }
   ],
   "source": [
    "from collections import Counter \n",
    "g = [0, 1, 3, 5, 0, 3, 4, 5, 0, 8, 0, 3, 6, 0, 3, 1, 1, 0]\n",
    "print (Counter(A=3))\n"
   ]
  },
  {
   "cell_type": "code",
   "execution_count": 32,
   "id": "d5d2c4df",
   "metadata": {},
   "outputs": [
    {
     "name": "stdout",
     "output_type": "stream",
     "text": [
      "<zip object at 0x000001821259F640>\n"
     ]
    }
   ],
   "source": [
    "d = [[10, 20], [30, 40], [50, 60], [30, 20, 80]]\n",
    "c =[[61], [12, 14, 15], [12, 13, 19, 20], [12]]\n",
    "print (zip(d,c))\n"
   ]
  },
  {
   "cell_type": "code",
   "execution_count": 37,
   "id": "29d3860d",
   "metadata": {},
   "outputs": [],
   "source": [
    "r = [('V', 60), ('VI', 70), ('VII', 75), ('VIII', 72), ('IX', 78), ('X', 70)]\n",
    "def g (r):\n",
    "    for i in r:\n",
    "        if i == i.isnumeric():\n",
    "            print (max(i) and min(i))\n",
    "r = [('V', 60), ('VI', 70), ('VII', 75), ('VIII', 72), ('IX', 78), ('X', 70)]\n",
    "#print (g(r))"
   ]
  },
  {
   "cell_type": "code",
   "execution_count": 43,
   "id": "249fab56",
   "metadata": {},
   "outputs": [
    {
     "name": "stdout",
     "output_type": "stream",
     "text": [
      "Add a value(7), 5 times, to a list:\n",
      "['7', '7', '7', '7', '7']\n"
     ]
    }
   ],
   "source": [
    "print(\"Add a value(7), 5 times, to a list:\")\n",
    "nums = []\n",
    "nums += 5 * ['7']\n",
    "print(nums)\n"
   ]
  },
  {
   "cell_type": "code",
   "execution_count": 44,
   "id": "12c6a22c",
   "metadata": {},
   "outputs": [
    {
     "name": "stdout",
     "output_type": "stream",
     "text": [
      "('orange', 'red', 'green')\n",
      "('orange', 'red', 'blue')\n",
      "('orange', 'green', 'blue')\n",
      "('red', 'green', 'blue')\n"
     ]
    }
   ],
   "source": [
    "f = ['orange', 'red', 'green', 'blue']\n",
    "from itertools import combinations\n",
    "fg = combinations( ['orange', 'red', 'green', 'blue'] , 3)\n",
    "for  i in fg:\n",
    "    print (i)\n"
   ]
  },
  {
   "cell_type": "code",
   "execution_count": 46,
   "id": "af1e92ac",
   "metadata": {},
   "outputs": [
    {
     "name": "stdout",
     "output_type": "stream",
     "text": [
      "<zip object at 0x0000018212689280>\n"
     ]
    }
   ],
   "source": [
    "a = [[10, 20], [30, 40], [50, 60], [30, 20, 80]]\n",
    "b = [[61], [12, 14, 15], [12, 13, 19, 20], [12]]\n",
    "d = zip(a,b)\n",
    "print (d)\n"
   ]
  },
  {
   "cell_type": "code",
   "execution_count": 49,
   "id": "f55423e3",
   "metadata": {},
   "outputs": [
    {
     "ename": "SyntaxError",
     "evalue": "'return' outside function (Temp/ipykernel_8888/1722598423.py, line 5)",
     "output_type": "error",
     "traceback": [
      "\u001b[1;36m  File \u001b[1;32m\"C:\\Users\\win10\\AppData\\Local\\Temp/ipykernel_8888/1722598423.py\"\u001b[1;36m, line \u001b[1;32m5\u001b[0m\n\u001b[1;33m    return (f.append(i))\u001b[0m\n\u001b[1;37m    ^\u001b[0m\n\u001b[1;31mSyntaxError\u001b[0m\u001b[1;31m:\u001b[0m 'return' outside function\n"
     ]
    }
   ],
   "source": [
    "x = [3,10,4,7,5,7,8,3,3,4,5,9,3,4,9,8,5]\n",
    "for  i in x:\n",
    "    f = []\n",
    "    if i %2 == 0:\n",
    "        return (f.append(i))\n",
    "    \n"
   ]
  },
  {
   "cell_type": "code",
   "execution_count": 52,
   "id": "95359c0e",
   "metadata": {},
   "outputs": [
    {
     "name": "stdout",
     "output_type": "stream",
     "text": [
      "1\n",
      "1\n",
      "1\n",
      "1\n",
      "1\n"
     ]
    }
   ],
   "source": [
    "d = [12, 45, 23, 67, 78, 90, 45, 32, 100, 76, 38, 62, 73, 29, 83]\n",
    "for i in d:\n",
    "    if i %  2 == 0 and i> 45:\n",
    "        print (d.count(i))\n"
   ]
  },
  {
   "cell_type": "code",
   "execution_count": 6,
   "id": "54f8dab2",
   "metadata": {},
   "outputs": [
    {
     "name": "stdout",
     "output_type": "stream",
     "text": [
      "5\n",
      "6\n",
      "12\n",
      "None\n"
     ]
    }
   ],
   "source": [
    "f = [12, 45, 23, 67, 78, 90, 100, 76, 38, 62, 73, 29, 83]\n",
    "def cheak(f,g):\n",
    "    for i in f:\n",
    "        o = f.index(i)\n",
    "        if i > 78:\n",
    "            print (o)\n",
    "f = [12, 45, 23, 67, 78, 90, 100, 76, 38, 62, 73, 29, 83]\n",
    "g = 67      \n",
    "print (cheak(f,g))"
   ]
  },
  {
   "cell_type": "code",
   "execution_count": 9,
   "id": "26a030b3",
   "metadata": {},
   "outputs": [
    {
     "name": "stdout",
     "output_type": "stream",
     "text": [
      "1\n",
      "1\n",
      "1\n",
      "1\n",
      "1\n",
      "None\n"
     ]
    }
   ],
   "source": [
    "d = [12, 45, 23, 67, 78, 90, 45, 32, 100, 76, 38, 62, 73, 29, 83]\n",
    "def cheak(d):\n",
    "    for i in d:\n",
    "        f = d.count(i)\n",
    "        if i%2 == 0 and i > 45:\n",
    "            print (f)\n",
    "d = [12, 45, 23, 67, 78, 90, 45, 32, 100, 76, 38, 62, 73, 29, 83]\n",
    "print (cheak(d))          \n"
   ]
  },
  {
   "cell_type": "code",
   "execution_count": 15,
   "id": "0b39fef5",
   "metadata": {},
   "outputs": [
    {
     "ename": "AttributeError",
     "evalue": "'list' object has no attribute 'split'",
     "output_type": "error",
     "traceback": [
      "\u001b[1;31m---------------------------------------------------------------------------\u001b[0m",
      "\u001b[1;31mAttributeError\u001b[0m                            Traceback (most recent call last)",
      "\u001b[1;32m~\\AppData\\Local\\Temp/ipykernel_7056/3060597670.py\u001b[0m in \u001b[0;36m<module>\u001b[1;34m\u001b[0m\n\u001b[0;32m      1\u001b[0m \u001b[0mf\u001b[0m \u001b[1;33m=\u001b[0m \u001b[1;33m[\u001b[0m\u001b[1;34m'Red'\u001b[0m\u001b[1;33m,\u001b[0m \u001b[1;34m'Maroon'\u001b[0m\u001b[1;33m,\u001b[0m \u001b[1;34m'Yellow'\u001b[0m\u001b[1;33m,\u001b[0m \u001b[1;34m'Olive'\u001b[0m\u001b[1;33m]\u001b[0m\u001b[1;33m\u001b[0m\u001b[1;33m\u001b[0m\u001b[0m\n\u001b[1;32m----> 2\u001b[1;33m \u001b[0md\u001b[0m \u001b[1;33m=\u001b[0m \u001b[0mf\u001b[0m\u001b[1;33m.\u001b[0m\u001b[0msplit\u001b[0m\u001b[1;33m(\u001b[0m\u001b[1;34m\",\"\u001b[0m\u001b[1;33m)\u001b[0m\u001b[1;33m\u001b[0m\u001b[1;33m\u001b[0m\u001b[0m\n\u001b[0m\u001b[0;32m      3\u001b[0m \u001b[0mprint\u001b[0m\u001b[1;33m(\u001b[0m\u001b[0md\u001b[0m\u001b[1;33m)\u001b[0m\u001b[1;33m\u001b[0m\u001b[1;33m\u001b[0m\u001b[0m\n\u001b[0;32m      4\u001b[0m \u001b[1;33m\u001b[0m\u001b[0m\n",
      "\u001b[1;31mAttributeError\u001b[0m: 'list' object has no attribute 'split'"
     ]
    }
   ],
   "source": [
    "f = ['Red', 'Maroon', 'Yellow', 'Olive']\n",
    "d = f.split(\",\")\n",
    "print(d)\n",
    "\n"
   ]
  },
  {
   "cell_type": "code",
   "execution_count": 17,
   "id": "50e7edbc",
   "metadata": {},
   "outputs": [
    {
     "name": "stdout",
     "output_type": "stream",
     "text": [
      "a\n",
      "b\n",
      "c\n",
      "d\n",
      "e\n",
      "f\n"
     ]
    }
   ],
   "source": [
    "f = ['a', 'b', 'c', 'd', 'e', 'f']\n",
    "for i in f:\n",
    "    print (i)\n"
   ]
  },
  {
   "cell_type": "code",
   "execution_count": 18,
   "id": "dc56a3e5",
   "metadata": {},
   "outputs": [
    {
     "name": "stdout",
     "output_type": "stream",
     "text": [
      "[1, 2, 5]\n",
      "[4, 5, 8]\n",
      "[7, 3, 6]\n"
     ]
    }
   ],
   "source": [
    "d = [[1, 2, 5], [4, 5, 8], [7, 3, 6]]\n",
    "for i in d:\n",
    "    print (i)\n"
   ]
  },
  {
   "cell_type": "code",
   "execution_count": 29,
   "id": "ee09e496",
   "metadata": {},
   "outputs": [
    {
     "name": "stdout",
     "output_type": "stream",
     "text": [
      "[5, 3, 5]\n",
      "[5, 3, 5]\n",
      "[5, 3, 5]\n",
      "[5, 3, 5]\n",
      "[5, 3, 5]\n",
      "[5, 3, 5]\n",
      "[5, 3, 5]\n",
      "[5, 3, 5]\n",
      "[5, 3, 5]\n",
      "[5, 3, 5]\n",
      "[5, 3, 5]\n",
      "[5, 3, 5]\n",
      "[5, 3, 5]\n",
      "[5, 3, 5]\n",
      "[5, 3, 5]\n",
      "[5, 3, 5]\n"
     ]
    }
   ],
   "source": [
    "d = [2, 3, 9, 8, 2, 0, 39, 84, 2, 2, 34, 2, 34, 5, 3, 5]\n",
    "for i in d:\n",
    "    g = d[-3::]\n",
    "    print (g)\n"
   ]
  },
  {
   "cell_type": "code",
   "execution_count": 30,
   "id": "f65fa666",
   "metadata": {},
   "outputs": [
    {
     "name": "stdout",
     "output_type": "stream",
     "text": [
      "Original lists:\n",
      "[2, 3, 9, 8, 2, 0, 39, 84, 2, 2, 34, 2, 34, 5, 3, 5]\n",
      "\n",
      "Remove the last 3 elements from the said list:\n",
      "[2, 3, 9, 8, 2, 0, 39, 84, 2, 2, 34, 2, 34]\n",
      "\n",
      "Remove the last 5 elements from the said list:\n",
      "[2, 3, 9, 8, 2, 0, 39, 84, 2, 2, 34]\n",
      "\n",
      "Remove the last 1 element from the said list:\n",
      "[2, 3, 9, 8, 2, 0, 39, 84, 2, 2, 34, 2, 34, 5, 3]\n"
     ]
    }
   ],
   "source": [
    "def remove_last_n(nums, N):\n",
    "    result = nums[:len(nums)-N]\n",
    "    return result    \n",
    "nums = [2,3,9,8,2,0,39,84,2,2,34,2,34,5,3,5]\n",
    "print(\"Original lists:\")\n",
    "print(nums)\n",
    "N = 3\n",
    "print(\"\\nRemove the last\",N,\"elements from the said list:\")\n",
    "print(remove_last_n(nums, N))\n",
    "N = 5\n",
    "print(\"\\nRemove the last\",N,\"elements from the said list:\")\n",
    "print(remove_last_n(nums, N))\n",
    "N = 1\n",
    "print(\"\\nRemove the last\",N,\"element from the said list:\")\n",
    "print(remove_last_n(nums, N))\n"
   ]
  },
  {
   "cell_type": "code",
   "execution_count": 31,
   "id": "b2e77739",
   "metadata": {},
   "outputs": [
    {
     "name": "stdout",
     "output_type": "stream",
     "text": [
      "['a', 'b', 'cd', 'e', 'f', 'g']\n"
     ]
    }
   ],
   "source": [
    "d = ['a', 'b', 'c', 'd', 'e', 'f', 'g']\n",
    "d[2 : 4] = [''.join(d[2 : 4])]\n",
    "print (d)\n",
    "    \n"
   ]
  },
  {
   "cell_type": "code",
   "execution_count": 32,
   "id": "4a9d1702",
   "metadata": {},
   "outputs": [
    {
     "name": "stdout",
     "output_type": "stream",
     "text": [
      "6\n",
      "11\n",
      "12\n",
      "7\n",
      "8\n",
      "3\n",
      "8\n",
      "3\n",
      "6\n"
     ]
    }
   ],
   "source": [
    "u = [3, 8, 9, 4, 5, 0, 5, 0, 3]\n",
    "for i in u:\n",
    "    print (i+3)\n"
   ]
  },
  {
   "cell_type": "code",
   "execution_count": 33,
   "id": "e169dd63",
   "metadata": {},
   "outputs": [
    {
     "name": "stdout",
     "output_type": "stream",
     "text": [
      "3\n",
      "4\n",
      "6\n",
      "7\n"
     ]
    }
   ],
   "source": [
    "x = [(2, 3), (2, 4), (0, 6), (7, 1)]\n",
    "for i in x:\n",
    "    print (max(i))\n",
    "\n"
   ]
  },
  {
   "cell_type": "code",
   "execution_count": 34,
   "id": "8ef4a91e",
   "metadata": {},
   "outputs": [
    {
     "name": "stdout",
     "output_type": "stream",
     "text": [
      "Original list:\n",
      "[(2, 3), (2, 4), (0, 6), (7, 1)]\n",
      "\n",
      "Maximum value  for each tuple position in the said list of tuples:\n",
      "[7, 6]\n",
      "\n",
      "Minimum value  for each tuple position in the said list of tuples:\n",
      "[0, 1]\n"
     ]
    }
   ],
   "source": [
    "def max_min_list_tuples(nums):\n",
    "    zip(*nums)\n",
    "    result1 = map(max, zip(*nums))\n",
    "    result2 = map(min, zip(*nums))\n",
    "    return list(result1), list(result2)\n",
    "\n",
    "nums = [(2,3),(2,4),(0,6),(7,1)]\n",
    "print(\"Original list:\")\n",
    "print(nums)\n",
    "\n",
    "result = max_min_list_tuples(nums)\n",
    "print(\"\\nMaximum value  for each tuple position in the said list of tuples:\")\n",
    "print(result[0])\n",
    "print(\"\\nMinimum value  for each tuple position in the said list of tuples:\")\n",
    "print(result[1])\n"
   ]
  },
  {
   "cell_type": "code",
   "execution_count": 37,
   "id": "f2504bd8",
   "metadata": {},
   "outputs": [
    {
     "name": "stdout",
     "output_type": "stream",
     "text": [
      "1.0\n",
      "3.5\n",
      "2.3333333333333335\n",
      "1.75\n",
      "0.7777777777777778\n",
      "3.5\n",
      "2.3333333333333335\n",
      "0.2857142857142857\n",
      "1.0\n",
      "0.6666666666666666\n",
      "0.5\n",
      "0.2222222222222222\n",
      "1.0\n",
      "0.6666666666666666\n",
      "0.42857142857142855\n",
      "1.5\n",
      "1.0\n",
      "0.75\n",
      "0.3333333333333333\n",
      "1.5\n",
      "1.0\n",
      "0.5714285714285714\n",
      "2.0\n",
      "1.3333333333333333\n",
      "1.0\n",
      "0.4444444444444444\n",
      "2.0\n",
      "1.3333333333333333\n",
      "1.2857142857142858\n",
      "4.5\n",
      "3.0\n",
      "2.25\n",
      "1.0\n",
      "4.5\n",
      "3.0\n",
      "0.2857142857142857\n",
      "1.0\n",
      "0.6666666666666666\n",
      "0.5\n",
      "0.2222222222222222\n",
      "1.0\n",
      "0.6666666666666666\n",
      "0.42857142857142855\n",
      "1.5\n",
      "1.0\n",
      "0.75\n",
      "0.3333333333333333\n",
      "1.5\n",
      "1.0\n"
     ]
    }
   ],
   "source": [
    "g = [7, 2, 3, 4, 9, 2, 3]\n",
    "j = [7, 2, 3, 4, 9, 2, 3]\n",
    "for i in g:\n",
    "    for g in j:\n",
    "        print (i/g)\n"
   ]
  },
  {
   "cell_type": "code",
   "execution_count": 38,
   "id": "dfb15984",
   "metadata": {},
   "outputs": [
    {
     "name": "stdout",
     "output_type": "stream",
     "text": [
      "Original list:\n",
      "[7, 2, 3, 4, 9, 2, 3]\n",
      "[7, 2, 3, 4, 9, 2, 3]\n",
      "[0.7777777777777778, 0.25, 1.5, 1.3333333333333333, 3.0, 2.0, 1.5]\n"
     ]
    }
   ],
   "source": [
    "def dividing_two_lists(l1,l2):\n",
    "    result = [x/y for x, y in zip(l1,l2)]\n",
    "    return result \n",
    "nums1 = [7,2,3,4,9,2,3]\n",
    "nums2 = [9,8,2,3,3,1,2]\n",
    "print(\"Original list:\")\n",
    "print(nums1)\n",
    "print(nums1)\n",
    "print(dividing_two_lists(nums1, nums2))\n"
   ]
  },
  {
   "cell_type": "code",
   "execution_count": 42,
   "id": "128f65bb",
   "metadata": {},
   "outputs": [],
   "source": [
    "f = [1, 3, 5, 7, 9, 11, 0, 2, 4, 6, 8, 10, 8, 9, 0, 4, 3, 0]\n",
    "def sd(f):\n",
    "    for i in f:\n",
    "        d = 4\n",
    "        e =  f[2::]\n",
    "        print (f.insert(e , d))\n",
    "f = [1, 3, 5, 7, 9, 11, 0, 2, 4, 6, 8, 10, 8, 9, 0, 4, 3, 0]\n",
    "#print (sd(f))"
   ]
  },
  {
   "cell_type": "code",
   "execution_count": 46,
   "id": "add81b28",
   "metadata": {},
   "outputs": [
    {
     "name": "stdout",
     "output_type": "stream",
     "text": [
      "<map object at 0x0000021FA1B84880>\n"
     ]
    }
   ],
   "source": [
    "#d = [[1, 2, 3, 5], [2, 3, 5, 4], [0, 5, 4, 1], [3, 7, 2, 1], [1, 2, 1, 2]]\n",
    "def char(d):\n",
    "    zip(*d)\n",
    "    t = map(max , zip(*d))\n",
    "    return (t)\n",
    "d = [[1, 2, 3, 5], [2, 3, 5, 4], [0, 5, 4, 1], [3, 7, 2, 1], [1, 2, 1, 2]]\n",
    "print (char(d))"
   ]
  },
  {
   "cell_type": "code",
   "execution_count": 1,
   "id": "f3ab49a8",
   "metadata": {},
   "outputs": [
    {
     "name": "stdout",
     "output_type": "stream",
     "text": [
      "[('item1', 11, 24.5), ('item2', 10, 10.12), ('item3', 15, 25.1), ('item4', 12, 22.5)]\n"
     ]
    }
   ],
   "source": [
    "d = [('item2', 10, 10.12), ('item3', 15, 25.1), ('item1', 11, 24.5), ('item4', 12, 22.5)]\n",
    "print (sorted(d))"
   ]
  },
  {
   "cell_type": "code",
   "execution_count": 10,
   "id": "cc0ebabb",
   "metadata": {},
   "outputs": [
    {
     "name": "stdout",
     "output_type": "stream",
     "text": [
      "[7, 1]\n"
     ]
    }
   ],
   "source": [
    "f= [1, 2, 3, 4, 5, 6, 7]\n",
    "print (f[::-6])"
   ]
  },
  {
   "cell_type": "code",
   "execution_count": 17,
   "id": "15b3164b",
   "metadata": {},
   "outputs": [
    {
     "name": "stdout",
     "output_type": "stream",
     "text": [
      "3\n",
      "6\n",
      "8\n",
      "9\n",
      "10\n",
      "6\n",
      "6\n",
      "12\n",
      "16\n",
      "18\n",
      "20\n",
      "12\n",
      "9\n",
      "18\n",
      "24\n",
      "27\n",
      "30\n",
      "18\n",
      "12\n",
      "24\n",
      "32\n",
      "36\n",
      "40\n",
      "24\n",
      "15\n",
      "30\n",
      "40\n",
      "45\n",
      "50\n",
      "30\n",
      "18\n",
      "36\n",
      "48\n",
      "54\n",
      "60\n",
      "36\n",
      "None\n"
     ]
    }
   ],
   "source": [
    "f = [1, 2, 3, 4, 5, 6]\n",
    "d = [3, 6, 8, 9, 10, 6]\n",
    "def mul(f,d):\n",
    "    for i in f:\n",
    "        \n",
    "        for item  in d:\n",
    "            h =  (i*item)\n",
    "            print (h)\n",
    "f = [1, 2, 3, 4, 5, 6]\n",
    "d = [3, 6, 8, 9, 10, 6]\n",
    "print (mul(f,d))"
   ]
  },
  {
   "cell_type": "code",
   "execution_count": 23,
   "id": "e66051e8",
   "metadata": {},
   "outputs": [
    {
     "name": "stdout",
     "output_type": "stream",
     "text": [
      "Original lists:\n",
      "[2, 3, 5, 8, 7, 2, 3]\n",
      "[4, 3, 9, 0, 4, 3, 9]\n",
      "[2, 1, 5, 6, 5, 5, 4]\n",
      "Maximum value of the said three lists:\n",
      "9\n",
      "Minimum value of the said three lists:\n",
      "0\n"
     ]
    }
   ],
   "source": [
    "nums1 = [2,3,5,8,7,2,3]\n",
    "nums2 = [4,3,9,0,4,3,9]\n",
    "nums3 = [2,1,5,6,5,5,4]\n",
    "print(\"Original lists:\")\n",
    "print(nums1)\n",
    "print(nums2)\n",
    "print(nums3)\n",
    "print(\"Maximum value of the said three lists:\")\n",
    "print(max(nums1+nums2+nums3))\n",
    "print(\"Minimum value of the said three lists:\")\n",
    "print(min(nums1+nums2+nums3)) \n"
   ]
  },
  {
   "cell_type": "code",
   "execution_count": 24,
   "id": "d5544264",
   "metadata": {},
   "outputs": [],
   "source": [
    "f = [(100, 'Math'), (80, 'Math'), (90, 'Math'), (88, 'Science', 89), (90, 'Science', 92)]\n",
    "for  i in f:\n",
    "    if type(i) == str:\n",
    "        print (i)\n"
   ]
  },
  {
   "cell_type": "code",
   "execution_count": 30,
   "id": "33fa8a2a",
   "metadata": {},
   "outputs": [
    {
     "name": "stdout",
     "output_type": "stream",
     "text": [
      "<zip object at 0x0000025461F45FC0>\n"
     ]
    }
   ],
   "source": [
    "d = [[1, 2, 4], [2, 4, 4], [1, 2]]\n",
    "f = (zip(d))\n",
    "print (f)\n"
   ]
  },
  {
   "cell_type": "code",
   "execution_count": 31,
   "id": "72fa326d",
   "metadata": {},
   "outputs": [
    {
     "name": "stdout",
     "output_type": "stream",
     "text": [
      "['black', 'white', 'green', 'red']\n"
     ]
    }
   ],
   "source": [
    "d = ['red', 'green', 'white', 'black']\n",
    "print (d[::-1])\n"
   ]
  },
  {
   "cell_type": "code",
   "execution_count": 38,
   "id": "9de772a4",
   "metadata": {},
   "outputs": [],
   "source": [
    "X = [[0, 1, 2], [2, 3, 4], [3, 4, 5, 6], [7, 8, 9, 10, 11], [12, 13, 14]]\n",
    "def max_min_list_tuples(X):\n",
    "    for i in X:\n",
    "        zip(*X)\n",
    "    result1 = (i/i, zip(*X))\n",
    "    #result2 = map(min, zip(*X))\n",
    "    return list(result1)\n",
    "X = [[0, 1, 2], [2, 3, 4], [3, 4, 5, 6], [7, 8, 9, 10, 11], [12, 13, 14]]\n",
    "#print (max_min_list_tuples(X))"
   ]
  },
  {
   "cell_type": "code",
   "execution_count": 41,
   "id": "9257efed",
   "metadata": {},
   "outputs": [
    {
     "name": "stdout",
     "output_type": "stream",
     "text": [
      "1\n",
      "3\n",
      "4\n",
      "2\n",
      "None\n"
     ]
    }
   ],
   "source": [
    "def fg(X,Y):\n",
    "    for i in X:\n",
    "        for y in Y:\n",
    "            if i == y:\n",
    "                print (X.index(i))\n",
    "                print (Y.index(y))\n",
    "X = [1, 2, 3, 4, 5, 6]\n",
    "Y= [7, 8, 5, 2, 10, 12]\n",
    "print (fg(X,Y))"
   ]
  },
  {
   "cell_type": "code",
   "execution_count": 54,
   "id": "be9885c3",
   "metadata": {},
   "outputs": [
    {
     "name": "stdout",
     "output_type": "stream",
     "text": [
      "13\n",
      "23\n",
      "33\n",
      "43\n",
      "53\n",
      "63\n",
      "73\n",
      "83\n"
     ]
    }
   ],
   "source": [
    "x = ['1', '2', '3', '4', '5', '6', '7', '8']\n",
    "for i in x:\n",
    "    f = x[2]\n",
    "    print (i+f)\n",
    "\n"
   ]
  },
  {
   "cell_type": "code",
   "execution_count": 52,
   "id": "2eeb4661",
   "metadata": {},
   "outputs": [
    {
     "name": "stdout",
     "output_type": "stream",
     "text": [
      "['2', '4', '6', '8']\n",
      "['1', '3', '5', '7']\n"
     ]
    }
   ],
   "source": [
    "x = ['1', '2', '3', '4', '5', '6', '7', '8']\n",
    "print (x[1::2])\n",
    "print (x[::2])"
   ]
  },
  {
   "cell_type": "code",
   "execution_count": 56,
   "id": "940262de",
   "metadata": {},
   "outputs": [
    {
     "name": "stdout",
     "output_type": "stream",
     "text": [
      "True\n"
     ]
    }
   ],
   "source": [
    "#g = [1234, 122, 1984, 19372, 100]\n",
    "def che(g):\n",
    "    for i in g:\n",
    "        if g[0] == g[0]:\n",
    "            return True\n",
    "g = [1234, 122, 1984, 19372, 100]\n",
    "print (che(g))"
   ]
  },
  {
   "cell_type": "code",
   "execution_count": 57,
   "id": "9110829d",
   "metadata": {},
   "outputs": [
    {
     "name": "stdout",
     "output_type": "stream",
     "text": [
      "3\n",
      "6\n"
     ]
    }
   ],
   "source": [
    "f = [1234, 1522, 1984, 19372, 1000, 2342, 7626]\n",
    "for i in f:\n",
    "    if i > 3000:\n",
    "        print (f.index(i))\n"
   ]
  },
  {
   "cell_type": "code",
   "execution_count": 59,
   "id": "ae352b60",
   "metadata": {},
   "outputs": [
    {
     "name": "stdout",
     "output_type": "stream",
     "text": [
      "('red', 'green')\n",
      "('orange', 'pink')\n"
     ]
    }
   ],
   "source": [
    "f = [('red', 'green'), ('black', 'white'), ('orange', 'pink')]\n",
    "v = [('red', 'green'), ('orange', 'pink')]\n",
    "for i in f:\n",
    "    for item in v:\n",
    "        if i == item:\n",
    "            print (i)\n",
    "\n"
   ]
  },
  {
   "cell_type": "code",
   "execution_count": 63,
   "id": "5c2b118f",
   "metadata": {},
   "outputs": [
    {
     "name": "stdout",
     "output_type": "stream",
     "text": [
      "['1', '2', '3', '4', '5', '6', '7', '8']\n",
      "['1', '2', '3', '4', '5', '6', '7', '8']\n",
      "['1', '2', '3', '4', '5', '6', '7', '8']\n",
      "['1', '2', '3', '4', '5', '6', '7', '8']\n",
      "['1', '2', '3', '4', '5', '6', '7', '8']\n",
      "['1', '2', '3', '4', '5', '6', '7', '8']\n",
      "['1', '2', '3', '4', '5', '6', '7', '8']\n",
      "['1', '2', '3', '4', '5', '6', '7', '8']\n",
      "['1', '2', '3', '4', '5', '6', '7', '8']\n",
      "['1', '2', '3', '4', '5', '6', '7', '8']\n",
      "['1', '2', '3', '4', '5', '6', '7', '8']\n",
      "['1', '2', '3', '4', '5', '6', '7', '8']\n",
      "['1', '2', '3', '4', '5', '6', '7', '8']\n",
      "['1', '2', '3', '4', '5', '6', '7', '8']\n",
      "['1', '2', '3', '4', '5', '6', '7', '8']\n",
      "['1', '2', '3', '4', '5', '6', '7', '8']\n",
      "['1', '2', '3', '4', '5', '6', '7', '8']\n"
     ]
    }
   ],
   "source": [
    "X= [3, 4, 6, 2, 0, 0, 0, 0, 0, 0, 6, 7, 6, 9, 10, 0, 0, 0, 0, 0, 5, 9, 9, 7, 4, 4, 0, 0, 0, 0, 0, 0, 5, 3, 2, 9, 7, 1]\n",
    "for i in X:\n",
    "    if i == 0:\n",
    "        print (x)"
   ]
  },
  {
   "cell_type": "code",
   "execution_count": 1,
   "id": "2925e488",
   "metadata": {},
   "outputs": [
    {
     "ename": "TypeError",
     "evalue": "'str' object cannot be interpreted as an integer",
     "output_type": "error",
     "traceback": [
      "\u001b[1;31m---------------------------------------------------------------------------\u001b[0m",
      "\u001b[1;31mTypeError\u001b[0m                                 Traceback (most recent call last)",
      "\u001b[1;32m~\\AppData\\Local\\Temp/ipykernel_10452/2113102154.py\u001b[0m in \u001b[0;36m<module>\u001b[1;34m\u001b[0m\n\u001b[0;32m      1\u001b[0m \u001b[0mX\u001b[0m \u001b[1;33m=\u001b[0m \u001b[1;33m[\u001b[0m\u001b[1;34m'Ricky Rivera'\u001b[0m\u001b[1;33m,\u001b[0m \u001b[1;36m98\u001b[0m\u001b[1;33m,\u001b[0m \u001b[1;34m'Math'\u001b[0m\u001b[1;33m,\u001b[0m \u001b[1;36m90\u001b[0m\u001b[1;33m,\u001b[0m \u001b[1;34m'Science'\u001b[0m\u001b[1;33m]\u001b[0m\u001b[1;33m\u001b[0m\u001b[1;33m\u001b[0m\u001b[0m\n\u001b[1;32m----> 2\u001b[1;33m \u001b[0mprint\u001b[0m \u001b[1;33m(\u001b[0m\u001b[0mX\u001b[0m\u001b[1;33m.\u001b[0m\u001b[0mpop\u001b[0m\u001b[1;33m(\u001b[0m\u001b[1;34m'Ricky Rivera'\u001b[0m\u001b[1;33m)\u001b[0m\u001b[1;33m)\u001b[0m\u001b[1;33m\u001b[0m\u001b[1;33m\u001b[0m\u001b[0m\n\u001b[0m",
      "\u001b[1;31mTypeError\u001b[0m: 'str' object cannot be interpreted as an integer"
     ]
    }
   ],
   "source": [
    "X = ['Ricky Rivera', 98, 'Math', 90, 'Science']\n",
    "print (X.pop('Ricky Rivera'))"
   ]
  },
  {
   "cell_type": "code",
   "execution_count": 3,
   "id": "ec99071b",
   "metadata": {},
   "outputs": [],
   "source": [
    "Original = [-14, 15, -10, -11, -12, -13, 16, 17, 18, 19, 20]\n",
    "def test(nums):\n",
    "    result = sorted([item for item in nums if item < 0])\n",
    "    return result[0]+result[1]\n"
   ]
  },
  {
   "cell_type": "code",
   "execution_count": 10,
   "id": "89372f95",
   "metadata": {},
   "outputs": [
    {
     "name": "stdout",
     "output_type": "stream",
     "text": [
      "[['a', 1, True], ['b', 2, False]]\n"
     ]
    }
   ],
   "source": [
    "A = [['a', 1, True]]\n",
    "B = [['b', 2, False]]\n",
    "print (A+B)\n"
   ]
  },
  {
   "cell_type": "code",
   "execution_count": 11,
   "id": "639ef6fd",
   "metadata": {},
   "outputs": [
    {
     "name": "stdout",
     "output_type": "stream",
     "text": [
      "['apples', 'bread', 'eggs', 'jam', 'milk', 'oranges']\n"
     ]
    }
   ],
   "source": [
    "X =['apples', 'bread', 'eggs', 'jam', 'milk', 'oranges']\n",
    "print (sorted(X))"
   ]
  },
  {
   "cell_type": "code",
   "execution_count": 12,
   "id": "32510833",
   "metadata": {},
   "outputs": [
    {
     "name": "stdout",
     "output_type": "stream",
     "text": [
      "10\n",
      "11\n",
      "12\n",
      "13\n",
      "14\n",
      "15\n",
      "16\n",
      "17\n",
      "18\n",
      "19\n"
     ]
    }
   ],
   "source": [
    "for d in range(10,20):\n",
    "    print (d)"
   ]
  },
  {
   "cell_type": "code",
   "execution_count": 17,
   "id": "3a802401",
   "metadata": {},
   "outputs": [
    {
     "ename": "TypeError",
     "evalue": "cannot convert dictionary update sequence element #0 to a sequence",
     "output_type": "error",
     "traceback": [
      "\u001b[1;31m---------------------------------------------------------------------------\u001b[0m",
      "\u001b[1;31mTypeError\u001b[0m                                 Traceback (most recent call last)",
      "\u001b[1;32m~\\AppData\\Local\\Temp/ipykernel_10452/41817207.py\u001b[0m in \u001b[0;36m<module>\u001b[1;34m\u001b[0m\n\u001b[0;32m      3\u001b[0m \u001b[0mnumber\u001b[0m \u001b[1;33m=\u001b[0m \u001b[1;33m(\u001b[0m\u001b[1;36m1\u001b[0m\u001b[1;33m,\u001b[0m\u001b[1;36m2\u001b[0m\u001b[1;33m,\u001b[0m\u001b[1;36m3\u001b[0m\u001b[1;33m,\u001b[0m\u001b[1;36m4\u001b[0m\u001b[1;33m)\u001b[0m\u001b[1;33m\u001b[0m\u001b[1;33m\u001b[0m\u001b[0m\n\u001b[0;32m      4\u001b[0m \u001b[0mresult\u001b[0m \u001b[1;33m=\u001b[0m \u001b[0mmap\u001b[0m\u001b[1;33m(\u001b[0m\u001b[0mfg\u001b[0m\u001b[1;33m,\u001b[0m\u001b[0mnumber\u001b[0m\u001b[1;33m)\u001b[0m\u001b[1;33m\u001b[0m\u001b[1;33m\u001b[0m\u001b[0m\n\u001b[1;32m----> 5\u001b[1;33m \u001b[0mprint\u001b[0m \u001b[1;33m(\u001b[0m\u001b[0mdict\u001b[0m\u001b[1;33m(\u001b[0m\u001b[0mresult\u001b[0m\u001b[1;33m)\u001b[0m\u001b[1;33m)\u001b[0m\u001b[1;33m\u001b[0m\u001b[1;33m\u001b[0m\u001b[0m\n\u001b[0m",
      "\u001b[1;31mTypeError\u001b[0m: cannot convert dictionary update sequence element #0 to a sequence"
     ]
    }
   ],
   "source": [
    "def fg(r):\n",
    "    return r*r\n",
    "number = (1,2,3,4)\n",
    "result = map(fg,number)\n",
    "print (dict(result))"
   ]
  },
  {
   "cell_type": "code",
   "execution_count": 22,
   "id": "a9235bec",
   "metadata": {},
   "outputs": [
    {
     "name": "stdout",
     "output_type": "stream",
     "text": [
      "<filter object at 0x000001D3443B8610>\n"
     ]
    }
   ],
   "source": [
    "X = [1, 3, 5, 5,6,7,8]\n",
    "result = filter(  lambda x: x in X , X)\n",
    "print (result)\n"
   ]
  },
  {
   "cell_type": "code",
   "execution_count": 2,
   "id": "4248047d",
   "metadata": {},
   "outputs": [
    {
     "name": "stdout",
     "output_type": "stream",
     "text": [
      "{1, 2, 3, 4, 6, 8}\n"
     ]
    }
   ],
   "source": [
    "X = {1,2,3,4,6,8}\n",
    "print (X)"
   ]
  },
  {
   "cell_type": "code",
   "execution_count": 3,
   "id": "e58edef3",
   "metadata": {},
   "outputs": [
    {
     "name": "stdout",
     "output_type": "stream",
     "text": [
      "None\n"
     ]
    }
   ],
   "source": [
    "X = {1,2,3,4,6,8}\n",
    "print (X.add(5))"
   ]
  },
  {
   "cell_type": "code",
   "execution_count": 6,
   "id": "17702142",
   "metadata": {},
   "outputs": [
    {
     "name": "stdout",
     "output_type": "stream",
     "text": [
      "[1, 2, 3, 4, 6]\n"
     ]
    }
   ],
   "source": [
    "X = ([1,2,3,4,6,8])\n",
    "(X.remove(8))\n",
    "print (X)\n"
   ]
  },
  {
   "cell_type": "code",
   "execution_count": 8,
   "id": "d350a643",
   "metadata": {},
   "outputs": [
    {
     "name": "stdout",
     "output_type": "stream",
     "text": [
      "[1, 2, 3, 4, 6]\n"
     ]
    }
   ],
   "source": [
    "X = ([1,2,3,4,6,8])\n",
    "for i in X:\n",
    "    if i == 8:\n",
    "        X.remove(i)\n",
    "print (X)"
   ]
  },
  {
   "cell_type": "code",
   "execution_count": 10,
   "id": "71bf5652",
   "metadata": {},
   "outputs": [
    {
     "name": "stdout",
     "output_type": "stream",
     "text": [
      "{0, 1, 2, 3, 4, 5, 6, 8, 9}\n"
     ]
    }
   ],
   "source": [
    "X = {1,2,3,4,6,8}\n",
    "Y = {8,9,0,3,4,5}\n",
    "print (X.union(Y))"
   ]
  },
  {
   "cell_type": "code",
   "execution_count": 1,
   "id": "265f5c5b",
   "metadata": {},
   "outputs": [
    {
     "name": "stdout",
     "output_type": "stream",
     "text": [
      "{0: 10, 1: 20, 2: 30}\n"
     ]
    }
   ],
   "source": [
    "Sample =  {0: 10, 1: 20}\n",
    "Sample[2] = 30\n",
    "print (Sample)"
   ]
  },
  {
   "cell_type": "code",
   "execution_count": 3,
   "id": "5a20b8d3",
   "metadata": {},
   "outputs": [
    {
     "name": "stdout",
     "output_type": "stream",
     "text": [
      "{1: 10, 2: 20} {3: 30, 4: 40} {5: 50, 6: 60}\n"
     ]
    }
   ],
   "source": [
    "dic1={1:10, 2:20}\n",
    "dic2={3:30, 4:40}\n",
    "dic3={5:50,6:60}\n",
    "print (dic1,dic2,dic3)"
   ]
  },
  {
   "cell_type": "code",
   "execution_count": 4,
   "id": "4d733b05",
   "metadata": {},
   "outputs": [
    {
     "name": "stdout",
     "output_type": "stream",
     "text": [
      "1\n"
     ]
    }
   ],
   "source": [
    "Expected =  {1: 10, 2: 20, 3: 30, 4: 40, 5: 50, 6: 60}\n",
    "for i in Expected:\n",
    "    if i == 1:\n",
    "        print (i)\n",
    "\n"
   ]
  },
  {
   "cell_type": "code",
   "execution_count": 5,
   "id": "fc9b0232",
   "metadata": {},
   "outputs": [
    {
     "name": "stdout",
     "output_type": "stream",
     "text": [
      "Input a number 5\n",
      "{1: 1, 2: 4, 3: 9, 4: 16, 5: 25}\n"
     ]
    }
   ],
   "source": [
    "n=int(input(\"Input a number \"))\n",
    "d = dict()\n",
    "\n",
    "for x in range(1,n+1):\n",
    "    d[x]=x*x\n",
    "\n",
    "print(d) \n"
   ]
  },
  {
   "cell_type": "code",
   "execution_count": 8,
   "id": "02f02d60",
   "metadata": {},
   "outputs": [
    {
     "name": "stdout",
     "output_type": "stream",
     "text": [
      "None\n"
     ]
    }
   ],
   "source": [
    "def Merge(s,t):\n",
    "    return(t.update(s))\n",
    "s = {1: 1, 2: 4, 3: 9, 4: 16, 5: 25, 6: 36, 7: 49, 8: 64, 9: 81, 10: 100, 11: 121, 12: 144, 13: 169, 14: 196, 15: 225}\n",
    "t =  {1: 1, 2: 4, 3: 9, 4: 16, 5: 25}\n",
    "\n",
    "print (Merge(s,t))\n",
    "\n"
   ]
  },
  {
   "cell_type": "code",
   "execution_count": 9,
   "id": "431cc0e8",
   "metadata": {},
   "outputs": [
    {
     "ename": "TypeError",
     "evalue": "'int' object is not iterable",
     "output_type": "error",
     "traceback": [
      "\u001b[1;31m---------------------------------------------------------------------------\u001b[0m",
      "\u001b[1;31mTypeError\u001b[0m                                 Traceback (most recent call last)",
      "\u001b[1;32m~\\AppData\\Local\\Temp/ipykernel_3480/4212920455.py\u001b[0m in \u001b[0;36m<module>\u001b[1;34m\u001b[0m\n\u001b[0;32m      1\u001b[0m \u001b[0ms\u001b[0m \u001b[1;33m=\u001b[0m \u001b[1;33m{\u001b[0m\u001b[1;36m1\u001b[0m\u001b[1;33m:\u001b[0m \u001b[1;36m1\u001b[0m\u001b[1;33m,\u001b[0m \u001b[1;36m2\u001b[0m\u001b[1;33m:\u001b[0m \u001b[1;36m4\u001b[0m\u001b[1;33m,\u001b[0m \u001b[1;36m3\u001b[0m\u001b[1;33m:\u001b[0m \u001b[1;36m9\u001b[0m\u001b[1;33m,\u001b[0m \u001b[1;36m4\u001b[0m\u001b[1;33m:\u001b[0m \u001b[1;36m16\u001b[0m\u001b[1;33m,\u001b[0m \u001b[1;36m5\u001b[0m\u001b[1;33m:\u001b[0m \u001b[1;36m25\u001b[0m\u001b[1;33m,\u001b[0m \u001b[1;36m6\u001b[0m\u001b[1;33m:\u001b[0m \u001b[1;36m36\u001b[0m\u001b[1;33m,\u001b[0m \u001b[1;36m7\u001b[0m\u001b[1;33m:\u001b[0m \u001b[1;36m49\u001b[0m\u001b[1;33m,\u001b[0m \u001b[1;36m8\u001b[0m\u001b[1;33m:\u001b[0m \u001b[1;36m64\u001b[0m\u001b[1;33m,\u001b[0m \u001b[1;36m9\u001b[0m\u001b[1;33m:\u001b[0m \u001b[1;36m81\u001b[0m\u001b[1;33m,\u001b[0m \u001b[1;36m10\u001b[0m\u001b[1;33m:\u001b[0m \u001b[1;36m100\u001b[0m\u001b[1;33m,\u001b[0m \u001b[1;36m11\u001b[0m\u001b[1;33m:\u001b[0m \u001b[1;36m121\u001b[0m\u001b[1;33m,\u001b[0m \u001b[1;36m12\u001b[0m\u001b[1;33m:\u001b[0m \u001b[1;36m144\u001b[0m\u001b[1;33m,\u001b[0m \u001b[1;36m13\u001b[0m\u001b[1;33m:\u001b[0m \u001b[1;36m169\u001b[0m\u001b[1;33m,\u001b[0m \u001b[1;36m14\u001b[0m\u001b[1;33m:\u001b[0m \u001b[1;36m196\u001b[0m\u001b[1;33m,\u001b[0m \u001b[1;36m15\u001b[0m\u001b[1;33m:\u001b[0m \u001b[1;36m225\u001b[0m\u001b[1;33m}\u001b[0m\u001b[1;33m\u001b[0m\u001b[1;33m\u001b[0m\u001b[0m\n\u001b[0;32m      2\u001b[0m \u001b[1;32mfor\u001b[0m \u001b[0mi\u001b[0m \u001b[1;32min\u001b[0m \u001b[0ms\u001b[0m\u001b[1;33m:\u001b[0m\u001b[1;33m\u001b[0m\u001b[1;33m\u001b[0m\u001b[0m\n\u001b[1;32m----> 3\u001b[1;33m     \u001b[0mprint\u001b[0m \u001b[1;33m(\u001b[0m\u001b[0msum\u001b[0m\u001b[1;33m(\u001b[0m\u001b[0mi\u001b[0m\u001b[1;33m)\u001b[0m\u001b[1;33m)\u001b[0m\u001b[1;33m\u001b[0m\u001b[1;33m\u001b[0m\u001b[0m\n\u001b[0m",
      "\u001b[1;31mTypeError\u001b[0m: 'int' object is not iterable"
     ]
    }
   ],
   "source": [
    "s = {1: 1, 2: 4, 3: 9, 4: 16, 5: 25, 6: 36, 7: 49, 8: 64, 9: 81, 10: 100, 11: 121, 12: 144, 13: 169, 14: 196, 15: 225}\n",
    "for i in s:\n",
    "    print (sum(i))"
   ]
  },
  {
   "cell_type": "code",
   "execution_count": 2,
   "id": "e9925644",
   "metadata": {},
   "outputs": [
    {
     "name": "stdout",
     "output_type": "stream",
     "text": [
      "2\n"
     ]
    }
   ],
   "source": [
    "test_dict = {\"Nikhil\": 7, \"Akshat\": 1, \"Akash\": 2}\n",
    "pop_ele = test_dict.pop('Akash')\n",
    "print (pop_ele)"
   ]
  },
  {
   "cell_type": "code",
   "execution_count": 3,
   "id": "331788a4",
   "metadata": {},
   "outputs": [
    {
     "name": "stdout",
     "output_type": "stream",
     "text": [
      "['Akash', 'Akshat', 'Nikhil']\n"
     ]
    }
   ],
   "source": [
    "test_dict = {\"Nikhil\": 7, \"Akshat\": 1, \"Akash\": 2}\n",
    "print (sorted(test_dict))"
   ]
  },
  {
   "cell_type": "code",
   "execution_count": 4,
   "id": "b6b97220",
   "metadata": {},
   "outputs": [
    {
     "name": "stdout",
     "output_type": "stream",
     "text": [
      "Akash\n"
     ]
    }
   ],
   "source": [
    "test_dict = {\"Nikhil\": 7, \"Akshat\": 1, \"Akash\": 2}\n",
    "print (min(test_dict))"
   ]
  },
  {
   "cell_type": "code",
   "execution_count": 7,
   "id": "7af1a608",
   "metadata": {},
   "outputs": [
    {
     "name": "stdout",
     "output_type": "stream",
     "text": [
      "Maximum Value:  5874\n",
      "Minimum Value:  500\n"
     ]
    }
   ],
   "source": [
    "my_dict = {'x':500, 'y':5874, 'z': 560}\n",
    "\n",
    "key_max = max(my_dict.keys(), key=(lambda k: my_dict[k]))\n",
    "key_min = min(my_dict.keys(), key=(lambda k: my_dict[k]))\n",
    "\n",
    "print('Maximum Value: ',my_dict[key_max])\n",
    "print('Minimum Value: ',my_dict[key_min])\n"
   ]
  },
  {
   "cell_type": "code",
   "execution_count": 8,
   "id": "57b2eddb",
   "metadata": {},
   "outputs": [],
   "source": [
    "test_dict = {\"Nikhil\": 7, \"Akshat\": 1, \"Akash\": 2}\n",
    "my_dict = {'x':500, 'y':5874, 'z': 560}\n",
    "for i in test_dict:\n",
    "    for y in my_dict:\n",
    "        if i in y:\n",
    "            print (i)"
   ]
  },
  {
   "cell_type": "code",
   "execution_count": 9,
   "id": "8c07cb8d",
   "metadata": {},
   "outputs": [],
   "source": [
    "d = {}\n",
    "if d == 0:\n",
    "    print (d)"
   ]
  },
  {
   "cell_type": "code",
   "execution_count": 11,
   "id": "ae54d1bc",
   "metadata": {},
   "outputs": [
    {
     "name": "stdout",
     "output_type": "stream",
     "text": [
      "<zip object at 0x0000019CF2F354C0>\n"
     ]
    }
   ],
   "source": [
    "d1 = {'a': 100, 'b': 200, 'c':300}\n",
    "d2 = {'a': 300, 'b': 200, 'd':400}\n",
    "f = zip(d1,d2)\n",
    "print (f)"
   ]
  },
  {
   "cell_type": "code",
   "execution_count": 15,
   "id": "93de472d",
   "metadata": {},
   "outputs": [
    {
     "name": "stdout",
     "output_type": "stream",
     "text": [
      "[{'V': 'S001'}, {'V': 'S002'}, {'VI': 'S001'}, {'VI': 'S005'}, {'VII': 'S005'}, {'V': 'S009'}, {'VIII': 'S007'}]\n"
     ]
    }
   ],
   "source": [
    "Sample =  [{\"V\":\"S001\"}, {\"V\": \"S002\"}, {\"VI\": \"S001\"}, {\"VI\": \"S005\"}, {\"VII\":\"S005\"}, {\"V\":\"S009\"},{\"VIII\":\"S007\"}]\n",
    "u_value = set( val for dic in Sample for val in dic.values())\n",
    "print (Sample)\n"
   ]
  },
  {
   "cell_type": "code",
   "execution_count": 17,
   "id": "66821baf",
   "metadata": {},
   "outputs": [
    {
     "ename": "TypeError",
     "evalue": "unhashable type: 'dict'",
     "output_type": "error",
     "traceback": [
      "\u001b[1;31m---------------------------------------------------------------------------\u001b[0m",
      "\u001b[1;31mTypeError\u001b[0m                                 Traceback (most recent call last)",
      "\u001b[1;32m~\\AppData\\Local\\Temp/ipykernel_11612/2937433557.py\u001b[0m in \u001b[0;36m<module>\u001b[1;34m\u001b[0m\n\u001b[0;32m      1\u001b[0m \u001b[1;32mfrom\u001b[0m \u001b[0mcollections\u001b[0m \u001b[1;32mimport\u001b[0m \u001b[0mCounter\u001b[0m\u001b[1;33m\u001b[0m\u001b[1;33m\u001b[0m\u001b[0m\n\u001b[0;32m      2\u001b[0m \u001b[0mSample\u001b[0m \u001b[1;33m=\u001b[0m \u001b[1;33m[\u001b[0m\u001b[1;33m{\u001b[0m\u001b[1;34m'item'\u001b[0m\u001b[1;33m:\u001b[0m \u001b[1;34m'item1'\u001b[0m\u001b[1;33m,\u001b[0m \u001b[1;34m'amount'\u001b[0m\u001b[1;33m:\u001b[0m \u001b[1;36m400\u001b[0m\u001b[1;33m}\u001b[0m\u001b[1;33m,\u001b[0m \u001b[1;33m{\u001b[0m\u001b[1;34m'item'\u001b[0m\u001b[1;33m:\u001b[0m \u001b[1;34m'item2'\u001b[0m\u001b[1;33m,\u001b[0m \u001b[1;34m'amount'\u001b[0m\u001b[1;33m:\u001b[0m \u001b[1;36m300\u001b[0m\u001b[1;33m}\u001b[0m\u001b[1;33m,\u001b[0m \u001b[1;33m{\u001b[0m\u001b[1;34m'item'\u001b[0m\u001b[1;33m:\u001b[0m \u001b[1;34m'item1'\u001b[0m\u001b[1;33m,\u001b[0m \u001b[1;34m'amount'\u001b[0m\u001b[1;33m:\u001b[0m \u001b[1;36m750\u001b[0m\u001b[1;33m}\u001b[0m\u001b[1;33m]\u001b[0m\u001b[1;33m\u001b[0m\u001b[1;33m\u001b[0m\u001b[0m\n\u001b[1;32m----> 3\u001b[1;33m \u001b[0mprint\u001b[0m \u001b[1;33m(\u001b[0m\u001b[0mCounter\u001b[0m\u001b[1;33m(\u001b[0m\u001b[0mSample\u001b[0m\u001b[1;33m)\u001b[0m\u001b[1;33m)\u001b[0m\u001b[1;33m\u001b[0m\u001b[1;33m\u001b[0m\u001b[0m\n\u001b[0m",
      "\u001b[1;32m~\\anaconda3\\lib\\collections\\__init__.py\u001b[0m in \u001b[0;36m__init__\u001b[1;34m(self, iterable, **kwds)\u001b[0m\n\u001b[0;32m    591\u001b[0m         '''\n\u001b[0;32m    592\u001b[0m         \u001b[0msuper\u001b[0m\u001b[1;33m(\u001b[0m\u001b[1;33m)\u001b[0m\u001b[1;33m.\u001b[0m\u001b[0m__init__\u001b[0m\u001b[1;33m(\u001b[0m\u001b[1;33m)\u001b[0m\u001b[1;33m\u001b[0m\u001b[1;33m\u001b[0m\u001b[0m\n\u001b[1;32m--> 593\u001b[1;33m         \u001b[0mself\u001b[0m\u001b[1;33m.\u001b[0m\u001b[0mupdate\u001b[0m\u001b[1;33m(\u001b[0m\u001b[0miterable\u001b[0m\u001b[1;33m,\u001b[0m \u001b[1;33m**\u001b[0m\u001b[0mkwds\u001b[0m\u001b[1;33m)\u001b[0m\u001b[1;33m\u001b[0m\u001b[1;33m\u001b[0m\u001b[0m\n\u001b[0m\u001b[0;32m    594\u001b[0m \u001b[1;33m\u001b[0m\u001b[0m\n\u001b[0;32m    595\u001b[0m     \u001b[1;32mdef\u001b[0m \u001b[0m__missing__\u001b[0m\u001b[1;33m(\u001b[0m\u001b[0mself\u001b[0m\u001b[1;33m,\u001b[0m \u001b[0mkey\u001b[0m\u001b[1;33m)\u001b[0m\u001b[1;33m:\u001b[0m\u001b[1;33m\u001b[0m\u001b[1;33m\u001b[0m\u001b[0m\n",
      "\u001b[1;32m~\\anaconda3\\lib\\collections\\__init__.py\u001b[0m in \u001b[0;36mupdate\u001b[1;34m(self, iterable, **kwds)\u001b[0m\n\u001b[0;32m    677\u001b[0m                     \u001b[0msuper\u001b[0m\u001b[1;33m(\u001b[0m\u001b[1;33m)\u001b[0m\u001b[1;33m.\u001b[0m\u001b[0mupdate\u001b[0m\u001b[1;33m(\u001b[0m\u001b[0miterable\u001b[0m\u001b[1;33m)\u001b[0m\u001b[1;33m\u001b[0m\u001b[1;33m\u001b[0m\u001b[0m\n\u001b[0;32m    678\u001b[0m             \u001b[1;32melse\u001b[0m\u001b[1;33m:\u001b[0m\u001b[1;33m\u001b[0m\u001b[1;33m\u001b[0m\u001b[0m\n\u001b[1;32m--> 679\u001b[1;33m                 \u001b[0m_count_elements\u001b[0m\u001b[1;33m(\u001b[0m\u001b[0mself\u001b[0m\u001b[1;33m,\u001b[0m \u001b[0miterable\u001b[0m\u001b[1;33m)\u001b[0m\u001b[1;33m\u001b[0m\u001b[1;33m\u001b[0m\u001b[0m\n\u001b[0m\u001b[0;32m    680\u001b[0m         \u001b[1;32mif\u001b[0m \u001b[0mkwds\u001b[0m\u001b[1;33m:\u001b[0m\u001b[1;33m\u001b[0m\u001b[1;33m\u001b[0m\u001b[0m\n\u001b[0;32m    681\u001b[0m             \u001b[0mself\u001b[0m\u001b[1;33m.\u001b[0m\u001b[0mupdate\u001b[0m\u001b[1;33m(\u001b[0m\u001b[0mkwds\u001b[0m\u001b[1;33m)\u001b[0m\u001b[1;33m\u001b[0m\u001b[1;33m\u001b[0m\u001b[0m\n",
      "\u001b[1;31mTypeError\u001b[0m: unhashable type: 'dict'"
     ]
    }
   ],
   "source": [
    "from collections import Counter\n",
    "Sample = [{'item': 'item1', 'amount': 400}, {'item': 'item2', 'amount': 300}, {'item': 'item1', 'amount': 750}]\n",
    "print (Counter(Sample))\n"
   ]
  },
  {
   "cell_type": "code",
   "execution_count": 18,
   "id": "568f8b49",
   "metadata": {},
   "outputs": [
    {
     "name": "stdout",
     "output_type": "stream",
     "text": [
      "Counter({'r': 2, 'e': 2, 'w': 1, '3': 1, 's': 1, 'o': 1, 'u': 1, 'c': 1})\n"
     ]
    }
   ],
   "source": [
    "from collections import Counter\n",
    "Sample = 'w3resource'\n",
    "print (Counter(Sample))\n"
   ]
  },
  {
   "cell_type": "code",
   "execution_count": 19,
   "id": "ee8226b5",
   "metadata": {},
   "outputs": [
    {
     "name": "stdout",
     "output_type": "stream",
     "text": [
      "['w', '3', 'r', 'e', 's', 'o', 'u', 'c']\n"
     ]
    }
   ],
   "source": [
    "Expected = {'w': 1, '3': 1, 'r': 2, 'e': 2, 's': 1, 'o': 1, 'u': 1, 'c': 1}\n",
    "print (list(Expected))\n"
   ]
  },
  {
   "cell_type": "code",
   "execution_count": 20,
   "id": "e21017c4",
   "metadata": {},
   "outputs": [
    {
     "name": "stdout",
     "output_type": "stream",
     "text": [
      "Counter({'r': 2, 'e': 2, 'w': 1, '3': 1, 's': 1, 'o': 1, 'u': 1, 'c': 1})\n"
     ]
    }
   ],
   "source": [
    "Expected = {'w': 1, '3': 1, 'r': 2, 'e': 2, 's': 1, 'o': 1, 'u': 1, 'c': 1}\n",
    "print (Counter(Expected))"
   ]
  },
  {
   "cell_type": "code",
   "execution_count": 21,
   "id": "88964797",
   "metadata": {},
   "outputs": [],
   "source": [
    "student_list = {'S  001': ['Math', 'Science'], 'S    002': ['Math', 'English']}\n",
    "if student_list == ' ':\n",
    "    print (pop(' '))"
   ]
  },
  {
   "cell_type": "code",
   "execution_count": 27,
   "id": "d5524982",
   "metadata": {},
   "outputs": [
    {
     "name": "stdout",
     "output_type": "stream",
     "text": [
      "[1, 1, 2, 2, 1, 1, 1, 1]\n"
     ]
    }
   ],
   "source": [
    "Expected = {'w': 1, '3': 1, 'r': 2, 'e': 2, 's': 1, 'o': 1, 'u': 1, 'c': 1}\n",
    "d = [  y for x, y in Expected.items()]\n",
    "print (d)"
   ]
  },
  {
   "cell_type": "code",
   "execution_count": 29,
   "id": "8ba75af4",
   "metadata": {},
   "outputs": [],
   "source": [
    "Expected = {'w': 1, '3': 1, 'r': 2, 'e': 2, 's': 1, 'o': 1, 'u': 1, 'c': 1}\n",
    "f = [y for x,y in Expected.items()]\n",
    "if y == 0:\n",
    "    print ('multiple i')"
   ]
  },
  {
   "cell_type": "code",
   "execution_count": 38,
   "id": "d2113ea8",
   "metadata": {},
   "outputs": [
    {
     "name": "stdout",
     "output_type": "stream",
     "text": [
      "[81, 83, 87]\n"
     ]
    }
   ],
   "source": [
    "Sample = {'Math':81, 'Physics':83, 'Chemistry':87}\n",
    "f = sorted(y  for x, y  in Sample.items())\n",
    "print (f)\n"
   ]
  },
  {
   "cell_type": "code",
   "execution_count": 36,
   "id": "9178a2cb",
   "metadata": {},
   "outputs": [
    {
     "name": "stdout",
     "output_type": "stream",
     "text": [
      "defaultdict(<class 'set'>, {'Class-V': {1}, 'Class-VI': {2}, 'Class-VII': {2}, 'Class-VIII': {3}})\n"
     ]
    }
   ],
   "source": [
    "from collections import defaultdict\n",
    "class_list = ['Class-V', 'Class-VI', 'Class-VII', 'Class-VIII']\n",
    "id_list = [1, 2, 2, 3]\n",
    "temp = defaultdict(set)\n",
    "for c, i in zip(class_list, id_list):\n",
    "    temp[c].add(i)\n",
    "print(temp)\n"
   ]
  },
  {
   "cell_type": "code",
   "execution_count": 37,
   "id": "c0cbbec4",
   "metadata": {},
   "outputs": [
    {
     "name": "stdout",
     "output_type": "stream",
     "text": [
      "The original dictionary is : {'Gfg': 5, 'is': 8, 'Best': 10, 'for': 8, 'Geeks': 9}\n",
      "The updated dictionary: {'Gfg': 10, 'is': 8, 'Best': 17, 'for': 8, 'Geeks': 9}\n"
     ]
    }
   ],
   "source": [
    "# Python3 code to demonstrate working of\n",
    "# Replace dictionary value from other dictionary\n",
    "# Using loop\n",
    "\n",
    "# initializing dictionary\n",
    "test_dict = {\"Gfg\" : 5, \"is\" : 8, \"Best\" : 10, \"for\" : 8, \"Geeks\" : 9}\n",
    "\n",
    "# printing original dictionary\n",
    "print(\"The original dictionary is : \" + str(test_dict))\n",
    "\n",
    "# initializing updict\n",
    "\n",
    "updict = {\"Gfg\" : 10, \"Best\" : 17}\n",
    "\n",
    "for sub in test_dict:\n",
    "\t\n",
    "\t# checking if key present in other dictionary\n",
    "\tif sub in updict:\n",
    "\t\ttest_dict[sub] = updict[sub]\n",
    "\n",
    "# printing result\n",
    "print(\"The updated dictionary: \" + str(test_dict))\n"
   ]
  },
  {
   "cell_type": "code",
   "execution_count": 46,
   "id": "9d956100",
   "metadata": {},
   "outputs": [
    {
     "name": "stdout",
     "output_type": "stream",
     "text": [
      "[1, 1, 2, 2, 1, 1, 1, 1]\n"
     ]
    }
   ],
   "source": [
    "Sample = {'key1': 1, 'key2': 3, 'key3': 2}, {'key1': 1, 'key2': 2}\n",
    "Sample = [  y for x, y in Expected.items()]\n",
    "if y == y :\n",
    "    print (Sample)"
   ]
  },
  {
   "cell_type": "code",
   "execution_count": 53,
   "id": "d1212ca1",
   "metadata": {},
   "outputs": [],
   "source": [
    "s = {'c1': 'Red', 'c2': 'Green', 'c3': None}\n",
    "d = [y for x,y in s.items()]\n",
    "if y == None:\n",
    "    print (s.pop(y))\n"
   ]
  },
  {
   "cell_type": "code",
   "execution_count": 57,
   "id": "c70036b0",
   "metadata": {},
   "outputs": [
    {
     "ename": "TypeError",
     "evalue": "'>=' not supported between instances of 'str' and 'int'",
     "output_type": "error",
     "traceback": [
      "\u001b[1;31m---------------------------------------------------------------------------\u001b[0m",
      "\u001b[1;31mTypeError\u001b[0m                                 Traceback (most recent call last)",
      "\u001b[1;32m~\\AppData\\Local\\Temp/ipykernel_11612/321439864.py\u001b[0m in \u001b[0;36m<module>\u001b[1;34m\u001b[0m\n\u001b[0;32m      1\u001b[0m \u001b[0md\u001b[0m \u001b[1;33m=\u001b[0m \u001b[1;33m{\u001b[0m\u001b[1;34m'Cierra Vega'\u001b[0m\u001b[1;33m:\u001b[0m \u001b[1;36m175\u001b[0m\u001b[1;33m,\u001b[0m \u001b[1;34m'Alden Cantrell'\u001b[0m\u001b[1;33m:\u001b[0m \u001b[1;36m180\u001b[0m\u001b[1;33m,\u001b[0m \u001b[1;34m'Kierra Gentry'\u001b[0m\u001b[1;33m:\u001b[0m \u001b[1;36m165\u001b[0m\u001b[1;33m,\u001b[0m \u001b[1;34m'Pierre Cox'\u001b[0m\u001b[1;33m:\u001b[0m \u001b[1;36m190\u001b[0m\u001b[1;33m}\u001b[0m\u001b[1;33m\u001b[0m\u001b[1;33m\u001b[0m\u001b[0m\n\u001b[0;32m      2\u001b[0m \u001b[0mf\u001b[0m \u001b[1;33m=\u001b[0m \u001b[1;33m{\u001b[0m\u001b[0my\u001b[0m \u001b[1;32mfor\u001b[0m \u001b[0mx\u001b[0m\u001b[1;33m,\u001b[0m\u001b[0my\u001b[0m \u001b[1;32min\u001b[0m \u001b[0md\u001b[0m\u001b[1;33m.\u001b[0m\u001b[0mitems\u001b[0m\u001b[1;33m(\u001b[0m\u001b[1;33m)\u001b[0m\u001b[1;33m}\u001b[0m\u001b[1;33m\u001b[0m\u001b[1;33m\u001b[0m\u001b[0m\n\u001b[1;32m----> 3\u001b[1;33m \u001b[1;32mif\u001b[0m \u001b[0my\u001b[0m \u001b[1;33m>=\u001b[0m \u001b[1;36m170\u001b[0m\u001b[1;33m:\u001b[0m\u001b[1;33m\u001b[0m\u001b[1;33m\u001b[0m\u001b[0m\n\u001b[0m\u001b[0;32m      4\u001b[0m     \u001b[0mprint\u001b[0m \u001b[1;33m(\u001b[0m\u001b[0my\u001b[0m\u001b[1;33m)\u001b[0m\u001b[1;33m\u001b[0m\u001b[1;33m\u001b[0m\u001b[0m\n",
      "\u001b[1;31mTypeError\u001b[0m: '>=' not supported between instances of 'str' and 'int'"
     ]
    }
   ],
   "source": [
    "d = {'Cierra Vega': 175, 'Alden Cantrell': 180, 'Kierra Gentry': 165, 'Pierre Cox': 190}\n",
    "f = {y for x,y in d.items()}\n",
    "if y >= 170:\n",
    "    print (y)\n"
   ]
  },
  {
   "cell_type": "code",
   "execution_count": 58,
   "id": "d38758f1",
   "metadata": {},
   "outputs": [
    {
     "name": "stdout",
     "output_type": "stream",
     "text": [
      "<zip object at 0x0000019CF3038800>\n",
      "<zip object at 0x0000019CF3038800>\n",
      "<zip object at 0x0000019CF3038800>\n",
      "<zip object at 0x0000019CF3038800>\n",
      "<zip object at 0x0000019CF3038800>\n",
      "<zip object at 0x0000019CF3038800>\n",
      "<zip object at 0x0000019CF3038800>\n",
      "<zip object at 0x0000019CF3038800>\n",
      "<zip object at 0x0000019CF3038800>\n",
      "<zip object at 0x0000019CF3038800>\n",
      "<zip object at 0x0000019CF3038800>\n",
      "<zip object at 0x0000019CF3038800>\n",
      "<zip object at 0x0000019CF3038800>\n",
      "<zip object at 0x0000019CF3038800>\n",
      "<zip object at 0x0000019CF3038800>\n",
      "<zip object at 0x0000019CF3038800>\n"
     ]
    }
   ],
   "source": [
    "X = ['Adina Park', 'Leyton Marsh', 'Duncan Boyle', 'Saim Richards']\n",
    "Y = [85, 98, 89, 92]\n",
    "for i in X:\n",
    "    for y in Y:\n",
    "        print (zip(X,Y))\n"
   ]
  },
  {
   "cell_type": "code",
   "execution_count": 59,
   "id": "8aefb6d5",
   "metadata": {},
   "outputs": [
    {
     "name": "stdout",
     "output_type": "stream",
     "text": [
      "Original strings:\n",
      "['S001', 'S002', 'S003', 'S004']\n",
      "['Adina Park', 'Leyton Marsh', 'Duncan Boyle', 'Saim Richards']\n",
      "[85, 98, 89, 92]\n",
      "\n",
      "Nested dictionary:\n",
      "[{'S001': {'Adina Park': 85}}, {'S002': {'Leyton Marsh': 98}}, {'S003': {'Duncan Boyle': 89}}, {'S004': {'Saim Richards': 92}}]\n"
     ]
    }
   ],
   "source": [
    "def nested_dictionary(l1, l2, l3):\n",
    "     result = [{x: {y: z}} for (x, y, z) in zip(l1, l2, l3)]\n",
    "     return result\n",
    "\n",
    "student_id = [\"S001\", \"S002\", \"S003\", \"S004\"] \n",
    "student_name = [\"Adina Park\", \"Leyton Marsh\", \"Duncan Boyle\", \"Saim Richards\"] \n",
    "student_grade = [85, 98, 89, 92]\n",
    "print(\"Original strings:\")\n",
    "print(student_id)\n",
    "print(student_name)\n",
    "print(student_grade)\n",
    "print(\"\\nNested dictionary:\")\n",
    "ch='a'\n",
    "print(nested_dictionary(student_id, student_name, student_grade))\n"
   ]
  },
  {
   "cell_type": "code",
   "execution_count": 62,
   "id": "271b8e7d",
   "metadata": {},
   "outputs": [
    {
     "ename": "ValueError",
     "evalue": "too many values to unpack (expected 3)",
     "output_type": "error",
     "traceback": [
      "\u001b[1;31m---------------------------------------------------------------------------\u001b[0m",
      "\u001b[1;31mValueError\u001b[0m                                Traceback (most recent call last)",
      "\u001b[1;32m~\\AppData\\Local\\Temp/ipykernel_11612/477797388.py\u001b[0m in \u001b[0;36m<module>\u001b[1;34m\u001b[0m\n\u001b[0;32m      1\u001b[0m \u001b[0mX\u001b[0m \u001b[1;33m=\u001b[0m \u001b[1;33m{\u001b[0m\u001b[1;34m'Cierra Vega'\u001b[0m\u001b[1;33m:\u001b[0m \u001b[1;33m(\u001b[0m\u001b[1;36m6.2\u001b[0m\u001b[1;33m,\u001b[0m \u001b[1;36m70\u001b[0m\u001b[1;33m)\u001b[0m\u001b[1;33m,\u001b[0m \u001b[1;34m'Alden Cantrell'\u001b[0m\u001b[1;33m:\u001b[0m \u001b[1;33m(\u001b[0m\u001b[1;36m5.9\u001b[0m\u001b[1;33m,\u001b[0m \u001b[1;36m65\u001b[0m\u001b[1;33m)\u001b[0m\u001b[1;33m,\u001b[0m \u001b[1;34m'Kierra Gentry'\u001b[0m\u001b[1;33m:\u001b[0m \u001b[1;33m(\u001b[0m\u001b[1;36m6.0\u001b[0m\u001b[1;33m,\u001b[0m \u001b[1;36m68\u001b[0m\u001b[1;33m)\u001b[0m\u001b[1;33m,\u001b[0m \u001b[1;34m'Pierre Cox'\u001b[0m\u001b[1;33m:\u001b[0m \u001b[1;33m(\u001b[0m\u001b[1;36m5.8\u001b[0m\u001b[1;33m,\u001b[0m \u001b[1;36m66\u001b[0m\u001b[1;33m)\u001b[0m\u001b[1;33m}\u001b[0m\u001b[1;33m\u001b[0m\u001b[1;33m\u001b[0m\u001b[0m\n\u001b[1;32m----> 2\u001b[1;33m \u001b[0mresult\u001b[0m \u001b[1;33m=\u001b[0m \u001b[1;33m[\u001b[0m\u001b[1;33m{\u001b[0m\u001b[0mx\u001b[0m\u001b[1;33m:\u001b[0m\u001b[1;33m(\u001b[0m\u001b[0my\u001b[0m\u001b[1;33m,\u001b[0m\u001b[0mz\u001b[0m\u001b[1;33m)\u001b[0m\u001b[1;33m}\u001b[0m \u001b[1;32mfor\u001b[0m \u001b[1;33m(\u001b[0m\u001b[0mx\u001b[0m\u001b[1;33m,\u001b[0m\u001b[0my\u001b[0m\u001b[1;33m,\u001b[0m\u001b[0mz\u001b[0m\u001b[1;33m)\u001b[0m \u001b[1;32min\u001b[0m \u001b[0mX\u001b[0m\u001b[1;33m]\u001b[0m\u001b[1;33m\u001b[0m\u001b[1;33m\u001b[0m\u001b[0m\n\u001b[0m\u001b[0;32m      3\u001b[0m \u001b[1;32mif\u001b[0m \u001b[0my\u001b[0m\u001b[1;33m>\u001b[0m\u001b[1;36m6\u001b[0m \u001b[1;32mand\u001b[0m \u001b[0mz\u001b[0m\u001b[1;33m>\u001b[0m\u001b[1;36m70\u001b[0m\u001b[1;33m:\u001b[0m\u001b[1;33m\u001b[0m\u001b[1;33m\u001b[0m\u001b[0m\n\u001b[0;32m      4\u001b[0m     \u001b[0mprint\u001b[0m \u001b[1;33m(\u001b[0m\u001b[0msorted\u001b[0m\u001b[1;33m(\u001b[0m\u001b[0mX\u001b[0m\u001b[1;33m)\u001b[0m\u001b[1;33m)\u001b[0m\u001b[1;33m\u001b[0m\u001b[1;33m\u001b[0m\u001b[0m\n",
      "\u001b[1;32m~\\AppData\\Local\\Temp/ipykernel_11612/477797388.py\u001b[0m in \u001b[0;36m<listcomp>\u001b[1;34m(.0)\u001b[0m\n\u001b[0;32m      1\u001b[0m \u001b[0mX\u001b[0m \u001b[1;33m=\u001b[0m \u001b[1;33m{\u001b[0m\u001b[1;34m'Cierra Vega'\u001b[0m\u001b[1;33m:\u001b[0m \u001b[1;33m(\u001b[0m\u001b[1;36m6.2\u001b[0m\u001b[1;33m,\u001b[0m \u001b[1;36m70\u001b[0m\u001b[1;33m)\u001b[0m\u001b[1;33m,\u001b[0m \u001b[1;34m'Alden Cantrell'\u001b[0m\u001b[1;33m:\u001b[0m \u001b[1;33m(\u001b[0m\u001b[1;36m5.9\u001b[0m\u001b[1;33m,\u001b[0m \u001b[1;36m65\u001b[0m\u001b[1;33m)\u001b[0m\u001b[1;33m,\u001b[0m \u001b[1;34m'Kierra Gentry'\u001b[0m\u001b[1;33m:\u001b[0m \u001b[1;33m(\u001b[0m\u001b[1;36m6.0\u001b[0m\u001b[1;33m,\u001b[0m \u001b[1;36m68\u001b[0m\u001b[1;33m)\u001b[0m\u001b[1;33m,\u001b[0m \u001b[1;34m'Pierre Cox'\u001b[0m\u001b[1;33m:\u001b[0m \u001b[1;33m(\u001b[0m\u001b[1;36m5.8\u001b[0m\u001b[1;33m,\u001b[0m \u001b[1;36m66\u001b[0m\u001b[1;33m)\u001b[0m\u001b[1;33m}\u001b[0m\u001b[1;33m\u001b[0m\u001b[1;33m\u001b[0m\u001b[0m\n\u001b[1;32m----> 2\u001b[1;33m \u001b[0mresult\u001b[0m \u001b[1;33m=\u001b[0m \u001b[1;33m[\u001b[0m\u001b[1;33m{\u001b[0m\u001b[0mx\u001b[0m\u001b[1;33m:\u001b[0m\u001b[1;33m(\u001b[0m\u001b[0my\u001b[0m\u001b[1;33m,\u001b[0m\u001b[0mz\u001b[0m\u001b[1;33m)\u001b[0m\u001b[1;33m}\u001b[0m \u001b[1;32mfor\u001b[0m \u001b[1;33m(\u001b[0m\u001b[0mx\u001b[0m\u001b[1;33m,\u001b[0m\u001b[0my\u001b[0m\u001b[1;33m,\u001b[0m\u001b[0mz\u001b[0m\u001b[1;33m)\u001b[0m \u001b[1;32min\u001b[0m \u001b[0mX\u001b[0m\u001b[1;33m]\u001b[0m\u001b[1;33m\u001b[0m\u001b[1;33m\u001b[0m\u001b[0m\n\u001b[0m\u001b[0;32m      3\u001b[0m \u001b[1;32mif\u001b[0m \u001b[0my\u001b[0m\u001b[1;33m>\u001b[0m\u001b[1;36m6\u001b[0m \u001b[1;32mand\u001b[0m \u001b[0mz\u001b[0m\u001b[1;33m>\u001b[0m\u001b[1;36m70\u001b[0m\u001b[1;33m:\u001b[0m\u001b[1;33m\u001b[0m\u001b[1;33m\u001b[0m\u001b[0m\n\u001b[0;32m      4\u001b[0m     \u001b[0mprint\u001b[0m \u001b[1;33m(\u001b[0m\u001b[0msorted\u001b[0m\u001b[1;33m(\u001b[0m\u001b[0mX\u001b[0m\u001b[1;33m)\u001b[0m\u001b[1;33m)\u001b[0m\u001b[1;33m\u001b[0m\u001b[1;33m\u001b[0m\u001b[0m\n",
      "\u001b[1;31mValueError\u001b[0m: too many values to unpack (expected 3)"
     ]
    }
   ],
   "source": [
    "X = {'Cierra Vega': (6.2, 70), 'Alden Cantrell': (5.9, 65), 'Kierra Gentry': (6.0, 68), 'Pierre Cox': (5.8, 66)}\n",
    "result = [{x:(y,z)} for (x,y,z) in ]\n",
    "if y>6 and z>70:\n",
    "    print (sorted(X))\n"
   ]
  },
  {
   "cell_type": "code",
   "execution_count": 64,
   "id": "34b04285",
   "metadata": {},
   "outputs": [],
   "source": [
    "S = {'Cierra Vega': 12, 'Alden Cantrell': 12, 'Kierra Gentry': 12, 'Pierre Cox': 12}\n",
    "re = {y for x,y in S.items()}\n",
    "if y == 12:\n",
    "    print ('True')\n"
   ]
  },
  {
   "cell_type": "code",
   "execution_count": 21,
   "id": "b1b22fdd",
   "metadata": {},
   "outputs": [
    {
     "ename": "AttributeError",
     "evalue": "'list' object has no attribute 'items'",
     "output_type": "error",
     "traceback": [
      "\u001b[1;31m---------------------------------------------------------------------------\u001b[0m",
      "\u001b[1;31mAttributeError\u001b[0m                            Traceback (most recent call last)",
      "\u001b[1;32m~\\AppData\\Local\\Temp/ipykernel_376/2140174389.py\u001b[0m in \u001b[0;36m<module>\u001b[1;34m\u001b[0m\n\u001b[0;32m      1\u001b[0m X = [{'id': '#FF0000', 'color': 'Red'}, {'id': '#800000', 'color': 'Maroon'}, \n\u001b[0;32m      2\u001b[0m  {'id': '#FFFF00', 'color': 'Yellow'}, {'id': '#808000', 'color': 'Olive'}]\n\u001b[1;32m----> 3\u001b[1;33m \u001b[0md\u001b[0m \u001b[1;33m=\u001b[0m \u001b[1;33m{\u001b[0m\u001b[0mkey\u001b[0m\u001b[1;33m:\u001b[0m\u001b[0mvalue\u001b[0m  \u001b[1;32mfor\u001b[0m \u001b[0mkey\u001b[0m\u001b[1;33m,\u001b[0m \u001b[0mvalue\u001b[0m \u001b[1;32min\u001b[0m \u001b[0mX\u001b[0m\u001b[1;33m.\u001b[0m\u001b[0mitems\u001b[0m\u001b[1;33m(\u001b[0m\u001b[1;33m)\u001b[0m\u001b[1;33m}\u001b[0m\u001b[1;33m\u001b[0m\u001b[1;33m\u001b[0m\u001b[0m\n\u001b[0m\u001b[0;32m      4\u001b[0m \u001b[1;32mif\u001b[0m \u001b[0mvalue\u001b[0m \u001b[1;33m==\u001b[0m \u001b[1;34m'FF0000'\u001b[0m\u001b[1;33m:\u001b[0m\u001b[1;33m\u001b[0m\u001b[1;33m\u001b[0m\u001b[0m\n\u001b[0;32m      5\u001b[0m     \u001b[0mprint\u001b[0m \u001b[1;33m(\u001b[0m\u001b[0mi\u001b[0m\u001b[1;33m)\u001b[0m\u001b[1;33m\u001b[0m\u001b[1;33m\u001b[0m\u001b[0m\n",
      "\u001b[1;31mAttributeError\u001b[0m: 'list' object has no attribute 'items'"
     ]
    }
   ],
   "source": [
    "X = [{'id': '#FF0000', 'color': 'Red'}, {'id': '#800000', 'color': 'Maroon'}, \n",
    " {'id': '#FFFF00', 'color': 'Yellow'}, {'id': '#808000', 'color': 'Olive'}]\n",
    "d = {key:value  for key, value in X.items()}\n",
    "if value == 'FF0000':\n",
    "    print (i)\n"
   ]
  },
  {
   "cell_type": "code",
   "execution_count": 72,
   "id": "499f8817",
   "metadata": {},
   "outputs": [
    {
     "name": "stdout",
     "output_type": "stream",
     "text": [
      "None\n"
     ]
    }
   ],
   "source": [
    "A = {'C1': [10, 20, 30], 'C2': [20, 30, 40], 'C3': [12, 34]}\n",
    "d = {key:[value] for key,value in A.items()}\n",
    "print (A.clear(val))"
   ]
  },
  {
   "cell_type": "code",
   "execution_count": 6,
   "id": "06b95f15",
   "metadata": {},
   "outputs": [
    {
     "name": "stdout",
     "output_type": "stream",
     "text": [
      "{'Science'}\n"
     ]
    }
   ],
   "source": [
    "d = [{'Math': 90, 'Science': 92}, {'Math': 89, 'Science': 94}, {'Math': 92, 'Science': 88}]\n",
    "re = {y for x,y in d}\n",
    "print (re)"
   ]
  },
  {
   "cell_type": "code",
   "execution_count": 7,
   "id": "933f3d7a",
   "metadata": {},
   "outputs": [
    {
     "name": "stdout",
     "output_type": "stream",
     "text": [
      "\n",
      "Original Dictionary:\n",
      "[{'Math': 90, 'Science': 92}, {'Math': 89, 'Science': 94}, {'Math': 92, 'Science': 88}]\n",
      "\n",
      "Extract a list of values from said list of dictionaries where subject = Science\n",
      "[92, 94, 88]\n",
      "\n",
      "Original Dictionary:\n",
      "[{'Math': 90, 'Science': 92}, {'Math': 89, 'Science': 94}, {'Math': 92, 'Science': 88}]\n",
      "\n",
      "Extract a list of values from said list of dictionaries where subject = Math\n",
      "[90, 89, 92]\n"
     ]
    }
   ],
   "source": [
    "def test(lst, marks):\n",
    "    result = [d[marks] for d in lst if marks in d]\n",
    " \n",
    "    return result\n",
    "\n",
    "marks = [{'Math': 90, 'Science': 92}, \n",
    "         {'Math': 89, 'Science': 94}, \n",
    "         {'Math': 92, 'Science': 88}]\n",
    "\n",
    "print(\"\\nOriginal Dictionary:\")\n",
    "print(marks)\n",
    "subj = \"Science\"\n",
    "print(\"\\nExtract a list of values from said list of dictionaries where subject =\",subj)\n",
    "print(test(marks, subj))\n",
    "\n",
    "print(\"\\nOriginal Dictionary:\")\n",
    "print(marks)\n",
    "subj = \"Math\"\n",
    "print(\"\\nExtract a list of values from said list of dictionaries where subject =\",subj)\n",
    "print(test(marks, subj))\n"
   ]
  },
  {
   "cell_type": "code",
   "execution_count": 9,
   "id": "0e250602",
   "metadata": {},
   "outputs": [
    {
     "ename": "NameError",
     "evalue": "name 'y' is not defined",
     "output_type": "error",
     "traceback": [
      "\u001b[1;31m---------------------------------------------------------------------------\u001b[0m",
      "\u001b[1;31mNameError\u001b[0m                                 Traceback (most recent call last)",
      "\u001b[1;32m~\\AppData\\Local\\Temp/ipykernel_376/1507786421.py\u001b[0m in \u001b[0;36m<module>\u001b[1;34m\u001b[0m\n\u001b[0;32m      1\u001b[0m \u001b[0mD\u001b[0m \u001b[1;33m=\u001b[0m \u001b[1;33m{\u001b[0m\u001b[1;36m1\u001b[0m\u001b[1;33m:\u001b[0m \u001b[1;34m'red'\u001b[0m\u001b[1;33m,\u001b[0m \u001b[1;36m2\u001b[0m\u001b[1;33m:\u001b[0m \u001b[1;34m'green'\u001b[0m\u001b[1;33m,\u001b[0m \u001b[1;36m3\u001b[0m\u001b[1;33m:\u001b[0m \u001b[1;34m'black'\u001b[0m\u001b[1;33m,\u001b[0m \u001b[1;36m4\u001b[0m\u001b[1;33m:\u001b[0m \u001b[1;34m'white'\u001b[0m\u001b[1;33m,\u001b[0m \u001b[1;36m5\u001b[0m\u001b[1;33m:\u001b[0m \u001b[1;34m'black'\u001b[0m\u001b[1;33m}\u001b[0m\u001b[1;33m\u001b[0m\u001b[1;33m\u001b[0m\u001b[0m\n\u001b[0;32m      2\u001b[0m \u001b[0mre\u001b[0m  \u001b[1;33m=\u001b[0m \u001b[1;33m{\u001b[0m\u001b[0my\u001b[0m \u001b[1;32mfor\u001b[0m \u001b[0mx\u001b[0m\u001b[1;33m,\u001b[0m\u001b[0my\u001b[0m \u001b[1;32min\u001b[0m \u001b[0mD\u001b[0m\u001b[1;33m.\u001b[0m\u001b[0mitems\u001b[0m\u001b[1;33m(\u001b[0m\u001b[1;33m)\u001b[0m\u001b[1;33m}\u001b[0m\u001b[1;33m\u001b[0m\u001b[1;33m\u001b[0m\u001b[0m\n\u001b[1;32m----> 3\u001b[1;33m \u001b[0mprint\u001b[0m \u001b[1;33m(\u001b[0m\u001b[0mlen\u001b[0m\u001b[1;33m[\u001b[0m\u001b[0my\u001b[0m\u001b[1;33m]\u001b[0m\u001b[1;33m)\u001b[0m\u001b[1;33m\u001b[0m\u001b[1;33m\u001b[0m\u001b[0m\n\u001b[0m",
      "\u001b[1;31mNameError\u001b[0m: name 'y' is not defined"
     ]
    }
   ],
   "source": [
    "D = {1: 'red', 2: 'green', 3: 'black', 4: 'white', 5: 'black'}\n",
    "re  = {y for x,y in D.items()}\n",
    "print (len[y])\n"
   ]
  },
  {
   "cell_type": "code",
   "execution_count": 12,
   "id": "602b3cef",
   "metadata": {},
   "outputs": [
    {
     "ename": "IndentationError",
     "evalue": "unexpected indent (Temp/ipykernel_376/2330489821.py, line 3)",
     "output_type": "error",
     "traceback": [
      "\u001b[1;36m  File \u001b[1;32m\"C:\\Users\\win10\\AppData\\Local\\Temp/ipykernel_376/2330489821.py\"\u001b[1;36m, line \u001b[1;32m3\u001b[0m\n\u001b[1;33m    return y\u001b[0m\n\u001b[1;37m    ^\u001b[0m\n\u001b[1;31mIndentationError\u001b[0m\u001b[1;31m:\u001b[0m unexpected indent\n"
     ]
    }
   ],
   "source": [
    "D = {1: 'red', 2: 'green', 3: 'black', 4: 'white', 5: 'black'}\n",
    "f = {y for x,y in D.items()}\n",
    "   return y"
   ]
  },
  {
   "cell_type": "code",
   "execution_count": 17,
   "id": "14e57412",
   "metadata": {},
   "outputs": [
    {
     "ename": "SyntaxError",
     "evalue": "invalid syntax (Temp/ipykernel_376/3064120128.py, line 2)",
     "output_type": "error",
     "traceback": [
      "\u001b[1;36m  File \u001b[1;32m\"C:\\Users\\win10\\AppData\\Local\\Temp/ipykernel_376/3064120128.py\"\u001b[1;36m, line \u001b[1;32m2\u001b[0m\n\u001b[1;33m    Y = filter({key:[value] for key,[value] in X.items()} if [value] % 2 == 0 )\u001b[0m\n\u001b[1;37m                                                                              ^\u001b[0m\n\u001b[1;31mSyntaxError\u001b[0m\u001b[1;31m:\u001b[0m invalid syntax\n"
     ]
    }
   ],
   "source": [
    "X = {'V': [1, 4, 6, 10], 'VI': [1, 4, 12], 'VII': [1, 3, 8]}\n",
    "Y = filter({key:[value] for key,[value] in X.items()} if [value] % 2 == 0 )"
   ]
  },
  {
   "cell_type": "code",
   "execution_count": 18,
   "id": "98b0af24",
   "metadata": {},
   "outputs": [
    {
     "name": "stdout",
     "output_type": "stream",
     "text": [
      "i\n"
     ]
    }
   ],
   "source": [
    "S = {'a': 5, 'b': 14, 'c': 32, 'd': 35, 'e': 24, 'f': 100, 'g': 57, 'h': 8, 'i': 100}\n",
    "y = max(x for x,y in S.items())\n",
    "print (y)\n"
   ]
  },
  {
   "cell_type": "code",
   "execution_count": 27,
   "id": "baf22884",
   "metadata": {},
   "outputs": [
    {
     "name": "stdout",
     "output_type": "stream",
     "text": [
      "Counter({70: 1, 40: 1, 10: 1, 80: 1, 20: 1})\n"
     ]
    }
   ],
   "source": [
    "from collections import Counter\n",
    "\n",
    "Z = {'V': 10, 'VI': 10, 'VII': 40, 'VIII': 20, 'IX': 70, 'X': 80, 'XI': 40, 'XII': 20}\n",
    "f = Counter({y for x,y in Z.items()})\n",
    "print (f)"
   ]
  },
  {
   "cell_type": "code",
   "execution_count": 32,
   "id": "cae66fd1",
   "metadata": {},
   "outputs": [
    {
     "name": "stdout",
     "output_type": "stream",
     "text": [
      "IX\n"
     ]
    }
   ],
   "source": [
    "Original  = {'V': [10, 12], 'VI': [10], 'VII': [10, 20, 30, 40], 'VIII': [20], 'IX': [10, 30, 50, 70], 'X': [80]} \n",
    "fg = min(x for x,y in Original.items()) \n",
    "print (fg)"
   ]
  },
  {
   "cell_type": "code",
   "execution_count": 37,
   "id": "f52bfb5d",
   "metadata": {},
   "outputs": [
    {
     "name": "stdout",
     "output_type": "stream",
     "text": [
      "Counter({70: 1, 40: 1, 10: 1, 80: 1, 20: 1})\n"
     ]
    }
   ],
   "source": [
    "from collections import Counter\n",
    "A = {'V': 10, 'VI': 10, 'VII': 40, 'VIII': 20, 'IX': 70, 'X': 80, 'XI': 40, 'XII': 20}\n",
    "f = Counter({y for x,y in A.items()})\n",
    "print (f)\n",
    "\n"
   ]
  },
  {
   "cell_type": "code",
   "execution_count": 38,
   "id": "48296d99",
   "metadata": {},
   "outputs": [
    {
     "ename": "ValueError",
     "evalue": "dictionary update sequence element #0 has length 3; 2 is required",
     "output_type": "error",
     "traceback": [
      "\u001b[1;31m---------------------------------------------------------------------------\u001b[0m",
      "\u001b[1;31mValueError\u001b[0m                                Traceback (most recent call last)",
      "\u001b[1;32m~\\AppData\\Local\\Temp/ipykernel_376/2452284596.py\u001b[0m in \u001b[0;36m<module>\u001b[1;34m\u001b[0m\n\u001b[0;32m      1\u001b[0m X = [[1, 'Jean Castro', 'V'], [2, 'Lula Powell', 'V'], [3, 'Brian Howell', 'VI'], \n\u001b[0;32m      2\u001b[0m      [4, 'Lynne Foster', 'VI'], [5, 'Zachary Simon', 'VII']]\n\u001b[1;32m----> 3\u001b[1;33m \u001b[0mprint\u001b[0m \u001b[1;33m(\u001b[0m\u001b[0mdict\u001b[0m\u001b[1;33m(\u001b[0m\u001b[0mX\u001b[0m\u001b[1;33m)\u001b[0m\u001b[1;33m)\u001b[0m\u001b[1;33m\u001b[0m\u001b[1;33m\u001b[0m\u001b[0m\n\u001b[0m",
      "\u001b[1;31mValueError\u001b[0m: dictionary update sequence element #0 has length 3; 2 is required"
     ]
    }
   ],
   "source": [
    "X = [[1, 'Jean Castro', 'V'], [2, 'Lula Powell', 'V'], [3, 'Brian Howell', 'VI'], \n",
    "     [4, 'Lynne Foster', 'VI'], [5, 'Zachary Simon', 'VII']]\n",
    "print (dict(X))"
   ]
  },
  {
   "cell_type": "code",
   "execution_count": 39,
   "id": "f873b688",
   "metadata": {},
   "outputs": [
    {
     "name": "stdout",
     "output_type": "stream",
     "text": [
      "{'a': 1, 'b': 2, 'c': 3}\n"
     ]
    }
   ],
   "source": [
    "# Python3 program to Convert a\n",
    "# list to dictionary\n",
    "\n",
    "def Convert(a):\n",
    "\tit = iter(a)\n",
    "\tres_dct = dict(zip(it, it))\n",
    "\treturn res_dct\n",
    "\t\t\n",
    "# Driver code\n",
    "lst = ['a', 1, 'b', 2, 'c', 3]\n",
    "print(Convert(lst))\n"
   ]
  },
  {
   "cell_type": "code",
   "execution_count": 43,
   "id": "08849103",
   "metadata": {},
   "outputs": [
    {
     "name": "stdout",
     "output_type": "stream",
     "text": [
      "\n",
      "Original dictionary:\n",
      "{'#FF0000': 'Red', '#800000': 'Maroon', '#FFFF00': 'Yellow', '#808000': 'Olive'}\n",
      "\n",
      "Total length of all values of the said dictionary with string values:\n",
      "20\n"
     ]
    }
   ],
   "source": [
    "def test(dictt):\n",
    "    result = sum((len(values) for values in dictt.values()))\n",
    "    return result\n",
    "color = {'#FF0000':'Red', '#800000':'Maroon', '#FFFF00':'Yellow', '#808000':'Olive'}\n",
    "print(\"\\nOriginal dictionary:\")\n",
    "print(color)\n",
    "print(\"\\nTotal length of all values of the said dictionary with string values:\")\n",
    "print(test(color))\n"
   ]
  },
  {
   "cell_type": "code",
   "execution_count": 44,
   "id": "ac003f62",
   "metadata": {},
   "outputs": [
    {
     "name": "stdout",
     "output_type": "stream",
     "text": [
      "<zip object at 0x0000016F9D3487C0>\n"
     ]
    }
   ],
   "source": [
    "s = {'w': 50, 'x': 100, 'y': 'Green', 'z': 400}\n",
    "f = {'x': 300, 'y': 'Red', 'z': 600}\n",
    "print (zip(s,f))\n",
    "\n"
   ]
  },
  {
   "cell_type": "code",
   "execution_count": 46,
   "id": "f60cd2ff",
   "metadata": {},
   "outputs": [
    {
     "ename": "TypeError",
     "evalue": "'builtin_function_or_method' object is not subscriptable",
     "output_type": "error",
     "traceback": [
      "\u001b[1;31m---------------------------------------------------------------------------\u001b[0m",
      "\u001b[1;31mTypeError\u001b[0m                                 Traceback (most recent call last)",
      "\u001b[1;32m~\\AppData\\Local\\Temp/ipykernel_376/4130622020.py\u001b[0m in \u001b[0;36m<module>\u001b[1;34m\u001b[0m\n\u001b[0;32m      1\u001b[0m \u001b[0md\u001b[0m \u001b[1;33m=\u001b[0m \u001b[1;33m[\u001b[0m\u001b[1;34m'Red'\u001b[0m\u001b[1;33m,\u001b[0m \u001b[1;34m'Green'\u001b[0m\u001b[1;33m,\u001b[0m \u001b[1;34m'Black'\u001b[0m\u001b[1;33m,\u001b[0m \u001b[1;34m'White'\u001b[0m\u001b[1;33m,\u001b[0m \u001b[1;34m'Pink'\u001b[0m\u001b[1;33m]\u001b[0m\u001b[1;33m\u001b[0m\u001b[1;33m\u001b[0m\u001b[0m\n\u001b[0;32m      2\u001b[0m \u001b[1;32mfor\u001b[0m \u001b[0mi\u001b[0m \u001b[1;32min\u001b[0m \u001b[0md\u001b[0m\u001b[1;33m:\u001b[0m\u001b[1;33m\u001b[0m\u001b[1;33m\u001b[0m\u001b[0m\n\u001b[1;32m----> 3\u001b[1;33m     \u001b[0mprint\u001b[0m \u001b[1;33m(\u001b[0m\u001b[0mlen\u001b[0m\u001b[1;33m[\u001b[0m\u001b[0md\u001b[0m\u001b[1;33m]\u001b[0m\u001b[1;33m)\u001b[0m\u001b[1;33m\u001b[0m\u001b[1;33m\u001b[0m\u001b[0m\n\u001b[0m",
      "\u001b[1;31mTypeError\u001b[0m: 'builtin_function_or_method' object is not subscriptable"
     ]
    }
   ],
   "source": [
    "d = ['Red', 'Green', 'Black', 'White', 'Pink'] \n",
    "for i in d:\n",
    "    X = len[]\n",
    "    \n"
   ]
  },
  {
   "cell_type": "code",
   "execution_count": 1,
   "id": "7d35b2fc",
   "metadata": {},
   "outputs": [
    {
     "name": "stdout",
     "output_type": "stream",
     "text": [
      "{'a': 1, 'b': 2, 'c': 3}\n"
     ]
    }
   ],
   "source": [
    "d = [[1, 'Jean Castro', 'V'], [2, 'Lula Powell', 'V'], [3, 'Brian Howell', 'VI'], \n",
    "     [4, 'Lynne Foster', 'VI'], [5, 'Zachary Simon', 'VII']]\n",
    "# Python3 program to Convert a\n",
    "# list to dictionary\n",
    "\n",
    "def Convert(a):\n",
    "\tit = iter(a)\n",
    "\tres_dct = dict(zip(it, it))\n",
    "\treturn res_dct\n",
    "\t\t\n",
    "# Driver code\n",
    "lst = ['a', 1, 'b', 2, 'c', 3]\n",
    "print(Convert(lst))\n",
    "\n"
   ]
  },
  {
   "cell_type": "code",
   "execution_count": 16,
   "id": "70e98ccb",
   "metadata": {},
   "outputs": [
    {
     "name": "stdout",
     "output_type": "stream",
     "text": [
      "[{'Yellow', 'Maroon', 'Red', 'Olive'}]\n"
     ]
    }
   ],
   "source": [
    "d = {'#FF0000': 'Red', '#800000': 'Maroon', '#FFFF00': 'Yellow', '#808000': 'Olive'}\n",
    "fr = {y for x , y in d.items()}\n",
    "print ([fr])"
   ]
  },
  {
   "cell_type": "code",
   "execution_count": 22,
   "id": "e336aa11",
   "metadata": {},
   "outputs": [],
   "source": [
    "X = [{'student_id': 1, 'name': 'Jean Castro', 'class': 'V'}, \n",
    "     {'student_id': 2, 'name': 'Lula Powell', 'class': 'V'}, \n",
    "     {'student_id': 3, 'name': 'Brian Howell', 'class': 'VI'}, \n",
    "     {'student_id': 4, 'name': 'Lynne Foster', 'class': 'VI'}, \n",
    "    {'student_id': 5, 'name': 'Zachary Simon', 'class': 'VII'}]\n",
    "for i in X:\n",
    "    if i == 'student_id':\n",
    "        print ('True')\n"
   ]
  },
  {
   "cell_type": "code",
   "execution_count": 24,
   "id": "06cdb41f",
   "metadata": {},
   "outputs": [
    {
     "name": "stdout",
     "output_type": "stream",
     "text": [
      "<zip object at 0x0000021F32903980>\n"
     ]
    }
   ],
   "source": [
    "A ={'w': 50, 'x': 100, 'y': 'Green', 'z': 400}\n",
    "B = {'x': 300, 'y': 'Red', 'z': 600}\n",
    "rt = (zip(A,B))\n",
    "print (rt)"
   ]
  },
  {
   "cell_type": "code",
   "execution_count": 29,
   "id": "00950706",
   "metadata": {},
   "outputs": [
    {
     "name": "stdout",
     "output_type": "stream",
     "text": [
      "Original list & function:\n",
      "[7, 23, 3.2, 3.3, 8.4]  Function name: floor:\n",
      "Group the elements of the said list based on the given function:\n",
      "{7: [7], 23: [23], 3: [3.2, 3.3], 8: [8.4]}\n",
      "\n",
      "\n",
      "Original list & function:\n",
      "['Red', 'Green', 'Black', 'White', 'Pink']  Function name: len:\n",
      "Group the elements of the said list based on the given function:\n",
      "{3: ['Red'], 5: ['Green', 'Black', 'White'], 4: ['Pink']}\n"
     ]
    }
   ],
   "source": [
    "from collections import defaultdict\n",
    "from math import floor\n",
    "def test(lst, fn):\n",
    "  d = defaultdict(list)\n",
    "  for el in lst:\n",
    "    d[fn(el)].append(el)\n",
    "  return dict(d)\n",
    "nums = [7,23, 3.2, 3.3, 8.4]\n",
    "print(\"Original list & function:\")\n",
    "print(nums,\" Function name: floor:\")\n",
    "print(\"Group the elements of the said list based on the given function:\")\n",
    "print(test(nums, floor))\n",
    "print(\"\\n\")\n",
    "print(\"Original list & function:\")\n",
    "colors = ['Red', 'Green', 'Black', 'White', 'Pink']\n",
    "print(colors,\" Function name: len:\")\n",
    "print(\"Group the elements of the said list based on the given function:\")\n",
    "print(test(colors, len))\n"
   ]
  },
  {
   "cell_type": "code",
   "execution_count": 33,
   "id": "367c1300",
   "metadata": {},
   "outputs": [
    {
     "name": "stdout",
     "output_type": "stream",
     "text": [
      "{'age'}\n"
     ]
    }
   ],
   "source": [
    "s = [{'name': 'Theodore', 'age': 18}, {'name': 'Mathew', 'age': 22}, \n",
    "     {'name': 'Roxanne', 'age': 20}, {'name': 'David', 'age': 18}]\n",
    "dr = {y for x,y in s}\n",
    "print (dr)"
   ]
  },
  {
   "cell_type": "code",
   "execution_count": 34,
   "id": "3bf605fe",
   "metadata": {},
   "outputs": [],
   "source": [
    "def test(lsts, key):\n",
    "  return [x.get(key) for x in lsts]"
   ]
  },
  {
   "cell_type": "code",
   "execution_count": 8,
   "id": "2fc75eef",
   "metadata": {},
   "outputs": [],
   "source": [
    "s = {'Theodore': 19, 'Roxanne': 20, 'Mathew': 21, 'Betty': 20}\n",
    "d = {y for x,y in s.items()}\n",
    "if d == 20:\n",
    "    print (x)"
   ]
  },
  {
   "cell_type": "code",
   "execution_count": 4,
   "id": "86732473",
   "metadata": {},
   "outputs": [
    {
     "name": "stdout",
     "output_type": "stream",
     "text": [
      "80\n"
     ]
    }
   ],
   "source": [
    "s = {'Theodore': 19, 'Roxanne': 20, 'Mathew': 21, 'Betty': 20}\n",
    "d = [y for x,y in s.items()]\n",
    "print (sum(d))"
   ]
  },
  {
   "cell_type": "code",
   "execution_count": 8,
   "id": "0f41e60e",
   "metadata": {},
   "outputs": [
    {
     "name": "stdout",
     "output_type": "stream",
     "text": [
      "{'Roxanne': 20, 'Mathew': 21, 'Betty': 20}\n"
     ]
    }
   ],
   "source": [
    "s = {'Theodore': 19, 'Roxanne': 20, 'Mathew': 21, 'Betty': 20}\n",
    "s.pop('Theodore')\n",
    "print (s)"
   ]
  },
  {
   "cell_type": "code",
   "execution_count": 10,
   "id": "740be08b",
   "metadata": {},
   "outputs": [
    {
     "name": "stdout",
     "output_type": "stream",
     "text": [
      "<map object at 0x000001BB53614C40>\n"
     ]
    }
   ],
   "source": [
    "s = {'Theodore': 19, 'Roxanne': 20, 'Mathew': 21, 'Betty': 20}\n",
    "d = {'Theodore': 19, 'Roxanne': 20, 'Mathew': 21, 'Betty': 20}\n",
    "result = map(s,d)\n",
    "print (result)\n"
   ]
  },
  {
   "cell_type": "code",
   "execution_count": 11,
   "id": "4291dfe5",
   "metadata": {},
   "outputs": [
    {
     "name": "stdout",
     "output_type": "stream",
     "text": [
      "21\n"
     ]
    }
   ],
   "source": [
    "s = {'Theodore': 19, 'Roxanne': 20, 'Mathew': 21, 'Betty': 20}\n",
    "d = [y for x,y in s.items()]\n",
    "print (max(d))"
   ]
  },
  {
   "cell_type": "code",
   "execution_count": 14,
   "id": "4c3099bf",
   "metadata": {},
   "outputs": [],
   "source": [
    "s = {'Theodore': 19, 'Roxanne': 20, 'Mathew': 21, 'Betty': 20}\n",
    "d = [y for x,y in s.items()]\n",
    "if d in d:\n",
    "    print (s.pop(d))"
   ]
  },
  {
   "cell_type": "code",
   "execution_count": 18,
   "id": "d5dd38f7",
   "metadata": {},
   "outputs": [
    {
     "name": "stdout",
     "output_type": "stream",
     "text": [
      "<zip object at 0x000001BB53615E40>\n"
     ]
    }
   ],
   "source": [
    "from collections import Counter\n",
    "\n",
    "d1 = {'a': 100, 'b': 200, 'c':300}\n",
    "d2 = {'a': 300, 'b': 200, 'd':400}\n",
    "print ( zip(d1,d2))"
   ]
  },
  {
   "cell_type": "code",
   "execution_count": 29,
   "id": "c1eb64e1",
   "metadata": {},
   "outputs": [
    {
     "name": "stdout",
     "output_type": "stream",
     "text": [
      "Counter({'a': 400, 'b': 400, 'd': 400, 'c': 300})\n"
     ]
    }
   ],
   "source": [
    "from collections import Counter\n",
    "d1 = {'a': 100, 'b': 200, 'c':300}\n",
    "d2 = {'a': 300, 'b': 200, 'd':400}\n",
    "d = Counter(d1) + Counter(d2)\n",
    "print(d)\n"
   ]
  },
  {
   "cell_type": "code",
   "execution_count": 30,
   "id": "ee4c558f",
   "metadata": {},
   "outputs": [
    {
     "name": "stdout",
     "output_type": "stream",
     "text": [
      "Original List:  [{'V': 'S001'}, {'V': 'S002'}, {'VI': 'S001'}, {'VI': 'S005'}, {'VII': 'S005'}, {'V': 'S009'}, {'VIII': 'S007'}]\n",
      "Unique Values:  {'S001', 'S002', 'S009', 'S007', 'S005'}\n"
     ]
    }
   ],
   "source": [
    "L = [{\"V\":\"S001\"}, {\"V\": \"S002\"}, {\"VI\": \"S001\"}, {\"VI\": \"S005\"}, {\"VII\":\"S005\"}, {\"V\":\"S009\"},{\"VIII\":\"S007\"}]\n",
    "print(\"Original List: \",L)\n",
    "u_value = set( val for dic in L for val in dic.values())\n",
    "print(\"Unique Values: \",u_value)\n"
   ]
  },
  {
   "cell_type": "code",
   "execution_count": 31,
   "id": "563132fd",
   "metadata": {},
   "outputs": [
    {
     "name": "stdout",
     "output_type": "stream",
     "text": [
      "300\n"
     ]
    }
   ],
   "source": [
    "d1 = {'a': 100, 'b': 200, 'c':300}\n",
    "d = [y for x,y in d1.items()]\n",
    "print (max(d))"
   ]
  },
  {
   "cell_type": "code",
   "execution_count": 32,
   "id": "f453f1fc",
   "metadata": {},
   "outputs": [
    {
     "name": "stdout",
     "output_type": "stream",
     "text": [
      "Counter({'item1': 1150, 'item2': 300})\n"
     ]
    }
   ],
   "source": [
    "from collections import Counter\n",
    "item_list = [{'item': 'item1', 'amount': 400}, {'item': 'item2', 'amount': 300}, {'item': 'item1', 'amount': 750}]\n",
    "result = Counter()\n",
    "for d in item_list:\n",
    "    result[d['item']] += d['amount']\n",
    "print(result) \n"
   ]
  },
  {
   "cell_type": "code",
   "execution_count": 38,
   "id": "dce3e1f6",
   "metadata": {},
   "outputs": [
    {
     "name": "stdout",
     "output_type": "stream",
     "text": [
      "2\n",
      "2\n",
      "2\n"
     ]
    }
   ],
   "source": [
    "item_list = [{'item': 'item1', 'amount': 400}, {'item': 'item2', 'amount': 300}, {'item': 'item1', 'amount': 750}]\n",
    "for i in item_list:\n",
    "    print (len(i))\n"
   ]
  },
  {
   "cell_type": "code",
   "execution_count": 46,
   "id": "eb2d29d3",
   "metadata": {},
   "outputs": [
    {
     "name": "stdout",
     "output_type": "stream",
     "text": [
      "item4 55\n",
      "item1 45.5\n",
      "item3 41.3\n"
     ]
    }
   ],
   "source": [
    "from heapq import nlargest\n",
    "from operator import itemgetter\n",
    "items = {'item1': 45.50, 'item2':35, 'item3': 41.30, 'item4':55, 'item5': 24}\n",
    "for name, value in nlargest(3, items.items(), key=itemgetter(1)):\n",
    "    print(name, value)\n",
    "\t"
   ]
  },
  {
   "cell_type": "code",
   "execution_count": 51,
   "id": "e5935509",
   "metadata": {},
   "outputs": [
    {
     "name": "stdout",
     "output_type": "stream",
     "text": [
      "item1 45.5\n",
      "item2 35\n",
      "item3 41.3\n",
      "item4 55\n",
      "item5 24\n"
     ]
    }
   ],
   "source": [
    "items = {'item1': 45.50, 'item2':35, 'item3': 41.30, 'item4':55, 'item5': 24}\n",
    "for (key, value) in items.items():\n",
    "    print (key,value)"
   ]
  },
  {
   "cell_type": "code",
   "execution_count": 53,
   "id": "1373c9fe",
   "metadata": {},
   "outputs": [
    {
     "name": "stdout",
     "output_type": "stream",
     "text": [
      "5\n",
      "5\n",
      "5\n",
      "5\n",
      "5\n"
     ]
    }
   ],
   "source": [
    "items = {'item1': 45.50, 'item2':35, 'item3': 41.30, 'item4':55, 'item5': 24}\n",
    "for (key, value) in items.items():\n",
    "    print (len(key))"
   ]
  },
  {
   "cell_type": "code",
   "execution_count": 54,
   "id": "dd9e3303",
   "metadata": {},
   "outputs": [
    {
     "name": "stdout",
     "output_type": "stream",
     "text": [
      "['Chemistry', 'Math', 'Physics']\n"
     ]
    }
   ],
   "source": [
    "Sample = {'Math':81, 'Physics':83, 'Chemistry':87}\n",
    "print (sorted(Sample))\n"
   ]
  },
  {
   "cell_type": "code",
   "execution_count": 61,
   "id": "a3843d9f",
   "metadata": {},
   "outputs": [
    {
     "name": "stdout",
     "output_type": "stream",
     "text": [
      "key1 key1\n",
      "key2 key2\n"
     ]
    }
   ],
   "source": [
    "Sample = {'key1': 1, 'key2': 3, 'key3': 2} \n",
    "D = {'key1': 1, 'key2': 2}\n",
    "for (key1,value1) in Sample.items():\n",
    "    for (key,value) in D.items():\n",
    "        if key1==key:\n",
    "            print (key1,key)\n",
    "        \n"
   ]
  },
  {
   "cell_type": "code",
   "execution_count": 3,
   "id": "18b50fc3",
   "metadata": {},
   "outputs": [
    {
     "name": "stdout",
     "output_type": "stream",
     "text": [
      "{'key1', 'key2', 'key3'}\n"
     ]
    }
   ],
   "source": [
    "Sample = {'key1': 1, 'key2': 3, 'key3': 2} \n",
    "d = {x for x,y in Sample.items()}\n",
    "print (d)"
   ]
  },
  {
   "cell_type": "code",
   "execution_count": 4,
   "id": "b7d9c882",
   "metadata": {},
   "outputs": [
    {
     "name": "stdout",
     "output_type": "stream",
     "text": [
      "True\n",
      "False\n",
      "True\n"
     ]
    }
   ],
   "source": [
    "student = {\n",
    "  'name': 'Alex',\n",
    "  'class': 'V',\n",
    "  'roll_id': '2'\n",
    "}\n",
    "print(student.keys() >= {'class', 'name'})\n",
    "print(student.keys() >= {'name', 'Alex'})\n",
    "print(student.keys() >= {'roll_id', 'name'})\n"
   ]
  },
  {
   "cell_type": "code",
   "execution_count": 10,
   "id": "38a5a0ec",
   "metadata": {},
   "outputs": [
    {
     "name": "stdout",
     "output_type": "stream",
     "text": [
      "Counter({'Chemistry': 87, 'Physics': 83, 'Math': 81})\n"
     ]
    }
   ],
   "source": [
    "from collections import Counter\n",
    "Sample  = {'Math':81, 'Physics':83, 'Chemistry':87}\n",
    "p = Counter(Sample)\n",
    "print ((p))\n"
   ]
  },
  {
   "cell_type": "code",
   "execution_count": 11,
   "id": "6b874c80",
   "metadata": {},
   "outputs": [
    {
     "name": "stdout",
     "output_type": "stream",
     "text": [
      "[('Chemistry', 87), ('Physics', 83), ('Math', 81)]\n"
     ]
    }
   ],
   "source": [
    "from collections import Counter\n",
    "x = Counter({'Math':81, 'Physics':83, 'Chemistry':87})\n",
    "print(x.most_common())\n"
   ]
  },
  {
   "cell_type": "code",
   "execution_count": 13,
   "id": "bbcadd48",
   "metadata": {},
   "outputs": [
    {
     "name": "stdout",
     "output_type": "stream",
     "text": [
      "defaultdict(<class 'set'>, {'Class-V': {1}, 'Class-VI': {2}, 'Class-VII': {2}, 'Class-VIII': {3}})\n"
     ]
    }
   ],
   "source": [
    "from collections import defaultdict\n",
    "class_list = ['Class-V', 'Class-VI', 'Class-VII', 'Class-VIII']\n",
    "id_list = [1, 2, 2, 3]\n",
    "temp = defaultdict(set)\n",
    "for c, i in zip(class_list, id_list):\n",
    "    temp[c].add(i)\n",
    "print(temp)\n"
   ]
  },
  {
   "cell_type": "code",
   "execution_count": 17,
   "id": "0779a794",
   "metadata": {},
   "outputs": [
    {
     "ename": "AttributeError",
     "evalue": "'set' object has no attribute 'replace'",
     "output_type": "error",
     "traceback": [
      "\u001b[1;31m---------------------------------------------------------------------------\u001b[0m",
      "\u001b[1;31mAttributeError\u001b[0m                            Traceback (most recent call last)",
      "\u001b[1;32m~\\AppData\\Local\\Temp/ipykernel_536/1147431633.py\u001b[0m in \u001b[0;36m<module>\u001b[1;34m\u001b[0m\n\u001b[0;32m      2\u001b[0m \u001b[0md\u001b[0m \u001b[1;33m=\u001b[0m \u001b[1;33m{\u001b[0m\u001b[0my\u001b[0m \u001b[1;32mfor\u001b[0m \u001b[0mx\u001b[0m\u001b[1;33m,\u001b[0m\u001b[0my\u001b[0m \u001b[1;32min\u001b[0m \u001b[0mSample\u001b[0m\u001b[1;33m.\u001b[0m\u001b[0mitems\u001b[0m\u001b[1;33m(\u001b[0m\u001b[1;33m)\u001b[0m\u001b[1;33m}\u001b[0m\u001b[1;33m\u001b[0m\u001b[1;33m\u001b[0m\u001b[0m\n\u001b[0;32m      3\u001b[0m \u001b[0mdf\u001b[0m \u001b[1;33m=\u001b[0m \u001b[1;33m(\u001b[0m\u001b[0msum\u001b[0m\u001b[1;33m(\u001b[0m\u001b[0md\u001b[0m\u001b[1;33m)\u001b[0m\u001b[1;33m/\u001b[0m\u001b[1;36m3\u001b[0m\u001b[1;33m)\u001b[0m\u001b[1;33m\u001b[0m\u001b[1;33m\u001b[0m\u001b[0m\n\u001b[1;32m----> 4\u001b[1;33m \u001b[0mprint\u001b[0m \u001b[1;33m(\u001b[0m\u001b[0md\u001b[0m\u001b[1;33m.\u001b[0m\u001b[0mreplace\u001b[0m\u001b[1;33m(\u001b[0m\u001b[0mdf\u001b[0m\u001b[1;33m)\u001b[0m\u001b[1;33m)\u001b[0m\u001b[1;33m\u001b[0m\u001b[1;33m\u001b[0m\u001b[0m\n\u001b[0m\u001b[0;32m      5\u001b[0m \u001b[1;33m\u001b[0m\u001b[0m\n",
      "\u001b[1;31mAttributeError\u001b[0m: 'set' object has no attribute 'replace'"
     ]
    }
   ],
   "source": [
    "Sample  = {'Math':81, 'Physics':83, 'Chemistry':87}\n",
    "d = {y for x,y in Sample.items()}\n",
    "df = (sum(d)/3)\n",
    "print (d.replace(df))\n",
    "    "
   ]
  },
  {
   "cell_type": "code",
   "execution_count": 18,
   "id": "4fb73806",
   "metadata": {},
   "outputs": [
    {
     "name": "stdout",
     "output_type": "stream",
     "text": [
      "[{'id': 1, 'subject': 'math', 'V+VI': 76.0}, {'id': 2, 'subject': 'math', 'V+VI': 73.5}, {'id': 3, 'subject': 'math', 'V+VI': 80.5}]\n"
     ]
    }
   ],
   "source": [
    "def sum_math_v_vi_average(list_of_dicts):\n",
    "    for d in list_of_dicts:\n",
    "        n1 = d.pop('V')\n",
    "        n2 = d.pop('VI')\n",
    "        d['V+VI'] = (n1 + n2)/2\n",
    "    return list_of_dicts \n",
    "student_details= [\n",
    "  {'id' : 1, 'subject' : 'math', 'V' : 70, 'VI' : 82},\n",
    "  {'id' : 2, 'subject' : 'math', 'V' : 73, 'VI' : 74},\n",
    "  {'id' : 3, 'subject' : 'math', 'V' : 75, 'VI' : 86}\n",
    "]\n",
    "print(sum_math_v_vi_average(student_details))\n"
   ]
  },
  {
   "cell_type": "code",
   "execution_count": 24,
   "id": "38e53e94",
   "metadata": {},
   "outputs": [
    {
     "name": "stdout",
     "output_type": "stream",
     "text": [
      "15\n",
      "25\n",
      "35\n"
     ]
    }
   ],
   "source": [
    "X = {'x': [11, 12, 13, 14, 15, 16, 17, 18, 19],\n",
    "'y': [21, 22, 23, 24, 25, 26, 27, 28, 29],\n",
    "'z': [31, 32, 33, 34, 35, 36, 37, 38, 39]}\n",
    "for (key,value) in X.items():\n",
    "    print (value[4])\n",
    "\n",
    "\n"
   ]
  },
  {
   "cell_type": "code",
   "execution_count": 25,
   "id": "d636eb4d",
   "metadata": {},
   "outputs": [
    {
     "name": "stdout",
     "output_type": "stream",
     "text": [
      "Original strings:\n",
      "['S001', 'S002', 'S003', 'S004']\n",
      "['Adina Park', 'Leyton Marsh', 'Duncan Boyle', 'Saim Richards']\n",
      "[85, 98, 89, 92]\n",
      "\n",
      "Nested dictionary:\n",
      "[{'S001': {'Adina Park': 85}}, {'S002': {'Leyton Marsh': 98}}, {'S003': {'Duncan Boyle': 89}}, {'S004': {'Saim Richards': 92}}]\n"
     ]
    }
   ],
   "source": [
    "def nested_dictionary(l1, l2, l3):\n",
    "     result = [{x: {y: z}} for (x, y, z) in zip(l1, l2, l3)]\n",
    "     return result\n",
    "\n",
    "student_id = [\"S001\", \"S002\", \"S003\", \"S004\"] \n",
    "student_name = [\"Adina Park\", \"Leyton Marsh\", \"Duncan Boyle\", \"Saim Richards\"] \n",
    "student_grade = [85, 98, 89, 92]\n",
    "print(\"Original strings:\")\n",
    "print(student_id)\n",
    "print(student_name)\n",
    "print(student_grade)\n",
    "print(\"\\nNested dictionary:\")\n",
    "ch='a'\n",
    "print(nested_dictionary(student_id, student_name, student_grade))\n"
   ]
  },
  {
   "cell_type": "code",
   "execution_count": 34,
   "id": "9940944a",
   "metadata": {},
   "outputs": [],
   "source": [
    "sam = {'Cierra Vega': (6.2, 70), 'Alden Cantrell': (5.9, 65), 'Kierra Gentry': (6.0, 68), 'Pierre Cox': (5.8, 66)}\n",
    "res = [{x:y} for (x,y) in sam.items()]\n",
    "\n"
   ]
  },
  {
   "cell_type": "code",
   "execution_count": 35,
   "id": "4af291f4",
   "metadata": {},
   "outputs": [],
   "source": [
    "f = [('yellow', 1), ('blue', 2), ('yellow', 3), ('blue', 4), ('red', 1)]\n",
    "def cret(f):\n",
    "    for x,y in f:\n",
    "        print (groupby(f))\n",
    "    "
   ]
  },
  {
   "cell_type": "code",
   "execution_count": 36,
   "id": "18719fbd",
   "metadata": {},
   "outputs": [
    {
     "name": "stdout",
     "output_type": "stream",
     "text": [
      "Original list:\n",
      "[('yellow', 1), ('blue', 2), ('yellow', 3), ('blue', 4), ('red', 1)]\n",
      "\n",
      "Grouping a sequence of key-value pairs into a dictionary of lists:\n",
      "{'yellow': [1, 3], 'blue': [2, 4], 'red': [1]}\n"
     ]
    }
   ],
   "source": [
    "def grouping_dictionary(l):\n",
    "    result = {}\n",
    "    for k, v in l:\n",
    "         result.setdefault(k, []).append(v)\n",
    "    return result\n",
    "colors = [('yellow', 1), ('blue', 2), ('yellow', 3), ('blue', 4), ('red', 1)]\n",
    "print(\"Original list:\")\n",
    "print(colors)\n",
    "print(\"\\nGrouping a sequence of key-value pairs into a dictionary of lists:\")\n",
    "print(grouping_dictionary(colors))\n"
   ]
  },
  {
   "cell_type": "code",
   "execution_count": 46,
   "id": "d694a7e9",
   "metadata": {},
   "outputs": [
    {
     "name": "stdout",
     "output_type": "stream",
     "text": [
      "<zip object at 0x0000020EA7973AC0>\n",
      "<zip object at 0x0000020EA7973AC0>\n"
     ]
    }
   ],
   "source": [
    "f = {'Science': [88, 89, 62, 95], 'Language': [77, 78, 84, 80]}\n",
    "for (key,value) in f.items():\n",
    "    g = {}\n",
    "    print (zip(key,value))\n",
    "\n"
   ]
  },
  {
   "cell_type": "code",
   "execution_count": 47,
   "id": "f284df93",
   "metadata": {},
   "outputs": [
    {
     "name": "stdout",
     "output_type": "stream",
     "text": [
      "Original dictionary of lists:\n",
      "{'Science': [88, 89, 62, 95], 'Language': [77, 78, 84, 80]}\n",
      "\n",
      "Split said dictionary of lists into list of dictionaries:\n",
      "[{'Science': 88, 'Language': 77}, {'Science': 89, 'Language': 78}, {'Science': 62, 'Language': 84}, {'Science': 95, 'Language': 80}]\n"
     ]
    }
   ],
   "source": [
    "def list_of_dicts(marks):\n",
    "    keys = marks.keys()\n",
    "    vals = zip(*[marks[k] for k in keys])\n",
    "    result = [dict(zip(keys, v)) for v in vals]\n",
    "    return result\n",
    "\n",
    "marks = {'Science': [88, 89, 62, 95], 'Language': [77, 78, 84, 80]}\n",
    "print(\"Original dictionary of lists:\")\n",
    "print(marks)\n",
    "print(\"\\nSplit said dictionary of lists into list of dictionaries:\")\n",
    "print(list_of_dicts(marks))\n"
   ]
  },
  {
   "cell_type": "code",
   "execution_count": 54,
   "id": "a8a9bd85",
   "metadata": {},
   "outputs": [],
   "source": [
    "DR = [{'id': '#FF0000', 'color': 'Red'}, {'id': '#800000', 'color': 'Maroon'}, \n",
    " {'id': '#FFFF00', 'color': 'Yellow'}, {'id': '#808000', 'color': 'Olive'}]\n",
    "for (key,value) in DR:\n",
    "    if value == '#FF0000':\n",
    "        print (value)\n",
    "    "
   ]
  },
  {
   "cell_type": "code",
   "execution_count": 55,
   "id": "722dbacd",
   "metadata": {},
   "outputs": [
    {
     "name": "stdout",
     "output_type": "stream",
     "text": [
      "Original list of dictionary:\n",
      "[{'id': '#FF0000', 'color': 'Red'}, {'id': '#800000', 'color': 'Maroon'}, {'id': '#FFFF00', 'color': 'Yellow'}, {'id': '#808000', 'color': 'Olive'}]\n",
      "\n",
      "Remove id #FF0000 from the said list of dictionary:\n",
      "[{'id': '#800000', 'color': 'Maroon'}, {'id': '#FFFF00', 'color': 'Yellow'}, {'id': '#808000', 'color': 'Olive'}]\n"
     ]
    }
   ],
   "source": [
    "def remove_dictionary(colors, r_id):\n",
    "    colors[:] = [d for d in colors if d.get('id') != r_id]\n",
    "    return colors\n",
    "\n",
    "colors = [{\"id\" : \"#FF0000\", \"color\" : \"Red\"}, \n",
    "          {\"id\" : \"#800000\", \"color\" : \"Maroon\"}, \n",
    "          {\"id\" : \"#FFFF00\", \"color\" : \"Yellow\"}, \n",
    "          {\"id\" : \"#808000\", \"color\" : \"Olive\"}] \n",
    "print('Original list of dictionary:')\n",
    "print(colors)\n",
    "r_id = \"#FF0000\"\n",
    "print(\"\\nRemove id\",r_id,\"from the said list of dictionary:\")\n",
    "print(remove_dictionary(colors, r_id))\n"
   ]
  },
  {
   "cell_type": "code",
   "execution_count": 61,
   "id": "a08f1dad",
   "metadata": {},
   "outputs": [
    {
     "ename": "AttributeError",
     "evalue": "'str' object has no attribute 'clear'",
     "output_type": "error",
     "traceback": [
      "\u001b[1;31m---------------------------------------------------------------------------\u001b[0m",
      "\u001b[1;31mAttributeError\u001b[0m                            Traceback (most recent call last)",
      "\u001b[1;32m~\\AppData\\Local\\Temp/ipykernel_536/183829189.py\u001b[0m in \u001b[0;36m<module>\u001b[1;34m\u001b[0m\n\u001b[0;32m      1\u001b[0m \u001b[0md\u001b[0m \u001b[1;33m=\u001b[0m \u001b[1;33m{\u001b[0m\u001b[1;34m'C1'\u001b[0m\u001b[1;33m:\u001b[0m \u001b[1;33m[\u001b[0m\u001b[1;36m10\u001b[0m\u001b[1;33m,\u001b[0m \u001b[1;36m20\u001b[0m\u001b[1;33m,\u001b[0m \u001b[1;36m30\u001b[0m\u001b[1;33m]\u001b[0m\u001b[1;33m,\u001b[0m \u001b[1;34m'C2'\u001b[0m\u001b[1;33m:\u001b[0m \u001b[1;33m[\u001b[0m\u001b[1;36m20\u001b[0m\u001b[1;33m,\u001b[0m \u001b[1;36m30\u001b[0m\u001b[1;33m,\u001b[0m \u001b[1;36m40\u001b[0m\u001b[1;33m]\u001b[0m\u001b[1;33m,\u001b[0m \u001b[1;34m'C3'\u001b[0m\u001b[1;33m:\u001b[0m \u001b[1;33m[\u001b[0m\u001b[1;36m12\u001b[0m\u001b[1;33m,\u001b[0m \u001b[1;36m34\u001b[0m\u001b[1;33m]\u001b[0m\u001b[1;33m}\u001b[0m\u001b[1;33m\u001b[0m\u001b[1;33m\u001b[0m\u001b[0m\n\u001b[0;32m      2\u001b[0m \u001b[1;32mfor\u001b[0m \u001b[1;33m(\u001b[0m\u001b[0mkey\u001b[0m\u001b[1;33m,\u001b[0m\u001b[0mvalue\u001b[0m\u001b[1;33m)\u001b[0m \u001b[1;32min\u001b[0m \u001b[0md\u001b[0m\u001b[1;33m:\u001b[0m\u001b[1;33m\u001b[0m\u001b[1;33m\u001b[0m\u001b[0m\n\u001b[1;32m----> 3\u001b[1;33m     \u001b[0mprint\u001b[0m \u001b[1;33m(\u001b[0m\u001b[0mvalue\u001b[0m\u001b[1;33m.\u001b[0m\u001b[0mclear\u001b[0m\u001b[1;33m(\u001b[0m\u001b[1;33m)\u001b[0m\u001b[1;33m)\u001b[0m\u001b[1;33m\u001b[0m\u001b[1;33m\u001b[0m\u001b[0m\n\u001b[0m",
      "\u001b[1;31mAttributeError\u001b[0m: 'str' object has no attribute 'clear'"
     ]
    }
   ],
   "source": [
    "d = {'C1': [10, 20, 30], 'C2': [20, 30, 40], 'C3': [12, 34]}\n",
    "for (key,value) in d:\n",
    "    print (value.clear())\n"
   ]
  },
  {
   "cell_type": "code",
   "execution_count": 64,
   "id": "1b6ec083",
   "metadata": {},
   "outputs": [
    {
     "name": "stdout",
     "output_type": "stream",
     "text": [
      "{'Math': ['23,45'], 'Physics': [92, 94, 89], 'Chemistry': [90, 87, 93]}\n"
     ]
    }
   ],
   "source": [
    "d = {'Math': [88, 89, 90], 'Physics': [92, 94, 89], 'Chemistry': [90, 87, 93]}\n",
    "d.update(Math = ['23,45'])\n",
    "print (d)"
   ]
  },
  {
   "cell_type": "code",
   "execution_count": 66,
   "id": "eb8a342d",
   "metadata": {},
   "outputs": [
    {
     "name": "stdout",
     "output_type": "stream",
     "text": [
      "Science\n",
      "Science\n",
      "Science\n"
     ]
    }
   ],
   "source": [
    "D = [{'Math': 90, 'Science': 92}, {'Math': 89, 'Science': 94}, {'Math': 92, 'Science': 88}]\n",
    "for (x,y) in D:\n",
    "    if key == 'Math':\n",
    "        print (y)\n"
   ]
  },
  {
   "cell_type": "code",
   "execution_count": 67,
   "id": "d6e84ff9",
   "metadata": {},
   "outputs": [
    {
     "name": "stdout",
     "output_type": "stream",
     "text": [
      "\n",
      "Original Dictionary:\n",
      "[{'Math': 90, 'Science': 92}, {'Math': 89, 'Science': 94}, {'Math': 92, 'Science': 88}]\n",
      "\n",
      "Extract a list of values from said list of dictionaries where subject = Science\n",
      "[92, 94, 88]\n",
      "\n",
      "Original Dictionary:\n",
      "[{'Math': 90, 'Science': 92}, {'Math': 89, 'Science': 94}, {'Math': 92, 'Science': 88}]\n",
      "\n",
      "Extract a list of values from said list of dictionaries where subject = Math\n",
      "[90, 89, 92]\n"
     ]
    }
   ],
   "source": [
    "def test(lst, marks):\n",
    "    result = [d[marks] for d in lst if marks in d]\n",
    " \n",
    "    return result\n",
    "\n",
    "marks = [{'Math': 90, 'Science': 92}, \n",
    "         {'Math': 89, 'Science': 94}, \n",
    "         {'Math': 92, 'Science': 88}]\n",
    "\n",
    "print(\"\\nOriginal Dictionary:\")\n",
    "print(marks)\n",
    "subj = \"Science\"\n",
    "print(\"\\nExtract a list of values from said list of dictionaries where subject =\",subj)\n",
    "print(test(marks, subj))\n",
    "\n",
    "print(\"\\nOriginal Dictionary:\")\n",
    "print(marks)\n",
    "subj = \"Math\"\n",
    "print(\"\\nExtract a list of values from said list of dictionaries where subject =\",subj)\n",
    "print(test(marks, subj))\n"
   ]
  },
  {
   "cell_type": "code",
   "execution_count": 75,
   "id": "a193572c",
   "metadata": {},
   "outputs": [
    {
     "name": "stdout",
     "output_type": "stream",
     "text": [
      "7\n"
     ]
    }
   ],
   "source": [
    "A = {1: 'red', 2: 'green', 3: 'black', 4: 'white', 5: 'black'}\n",
    "s = {y for x,y in A.items()}\n",
    "print (len(y))\n"
   ]
  },
  {
   "cell_type": "code",
   "execution_count": 76,
   "id": "ebe82a58",
   "metadata": {},
   "outputs": [
    {
     "name": "stdout",
     "output_type": "stream",
     "text": [
      "\n",
      "Original Dictionary:\n",
      "{1: 'red', 2: 'green', 3: 'black', 4: 'white', 5: 'black'}\n",
      "Length of dictionary values:\n",
      "{'red': 3, 'green': 5, 'black': 5, 'white': 5}\n",
      "\n",
      "Original Dictionary:\n",
      "{'1': 'Austin Little', '2': 'Natasha Howard', '3': 'Alfred Mullins', '4': 'Jamie Rowe'}\n",
      "Length of dictionary values:\n",
      "{'Austin Little': 13, 'Natasha Howard': 14, 'Alfred Mullins': 14, 'Jamie Rowe': 10}\n"
     ]
    }
   ],
   "source": [
    "def test(dictt):\n",
    "    result = {}\n",
    "    for val in dictt.values(): \n",
    "        result[val] = len(val) \n",
    "    return result    \n",
    "\n",
    "color_dict = {1 : 'red', 2 : 'green', 3 : 'black', 4 : 'white', 5 : 'black'}\n",
    "print(\"\\nOriginal Dictionary:\")\n",
    "print(color_dict)\n",
    "print(\"Length of dictionary values:\")\n",
    "print(test(color_dict))\n",
    "\n",
    "color_dict = {'1' : 'Austin Little', '2' : 'Natasha Howard', '3' : 'Alfred Mullins', '4' : 'Jamie Rowe'}\n",
    "print(\"\\nOriginal Dictionary:\")\n",
    "print(color_dict)\n",
    "print(\"Length of dictionary values:\")\n",
    "print(test(color_dict))\n"
   ]
  },
  {
   "cell_type": "code",
   "execution_count": 77,
   "id": "492cb92d",
   "metadata": {},
   "outputs": [],
   "source": [
    "{1: 'red', 2: 'green', 3: 'black', 4: 'white', 5: 'black'}\n",
    "def test(dictt):\n",
    "    result = list(map(list, dictt.items()))\n",
    "    return result "
   ]
  },
  {
   "cell_type": "code",
   "execution_count": 91,
   "id": "8769678d",
   "metadata": {},
   "outputs": [],
   "source": [
    "Original = {'V': [10, 12], 'VI': [10], 'VII': [10, 20, 30, 40], 'VIII': [20], 'IX': [10, 30, 50, 70], 'X': [80]} \n",
    "for (key,value) in Original.items():\n",
    "    if key == min(value):\n",
    "        print (key)\n",
    "    \n"
   ]
  },
  {
   "cell_type": "code",
   "execution_count": 92,
   "id": "beee0a65",
   "metadata": {},
   "outputs": [
    {
     "name": "stdout",
     "output_type": "stream",
     "text": [
      "\n",
      "Original Dictionary:\n",
      "{'V': [10, 12], 'VI': [10], 'VII': [10, 20, 30, 40], 'VIII': [20], 'IX': [10, 30, 50, 70], 'X': [80]}\n",
      "\n",
      "Shortest list of values with the keys of the said dictionary:\n",
      "['VI', 'VIII', 'X']\n"
     ]
    }
   ],
   "source": [
    "def test(dictt):\n",
    "    min_value=1\n",
    "    result = [k for k, v in dictt.items() if len(v) == (min_value)] \n",
    "    return result    \n",
    "\n",
    "dictt = {\n",
    " 'V': [10, 12],\n",
    " 'VI': [10],\n",
    " 'VII': [10, 20, 30, 40],\n",
    " 'VIII': [20],\n",
    " 'IX': [10,30,50,70],\n",
    " 'X': [80]\n",
    " }\n",
    "\n",
    "print(\"\\nOriginal Dictionary:\")\n",
    "print(dictt)\n",
    "print(\"\\nShortest list of values with the keys of the said dictionary:\")\n",
    "print(test(dictt))\n"
   ]
  },
  {
   "cell_type": "code",
   "execution_count": 100,
   "id": "f3d935af",
   "metadata": {},
   "outputs": [
    {
     "ename": "ValueError",
     "evalue": "too many values to unpack (expected 2)",
     "output_type": "error",
     "traceback": [
      "\u001b[1;31m---------------------------------------------------------------------------\u001b[0m",
      "\u001b[1;31mValueError\u001b[0m                                Traceback (most recent call last)",
      "\u001b[1;32m~\\AppData\\Local\\Temp/ipykernel_536/98794194.py\u001b[0m in \u001b[0;36m<module>\u001b[1;34m\u001b[0m\n\u001b[0;32m      1\u001b[0m \u001b[0mO\u001b[0m \u001b[1;33m=\u001b[0m \u001b[1;33m[\u001b[0m\u001b[1;33m{\u001b[0m\u001b[1;34m'student_id'\u001b[0m\u001b[1;33m:\u001b[0m \u001b[1;36m1\u001b[0m\u001b[1;33m,\u001b[0m \u001b[1;34m'name'\u001b[0m\u001b[1;33m:\u001b[0m \u001b[1;34m'Jean Castro'\u001b[0m\u001b[1;33m,\u001b[0m \u001b[1;34m'class'\u001b[0m\u001b[1;33m:\u001b[0m \u001b[1;34m'V'\u001b[0m\u001b[1;33m}\u001b[0m\u001b[1;33m,\u001b[0m \u001b[1;33m{\u001b[0m\u001b[1;34m'student_id'\u001b[0m\u001b[1;33m:\u001b[0m \u001b[1;36m2\u001b[0m\u001b[1;33m,\u001b[0m \u001b[1;34m'name'\u001b[0m\u001b[1;33m:\u001b[0m \u001b[1;34m'Lula Powell'\u001b[0m\u001b[1;33m,\u001b[0m \u001b[1;34m'class'\u001b[0m\u001b[1;33m:\u001b[0m \u001b[1;34m'V'\u001b[0m\u001b[1;33m}\u001b[0m\u001b[1;33m,\u001b[0m \u001b[1;33m{\u001b[0m\u001b[1;34m'student_id'\u001b[0m\u001b[1;33m:\u001b[0m \u001b[1;36m3\u001b[0m\u001b[1;33m,\u001b[0m \u001b[1;34m'name'\u001b[0m\u001b[1;33m:\u001b[0m \u001b[1;34m'Brian Howell'\u001b[0m\u001b[1;33m,\u001b[0m \u001b[1;34m'class'\u001b[0m\u001b[1;33m:\u001b[0m \u001b[1;34m'VI'\u001b[0m\u001b[1;33m}\u001b[0m\u001b[1;33m,\u001b[0m \u001b[1;33m{\u001b[0m\u001b[1;34m'student_id'\u001b[0m\u001b[1;33m:\u001b[0m \u001b[1;36m4\u001b[0m\u001b[1;33m,\u001b[0m \u001b[1;34m'name'\u001b[0m\u001b[1;33m:\u001b[0m \u001b[1;34m'Lynne Foster'\u001b[0m\u001b[1;33m,\u001b[0m \u001b[1;34m'class'\u001b[0m\u001b[1;33m:\u001b[0m \u001b[1;34m'VI'\u001b[0m\u001b[1;33m}\u001b[0m\u001b[1;33m,\u001b[0m \u001b[1;33m{\u001b[0m\u001b[1;34m'student_id'\u001b[0m\u001b[1;33m:\u001b[0m \u001b[1;36m5\u001b[0m\u001b[1;33m,\u001b[0m \u001b[1;34m'name'\u001b[0m\u001b[1;33m:\u001b[0m \u001b[1;34m'Zachary Simon'\u001b[0m\u001b[1;33m,\u001b[0m \u001b[1;34m'class'\u001b[0m\u001b[1;33m:\u001b[0m \u001b[1;34m'VII'\u001b[0m\u001b[1;33m}\u001b[0m\u001b[1;33m]\u001b[0m\u001b[1;33m\u001b[0m\u001b[1;33m\u001b[0m\u001b[0m\n\u001b[1;32m----> 2\u001b[1;33m \u001b[1;32mfor\u001b[0m \u001b[1;33m(\u001b[0m\u001b[0mkey\u001b[0m\u001b[1;33m,\u001b[0m\u001b[0mvalue\u001b[0m\u001b[1;33m)\u001b[0m \u001b[1;32min\u001b[0m \u001b[0mO\u001b[0m\u001b[1;33m:\u001b[0m\u001b[1;33m\u001b[0m\u001b[1;33m\u001b[0m\u001b[0m\n\u001b[0m\u001b[0;32m      3\u001b[0m     \u001b[0mrt\u001b[0m \u001b[1;33m=\u001b[0m \u001b[0mlist\u001b[0m\u001b[1;33m(\u001b[0m\u001b[0mmap\u001b[0m\u001b[1;33m(\u001b[0m\u001b[0mlist\u001b[0m\u001b[1;33m,\u001b[0m \u001b[0mO\u001b[0m\u001b[1;33m.\u001b[0m\u001b[0mitems\u001b[0m\u001b[1;33m(\u001b[0m\u001b[1;33m)\u001b[0m\u001b[1;33m)\u001b[0m\u001b[1;33m)\u001b[0m\u001b[1;33m\u001b[0m\u001b[1;33m\u001b[0m\u001b[0m\n\u001b[0;32m      4\u001b[0m \u001b[1;33m\u001b[0m\u001b[0m\n",
      "\u001b[1;31mValueError\u001b[0m: too many values to unpack (expected 2)"
     ]
    }
   ],
   "source": [
    "O = [{'student_id': 1, 'name': 'Jean Castro', 'class': 'V'}, {'student_id': 2, 'name': 'Lula Powell', 'class': 'V'}, {'student_id': 3, 'name': 'Brian Howell', 'class': 'VI'}, {'student_id': 4, 'name': 'Lynne Foster', 'class': 'VI'}, {'student_id': 5, 'name': 'Zachary Simon', 'class': 'VII'}]\n",
    "for (key,value) in O:\n",
    "    rt = list(map(list, O.items()))\n",
    "    "
   ]
  },
  {
   "cell_type": "code",
   "execution_count": 1,
   "id": "ee6d0f62",
   "metadata": {},
   "outputs": [],
   "source": [
    "S = {1: ['Jean Castro'], 2: ['Lula Powell'], 3: ['Brian Howell'], 4: ['Lynne Foster'], 5: ['Zachary Simon']}\n",
    "def gh(s):\n",
    "    result = {item[0] : item[1] for item in S}\n",
    "    return result\n"
   ]
  },
  {
   "cell_type": "code",
   "execution_count": 5,
   "id": "5467585d",
   "metadata": {},
   "outputs": [
    {
     "name": "stdout",
     "output_type": "stream",
     "text": [
      "{1: ['Jean Castro'], 2: ['Lula Powell'], 3: ['Brian Howell'], 4: ['Lynne Foster'], 5: ['Zachary Simon']}\n"
     ]
    }
   ],
   "source": [
    "S = [[1, 'Jean Castro', 'V'], [2, 'Lula Powell', 'V'], [3, 'Brian Howell', 'VI'], \n",
    "     [4, 'Lynne Foster', 'VI'], [5, 'Zachary Simon', 'VII']]\n",
    "def df(S):\n",
    "    result = {item[0]:item[1] for item in S.items()}\n",
    "    return result\n",
    "S = {1: ['Jean Castro'], 2: ['Lula Powell'], 3: ['Brian Howell'], 4: ['Lynne Foster'], 5: ['Zachary Simon']}\n",
    "\n",
    "print (df(S))"
   ]
  },
  {
   "cell_type": "code",
   "execution_count": 6,
   "id": "80c3895a",
   "metadata": {},
   "outputs": [
    {
     "ename": "NameError",
     "evalue": "name 'y' is not defined",
     "output_type": "error",
     "traceback": [
      "\u001b[1;31m---------------------------------------------------------------------------\u001b[0m",
      "\u001b[1;31mNameError\u001b[0m                                 Traceback (most recent call last)",
      "\u001b[1;32m~\\AppData\\Local\\Temp/ipykernel_13620/2312539648.py\u001b[0m in \u001b[0;36m<module>\u001b[1;34m\u001b[0m\n\u001b[0;32m      1\u001b[0m \u001b[0mA\u001b[0m \u001b[1;33m=\u001b[0m \u001b[1;33m{\u001b[0m\u001b[1;34m'#FF0000'\u001b[0m\u001b[1;33m:\u001b[0m \u001b[1;34m'Red'\u001b[0m\u001b[1;33m,\u001b[0m \u001b[1;34m'#800000'\u001b[0m\u001b[1;33m:\u001b[0m \u001b[1;34m'Maroon'\u001b[0m\u001b[1;33m,\u001b[0m \u001b[1;34m'#FFFF00'\u001b[0m\u001b[1;33m:\u001b[0m \u001b[1;34m'Yellow'\u001b[0m\u001b[1;33m,\u001b[0m \u001b[1;34m'#808000'\u001b[0m\u001b[1;33m:\u001b[0m \u001b[1;34m'Olive'\u001b[0m\u001b[1;33m}\u001b[0m\u001b[1;33m\u001b[0m\u001b[1;33m\u001b[0m\u001b[0m\n\u001b[0;32m      2\u001b[0m \u001b[0md\u001b[0m \u001b[1;33m=\u001b[0m \u001b[1;33m{\u001b[0m\u001b[0my\u001b[0m \u001b[1;32mfor\u001b[0m \u001b[0mx\u001b[0m\u001b[1;33m,\u001b[0m\u001b[0my\u001b[0m \u001b[1;32min\u001b[0m \u001b[0mA\u001b[0m\u001b[1;33m.\u001b[0m\u001b[0mitems\u001b[0m\u001b[1;33m(\u001b[0m\u001b[1;33m)\u001b[0m\u001b[1;33m}\u001b[0m\u001b[1;33m\u001b[0m\u001b[1;33m\u001b[0m\u001b[0m\n\u001b[1;32m----> 3\u001b[1;33m \u001b[1;32mif\u001b[0m \u001b[0my\u001b[0m \u001b[1;33m==\u001b[0m \u001b[0my\u001b[0m\u001b[1;33m.\u001b[0m\u001b[0misstring\u001b[0m\u001b[1;33m(\u001b[0m\u001b[1;33m)\u001b[0m\u001b[1;33m:\u001b[0m\u001b[1;33m\u001b[0m\u001b[1;33m\u001b[0m\u001b[0m\n\u001b[0m\u001b[0;32m      4\u001b[0m     \u001b[0mprint\u001b[0m \u001b[1;33m(\u001b[0m\u001b[0mlen\u001b[0m\u001b[1;33m(\u001b[0m\u001b[0my\u001b[0m\u001b[1;33m)\u001b[0m\u001b[1;33m)\u001b[0m\u001b[1;33m\u001b[0m\u001b[1;33m\u001b[0m\u001b[0m\n",
      "\u001b[1;31mNameError\u001b[0m: name 'y' is not defined"
     ]
    }
   ],
   "source": [
    "A = {'#FF0000': 'Red', '#800000': 'Maroon', '#FFFF00': 'Yellow', '#808000': 'Olive'}\n",
    "d = {y for x,y in A.items()}\n",
    "if y == y.isstring():\n",
    "    print (len(y))\n"
   ]
  },
  {
   "cell_type": "code",
   "execution_count": 7,
   "id": "a066744e",
   "metadata": {},
   "outputs": [
    {
     "name": "stdout",
     "output_type": "stream",
     "text": [
      "<zip object at 0x00000209B49DD800>\n"
     ]
    }
   ],
   "source": [
    "s = {'w': 50, 'x': 100, 'y': 'Green', 'z': 400}\n",
    "Y = {'x': 300, 'y': 'Red', 'z': 600}\n",
    "print (zip(s,Y))\n"
   ]
  },
  {
   "cell_type": "code",
   "execution_count": 13,
   "id": "9bd7519b",
   "metadata": {},
   "outputs": [
    {
     "name": "stdout",
     "output_type": "stream",
     "text": [
      "3\n",
      "5\n",
      "5\n",
      "5\n",
      "4\n"
     ]
    }
   ],
   "source": [
    " Y = ['Red', 'Green', 'Black', 'White', 'Pink']\n",
    "for i in Y:\n",
    "    print (len(i))\n"
   ]
  },
  {
   "cell_type": "code",
   "execution_count": 19,
   "id": "a07e212d",
   "metadata": {},
   "outputs": [
    {
     "name": "stdout",
     "output_type": "stream",
     "text": [
      "<map object at 0x00000209B49F43A0>\n"
     ]
    }
   ],
   "source": [
    "def gh(s):\n",
    "    return s*s\n",
    "d = {1,2,3,5,6}\n",
    "f = map(s,d)\n",
    "print ((f))"
   ]
  },
  {
   "cell_type": "code",
   "execution_count": 20,
   "id": "3ace4cb9",
   "metadata": {},
   "outputs": [
    {
     "name": "stdout",
     "output_type": "stream",
     "text": [
      "{1: 1, 2: 4, 3: 9, 4: 16}\n"
     ]
    }
   ],
   "source": [
    "def test(itr, fn):\n",
    "  return dict(zip(itr, map(fn, itr)))\n",
    "print(test([1, 2, 3, 4], lambda x: x * x))"
   ]
  },
  {
   "cell_type": "code",
   "execution_count": 23,
   "id": "1bfff505",
   "metadata": {},
   "outputs": [
    {
     "name": "stdout",
     "output_type": "stream",
     "text": [
      "age\n",
      "age\n",
      "age\n",
      "age\n"
     ]
    }
   ],
   "source": [
    "S = [{'name': 'Theodore', 'age': 18}, {'name': 'Mathew', 'age': 22}, \n",
    "     {'name': 'Roxanne', 'age': 20}, {'name': 'David', 'age': 18}]\n",
    "for (key,value) in S:\n",
    "    print (value)"
   ]
  },
  {
   "cell_type": "code",
   "execution_count": 24,
   "id": "1adccda8",
   "metadata": {},
   "outputs": [
    {
     "name": "stdout",
     "output_type": "stream",
     "text": [
      "Original list of dictionaries:\n",
      "[{'name': 'Theodore', 'age': 18}, {'name': 'Mathew', 'age': 22}, {'name': 'Roxanne', 'age': 20}, {'name': 'David', 'age': 18}]\n",
      "\n",
      "Convert a list of dictionaries into a list of values corresponding to the specified key:\n",
      "[18, 22, 20, 18]\n"
     ]
    }
   ],
   "source": [
    "def test(lsts, key):\n",
    "  return [x.get(key) for x in lsts]\n",
    " \n",
    "students = [\n",
    "  { 'name': 'Theodore', 'age': 18 },\n",
    "  { 'name': 'Mathew', 'age': 22 },\n",
    "  { 'name': 'Roxanne', 'age': 20 },\n",
    "  { 'name': 'David', 'age': 18 }\n",
    "]\n",
    "\n",
    "print(\"Original list of dictionaries:\")\n",
    "print(students)\n",
    "print(\"\\nConvert a list of dictionaries into a list of values corresponding to the specified key:\")\n",
    "print(test(students, 'age'))\n"
   ]
  },
  {
   "cell_type": "code",
   "execution_count": 32,
   "id": "8ce7e753",
   "metadata": {},
   "outputs": [
    {
     "ename": "AttributeError",
     "evalue": "'str' object has no attribute 'get'",
     "output_type": "error",
     "traceback": [
      "\u001b[1;31m---------------------------------------------------------------------------\u001b[0m",
      "\u001b[1;31mAttributeError\u001b[0m                            Traceback (most recent call last)",
      "\u001b[1;32m~\\AppData\\Local\\Temp/ipykernel_13620/185867121.py\u001b[0m in \u001b[0;36m<module>\u001b[1;34m\u001b[0m\n\u001b[0;32m      5\u001b[0m f = {'Theodore': {'user': 'Theodore', 'age': 45}, 'Roxanne': {'user': 'Roxanne', 'age': 15}, \n\u001b[0;32m      6\u001b[0m      'Mathew': {'user': 'Mathew', 'age': 21}}\n\u001b[1;32m----> 7\u001b[1;33m \u001b[0mprint\u001b[0m \u001b[1;33m(\u001b[0m\u001b[0mtest\u001b[0m\u001b[1;33m(\u001b[0m\u001b[0mf\u001b[0m\u001b[1;33m,\u001b[0m\u001b[1;34m'age'\u001b[0m\u001b[1;33m)\u001b[0m\u001b[1;33m)\u001b[0m\u001b[1;33m\u001b[0m\u001b[1;33m\u001b[0m\u001b[0m\n\u001b[0m",
      "\u001b[1;32m~\\AppData\\Local\\Temp/ipykernel_13620/185867121.py\u001b[0m in \u001b[0;36mtest\u001b[1;34m(lis, key)\u001b[0m\n\u001b[0;32m      2\u001b[0m      'Mathew': {'user': 'Mathew', 'age': 21}}\n\u001b[0;32m      3\u001b[0m \u001b[1;32mdef\u001b[0m \u001b[0mtest\u001b[0m\u001b[1;33m(\u001b[0m\u001b[0mlis\u001b[0m\u001b[1;33m,\u001b[0m\u001b[0mkey\u001b[0m\u001b[1;33m)\u001b[0m\u001b[1;33m:\u001b[0m\u001b[1;33m\u001b[0m\u001b[1;33m\u001b[0m\u001b[0m\n\u001b[1;32m----> 4\u001b[1;33m     \u001b[1;32mreturn\u001b[0m \u001b[1;33m{\u001b[0m\u001b[0mx\u001b[0m\u001b[1;33m.\u001b[0m\u001b[0mget\u001b[0m\u001b[1;33m(\u001b[0m\u001b[0mkey\u001b[0m\u001b[1;33m)\u001b[0m \u001b[1;32mfor\u001b[0m \u001b[0mx\u001b[0m \u001b[1;32min\u001b[0m \u001b[0mlis\u001b[0m \u001b[1;33m}\u001b[0m\u001b[1;33m\u001b[0m\u001b[1;33m\u001b[0m\u001b[0m\n\u001b[0m\u001b[0;32m      5\u001b[0m f = {'Theodore': {'user': 'Theodore', 'age': 45}, 'Roxanne': {'user': 'Roxanne', 'age': 15}, \n\u001b[0;32m      6\u001b[0m      'Mathew': {'user': 'Mathew', 'age': 21}}\n",
      "\u001b[1;32m~\\AppData\\Local\\Temp/ipykernel_13620/185867121.py\u001b[0m in \u001b[0;36m<setcomp>\u001b[1;34m(.0)\u001b[0m\n\u001b[0;32m      2\u001b[0m      'Mathew': {'user': 'Mathew', 'age': 21}}\n\u001b[0;32m      3\u001b[0m \u001b[1;32mdef\u001b[0m \u001b[0mtest\u001b[0m\u001b[1;33m(\u001b[0m\u001b[0mlis\u001b[0m\u001b[1;33m,\u001b[0m\u001b[0mkey\u001b[0m\u001b[1;33m)\u001b[0m\u001b[1;33m:\u001b[0m\u001b[1;33m\u001b[0m\u001b[1;33m\u001b[0m\u001b[0m\n\u001b[1;32m----> 4\u001b[1;33m     \u001b[1;32mreturn\u001b[0m \u001b[1;33m{\u001b[0m\u001b[0mx\u001b[0m\u001b[1;33m.\u001b[0m\u001b[0mget\u001b[0m\u001b[1;33m(\u001b[0m\u001b[0mkey\u001b[0m\u001b[1;33m)\u001b[0m \u001b[1;32mfor\u001b[0m \u001b[0mx\u001b[0m \u001b[1;32min\u001b[0m \u001b[0mlis\u001b[0m \u001b[1;33m}\u001b[0m\u001b[1;33m\u001b[0m\u001b[1;33m\u001b[0m\u001b[0m\n\u001b[0m\u001b[0;32m      5\u001b[0m f = {'Theodore': {'user': 'Theodore', 'age': 45}, 'Roxanne': {'user': 'Roxanne', 'age': 15}, \n\u001b[0;32m      6\u001b[0m      'Mathew': {'user': 'Mathew', 'age': 21}}\n",
      "\u001b[1;31mAttributeError\u001b[0m: 'str' object has no attribute 'get'"
     ]
    }
   ],
   "source": [
    "f = {'Theodore': {'user': 'Theodore', 'age': 45}, 'Roxanne': {'user': 'Roxanne', 'age': 15}, \n",
    "     'Mathew': {'user': 'Mathew', 'age': 21}}\n",
    "def test(lis,key):\n",
    "    return {x.get(key) for x in lis }\n",
    "f = {'Theodore': {'user': 'Theodore', 'age': 45}, 'Roxanne': {'user': 'Roxanne', 'age': 15}, \n",
    "     'Mathew': {'user': 'Mathew', 'age': 21}}\n",
    "print (test(f,'age'))"
   ]
  },
  {
   "cell_type": "code",
   "execution_count": 33,
   "id": "9200b943",
   "metadata": {},
   "outputs": [],
   "source": [
    "Z = {'Theodore': 19, 'Roxanne': 20, 'Mathew': 21, 'Betty': 20}\n",
    "for (key,value) in Z.items():\n",
    "    if value == '20':\n",
    "        print (key)\n"
   ]
  },
  {
   "cell_type": "code",
   "execution_count": 36,
   "id": "681ca0a5",
   "metadata": {},
   "outputs": [],
   "source": [
    "X = ['a', 'b', 'c', 'd', 'e', 'f']\n",
    "Y = [1, 2, 3, 4, 5]\n",
    "def df(X,Y):\n",
    "    return {dict(zip(X,Y))}\n",
    "X = ['a', 'b', 'c', 'd', 'e', 'f']\n",
    "Y = [1, 2, 3, 4, 5]\n",
    "#print (df(X,Y))\n"
   ]
  },
  {
   "cell_type": "code",
   "execution_count": 41,
   "id": "2cc708d3",
   "metadata": {},
   "outputs": [
    {
     "name": "stdout",
     "output_type": "stream",
     "text": [
      "[('Red', 1), ('Green', 3), ('White', 5), ('Black', 2), ('Pink', 4)]\n"
     ]
    }
   ],
   "source": [
    "d = {'Red': 1, 'Green': 3, 'White': 5, 'Black': 2, 'Pink': 4}\n",
    "df = list(d.items())\n",
    "print (df)"
   ]
  },
  {
   "cell_type": "code",
   "execution_count": 45,
   "id": "5cd20cba",
   "metadata": {},
   "outputs": [
    {
     "name": "stdout",
     "output_type": "stream",
     "text": [
      "['Mathew', 'Theodore', 'Betty', 'Roxanne']\n"
     ]
    }
   ],
   "source": [
    "A = {'Theodore': 19, 'Roxanne': 20, 'Mathew': 21, 'Betty': 20}\n",
    "d = {x for x,y in A.items()}\n",
    "print (list(d))\n"
   ]
  },
  {
   "cell_type": "code",
   "execution_count": 47,
   "id": "b49bcfd5",
   "metadata": {},
   "outputs": [
    {
     "name": "stdout",
     "output_type": "stream",
     "text": [
      "[{'Theodore': 19, 'Roxanne': 20, 'Mathew': 21, 'Betty': 20}, {'Red': 1, 'Green': 3, 'White': 5, 'Black': 2, 'Pink': 4}]\n"
     ]
    }
   ],
   "source": [
    "A = [{'Theodore': 19, 'Roxanne': 20, 'Mathew': 21, 'Betty': 20}]\n",
    "B = [{'Red': 1, 'Green': 3, 'White': 5, 'Black': 2, 'Pink': 4}]\n",
    "print (list(A+B))\n"
   ]
  },
  {
   "cell_type": "code",
   "execution_count": 51,
   "id": "b759ab14",
   "metadata": {},
   "outputs": [
    {
     "name": "stdout",
     "output_type": "stream",
     "text": [
      "{'Ten': 10, 'Twenty': 20, 'Thirty': 30}\n"
     ]
    }
   ],
   "source": [
    "keys = ['Ten', 'Twenty', 'Thirty']\n",
    "values = [10, 20, 30]\n",
    "print (dict(zip(keys,values)))"
   ]
  },
  {
   "cell_type": "code",
   "execution_count": 53,
   "id": "cb39c433",
   "metadata": {},
   "outputs": [
    {
     "name": "stdout",
     "output_type": "stream",
     "text": [
      "{'Ten': 'Thirty', 'Twenty': 'Fourty', 'Thirty': 'Fifty'}\n"
     ]
    }
   ],
   "source": [
    "dict1 = {'Ten': 10, 'Twenty': 20, 'Thirty': 30}\n",
    "dict2 = {'Thirty': 30, 'Fourty': 40, 'Fifty': 50}\n",
    "print (dict(zip(dict1,dict2)))"
   ]
  },
  {
   "cell_type": "code",
   "execution_count": 54,
   "id": "00db17f8",
   "metadata": {},
   "outputs": [
    {
     "name": "stdout",
     "output_type": "stream",
     "text": [
      "{'Ten': 10, 'Twenty': 20, 'Thirty': 30, 'Fourty': 40, 'Fifty': 50}\n"
     ]
    }
   ],
   "source": [
    "dict1 = {'Ten': 10, 'Twenty': 20, 'Thirty': 30}\n",
    "dict2 = {'Thirty': 30, 'Fourty': 40, 'Fifty': 50}\n",
    "\n",
    "dict3 = dict1.copy()\n",
    "dict3.update(dict2)\n",
    "print(dict3)"
   ]
  },
  {
   "cell_type": "code",
   "execution_count": 57,
   "id": "7beb2e4c",
   "metadata": {},
   "outputs": [],
   "source": [
    "sampleDict = {\"class\": {\"student\": {\"name\": \"Mike\",\"marks\": {\"physics\": 70,\"history\": 80}}}}\n",
    "for (key,value) in sampleDict.items():\n",
    "    if key=='history':\n",
    "        print (value)"
   ]
  },
  {
   "cell_type": "code",
   "execution_count": 58,
   "id": "e65ad42c",
   "metadata": {},
   "outputs": [
    {
     "name": "stdout",
     "output_type": "stream",
     "text": [
      "80\n"
     ]
    }
   ],
   "source": [
    "sampleDict = {\n",
    "    \"class\": {\n",
    "        \"student\": {\n",
    "            \"name\": \"Mike\",\n",
    "            \"marks\": {\n",
    "                \"physics\": 70,\n",
    "                \"history\": 80\n",
    "            }\n",
    "        }\n",
    "    }\n",
    "}\n",
    "\n",
    "# understand how to located the nested key\n",
    "# sampleDict['class'] = {'student': {'name': 'Mike', 'marks': {'physics': 70, 'history': 80}}}\n",
    "# sampleDict['class']['student'] = {'name': 'Mike', 'marks': {'physics': 70, 'history': 80}}\n",
    "# sampleDict['class']['student']['marks'] = {'physics': 70, 'history': 80}\n",
    "\n",
    "# solution\n",
    "print(sampleDict['class']['student']['marks']['history'])\n"
   ]
  },
  {
   "cell_type": "code",
   "execution_count": 59,
   "id": "dc99323b",
   "metadata": {},
   "outputs": [
    {
     "name": "stdout",
     "output_type": "stream",
     "text": [
      "{'Kelly': {'designation': 'Developer', 'salary': 8000}, 'Emma': {'designation': 'Developer', 'salary': 8000}}\n",
      "{'designation': 'Developer', 'salary': 8000}\n"
     ]
    }
   ],
   "source": [
    "employees = ['Kelly', 'Emma']\n",
    "defaults = {\"designation\": 'Developer', \"salary\": 8000}\n",
    "employees = ['Kelly', 'Emma']\n",
    "defaults = {\"designation\": 'Developer', \"salary\": 8000}\n",
    "\n",
    "res = dict.fromkeys(employees, defaults)\n",
    "print(res)\n",
    "\n",
    "# Individual data\n",
    "print(res[\"Kelly\"])\n"
   ]
  },
  {
   "cell_type": "code",
   "execution_count": 60,
   "id": "7f5bbaf4",
   "metadata": {},
   "outputs": [],
   "source": [
    "sample_dict = {\n",
    "    \"name\": \"Kelly\",\n",
    "    \"age\": 25,\n",
    "    \"salary\": 8000,\n",
    "    \"city\": \"New york\"}\n",
    "for (key,value) in sample_dict.items():\n",
    "    if key == 'kelly' and 'salary':\n",
    "        print (value)\n",
    "    "
   ]
  },
  {
   "cell_type": "code",
   "execution_count": 61,
   "id": "03e5c86f",
   "metadata": {},
   "outputs": [
    {
     "name": "stdout",
     "output_type": "stream",
     "text": [
      "{'name': 'Kelly', 'salary': 8000}\n"
     ]
    }
   ],
   "source": [
    "sampleDict = { \n",
    "  \"name\": \"Kelly\",\n",
    "  \"age\":25, \n",
    "  \"salary\": 8000, \n",
    "  \"city\": \"New york\" }\n",
    "\n",
    "keys = [\"name\", \"salary\"]\n",
    "\n",
    "newDict = {k: sampleDict[k] for k in keys}\n",
    "print(newDict)"
   ]
  },
  {
   "cell_type": "code",
   "execution_count": 69,
   "id": "f453d3bc",
   "metadata": {},
   "outputs": [
    {
     "ename": "TypeError",
     "evalue": "unhashable type: 'dict'",
     "output_type": "error",
     "traceback": [
      "\u001b[1;31m---------------------------------------------------------------------------\u001b[0m",
      "\u001b[1;31mTypeError\u001b[0m                                 Traceback (most recent call last)",
      "\u001b[1;32m~\\AppData\\Local\\Temp/ipykernel_13620/3201909416.py\u001b[0m in \u001b[0;36m<module>\u001b[1;34m\u001b[0m\n\u001b[0;32m      7\u001b[0m \u001b[0mkeys\u001b[0m \u001b[1;33m=\u001b[0m \u001b[1;33m[\u001b[0m\u001b[1;34m\"name\"\u001b[0m\u001b[1;33m,\u001b[0m \u001b[1;34m\"salary\"\u001b[0m\u001b[1;33m]\u001b[0m\u001b[1;33m\u001b[0m\u001b[1;33m\u001b[0m\u001b[0m\n\u001b[0;32m      8\u001b[0m \u001b[0mnwe\u001b[0m \u001b[1;33m=\u001b[0m \u001b[1;33m{\u001b[0m\u001b[0mk\u001b[0m\u001b[1;33m:\u001b[0m\u001b[0msample_dict\u001b[0m\u001b[1;33m[\u001b[0m\u001b[0mk\u001b[0m\u001b[1;33m]\u001b[0m \u001b[1;32mfor\u001b[0m \u001b[0mk\u001b[0m \u001b[1;32min\u001b[0m \u001b[0mkeys\u001b[0m\u001b[1;33m}\u001b[0m\u001b[1;33m\u001b[0m\u001b[1;33m\u001b[0m\u001b[0m\n\u001b[1;32m----> 9\u001b[1;33m \u001b[0mprint\u001b[0m \u001b[1;33m(\u001b[0m\u001b[0msample_dict\u001b[0m\u001b[1;33m.\u001b[0m\u001b[0mpop\u001b[0m\u001b[1;33m(\u001b[0m\u001b[0mnwe\u001b[0m\u001b[1;33m)\u001b[0m\u001b[1;33m)\u001b[0m\u001b[1;33m\u001b[0m\u001b[1;33m\u001b[0m\u001b[0m\n\u001b[0m",
      "\u001b[1;31mTypeError\u001b[0m: unhashable type: 'dict'"
     ]
    }
   ],
   "source": [
    "sample_dict = {\n",
    "    \"name\": \"Kelly\",\n",
    "    \"age\": 25,\n",
    "    \"salary\": 8000,\n",
    "    \"city\": \"New york\"\n",
    "}\n",
    "keys = [\"name\", \"salary\"]\n",
    "nwe = {k:sample_dict[k] for k in keys}\n",
    "print (sample_dict.pop(nwe))"
   ]
  },
  {
   "cell_type": "code",
   "execution_count": 67,
   "id": "def7de3d",
   "metadata": {},
   "outputs": [
    {
     "name": "stdout",
     "output_type": "stream",
     "text": [
      "{'age': 25, 'city': 'New york'}\n"
     ]
    }
   ],
   "source": [
    "sample_dict = {\n",
    "    \"name\": \"Kelly\",\n",
    "    \"age\": 25,\n",
    "    \"salary\": 8000,\n",
    "    \"city\": \"New york\"\n",
    "}\n",
    "# Keys to remove\n",
    "keys = [\"name\", \"salary\"]\n",
    "\n",
    "for k in keys:\n",
    "    sample_dict.pop(k)\n",
    "print(sample_dict)"
   ]
  },
  {
   "cell_type": "code",
   "execution_count": 72,
   "id": "e281d548",
   "metadata": {},
   "outputs": [
    {
     "ename": "NameError",
     "evalue": "name 'y' is not defined",
     "output_type": "error",
     "traceback": [
      "\u001b[1;31m---------------------------------------------------------------------------\u001b[0m",
      "\u001b[1;31mNameError\u001b[0m                                 Traceback (most recent call last)",
      "\u001b[1;32m~\\AppData\\Local\\Temp/ipykernel_13620/1387099155.py\u001b[0m in \u001b[0;36m<module>\u001b[1;34m\u001b[0m\n\u001b[0;32m      1\u001b[0m \u001b[0msample_dict\u001b[0m \u001b[1;33m=\u001b[0m \u001b[1;33m{\u001b[0m\u001b[1;34m'a'\u001b[0m\u001b[1;33m:\u001b[0m \u001b[1;36m100\u001b[0m\u001b[1;33m,\u001b[0m \u001b[1;34m'b'\u001b[0m\u001b[1;33m:\u001b[0m \u001b[1;36m200\u001b[0m\u001b[1;33m,\u001b[0m \u001b[1;34m'c'\u001b[0m\u001b[1;33m:\u001b[0m \u001b[1;36m300\u001b[0m\u001b[1;33m}\u001b[0m\u001b[1;33m\u001b[0m\u001b[1;33m\u001b[0m\u001b[0m\n\u001b[0;32m      2\u001b[0m \u001b[0mdf\u001b[0m \u001b[1;33m=\u001b[0m \u001b[1;33m{\u001b[0m\u001b[0my\u001b[0m \u001b[1;32mfor\u001b[0m \u001b[0mx\u001b[0m\u001b[1;33m,\u001b[0m\u001b[0my\u001b[0m \u001b[1;32min\u001b[0m \u001b[0msample_dict\u001b[0m\u001b[1;33m.\u001b[0m\u001b[0mitems\u001b[0m\u001b[1;33m(\u001b[0m\u001b[1;33m)\u001b[0m\u001b[1;33m}\u001b[0m\u001b[1;33m\u001b[0m\u001b[1;33m\u001b[0m\u001b[0m\n\u001b[1;32m----> 3\u001b[1;33m \u001b[1;32mif\u001b[0m \u001b[0my\u001b[0m \u001b[1;33m==\u001b[0m \u001b[1;34m'200'\u001b[0m\u001b[1;33m:\u001b[0m\u001b[1;33m\u001b[0m\u001b[1;33m\u001b[0m\u001b[0m\n\u001b[0m\u001b[0;32m      4\u001b[0m     \u001b[0mprint\u001b[0m \u001b[1;33m(\u001b[0m\u001b[0mdf\u001b[0m\u001b[1;33m)\u001b[0m\u001b[1;33m\u001b[0m\u001b[1;33m\u001b[0m\u001b[0m\n",
      "\u001b[1;31mNameError\u001b[0m: name 'y' is not defined"
     ]
    }
   ],
   "source": [
    "sample_dict = {'a': 100, 'b': 200, 'c': 300}\n",
    "df = {y for x,y in sample_dict.items()}\n",
    "if y == '200':\n",
    "    print (df)"
   ]
  },
  {
   "cell_type": "code",
   "execution_count": 75,
   "id": "4586fc18",
   "metadata": {},
   "outputs": [
    {
     "name": "stdout",
     "output_type": "stream",
     "text": [
      "{'name': 'Kelly', 'age': 25, 'salary': 8000, 'location': 'New york'}\n"
     ]
    }
   ],
   "source": [
    "sample_dict = {\n",
    "  \"name\": \"Kelly\",\n",
    "  \"age\":25,\n",
    "  \"salary\": 8000,\n",
    "  \"city\": \"New york\"\n",
    "}\n",
    "sample_dict['location'] = sample_dict.pop('city')\n",
    "print (sample_dict)"
   ]
  },
  {
   "cell_type": "code",
   "execution_count": 76,
   "id": "365364a0",
   "metadata": {},
   "outputs": [
    {
     "name": "stdout",
     "output_type": "stream",
     "text": [
      "{'name': 'Kelly', 'age': 25, 'salary': 8000, 'location': 'New york'}\n"
     ]
    }
   ],
   "source": [
    "sample_dict = {\n",
    "    \"name\": \"Kelly\",\n",
    "    \"age\": 25,\n",
    "    \"salary\": 8000,\n",
    "    \"city\": \"New york\"\n",
    "}\n",
    "\n",
    "sample_dict['location'] = sample_dict.pop('city')\n",
    "print(sample_dict)\n"
   ]
  },
  {
   "cell_type": "code",
   "execution_count": 78,
   "id": "523d1716",
   "metadata": {},
   "outputs": [
    {
     "name": "stdout",
     "output_type": "stream",
     "text": [
      " \n",
      " \n",
      " \n"
     ]
    }
   ],
   "source": [
    "sample_dict = {\n",
    "  'Physics': 82,\n",
    "  'Math': 65,\n",
    "  'history': 75\n",
    "}\n",
    "for (key,values) in sample_dict.items():\n",
    "    print (min(value))"
   ]
  },
  {
   "cell_type": "code",
   "execution_count": 81,
   "id": "e29bb98c",
   "metadata": {},
   "outputs": [
    {
     "name": "stdout",
     "output_type": "stream",
     "text": [
      "{<zip object at 0x00000209B4AFADC0>}\n",
      "{<zip object at 0x00000209B4AFA940>}\n",
      "{<zip object at 0x00000209B4AFADC0>}\n"
     ]
    }
   ],
   "source": [
    "Sample = [{'item': 'item1', 'amount': 400}, {'item': 'item2', 'amount': 300}, {'item': 'item1', 'amount': 750}]\n",
    "for (key,value) in Sample:\n",
    "    df = {(zip(key,value))}\n",
    "    print (df)\n"
   ]
  },
  {
   "cell_type": "code",
   "execution_count": 82,
   "id": "ce6a9d78",
   "metadata": {},
   "outputs": [
    {
     "name": "stdout",
     "output_type": "stream",
     "text": [
      "[('Math', 81), ('Physics', 83), ('Chemistry', 87)]\n"
     ]
    }
   ],
   "source": [
    "Sample = {'Math':81, 'Physics':83, 'Chemistry':87}\n",
    "d = list(Sample.items())\n",
    "print (d)\n"
   ]
  },
  {
   "cell_type": "code",
   "execution_count": 84,
   "id": "3cf18216",
   "metadata": {},
   "outputs": [
    {
     "ename": "AttributeError",
     "evalue": "'tuple' object has no attribute 'items'",
     "output_type": "error",
     "traceback": [
      "\u001b[1;31m---------------------------------------------------------------------------\u001b[0m",
      "\u001b[1;31mAttributeError\u001b[0m                            Traceback (most recent call last)",
      "\u001b[1;32m~\\AppData\\Local\\Temp/ipykernel_13620/2398868014.py\u001b[0m in \u001b[0;36m<module>\u001b[1;34m\u001b[0m\n\u001b[0;32m      1\u001b[0m \u001b[0mSample\u001b[0m \u001b[1;33m=\u001b[0m \u001b[1;33m{\u001b[0m\u001b[1;34m'key1'\u001b[0m\u001b[1;33m:\u001b[0m \u001b[1;36m1\u001b[0m\u001b[1;33m,\u001b[0m \u001b[1;34m'key2'\u001b[0m\u001b[1;33m:\u001b[0m \u001b[1;36m3\u001b[0m\u001b[1;33m,\u001b[0m \u001b[1;34m'key3'\u001b[0m\u001b[1;33m:\u001b[0m \u001b[1;36m2\u001b[0m\u001b[1;33m}\u001b[0m\u001b[1;33m,\u001b[0m\u001b[1;33m\u001b[0m\u001b[1;33m\u001b[0m\u001b[0m\n\u001b[0;32m      2\u001b[0m \u001b[0mdf\u001b[0m \u001b[1;33m=\u001b[0m \u001b[1;33m{\u001b[0m\u001b[1;34m'key1'\u001b[0m\u001b[1;33m:\u001b[0m \u001b[1;36m1\u001b[0m\u001b[1;33m,\u001b[0m \u001b[1;34m'key2'\u001b[0m\u001b[1;33m:\u001b[0m \u001b[1;36m2\u001b[0m\u001b[1;33m}\u001b[0m\u001b[1;33m\u001b[0m\u001b[1;33m\u001b[0m\u001b[0m\n\u001b[1;32m----> 3\u001b[1;33m \u001b[1;32mfor\u001b[0m \u001b[1;33m(\u001b[0m\u001b[0mkey1\u001b[0m\u001b[1;33m,\u001b[0m\u001b[0mvalue1\u001b[0m \u001b[1;33m)\u001b[0m \u001b[1;32min\u001b[0m \u001b[0mSample\u001b[0m\u001b[1;33m.\u001b[0m\u001b[0mitems\u001b[0m\u001b[1;33m(\u001b[0m\u001b[1;33m)\u001b[0m\u001b[1;33m:\u001b[0m\u001b[1;33m\u001b[0m\u001b[1;33m\u001b[0m\u001b[0m\n\u001b[0m\u001b[0;32m      4\u001b[0m     \u001b[1;32mfor\u001b[0m \u001b[1;33m(\u001b[0m\u001b[0mkey\u001b[0m\u001b[1;33m,\u001b[0m\u001b[0mvalue\u001b[0m \u001b[1;33m)\u001b[0m \u001b[1;32min\u001b[0m \u001b[0mdf\u001b[0m\u001b[1;33m.\u001b[0m\u001b[0mitems\u001b[0m\u001b[1;33m(\u001b[0m\u001b[1;33m)\u001b[0m\u001b[1;33m:\u001b[0m\u001b[1;33m\u001b[0m\u001b[1;33m\u001b[0m\u001b[0m\n\u001b[0;32m      5\u001b[0m         \u001b[1;32mif\u001b[0m \u001b[0mkey1\u001b[0m \u001b[1;33m==\u001b[0m \u001b[0mvalue1\u001b[0m\u001b[1;33m:\u001b[0m\u001b[1;33m\u001b[0m\u001b[1;33m\u001b[0m\u001b[0m\n",
      "\u001b[1;31mAttributeError\u001b[0m: 'tuple' object has no attribute 'items'"
     ]
    }
   ],
   "source": [
    "Sample = {'key1': 1, 'key2': 3, 'key3': 2}, \n",
    "df = {'key1': 1, 'key2': 2}\n",
    "for (key1,value1 ) in Sample.items():\n",
    "    for (key,value ) in df.items():\n",
    "        if key1 == value1:\n",
    "            print (key1)\n"
   ]
  },
  {
   "cell_type": "code",
   "execution_count": 86,
   "id": "a72ff67e",
   "metadata": {},
   "outputs": [
    {
     "ename": "TypeError",
     "evalue": "'>=' not supported between instances of 'set' and 'int'",
     "output_type": "error",
     "traceback": [
      "\u001b[1;31m---------------------------------------------------------------------------\u001b[0m",
      "\u001b[1;31mTypeError\u001b[0m                                 Traceback (most recent call last)",
      "\u001b[1;32m~\\AppData\\Local\\Temp/ipykernel_13620/2647668394.py\u001b[0m in \u001b[0;36m<module>\u001b[1;34m\u001b[0m\n\u001b[0;32m      1\u001b[0m \u001b[0mS\u001b[0m \u001b[1;33m=\u001b[0m \u001b[1;33m{\u001b[0m\u001b[1;34m'Cierra Vega'\u001b[0m\u001b[1;33m:\u001b[0m \u001b[1;36m175\u001b[0m\u001b[1;33m,\u001b[0m \u001b[1;34m'Alden Cantrell'\u001b[0m\u001b[1;33m:\u001b[0m \u001b[1;36m180\u001b[0m\u001b[1;33m,\u001b[0m \u001b[1;34m'Kierra Gentry'\u001b[0m\u001b[1;33m:\u001b[0m \u001b[1;36m165\u001b[0m\u001b[1;33m,\u001b[0m \u001b[1;34m'Pierre Cox'\u001b[0m\u001b[1;33m:\u001b[0m \u001b[1;36m190\u001b[0m\u001b[1;33m}\u001b[0m\u001b[1;33m\u001b[0m\u001b[1;33m\u001b[0m\u001b[0m\n\u001b[0;32m      2\u001b[0m \u001b[0mdf\u001b[0m \u001b[1;33m=\u001b[0m \u001b[1;33m{\u001b[0m\u001b[0mx\u001b[0m \u001b[1;32mfor\u001b[0m \u001b[0mx\u001b[0m\u001b[1;33m,\u001b[0m\u001b[0my\u001b[0m \u001b[1;32min\u001b[0m \u001b[0mS\u001b[0m\u001b[1;33m.\u001b[0m\u001b[0mitems\u001b[0m\u001b[1;33m(\u001b[0m\u001b[1;33m)\u001b[0m\u001b[1;33m}\u001b[0m\u001b[1;33m\u001b[0m\u001b[1;33m\u001b[0m\u001b[0m\n\u001b[1;32m----> 3\u001b[1;33m \u001b[1;32mif\u001b[0m \u001b[0mdf\u001b[0m\u001b[1;33m>=\u001b[0m\u001b[1;36m170\u001b[0m\u001b[1;33m:\u001b[0m\u001b[1;33m\u001b[0m\u001b[1;33m\u001b[0m\u001b[0m\n\u001b[0m\u001b[0;32m      4\u001b[0m     \u001b[0mprint\u001b[0m \u001b[1;33m(\u001b[0m\u001b[0mdf\u001b[0m\u001b[1;33m)\u001b[0m\u001b[1;33m\u001b[0m\u001b[1;33m\u001b[0m\u001b[0m\n",
      "\u001b[1;31mTypeError\u001b[0m: '>=' not supported between instances of 'set' and 'int'"
     ]
    }
   ],
   "source": [
    "S = {'Cierra Vega': 175, 'Alden Cantrell': 180, 'Kierra Gentry': 165, 'Pierre Cox': 190}\n",
    "df = {x for x,y in S.items()}\n",
    "if df>=170:\n",
    "    print (df)"
   ]
  },
  {
   "cell_type": "code",
   "execution_count": 92,
   "id": "dbf5d88c",
   "metadata": {},
   "outputs": [
    {
     "name": "stdout",
     "output_type": "stream",
     "text": [
      "{'yellow': 3, 'blue': 4, 'red': 1}\n"
     ]
    }
   ],
   "source": [
    "S = [('yellow', 1), ('blue', 2), ('yellow', 3), ('blue', 4), ('red', 1)]\n",
    "d = {item[0] : item[1] for item in S}\n",
    "print (d)\n"
   ]
  },
  {
   "cell_type": "code",
   "execution_count": 97,
   "id": "c4da58ee",
   "metadata": {},
   "outputs": [
    {
     "name": "stdout",
     "output_type": "stream",
     "text": [
      "['Science', 'Language']\n",
      "['Science', 'Language']\n"
     ]
    }
   ],
   "source": [
    "X = {'Science': [88, 89, 62, 95], 'Language': [77, 78, 84, 80]}\n",
    "for (key,value) in X.items():\n",
    "    print (list(X))"
   ]
  },
  {
   "cell_type": "code",
   "execution_count": 98,
   "id": "aa9acd48",
   "metadata": {},
   "outputs": [
    {
     "ename": "TypeError",
     "evalue": "float() argument must be a string or a number, not 'list'",
     "output_type": "error",
     "traceback": [
      "\u001b[1;31m---------------------------------------------------------------------------\u001b[0m",
      "\u001b[1;31mTypeError\u001b[0m                                 Traceback (most recent call last)",
      "\u001b[1;32m~\\AppData\\Local\\Temp/ipykernel_13620/3810116109.py\u001b[0m in \u001b[0;36m<module>\u001b[1;34m\u001b[0m\n\u001b[0;32m      1\u001b[0m \u001b[0mS\u001b[0m \u001b[1;33m=\u001b[0m \u001b[1;33m[\u001b[0m\u001b[1;33m{\u001b[0m\u001b[1;34m'x'\u001b[0m\u001b[1;33m:\u001b[0m \u001b[1;34m'10'\u001b[0m\u001b[1;33m,\u001b[0m \u001b[1;34m'y'\u001b[0m\u001b[1;33m:\u001b[0m \u001b[1;34m'20'\u001b[0m\u001b[1;33m,\u001b[0m \u001b[1;34m'z'\u001b[0m\u001b[1;33m:\u001b[0m \u001b[1;34m'30'\u001b[0m\u001b[1;33m}\u001b[0m\u001b[1;33m,\u001b[0m \u001b[1;33m{\u001b[0m\u001b[1;34m'p'\u001b[0m\u001b[1;33m:\u001b[0m \u001b[1;34m'40'\u001b[0m\u001b[1;33m,\u001b[0m \u001b[1;34m'q'\u001b[0m\u001b[1;33m:\u001b[0m \u001b[1;34m'50'\u001b[0m\u001b[1;33m,\u001b[0m \u001b[1;34m'r'\u001b[0m\u001b[1;33m:\u001b[0m \u001b[1;34m'60'\u001b[0m\u001b[1;33m}\u001b[0m\u001b[1;33m]\u001b[0m\u001b[1;33m\u001b[0m\u001b[1;33m\u001b[0m\u001b[0m\n\u001b[1;32m----> 2\u001b[1;33m \u001b[0mprint\u001b[0m \u001b[1;33m(\u001b[0m\u001b[0mfloat\u001b[0m\u001b[1;33m(\u001b[0m\u001b[0mS\u001b[0m\u001b[1;33m)\u001b[0m\u001b[1;33m)\u001b[0m\u001b[1;33m\u001b[0m\u001b[1;33m\u001b[0m\u001b[0m\n\u001b[0m",
      "\u001b[1;31mTypeError\u001b[0m: float() argument must be a string or a number, not 'list'"
     ]
    }
   ],
   "source": [
    "S = [{'x': '10', 'y': '20', 'z': '30'}, {'p': '40', 'q': '50', 'r': '60'}]\n",
    "print (float(S))\n"
   ]
  },
  {
   "cell_type": "code",
   "execution_count": 99,
   "id": "3a4d41b3",
   "metadata": {},
   "outputs": [
    {
     "name": "stdout",
     "output_type": "stream",
     "text": [
      "[1, 2, 3, 4, 5, 6]\n"
     ]
    }
   ],
   "source": [
    "key_value = {2: 56, 1: 2, 5: 12, 4: 24, 6: 18, 3: 323}\n",
    "d = {x for x,y in key_value.items()}\n",
    "print (sorted(d))"
   ]
  },
  {
   "cell_type": "code",
   "execution_count": 100,
   "id": "1331361e",
   "metadata": {},
   "outputs": [
    {
     "name": "stdout",
     "output_type": "stream",
     "text": [
      "Original dictionary of lists:\n",
      "{'Science': [88, 89, 62, 95], 'Language': [77, 78, 84, 80]}\n",
      "\n",
      "Split said dictionary of lists into list of dictionaries:\n",
      "[{'Science': 88, 'Language': 77}, {'Science': 89, 'Language': 78}, {'Science': 62, 'Language': 84}, {'Science': 95, 'Language': 80}]\n"
     ]
    }
   ],
   "source": [
    "def list_of_dicts(marks):\n",
    "    keys = marks.keys()\n",
    "    vals = zip(*[marks[k] for k in keys])\n",
    "    result = [dict(zip(keys, v)) for v in vals]\n",
    "    return result\n",
    "\n",
    "marks = {'Science': [88, 89, 62, 95], 'Language': [77, 78, 84, 80]}\n",
    "print(\"Original dictionary of lists:\")\n",
    "print(marks)\n",
    "print(\"\\nSplit said dictionary of lists into list of dictionaries:\")\n",
    "print(list_of_dicts(marks))\n"
   ]
  },
  {
   "cell_type": "code",
   "execution_count": 101,
   "id": "0ecbdff1",
   "metadata": {},
   "outputs": [
    {
     "name": "stdout",
     "output_type": "stream",
     "text": [
      "{(10, 20, 30): 0, (5, 2, 4): 3}\n"
     ]
    }
   ],
   "source": [
    "# Python code to demonstrate a dictionary\n",
    "# with multiple inputs in a key.\n",
    "import random as rn\n",
    "\n",
    "# creating an empty dictionary\n",
    "dict = {}\n",
    "\n",
    "# Insert first triplet in dictionary\n",
    "x, y, z = 10, 20, 30\n",
    "dict[x, y, z] = x + y - z;\n",
    "\n",
    "# Insert second triplet in dictionary\n",
    "x, y, z = 5, 2, 4\n",
    "dict[x, y, z] = x + y - z;\n",
    "\n",
    "# print the dictionary\n",
    "print(dict)\n"
   ]
  },
  {
   "cell_type": "code",
   "execution_count": 106,
   "id": "2ae6b7fd",
   "metadata": {},
   "outputs": [
    {
     "ename": "AttributeError",
     "evalue": "'list' object has no attribute 'items'",
     "output_type": "error",
     "traceback": [
      "\u001b[1;31m---------------------------------------------------------------------------\u001b[0m",
      "\u001b[1;31mAttributeError\u001b[0m                            Traceback (most recent call last)",
      "\u001b[1;32m~\\AppData\\Local\\Temp/ipykernel_13620/4046103691.py\u001b[0m in \u001b[0;36m<module>\u001b[1;34m\u001b[0m\n\u001b[0;32m      1\u001b[0m S = [{'Science': 88, 'Language': 77}, {'Science': 89, 'Language': 78}, \n\u001b[0;32m      2\u001b[0m  {'Science': 62, 'Language': 84}, {'Science': 95, 'Language': 80}]\n\u001b[1;32m----> 3\u001b[1;33m \u001b[0mr\u001b[0m \u001b[1;33m=\u001b[0m \u001b[1;33m[\u001b[0m\u001b[0mx\u001b[0m \u001b[1;32mfor\u001b[0m \u001b[0mx\u001b[0m\u001b[1;33m,\u001b[0m\u001b[0my\u001b[0m \u001b[1;32min\u001b[0m \u001b[0mS\u001b[0m\u001b[1;33m.\u001b[0m\u001b[0mitems\u001b[0m\u001b[1;33m(\u001b[0m\u001b[1;33m)\u001b[0m\u001b[1;33m]\u001b[0m\u001b[1;33m\u001b[0m\u001b[1;33m\u001b[0m\u001b[0m\n\u001b[0m",
      "\u001b[1;31mAttributeError\u001b[0m: 'list' object has no attribute 'items'"
     ]
    }
   ],
   "source": [
    "S = [{'Science': 88, 'Language': 77}, {'Science': 89, 'Language': 78}, \n",
    " {'Science': 62, 'Language': 84}, {'Science': 95, 'Language': 80}]\n",
    "r = [x for x,y in S.items()]"
   ]
  },
  {
   "cell_type": "code",
   "execution_count": 107,
   "id": "bfc4e6c1",
   "metadata": {},
   "outputs": [
    {
     "name": "stdout",
     "output_type": "stream",
     "text": [
      "3\n"
     ]
    }
   ],
   "source": [
    "Sample = {'key1': 1, 'key2': 3, 'key3': 2}\n",
    "d = {x for x,y in Sample.items()}\n",
    "print (len(d))\n"
   ]
  },
  {
   "cell_type": "code",
   "execution_count": 109,
   "id": "54ef880b",
   "metadata": {},
   "outputs": [
    {
     "ename": "SyntaxError",
     "evalue": "invalid syntax (Temp/ipykernel_13620/3469110005.py, line 10)",
     "output_type": "error",
     "traceback": [
      "\u001b[1;36m  File \u001b[1;32m\"C:\\Users\\win10\\AppData\\Local\\Temp/ipykernel_13620/3469110005.py\"\u001b[1;36m, line \u001b[1;32m10\u001b[0m\n\u001b[1;33m    print sorted(lis, key=itemgetter('age'))\u001b[0m\n\u001b[1;37m          ^\u001b[0m\n\u001b[1;31mSyntaxError\u001b[0m\u001b[1;31m:\u001b[0m invalid syntax\n"
     ]
    }
   ],
   "source": [
    "from operator import itemgetter\n",
    " \n",
    "# Initializing list of dictionaries\n",
    "lis = [{\"name\": \"Nandini\", \"age\": 20},\n",
    "       {\"name\": \"Manjeet\", \"age\": 20},\n",
    "       {\"name\": \"Nikhil\", \"age\": 19}]\n",
    " \n",
    "# using sorted and itemgetter to print list sorted by age\n",
    "print (\"The list printed sorting by age: \")\n",
    "print sorted(lis, key=itemgetter('age'))\n",
    " "
   ]
  },
  {
   "cell_type": "code",
   "execution_count": 111,
   "id": "4ae6ff74",
   "metadata": {},
   "outputs": [
    {
     "ename": "TypeError",
     "evalue": "'<' not supported between instances of 'dict' and 'dict'",
     "output_type": "error",
     "traceback": [
      "\u001b[1;31m---------------------------------------------------------------------------\u001b[0m",
      "\u001b[1;31mTypeError\u001b[0m                                 Traceback (most recent call last)",
      "\u001b[1;32m~\\AppData\\Local\\Temp/ipykernel_13620/112437856.py\u001b[0m in \u001b[0;36m<module>\u001b[1;34m\u001b[0m\n\u001b[0;32m      1\u001b[0m \u001b[0mlis\u001b[0m \u001b[1;33m=\u001b[0m \u001b[1;33m[\u001b[0m\u001b[1;33m{\u001b[0m\u001b[1;34m\"name\"\u001b[0m\u001b[1;33m:\u001b[0m \u001b[1;34m\"Nandini\"\u001b[0m\u001b[1;33m,\u001b[0m \u001b[1;34m\"age\"\u001b[0m\u001b[1;33m:\u001b[0m \u001b[1;36m20\u001b[0m\u001b[1;33m}\u001b[0m\u001b[1;33m,\u001b[0m\u001b[1;33m{\u001b[0m\u001b[1;34m\"name\"\u001b[0m\u001b[1;33m:\u001b[0m \u001b[1;34m\"Manjeet\"\u001b[0m\u001b[1;33m,\u001b[0m \u001b[1;34m\"age\"\u001b[0m\u001b[1;33m:\u001b[0m \u001b[1;36m20\u001b[0m\u001b[1;33m}\u001b[0m\u001b[1;33m,\u001b[0m\u001b[1;33m{\u001b[0m\u001b[1;34m\"name\"\u001b[0m\u001b[1;33m:\u001b[0m \u001b[1;34m\"Nikhil\"\u001b[0m\u001b[1;33m,\u001b[0m \u001b[1;34m\"age\"\u001b[0m\u001b[1;33m:\u001b[0m \u001b[1;36m19\u001b[0m\u001b[1;33m}\u001b[0m\u001b[1;33m]\u001b[0m\u001b[1;33m\u001b[0m\u001b[1;33m\u001b[0m\u001b[0m\n\u001b[1;32m----> 2\u001b[1;33m \u001b[0mprint\u001b[0m \u001b[1;33m(\u001b[0m\u001b[0msorted\u001b[0m\u001b[1;33m(\u001b[0m\u001b[0mlis\u001b[0m\u001b[1;33m)\u001b[0m\u001b[1;33m)\u001b[0m\u001b[1;33m\u001b[0m\u001b[1;33m\u001b[0m\u001b[0m\n\u001b[0m",
      "\u001b[1;31mTypeError\u001b[0m: '<' not supported between instances of 'dict' and 'dict'"
     ]
    }
   ],
   "source": [
    "lis = [{\"name\": \"Nandini\", \"age\": 20},{\"name\": \"Manjeet\", \"age\": 20},{\"name\": \"Nikhil\", \"age\": 19}]\n",
    "print (sorted(lis))"
   ]
  },
  {
   "cell_type": "code",
   "execution_count": 112,
   "id": "c53f86aa",
   "metadata": {},
   "outputs": [
    {
     "name": "stdout",
     "output_type": "stream",
     "text": [
      "[{'name': 'Nandini', 'age': 20}, {'name': 'Manjeet', 'age': 20}, {'name': 'Nikhil', 'age': 19}, {'name': 'Nandini', 'age': 20}, {'name': 'Manjeet', 'age': 20}, {'name': 'Nikhil', 'age': 19}]\n"
     ]
    }
   ],
   "source": [
    "lis = [{\"name\": \"Nandini\", \"age\": 20},{\"name\": \"Manjeet\", \"age\": 20},{\"name\": \"Nikhil\", \"age\": 19}]\n",
    "l = [{\"name\": \"Nandini\", \"age\": 20},{\"name\": \"Manjeet\", \"age\": 20},{\"name\": \"Nikhil\", \"age\": 19}]\n",
    "print (lis+l)\n"
   ]
  },
  {
   "cell_type": "code",
   "execution_count": 114,
   "id": "71e18236",
   "metadata": {},
   "outputs": [
    {
     "name": "stdout",
     "output_type": "stream",
     "text": [
      "{'a': 1, 'b': 2, 'c': 3}\n"
     ]
    }
   ],
   "source": [
    "original_dict = {'a':1, 'b':2}\n",
    "f = {'c':3}\n",
    "df = original_dict.update(f)\n",
    "print (original_dict)"
   ]
  },
  {
   "cell_type": "code",
   "execution_count": 116,
   "id": "0e09d2ed",
   "metadata": {},
   "outputs": [
    {
     "name": "stdout",
     "output_type": "stream",
     "text": [
      "20\n",
      "80\n",
      "20\n",
      "80\n",
      "3\n",
      "4\n",
      "15\n",
      "20\n",
      "30\n",
      "70\n",
      "80\n",
      "120\n",
      "3\n",
      "4\n",
      "15\n",
      "20\n",
      "30\n",
      "70\n",
      "80\n",
      "120\n",
      "20\n",
      "80\n",
      "20\n",
      "80\n",
      "20\n",
      "80\n",
      "3\n",
      "4\n",
      "15\n",
      "20\n",
      "30\n",
      "70\n",
      "80\n",
      "120\n",
      "3\n",
      "4\n",
      "15\n",
      "20\n",
      "30\n",
      "70\n",
      "80\n",
      "120\n",
      "20\n",
      "80\n",
      "20\n",
      "80\n",
      "20\n",
      "80\n",
      "3\n",
      "4\n",
      "15\n",
      "20\n",
      "30\n",
      "70\n",
      "80\n",
      "120\n",
      "3\n",
      "4\n",
      "15\n",
      "20\n",
      "30\n",
      "70\n",
      "80\n",
      "120\n",
      "20\n",
      "80\n",
      "20\n",
      "80\n",
      "20\n",
      "80\n",
      "3\n",
      "4\n",
      "15\n",
      "20\n",
      "30\n",
      "70\n",
      "80\n",
      "120\n",
      "3\n",
      "4\n",
      "15\n",
      "20\n",
      "30\n",
      "70\n",
      "80\n",
      "120\n",
      "20\n",
      "80\n",
      "20\n",
      "80\n",
      "20\n",
      "80\n",
      "3\n",
      "4\n",
      "15\n",
      "20\n",
      "30\n",
      "70\n",
      "80\n",
      "120\n",
      "3\n",
      "4\n",
      "15\n",
      "20\n",
      "30\n",
      "70\n",
      "80\n",
      "120\n",
      "20\n",
      "80\n",
      "20\n",
      "80\n",
      "20\n",
      "80\n",
      "3\n",
      "4\n",
      "15\n",
      "20\n",
      "30\n",
      "70\n",
      "80\n",
      "120\n",
      "3\n",
      "4\n",
      "15\n",
      "20\n",
      "30\n",
      "70\n",
      "80\n",
      "120\n",
      "20\n",
      "80\n"
     ]
    }
   ],
   "source": [
    "ar1 = [1, 5, 10, 20, 40, 80]\n",
    "ar2 = [6, 7, 20, 80, 100]\n",
    "ar3 = [3, 4, 15, 20, 30, 70, 80, 120]\n",
    "for i in ar1:\n",
    "    for j in ar2:\n",
    "        for g in ar3:\n",
    "            if j in ar1 or g in ar1:\n",
    "                print (g)"
   ]
  },
  {
   "cell_type": "code",
   "execution_count": 118,
   "id": "df400d8b",
   "metadata": {},
   "outputs": [
    {
     "name": "stdout",
     "output_type": "stream",
     "text": [
      "johnny\n"
     ]
    }
   ],
   "source": [
    "from collections import Counter\n",
    "votes = {\"john\", \"johnny\", \"jackie\", \n",
    "                    \"johnny\", \"john\", \"jackie\", \n",
    "                    \"jamie\", \"jamie\", \"john\",\n",
    "                    \"johnny\", \"jamie\", \"johnny\", \n",
    "                    \"john\"}\n",
    "print (max(Counter(votes)))  "
   ]
  },
  {
   "cell_type": "code",
   "execution_count": 120,
   "id": "597d2f84",
   "metadata": {},
   "outputs": [],
   "source": [
    "test_dict = {'Gfg' : [5, 7, 9, 4, 0], 'is' : [6, 7, 4, 3, 3], 'Best' : [9, 9, 6, 5, 5]}\n",
    "for (key,value) in test_dict.items():\n",
    "    if key == max(value):\n",
    "        print (key)"
   ]
  },
  {
   "cell_type": "code",
   "execution_count": 123,
   "id": "97b24e19",
   "metadata": {},
   "outputs": [
    {
     "name": "stdout",
     "output_type": "stream",
     "text": [
      "The original list : [4, 6, 6, 4, 2, 2, 4, 4, 8, 5, 8]\n",
      "Similar grouped dictionary :  defaultdict(<class 'list'>, {4: [4, 4, 4, 4], 6: [6, 6], 2: [2, 2], 8: [8, 8], 5: [5]})\n"
     ]
    }
   ],
   "source": [
    "# Python3 code to demonstrate working of\n",
    "# Group Similar items to Dictionary Values List\n",
    "# Using defaultdict + loop\n",
    "from collections import defaultdict\n",
    "\n",
    "# initializing list\n",
    "test_list = [4, 6, 6, 4, 2, 2, 4, 4, 8, 5, 8]\n",
    "\n",
    "# printing original list\n",
    "print(\"The original list : \" + str(test_list))\n",
    "\n",
    "# using defaultdict for default list\n",
    "res = defaultdict(list)\n",
    "for ele in test_list:\n",
    "\t\n",
    "\t# appending Similar values\n",
    "\tres[ele].append(ele)\n",
    "\n",
    "# printing result\n",
    "print(\"Similar grouped dictionary : \" , str((res)))\n"
   ]
  },
  {
   "cell_type": "code",
   "execution_count": 124,
   "id": "7127cad1",
   "metadata": {},
   "outputs": [
    {
     "name": "stdout",
     "output_type": "stream",
     "text": [
      "The original list : ['Gfg', 'is', 'Best']\n",
      "The list after substitution : [7, 2, 'Best']\n"
     ]
    }
   ],
   "source": [
    "test_list = ['Gfg', 'is', 'Best'] \n",
    "subs_dict = {'Gfg' : [5, 6, 7], 'is' : [7, 4, 2]}\n",
    "# Python3 code to demonstrate working of\n",
    "# Replace String by Kth Dictionary value\n",
    "# Using list comprehension\n",
    "\n",
    "# initializing list\n",
    "test_list = [\"Gfg\", \"is\", \"Best\"]\n",
    "\n",
    "# printing original list\n",
    "print(\"The original list : \" + str(test_list))\n",
    "\n",
    "# initializing subs. Dictionary\n",
    "subs_dict = {\n",
    "\t\"Gfg\" : [5, 6, 7],\n",
    "\t\"is\" : [7, 4, 2],\n",
    "}\n",
    "\n",
    "# initializing K\n",
    "K = 2\n",
    "\n",
    "# using list comprehension to solve\n",
    "# problem using one liner\n",
    "res = [ele if ele not in subs_dict else subs_dict[ele][K]\n",
    "\t\t\t\t\t\t\t\t\tfor ele in test_list]\n",
    "\t\t\n",
    "# printing result\n",
    "print(\"The list after substitution : \" + str(res))\n",
    "\n",
    "\n"
   ]
  },
  {
   "cell_type": "code",
   "execution_count": 2,
   "id": "2bb66f09",
   "metadata": {},
   "outputs": [
    {
     "ename": "TypeError",
     "evalue": "unhashable type: 'set'",
     "output_type": "error",
     "traceback": [
      "\u001b[1;31m---------------------------------------------------------------------------\u001b[0m",
      "\u001b[1;31mTypeError\u001b[0m                                 Traceback (most recent call last)",
      "\u001b[1;32m~\\AppData\\Local\\Temp/ipykernel_4556/2060154581.py\u001b[0m in \u001b[0;36m<module>\u001b[1;34m\u001b[0m\n\u001b[0;32m      1\u001b[0m \u001b[0mlis\u001b[0m \u001b[1;33m=\u001b[0m \u001b[1;33m{\u001b[0m\u001b[1;34m\"name\"\u001b[0m\u001b[1;33m:\u001b[0m \u001b[1;34m\"Nandini\"\u001b[0m\u001b[1;33m,\u001b[0m \u001b[1;34m\"age\"\u001b[0m\u001b[1;33m:\u001b[0m \u001b[1;36m20\u001b[0m\u001b[1;33m}\u001b[0m\u001b[1;33m\u001b[0m\u001b[1;33m\u001b[0m\u001b[0m\n\u001b[0;32m      2\u001b[0m \u001b[0mdf\u001b[0m \u001b[1;33m=\u001b[0m \u001b[1;33m{\u001b[0m\u001b[0mx\u001b[0m \u001b[1;32mfor\u001b[0m \u001b[0mx\u001b[0m\u001b[1;33m,\u001b[0m\u001b[0my\u001b[0m \u001b[1;32min\u001b[0m \u001b[0mlis\u001b[0m\u001b[1;33m.\u001b[0m\u001b[0mitems\u001b[0m\u001b[1;33m(\u001b[0m\u001b[1;33m)\u001b[0m\u001b[1;33m}\u001b[0m\u001b[1;33m\u001b[0m\u001b[1;33m\u001b[0m\u001b[0m\n\u001b[1;32m----> 3\u001b[1;33m \u001b[0mprint\u001b[0m \u001b[1;33m(\u001b[0m\u001b[0mlis\u001b[0m\u001b[1;33m.\u001b[0m\u001b[0mpop\u001b[0m\u001b[1;33m(\u001b[0m\u001b[0mdf\u001b[0m\u001b[1;33m)\u001b[0m\u001b[1;33m)\u001b[0m\u001b[1;33m\u001b[0m\u001b[1;33m\u001b[0m\u001b[0m\n\u001b[0m",
      "\u001b[1;31mTypeError\u001b[0m: unhashable type: 'set'"
     ]
    }
   ],
   "source": [
    "lis = {\"name\": \"Nandini\", \"age\": 20}\n",
    "df = {x for x,y in lis.items()}\n",
    "print (lis.pop(df))\n"
   ]
  },
  {
   "cell_type": "code",
   "execution_count": 3,
   "id": "35c0446b",
   "metadata": {},
   "outputs": [
    {
     "name": "stdout",
     "output_type": "stream",
     "text": [
      "The original string is : gfg is best for geeks\n",
      "The string after replace : gfg is  for \n"
     ]
    }
   ],
   "source": [
    "# Python3 code to demonstrate working of\n",
    "# Remove Dictionary Key Words\n",
    "# Using split() + loop + replace()\n",
    "\n",
    "# initializing string\n",
    "test_str = 'gfg is best for geeks'\n",
    "\n",
    "# printing original string\n",
    "print(\"The original string is : \" + str(test_str))\n",
    "\n",
    "# initializing Dictionary\n",
    "test_dict = {'geeks' : 1, 'best': 6}\n",
    "\n",
    "# Remove Dictionary Key Words\n",
    "# Using split() + loop + replace()\n",
    "for key in test_dict:\n",
    "\tif key in test_str.split(' '):\n",
    "\t\ttest_str = test_str.replace(key, \"\")\n",
    "\n",
    "# printing result\n",
    "print(\"The string after replace : \" + str(test_str))\n"
   ]
  },
  {
   "cell_type": "code",
   "execution_count": 5,
   "id": "950598c5",
   "metadata": {},
   "outputs": [],
   "source": [
    "test_str = 'gfg is best for geeks'\n",
    "for i in test_str:\n",
    "    if i not in i:\n",
    "        print (i)"
   ]
  },
  {
   "cell_type": "code",
   "execution_count": 7,
   "id": "9373a788",
   "metadata": {},
   "outputs": [],
   "source": [
    "test_dict = {'Gfg' : [5, 7, 9, 4, 0], 'is' : [6, 7, 4, 3, 3], 'Best' : [9, 9, 6, 5, 5]}\n",
    "for (key,value) in test_dict.items():\n",
    "    if value in value:\n",
    "        print (i)\n",
    "    "
   ]
  },
  {
   "cell_type": "code",
   "execution_count": 22,
   "id": "a675408a",
   "metadata": {},
   "outputs": [
    {
     "name": "stdout",
     "output_type": "stream",
     "text": [
      "7.0\n"
     ]
    }
   ],
   "source": [
    "test_dict = {'Gfg' : 5, 'is' : 6 , 'Best' : 10}\n",
    "f = {y for x,y in test_dict.items()}\n",
    "f1  = (sum(f))\n",
    "print (f1/3)"
   ]
  },
  {
   "cell_type": "code",
   "execution_count": 23,
   "id": "6c064355",
   "metadata": {},
   "outputs": [
    {
     "name": "stdout",
     "output_type": "stream",
     "text": [
      "The original dictionary is : {'Gfg': 4, 'is': 7, 'Best': 8, 'for': 6, 'Geeks': 10}\n",
      "The computed mean : 7.0\n"
     ]
    }
   ],
   "source": [
    "# Python3 code to demonstrate working of\n",
    "# Dictionary Values Mean\n",
    "# Using loop + len()\n",
    "\n",
    "# initializing dictionary\n",
    "test_dict = {\"Gfg\" : 4, \"is\" : 7, \"Best\" : 8, \"for\" : 6, \"Geeks\" : 10}\n",
    "\n",
    "# printing original dictionary\n",
    "print(\"The original dictionary is : \" + str(test_dict))\n",
    "\n",
    "# loop to sum all values\n",
    "res = 0\n",
    "for val in test_dict.values():\n",
    "\tres += val\n",
    "\n",
    "# using len() to get total keys for mean computation\n",
    "res = res / len(test_dict)\n",
    "\n",
    "# printing result\n",
    "print(\"The computed mean : \" + str(res))\n"
   ]
  },
  {
   "cell_type": "code",
   "execution_count": 25,
   "id": "70967c67",
   "metadata": {},
   "outputs": [],
   "source": [
    "from collections import Counter\n",
    "str1 = 'xyyz'\n",
    "for i in str1:\n",
    "    if Counter(i)  == 2:\n",
    "        print ('True')\n",
    "    "
   ]
  },
  {
   "cell_type": "code",
   "execution_count": 26,
   "id": "4581756f",
   "metadata": {},
   "outputs": [],
   "source": [
    "Dict = [\"go\",\"bat\",\"me\",\"eat\",\"goal\",\"boy\", \"run\"]\n",
    "arr = ['e','o','b', 'a','m','g', 'l']\n",
    "for i in Dict:\n",
    "    for j in arr:\n",
    "        if i in arr:\n",
    "            print (i)\n",
    "        elif j in Dict:\n",
    "            print (i,j)\n"
   ]
  },
  {
   "cell_type": "code",
   "execution_count": 2,
   "id": "f739fcf4",
   "metadata": {},
   "outputs": [
    {
     "name": "stdout",
     "output_type": "stream",
     "text": [
      "10\n"
     ]
    }
   ],
   "source": [
    "T= {'Gfg': 4, 'is': 7, 'Best': 8, 'for': 6, 'Geeks': 10}\n",
    "f = {y for x,y in T.items()}\n",
    "print (max(f))\n"
   ]
  },
  {
   "cell_type": "code",
   "execution_count": 4,
   "id": "e7bf6c76",
   "metadata": {},
   "outputs": [],
   "source": [
    "test_dict = {'Gfg' : {'a' : 7, 'b' : 9, 'c' : 12}, 'is' : {'a' : 15, 'b' : 19, 'c' : 20}, \n",
    "                     'best' :{'a' : 5, 'b' : 10, 'b ': 2}}\n",
    "for (key,value) in test_dict.items():\n",
    "    if key == 'b':\n",
    "        print (value)\n"
   ]
  },
  {
   "cell_type": "code",
   "execution_count": 7,
   "id": "c025e6b0",
   "metadata": {},
   "outputs": [
    {
     "name": "stdout",
     "output_type": "stream",
     "text": [
      "[('gfg', [1, 3, 4]), ('is', [7, 6]), ('best', [4, 5])]\n"
     ]
    }
   ],
   "source": [
    "T =  {'gfg': [1, 3, 4], 'is': [7, 6], 'best': [4, 5]}\n",
    "d = list(T.items())\n",
    "print (d)\n"
   ]
  },
  {
   "cell_type": "code",
   "execution_count": 8,
   "id": "534a609c",
   "metadata": {},
   "outputs": [
    {
     "name": "stdout",
     "output_type": "stream",
     "text": [
      "The original dictionary is : {'gfg': [1, 3, 4], 'is': [7, 6], 'best': [4, 5]}\n",
      "The converted list is : [['gfg', 1, 3, 4], ['is', 7, 6], ['best', 4, 5]]\n"
     ]
    }
   ],
   "source": [
    "# Python3 code to demonstrate working of\n",
    "# Convert Key-Value list Dictionary to Lists of List\n",
    "# Using list comprehension\n",
    "\n",
    "# initializing Dictionary\n",
    "test_dict = {'gfg' : [1, 3, 4], 'is' : [7, 6], 'best' : [4, 5]}\n",
    "\n",
    "# printing original dictionary\n",
    "print(\"The original dictionary is : \" + str(test_dict))\n",
    "\n",
    "# Convert Key-Value list Dictionary to Lists of List\n",
    "# Using list comprehension\n",
    "res = [[key] + val for key, val in test_dict.items()]\n",
    "\n",
    "# printing result\n",
    "print(\"The converted list is : \" + str(res))\n"
   ]
  },
  {
   "cell_type": "code",
   "execution_count": 10,
   "id": "92170963",
   "metadata": {},
   "outputs": [
    {
     "name": "stdout",
     "output_type": "stream",
     "text": [
      "<zip object at 0x000001EDD2177B00>\n"
     ]
    }
   ],
   "source": [
    "test_list = ['Gfg', 3, 'is', 8]\n",
    "key_list = ['name', 'id']\n",
    "d = zip(test_list, key_list)\n",
    "print (d)\n"
   ]
  },
  {
   "cell_type": "code",
   "execution_count": 11,
   "id": "e99e437d",
   "metadata": {},
   "outputs": [
    {
     "name": "stdout",
     "output_type": "stream",
     "text": [
      "The original list : ['Gfg', 3, 'is', 8, 'Best', 10, 'for', 18, 'Geeks', 33]\n",
      "The constructed dictionary list : [{'name': 'Gfg', 'number': 3}, {'name': 'is', 'number': 8}, {'name': 'Best', 'number': 10}, {'name': 'for', 'number': 18}, {'name': 'Geeks', 'number': 33}]\n"
     ]
    }
   ],
   "source": [
    "# Python3 code to demonstrate working of\n",
    "# Convert List to List of dictionaries\n",
    "# Using zip() + list comprehension\n",
    "\n",
    "# initializing lists\n",
    "test_list = [\"Gfg\", 3, \"is\", 8, \"Best\", 10, \"for\", 18, \"Geeks\", 33]\n",
    "\n",
    "# printing original list\n",
    "print(\"The original list : \" + str(test_list))\n",
    "\n",
    "# initializing key list\n",
    "key_list = [\"name\", \"number\"]\n",
    "\n",
    "# using list comprehension to perform as shorthand\n",
    "n = len(test_list)\n",
    "res = [{key_list[0]: test_list[idx], key_list[1]: test_list[idx + 1]}\n",
    "\tfor idx in range(0, n, 2)]\n",
    "\n",
    "# printing result\n",
    "print(\"The constructed dictionary list : \" + str(res))\n"
   ]
  },
  {
   "cell_type": "code",
   "execution_count": 18,
   "id": "15d06de7",
   "metadata": {},
   "outputs": [
    {
     "name": "stdout",
     "output_type": "stream",
     "text": [
      "Gfg best\n",
      "Gfg best\n"
     ]
    }
   ],
   "source": [
    "test_list = [{'Gfg': 123, 'best': 10}, {'Gfg': 51, 'best': 7}]\n",
    "for (key,value) in test_list:\n",
    "    print (key ,value)\n",
    "    \n",
    "    \n"
   ]
  },
  {
   "cell_type": "code",
   "execution_count": 19,
   "id": "2b8b3b78",
   "metadata": {},
   "outputs": [
    {
     "name": "stdout",
     "output_type": "stream",
     "text": [
      "The original list is : [{'Nikhil': 17, 'Akash': 18, 'Akshat': 20}, {'Nikhil': 21, 'Akash': 30, 'Akshat': 10}, {'Nikhil': 31, 'Akash': 12, 'Akshat': 19}]\n",
      "The converted list : [['Nikhil', 'Akash', 'Akshat'], [17, 18, 20], [21, 30, 10], [31, 12, 19]]\n"
     ]
    }
   ],
   "source": [
    "# Python3 code to demonstrate working of\n",
    "# Convert List of Dictionaries to List of Lists\n",
    "# Using list comprehension\n",
    "\n",
    "# initializing list\n",
    "test_list = [{'Nikhil' : 17, 'Akash' : 18, 'Akshat' : 20},\n",
    "\t\t\t{'Nikhil' : 21, 'Akash' : 30, 'Akshat' : 10},\n",
    "\t\t\t{'Nikhil' : 31, 'Akash' : 12, 'Akshat' : 19}]\n",
    "\n",
    "# printing original list\n",
    "print(\"The original list is : \" + str(test_list))\n",
    "\n",
    "# Convert List of Dictionaries to List of Lists\n",
    "# Using list comprehension\n",
    "res = [[key for key in test_list[0].keys()], *[list(idx.values()) for idx in test_list ]]\n",
    "\n",
    "# printing result\n",
    "print(\"The converted list : \" + str(res))\n"
   ]
  },
  {
   "cell_type": "code",
   "execution_count": 23,
   "id": "412c8620",
   "metadata": {},
   "outputs": [
    {
     "name": "stdout",
     "output_type": "stream",
     "text": [
      "The original dictionary is : {'month': [1, 2, 3], 'name': ['Jan', 'Feb', 'March']}\n",
      "Flattened dictionary : {1: 'Jan', 2: 'Feb', 3: 'March'}\n"
     ]
    }
   ],
   "source": [
    "# Python3 code to demonstrate working of\n",
    "# Convert key-values list to flat dictionary\n",
    "# Using dict() + zip()\n",
    "from itertools import product\n",
    "\n",
    "# initializing dictionary\n",
    "test_dict = {'month' : [1, 2, 3],\n",
    "\t\t\t'name' : ['Jan', 'Feb', 'March']}\n",
    "\n",
    "# printing original dictionary\n",
    "print(\"The original dictionary is : \" + str(test_dict))\n",
    "\n",
    "# Convert key-values list to flat dictionary\n",
    "# Using dict() + zip()\n",
    "res = dict(zip(test_dict['month'], test_dict['name']))\n",
    "\n",
    "# printing result\n",
    "print(\"Flattened dictionary : \" + str(res))\n"
   ]
  },
  {
   "cell_type": "code",
   "execution_count": 32,
   "id": "28597cc1",
   "metadata": {},
   "outputs": [
    {
     "name": "stdout",
     "output_type": "stream",
     "text": [
      "{'Sachin': 10, 'MSD': 7, 'Kohli': 18, 'Rohit': 45}\n"
     ]
    }
   ],
   "source": [
    "# Python code to convert into dictionary\n",
    "\n",
    "print (dict([('Sachin', 10), ('MSD', 7), ('Kohli', 18), ('Rohit', 45)]))\n"
   ]
  },
  {
   "cell_type": "code",
   "execution_count": 34,
   "id": "dd0c0c15",
   "metadata": {},
   "outputs": [
    {
     "name": "stdout",
     "output_type": "stream",
     "text": [
      "(('x', 'x'), ('y', 'y'), ('z', 'z'))\n"
     ]
    }
   ],
   "source": [
    "test_dict = {'gfg' : {'x' : 5, 'y' : 6, 'z': 3}, 'best' : {'x' : 8, 'y' : 3, 'z': 5}} \n",
    "res = tuple(zip(test_dict['gfg'],test_dict['best']))\n",
    "print (res)"
   ]
  },
  {
   "cell_type": "code",
   "execution_count": 47,
   "id": "29de71ec",
   "metadata": {},
   "outputs": [
    {
     "name": "stdout",
     "output_type": "stream",
     "text": [
      "[24]\n"
     ]
    }
   ],
   "source": [
    "Input = [12, 35, 9, 56, 24]\n",
    "print (Input[-1:])\n"
   ]
  },
  {
   "cell_type": "code",
   "execution_count": 57,
   "id": "b453a073",
   "metadata": {},
   "outputs": [
    {
     "name": "stdout",
     "output_type": "stream",
     "text": [
      "{'g': 1, 'i': 7, 'b': 4}\n"
     ]
    }
   ],
   "source": [
    "T =  {'gfg': [1, 3, 4], 'is': [7, 6], 'best': [4, 5]}\n",
    "fg = [(k,v) for k,v in T.items()]\n",
    "f = {k[0]:v[0] for k,v in T.items()}\n",
    "print (f)\n"
   ]
  },
  {
   "cell_type": "code",
   "execution_count": 58,
   "id": "921aaa3a",
   "metadata": {},
   "outputs": [
    {
     "ename": "KeyError",
     "evalue": "0",
     "output_type": "error",
     "traceback": [
      "\u001b[1;31m---------------------------------------------------------------------------\u001b[0m",
      "\u001b[1;31mKeyError\u001b[0m                                  Traceback (most recent call last)",
      "\u001b[1;32m~\\AppData\\Local\\Temp/ipykernel_16140/1129170743.py\u001b[0m in \u001b[0;36m<module>\u001b[1;34m\u001b[0m\n\u001b[0;32m      1\u001b[0m \u001b[0mtest_dict\u001b[0m \u001b[1;33m=\u001b[0m \u001b[1;33m{\u001b[0m\u001b[1;34m'Gfg'\u001b[0m\u001b[1;33m:\u001b[0m \u001b[1;33m{\u001b[0m \u001b[1;34m'a'\u001b[0m \u001b[1;33m:\u001b[0m \u001b[1;33m[\u001b[0m\u001b[1;36m1\u001b[0m\u001b[1;33m,\u001b[0m \u001b[1;36m3\u001b[0m\u001b[1;33m,\u001b[0m \u001b[1;36m7\u001b[0m\u001b[1;33m,\u001b[0m \u001b[1;36m8\u001b[0m\u001b[1;33m]\u001b[0m\u001b[1;33m,\u001b[0m \u001b[1;34m'b'\u001b[0m \u001b[1;33m:\u001b[0m \u001b[1;33m[\u001b[0m\u001b[1;36m4\u001b[0m\u001b[1;33m,\u001b[0m \u001b[1;36m9\u001b[0m\u001b[1;33m]\u001b[0m\u001b[1;33m,\u001b[0m \u001b[1;34m'c'\u001b[0m \u001b[1;33m:\u001b[0m \u001b[1;33m[\u001b[0m\u001b[1;36m0\u001b[0m\u001b[1;33m,\u001b[0m \u001b[1;36m7\u001b[0m\u001b[1;33m]\u001b[0m\u001b[1;33m}\u001b[0m\u001b[1;33m}\u001b[0m\u001b[1;33m\u001b[0m\u001b[1;33m\u001b[0m\u001b[0m\n\u001b[0;32m      2\u001b[0m \u001b[1;32mfor\u001b[0m \u001b[1;33m(\u001b[0m\u001b[0mk\u001b[0m\u001b[1;33m,\u001b[0m\u001b[0mv\u001b[0m\u001b[1;33m)\u001b[0m \u001b[1;32min\u001b[0m \u001b[0mtest_dict\u001b[0m\u001b[1;33m.\u001b[0m\u001b[0mitems\u001b[0m\u001b[1;33m(\u001b[0m\u001b[1;33m)\u001b[0m\u001b[1;33m:\u001b[0m\u001b[1;33m\u001b[0m\u001b[1;33m\u001b[0m\u001b[0m\n\u001b[1;32m----> 3\u001b[1;33m     \u001b[0mf\u001b[0m \u001b[1;33m=\u001b[0m \u001b[0mv\u001b[0m\u001b[1;33m[\u001b[0m\u001b[1;36m3\u001b[0m\u001b[1;33m]\u001b[0m \u001b[1;33m=\u001b[0m \u001b[0mv\u001b[0m\u001b[1;33m[\u001b[0m\u001b[1;36m0\u001b[0m\u001b[1;33m]\u001b[0m\u001b[1;33m\u001b[0m\u001b[1;33m\u001b[0m\u001b[0m\n\u001b[0m\u001b[0;32m      4\u001b[0m \u001b[1;33m\u001b[0m\u001b[0m\n",
      "\u001b[1;31mKeyError\u001b[0m: 0"
     ]
    }
   ],
   "source": [
    "test_dict = {'Gfg': { 'a' : [1, 3, 7, 8], 'b' : [4, 9], 'c' : [0, 7]}}\n",
    "for (k,v) in test_dict.items():\n",
    "    f = v[3] = v[0]\n",
    "    \n"
   ]
  },
  {
   "cell_type": "code",
   "execution_count": 60,
   "id": "3ea9afba",
   "metadata": {},
   "outputs": [
    {
     "name": "stdout",
     "output_type": "stream",
     "text": [
      "[('Geeks', 10), ('for', 12), ('Geek', 31)]\n"
     ]
    }
   ],
   "source": [
    "Input =  { 'Geeks': 10, 'for': 12, 'Geek': 31 }\n",
    "f = [(k,v) for k,v in Input.items()]\n",
    "print (f)\n"
   ]
  },
  {
   "cell_type": "code",
   "execution_count": null,
   "id": "44086236",
   "metadata": {},
   "outputs": [],
   "source": []
  }
 ],
 "metadata": {
  "kernelspec": {
   "display_name": "Python 3 (ipykernel)",
   "language": "python",
   "name": "python3"
  },
  "language_info": {
   "codemirror_mode": {
    "name": "ipython",
    "version": 3
   },
   "file_extension": ".py",
   "mimetype": "text/x-python",
   "name": "python",
   "nbconvert_exporter": "python",
   "pygments_lexer": "ipython3",
   "version": "3.9.7"
  }
 },
 "nbformat": 4,
 "nbformat_minor": 5
}
