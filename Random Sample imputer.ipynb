{
 "cells": [
  {
   "cell_type": "code",
   "execution_count": 40,
   "id": "6e560ed8",
   "metadata": {},
   "outputs": [],
   "source": [
    "import pandas as pd\n",
    "import numpy as np\n",
    "import matplotlib.pyplot as plt\n",
    "import seaborn as sns\n",
    "%matplotlib inline"
   ]
  },
  {
   "cell_type": "code",
   "execution_count": 41,
   "id": "47873ff3",
   "metadata": {},
   "outputs": [],
   "source": [
    "df = pd.read_excel(\"BigBasket Products.xlsx\"  )"
   ]
  },
  {
   "cell_type": "code",
   "execution_count": 42,
   "id": "59b797a2",
   "metadata": {},
   "outputs": [],
   "source": [
    "df.drop(['Unnamed: 1'],axis=1,inplace=True)"
   ]
  },
  {
   "cell_type": "code",
   "execution_count": 43,
   "id": "d6b1ca74",
   "metadata": {},
   "outputs": [],
   "source": [
    "df.drop(['Unnamed: 7'],axis = 1, inplace=True)"
   ]
  },
  {
   "cell_type": "code",
   "execution_count": 44,
   "id": "78c3ba2d",
   "metadata": {},
   "outputs": [],
   "source": [
    "df.drop(['index'],axis = 1,inplace=True)"
   ]
  },
  {
   "cell_type": "code",
   "execution_count": 45,
   "id": "04f95cc1",
   "metadata": {},
   "outputs": [
    {
     "data": {
      "text/plain": [
       "category         3.309744\n",
       "sub_category     2.496825\n",
       "brand            0.003629\n",
       "sale_price       0.000000\n",
       "market_price     0.000000\n",
       "rating          31.304663\n",
       "dtype: float64"
      ]
     },
     "execution_count": 45,
     "metadata": {},
     "output_type": "execute_result"
    }
   ],
   "source": [
    "df.isnull().mean()*100"
   ]
  },
  {
   "cell_type": "code",
   "execution_count": 46,
   "id": "d955eca9",
   "metadata": {},
   "outputs": [],
   "source": [
    "\n",
    "from sklearn.model_selection import train_test_split"
   ]
  },
  {
   "cell_type": "code",
   "execution_count": 50,
   "id": "72b1c8f9",
   "metadata": {},
   "outputs": [],
   "source": [
    "X = df.drop(columns=['sale_price'])\n",
    "y = df['sale_price']"
   ]
  },
  {
   "cell_type": "code",
   "execution_count": 51,
   "id": "c78d7487",
   "metadata": {},
   "outputs": [],
   "source": [
    "X_train,X_test,y_train,y_test = train_test_split(X,y,test_size=0.2,random_state=2)"
   ]
  },
  {
   "cell_type": "code",
   "execution_count": 52,
   "id": "3c734d41",
   "metadata": {},
   "outputs": [
    {
     "data": {
      "text/html": [
       "<div>\n",
       "<style scoped>\n",
       "    .dataframe tbody tr th:only-of-type {\n",
       "        vertical-align: middle;\n",
       "    }\n",
       "\n",
       "    .dataframe tbody tr th {\n",
       "        vertical-align: top;\n",
       "    }\n",
       "\n",
       "    .dataframe thead th {\n",
       "        text-align: right;\n",
       "    }\n",
       "</style>\n",
       "<table border=\"1\" class=\"dataframe\">\n",
       "  <thead>\n",
       "    <tr style=\"text-align: right;\">\n",
       "      <th></th>\n",
       "      <th>category</th>\n",
       "      <th>sub_category</th>\n",
       "      <th>brand</th>\n",
       "      <th>market_price</th>\n",
       "      <th>rating</th>\n",
       "    </tr>\n",
       "  </thead>\n",
       "  <tbody>\n",
       "    <tr>\n",
       "      <th>4655</th>\n",
       "      <td>Kitchen, Garden &amp; Pets</td>\n",
       "      <td>Appliances &amp; Electricals</td>\n",
       "      <td>Eveready</td>\n",
       "      <td>280.0</td>\n",
       "      <td>3.8</td>\n",
       "    </tr>\n",
       "    <tr>\n",
       "      <th>25381</th>\n",
       "      <td>Beauty &amp; Hygiene</td>\n",
       "      <td>Men's Grooming</td>\n",
       "      <td>Uncle Tony</td>\n",
       "      <td>499.0</td>\n",
       "      <td>NaN</td>\n",
       "    </tr>\n",
       "    <tr>\n",
       "      <th>27308</th>\n",
       "      <td>Gourmet &amp; World Food</td>\n",
       "      <td>Oils &amp; Vinegar</td>\n",
       "      <td>Dr. Patkars</td>\n",
       "      <td>675.0</td>\n",
       "      <td>NaN</td>\n",
       "    </tr>\n",
       "    <tr>\n",
       "      <th>27056</th>\n",
       "      <td>Cleaning &amp; Household</td>\n",
       "      <td>Mops, Brushes &amp; Scrubs</td>\n",
       "      <td>Gala</td>\n",
       "      <td>170.0</td>\n",
       "      <td>3.6</td>\n",
       "    </tr>\n",
       "    <tr>\n",
       "      <th>4748</th>\n",
       "      <td>Beauty &amp; Hygiene</td>\n",
       "      <td>Bath &amp; Hand Wash</td>\n",
       "      <td>Khadi Natural</td>\n",
       "      <td>70.0</td>\n",
       "      <td>4.2</td>\n",
       "    </tr>\n",
       "    <tr>\n",
       "      <th>...</th>\n",
       "      <td>...</td>\n",
       "      <td>...</td>\n",
       "      <td>...</td>\n",
       "      <td>...</td>\n",
       "      <td>...</td>\n",
       "    </tr>\n",
       "    <tr>\n",
       "      <th>18898</th>\n",
       "      <td>Foodgrains, Oil &amp; Masala</td>\n",
       "      <td>Organic Staples</td>\n",
       "      <td>Praakritik</td>\n",
       "      <td>1450.0</td>\n",
       "      <td>4.3</td>\n",
       "    </tr>\n",
       "    <tr>\n",
       "      <th>11798</th>\n",
       "      <td>Foodgrains, Oil &amp; Masala</td>\n",
       "      <td>Dry Fruits</td>\n",
       "      <td>Chandan</td>\n",
       "      <td>60.0</td>\n",
       "      <td>4.0</td>\n",
       "    </tr>\n",
       "    <tr>\n",
       "      <th>6637</th>\n",
       "      <td>Snacks &amp; Branded Foods</td>\n",
       "      <td>Biscuits &amp; Cookies</td>\n",
       "      <td>Sunfeast</td>\n",
       "      <td>60.0</td>\n",
       "      <td>4.2</td>\n",
       "    </tr>\n",
       "    <tr>\n",
       "      <th>2575</th>\n",
       "      <td>Cleaning &amp; Household</td>\n",
       "      <td>Pooja Needs</td>\n",
       "      <td>Klassic</td>\n",
       "      <td>1299.0</td>\n",
       "      <td>NaN</td>\n",
       "    </tr>\n",
       "    <tr>\n",
       "      <th>23720</th>\n",
       "      <td>Snacks &amp; Branded Foods</td>\n",
       "      <td>Biscuits &amp; Cookies</td>\n",
       "      <td>Tasties</td>\n",
       "      <td>85.0</td>\n",
       "      <td>NaN</td>\n",
       "    </tr>\n",
       "  </tbody>\n",
       "</table>\n",
       "<p>22044 rows × 5 columns</p>\n",
       "</div>"
      ],
      "text/plain": [
       "                       category              sub_category          brand  \\\n",
       "4655     Kitchen, Garden & Pets  Appliances & Electricals       Eveready   \n",
       "25381          Beauty & Hygiene            Men's Grooming     Uncle Tony   \n",
       "27308      Gourmet & World Food            Oils & Vinegar    Dr. Patkars   \n",
       "27056      Cleaning & Household    Mops, Brushes & Scrubs           Gala   \n",
       "4748           Beauty & Hygiene          Bath & Hand Wash  Khadi Natural   \n",
       "...                         ...                       ...            ...   \n",
       "18898  Foodgrains, Oil & Masala           Organic Staples     Praakritik   \n",
       "11798  Foodgrains, Oil & Masala                Dry Fruits        Chandan   \n",
       "6637     Snacks & Branded Foods        Biscuits & Cookies       Sunfeast   \n",
       "2575       Cleaning & Household               Pooja Needs        Klassic   \n",
       "23720    Snacks & Branded Foods        Biscuits & Cookies        Tasties   \n",
       "\n",
       "       market_price  rating  \n",
       "4655          280.0     3.8  \n",
       "25381         499.0     NaN  \n",
       "27308         675.0     NaN  \n",
       "27056         170.0     3.6  \n",
       "4748           70.0     4.2  \n",
       "...             ...     ...  \n",
       "18898        1450.0     4.3  \n",
       "11798          60.0     4.0  \n",
       "6637           60.0     4.2  \n",
       "2575         1299.0     NaN  \n",
       "23720          85.0     NaN  \n",
       "\n",
       "[22044 rows x 5 columns]"
      ]
     },
     "execution_count": 52,
     "metadata": {},
     "output_type": "execute_result"
    }
   ],
   "source": [
    "X_train"
   ]
  },
  {
   "cell_type": "code",
   "execution_count": 53,
   "id": "b9bf3ad2",
   "metadata": {},
   "outputs": [
    {
     "name": "stderr",
     "output_type": "stream",
     "text": [
      "C:\\Users\\win10\\AppData\\Local\\Temp/ipykernel_3468/2543844771.py:1: SettingWithCopyWarning: \n",
      "A value is trying to be set on a copy of a slice from a DataFrame.\n",
      "Try using .loc[row_indexer,col_indexer] = value instead\n",
      "\n",
      "See the caveats in the documentation: https://pandas.pydata.org/pandas-docs/stable/user_guide/indexing.html#returning-a-view-versus-a-copy\n",
      "  X_train['category_imputed'] = X_train['category']\n",
      "C:\\Users\\win10\\AppData\\Local\\Temp/ipykernel_3468/2543844771.py:2: SettingWithCopyWarning: \n",
      "A value is trying to be set on a copy of a slice from a DataFrame.\n",
      "Try using .loc[row_indexer,col_indexer] = value instead\n",
      "\n",
      "See the caveats in the documentation: https://pandas.pydata.org/pandas-docs/stable/user_guide/indexing.html#returning-a-view-versus-a-copy\n",
      "  X_test['category_imputed'] = X_test['category']\n"
     ]
    }
   ],
   "source": [
    "X_train['category_imputed'] = X_train['category']\n",
    "X_test['category_imputed'] = X_test['category']"
   ]
  },
  {
   "cell_type": "code",
   "execution_count": 54,
   "id": "89476454",
   "metadata": {},
   "outputs": [
    {
     "data": {
      "text/html": [
       "<div>\n",
       "<style scoped>\n",
       "    .dataframe tbody tr th:only-of-type {\n",
       "        vertical-align: middle;\n",
       "    }\n",
       "\n",
       "    .dataframe tbody tr th {\n",
       "        vertical-align: top;\n",
       "    }\n",
       "\n",
       "    .dataframe thead th {\n",
       "        text-align: right;\n",
       "    }\n",
       "</style>\n",
       "<table border=\"1\" class=\"dataframe\">\n",
       "  <thead>\n",
       "    <tr style=\"text-align: right;\">\n",
       "      <th></th>\n",
       "      <th>category</th>\n",
       "      <th>sub_category</th>\n",
       "      <th>brand</th>\n",
       "      <th>market_price</th>\n",
       "      <th>rating</th>\n",
       "      <th>category_imputed</th>\n",
       "    </tr>\n",
       "  </thead>\n",
       "  <tbody>\n",
       "    <tr>\n",
       "      <th>16253</th>\n",
       "      <td>Foodgrains, Oil &amp; Masala</td>\n",
       "      <td>Masalas &amp; Spices</td>\n",
       "      <td>Everest</td>\n",
       "      <td>350.00</td>\n",
       "      <td>4.3</td>\n",
       "      <td>Foodgrains, Oil &amp; Masala</td>\n",
       "    </tr>\n",
       "    <tr>\n",
       "      <th>15841</th>\n",
       "      <td>Beauty &amp; Hygiene</td>\n",
       "      <td>Hair Care</td>\n",
       "      <td>Sebamed</td>\n",
       "      <td>599.00</td>\n",
       "      <td>4.2</td>\n",
       "      <td>Beauty &amp; Hygiene</td>\n",
       "    </tr>\n",
       "    <tr>\n",
       "      <th>171</th>\n",
       "      <td>Beauty &amp; Hygiene</td>\n",
       "      <td>Skin Care</td>\n",
       "      <td>BIOTIQUE</td>\n",
       "      <td>190.00</td>\n",
       "      <td>3.0</td>\n",
       "      <td>Beauty &amp; Hygiene</td>\n",
       "    </tr>\n",
       "    <tr>\n",
       "      <th>17336</th>\n",
       "      <td>Fruits &amp; Vegetables</td>\n",
       "      <td>Fresh Vegetables</td>\n",
       "      <td>Fresho</td>\n",
       "      <td>81.25</td>\n",
       "      <td>NaN</td>\n",
       "      <td>Fruits &amp; Vegetables</td>\n",
       "    </tr>\n",
       "    <tr>\n",
       "      <th>26353</th>\n",
       "      <td>Beverages</td>\n",
       "      <td>Fruit Juices &amp; Drinks</td>\n",
       "      <td>Tropicana</td>\n",
       "      <td>20.00</td>\n",
       "      <td>NaN</td>\n",
       "      <td>Beverages</td>\n",
       "    </tr>\n",
       "  </tbody>\n",
       "</table>\n",
       "</div>"
      ],
      "text/plain": [
       "                       category           sub_category      brand  \\\n",
       "16253  Foodgrains, Oil & Masala       Masalas & Spices    Everest   \n",
       "15841          Beauty & Hygiene              Hair Care    Sebamed   \n",
       "171            Beauty & Hygiene              Skin Care   BIOTIQUE   \n",
       "17336       Fruits & Vegetables       Fresh Vegetables     Fresho   \n",
       "26353                 Beverages  Fruit Juices & Drinks  Tropicana   \n",
       "\n",
       "       market_price  rating          category_imputed  \n",
       "16253        350.00     4.3  Foodgrains, Oil & Masala  \n",
       "15841        599.00     4.2          Beauty & Hygiene  \n",
       "171          190.00     3.0          Beauty & Hygiene  \n",
       "17336         81.25     NaN       Fruits & Vegetables  \n",
       "26353         20.00     NaN                 Beverages  "
      ]
     },
     "execution_count": 54,
     "metadata": {},
     "output_type": "execute_result"
    }
   ],
   "source": [
    "X_train.sample(5)"
   ]
  },
  {
   "cell_type": "code",
   "execution_count": 57,
   "id": "42cfc428",
   "metadata": {},
   "outputs": [
    {
     "name": "stderr",
     "output_type": "stream",
     "text": [
      "C:\\Users\\win10\\AppData\\Local\\Temp/ipykernel_3468/1282686443.py:1: SettingWithCopyWarning: \n",
      "A value is trying to be set on a copy of a slice from a DataFrame\n",
      "\n",
      "See the caveats in the documentation: https://pandas.pydata.org/pandas-docs/stable/user_guide/indexing.html#returning-a-view-versus-a-copy\n",
      "  X_train['category_imputed'][X_train['category_imputed'].isnull()] = X_train['category'].dropna().sample(X_train['category_imputed'].isnull().sum()).values\n",
      "C:\\Users\\win10\\anaconda3\\lib\\site-packages\\pandas\\core\\generic.py:8870: SettingWithCopyWarning: \n",
      "A value is trying to be set on a copy of a slice from a DataFrame\n",
      "\n",
      "See the caveats in the documentation: https://pandas.pydata.org/pandas-docs/stable/user_guide/indexing.html#returning-a-view-versus-a-copy\n",
      "  return self._update_inplace(result)\n"
     ]
    }
   ],
   "source": [
    "X_train['category_imputed'][X_train['category_imputed'].isnull()] = X_train['category'].dropna().sample(X_train['category_imputed'].isnull().sum()).values"
   ]
  },
  {
   "cell_type": "code",
   "execution_count": null,
   "id": "4d0c79dd",
   "metadata": {},
   "outputs": [],
   "source": []
  }
 ],
 "metadata": {
  "kernelspec": {
   "display_name": "Python 3 (ipykernel)",
   "language": "python",
   "name": "python3"
  },
  "language_info": {
   "codemirror_mode": {
    "name": "ipython",
    "version": 3
   },
   "file_extension": ".py",
   "mimetype": "text/x-python",
   "name": "python",
   "nbconvert_exporter": "python",
   "pygments_lexer": "ipython3",
   "version": "3.9.7"
  }
 },
 "nbformat": 4,
 "nbformat_minor": 5
}
