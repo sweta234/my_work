{
 "cells": [
  {
   "cell_type": "code",
   "execution_count": 1,
   "id": "4f62dc52",
   "metadata": {},
   "outputs": [],
   "source": [
    "import pandas as pd\n",
    "import numpy as np"
   ]
  },
  {
   "cell_type": "code",
   "execution_count": 2,
   "id": "ec034efc",
   "metadata": {},
   "outputs": [],
   "source": [
    "df = pd.read_excel('Player_Activity_Data.xlsx', header = 1)"
   ]
  },
  {
   "cell_type": "code",
   "execution_count": 3,
   "id": "ae311753",
   "metadata": {},
   "outputs": [
    {
     "data": {
      "text/html": [
       "<div>\n",
       "<style scoped>\n",
       "    .dataframe tbody tr th:only-of-type {\n",
       "        vertical-align: middle;\n",
       "    }\n",
       "\n",
       "    .dataframe tbody tr th {\n",
       "        vertical-align: top;\n",
       "    }\n",
       "\n",
       "    .dataframe thead th {\n",
       "        text-align: right;\n",
       "    }\n",
       "</style>\n",
       "<table border=\"1\" class=\"dataframe\">\n",
       "  <thead>\n",
       "    <tr style=\"text-align: right;\">\n",
       "      <th></th>\n",
       "      <th>Unnamed: 0</th>\n",
       "      <th>src_player_id</th>\n",
       "      <th>ActivityMonth</th>\n",
       "      <th>Product</th>\n",
       "      <th>SubProduct</th>\n",
       "      <th>ActivePlayerDays</th>\n",
       "      <th>Bet_Amount</th>\n",
       "      <th>Win_Amount</th>\n",
       "      <th>Gross_Win</th>\n",
       "      <th>Net_Gross_Win</th>\n",
       "    </tr>\n",
       "  </thead>\n",
       "  <tbody>\n",
       "    <tr>\n",
       "      <th>0</th>\n",
       "      <td>NaN</td>\n",
       "      <td>16585649</td>\n",
       "      <td>2020-08-31</td>\n",
       "      <td>SportsBook</td>\n",
       "      <td>Livebook</td>\n",
       "      <td>1</td>\n",
       "      <td>500.00</td>\n",
       "      <td>0.00</td>\n",
       "      <td>500.0000</td>\n",
       "      <td>420.000000</td>\n",
       "    </tr>\n",
       "    <tr>\n",
       "      <th>1</th>\n",
       "      <td>NaN</td>\n",
       "      <td>12845036</td>\n",
       "      <td>2019-05-31</td>\n",
       "      <td>SportsBook</td>\n",
       "      <td>Prematch</td>\n",
       "      <td>28</td>\n",
       "      <td>1229.48</td>\n",
       "      <td>1177.85</td>\n",
       "      <td>41.6300</td>\n",
       "      <td>34.969200</td>\n",
       "    </tr>\n",
       "    <tr>\n",
       "      <th>2</th>\n",
       "      <td>NaN</td>\n",
       "      <td>12720869</td>\n",
       "      <td>2021-06-30</td>\n",
       "      <td>eGaming</td>\n",
       "      <td>Non Table Games</td>\n",
       "      <td>1</td>\n",
       "      <td>73.40</td>\n",
       "      <td>46.20</td>\n",
       "      <td>27.2000</td>\n",
       "      <td>22.848000</td>\n",
       "    </tr>\n",
       "    <tr>\n",
       "      <th>3</th>\n",
       "      <td>NaN</td>\n",
       "      <td>18979743</td>\n",
       "      <td>2021-02-28</td>\n",
       "      <td>eGaming</td>\n",
       "      <td>Non Table Games</td>\n",
       "      <td>1</td>\n",
       "      <td>52.00</td>\n",
       "      <td>21.70</td>\n",
       "      <td>30.3000</td>\n",
       "      <td>25.452000</td>\n",
       "    </tr>\n",
       "    <tr>\n",
       "      <th>4</th>\n",
       "      <td>NaN</td>\n",
       "      <td>12580168</td>\n",
       "      <td>2020-12-31</td>\n",
       "      <td>eGaming</td>\n",
       "      <td>Non Table Games</td>\n",
       "      <td>1</td>\n",
       "      <td>74.00</td>\n",
       "      <td>54.60</td>\n",
       "      <td>18.6674</td>\n",
       "      <td>15.680616</td>\n",
       "    </tr>\n",
       "    <tr>\n",
       "      <th>...</th>\n",
       "      <td>...</td>\n",
       "      <td>...</td>\n",
       "      <td>...</td>\n",
       "      <td>...</td>\n",
       "      <td>...</td>\n",
       "      <td>...</td>\n",
       "      <td>...</td>\n",
       "      <td>...</td>\n",
       "      <td>...</td>\n",
       "      <td>...</td>\n",
       "    </tr>\n",
       "    <tr>\n",
       "      <th>860225</th>\n",
       "      <td>NaN</td>\n",
       "      <td>13439064</td>\n",
       "      <td>2019-09-30</td>\n",
       "      <td>SportsBook</td>\n",
       "      <td>Livebook</td>\n",
       "      <td>2</td>\n",
       "      <td>255.00</td>\n",
       "      <td>0.00</td>\n",
       "      <td>255.0000</td>\n",
       "      <td>214.200000</td>\n",
       "    </tr>\n",
       "    <tr>\n",
       "      <th>860226</th>\n",
       "      <td>NaN</td>\n",
       "      <td>16005291</td>\n",
       "      <td>2020-07-31</td>\n",
       "      <td>eGaming</td>\n",
       "      <td>Non Table Games</td>\n",
       "      <td>4</td>\n",
       "      <td>123.00</td>\n",
       "      <td>53.55</td>\n",
       "      <td>68.9451</td>\n",
       "      <td>57.913884</td>\n",
       "    </tr>\n",
       "    <tr>\n",
       "      <th>860227</th>\n",
       "      <td>NaN</td>\n",
       "      <td>15816105</td>\n",
       "      <td>2021-05-31</td>\n",
       "      <td>eGaming</td>\n",
       "      <td>Table Games</td>\n",
       "      <td>1</td>\n",
       "      <td>125.00</td>\n",
       "      <td>50.00</td>\n",
       "      <td>75.0000</td>\n",
       "      <td>63.000000</td>\n",
       "    </tr>\n",
       "    <tr>\n",
       "      <th>860228</th>\n",
       "      <td>NaN</td>\n",
       "      <td>13435803</td>\n",
       "      <td>2020-12-31</td>\n",
       "      <td>eGaming</td>\n",
       "      <td>Non Table Games</td>\n",
       "      <td>1</td>\n",
       "      <td>31.40</td>\n",
       "      <td>11.45</td>\n",
       "      <td>19.9500</td>\n",
       "      <td>16.758000</td>\n",
       "    </tr>\n",
       "    <tr>\n",
       "      <th>860229</th>\n",
       "      <td>NaN</td>\n",
       "      <td>12742712</td>\n",
       "      <td>2021-05-31</td>\n",
       "      <td>SportsBook</td>\n",
       "      <td>Prematch</td>\n",
       "      <td>3</td>\n",
       "      <td>278.40</td>\n",
       "      <td>559.73</td>\n",
       "      <td>-281.3300</td>\n",
       "      <td>-236.317200</td>\n",
       "    </tr>\n",
       "  </tbody>\n",
       "</table>\n",
       "<p>860230 rows × 10 columns</p>\n",
       "</div>"
      ],
      "text/plain": [
       "        Unnamed: 0  src_player_id ActivityMonth     Product       SubProduct  \\\n",
       "0              NaN       16585649    2020-08-31  SportsBook         Livebook   \n",
       "1              NaN       12845036    2019-05-31  SportsBook         Prematch   \n",
       "2              NaN       12720869    2021-06-30     eGaming  Non Table Games   \n",
       "3              NaN       18979743    2021-02-28     eGaming  Non Table Games   \n",
       "4              NaN       12580168    2020-12-31     eGaming  Non Table Games   \n",
       "...            ...            ...           ...         ...              ...   \n",
       "860225         NaN       13439064    2019-09-30  SportsBook         Livebook   \n",
       "860226         NaN       16005291    2020-07-31     eGaming  Non Table Games   \n",
       "860227         NaN       15816105    2021-05-31     eGaming      Table Games   \n",
       "860228         NaN       13435803    2020-12-31     eGaming  Non Table Games   \n",
       "860229         NaN       12742712    2021-05-31  SportsBook         Prematch   \n",
       "\n",
       "        ActivePlayerDays  Bet_Amount  Win_Amount  Gross_Win  Net_Gross_Win  \n",
       "0                      1      500.00        0.00   500.0000     420.000000  \n",
       "1                     28     1229.48     1177.85    41.6300      34.969200  \n",
       "2                      1       73.40       46.20    27.2000      22.848000  \n",
       "3                      1       52.00       21.70    30.3000      25.452000  \n",
       "4                      1       74.00       54.60    18.6674      15.680616  \n",
       "...                  ...         ...         ...        ...            ...  \n",
       "860225                 2      255.00        0.00   255.0000     214.200000  \n",
       "860226                 4      123.00       53.55    68.9451      57.913884  \n",
       "860227                 1      125.00       50.00    75.0000      63.000000  \n",
       "860228                 1       31.40       11.45    19.9500      16.758000  \n",
       "860229                 3      278.40      559.73  -281.3300    -236.317200  \n",
       "\n",
       "[860230 rows x 10 columns]"
      ]
     },
     "execution_count": 3,
     "metadata": {},
     "output_type": "execute_result"
    }
   ],
   "source": [
    "df"
   ]
  },
  {
   "cell_type": "code",
   "execution_count": 4,
   "id": "4d7fe800",
   "metadata": {},
   "outputs": [
    {
     "data": {
      "text/plain": [
       "Unnamed: 0          860230\n",
       "src_player_id            0\n",
       "ActivityMonth            0\n",
       "Product                  0\n",
       "SubProduct               0\n",
       "ActivePlayerDays         0\n",
       "Bet_Amount               0\n",
       "Win_Amount               0\n",
       "Gross_Win                0\n",
       "Net_Gross_Win            0\n",
       "dtype: int64"
      ]
     },
     "execution_count": 4,
     "metadata": {},
     "output_type": "execute_result"
    }
   ],
   "source": [
    "df.isnull().sum()"
   ]
  },
  {
   "cell_type": "code",
   "execution_count": 5,
   "id": "e6797f2a",
   "metadata": {},
   "outputs": [],
   "source": [
    "df.drop('Unnamed: 0' , axis = 1 ,inplace = True)"
   ]
  },
  {
   "cell_type": "code",
   "execution_count": 6,
   "id": "dbda999a",
   "metadata": {},
   "outputs": [
    {
     "name": "stdout",
     "output_type": "stream",
     "text": [
      "<class 'pandas.core.frame.DataFrame'>\n",
      "RangeIndex: 860230 entries, 0 to 860229\n",
      "Data columns (total 9 columns):\n",
      " #   Column            Non-Null Count   Dtype         \n",
      "---  ------            --------------   -----         \n",
      " 0   src_player_id     860230 non-null  int64         \n",
      " 1   ActivityMonth     860230 non-null  datetime64[ns]\n",
      " 2   Product           860230 non-null  object        \n",
      " 3   SubProduct        860230 non-null  object        \n",
      " 4   ActivePlayerDays  860230 non-null  int64         \n",
      " 5   Bet_Amount        860230 non-null  float64       \n",
      " 6   Win_Amount        860230 non-null  float64       \n",
      " 7   Gross_Win         860230 non-null  float64       \n",
      " 8   Net_Gross_Win     860230 non-null  float64       \n",
      "dtypes: datetime64[ns](1), float64(4), int64(2), object(2)\n",
      "memory usage: 59.1+ MB\n"
     ]
    }
   ],
   "source": [
    "df.info()"
   ]
  },
  {
   "cell_type": "code",
   "execution_count": 7,
   "id": "358afe9f",
   "metadata": {},
   "outputs": [],
   "source": [
    "df['ActivityMonth'] = df['ActivityMonth'].astype(str)\n"
   ]
  },
  {
   "cell_type": "code",
   "execution_count": 8,
   "id": "c950b447",
   "metadata": {},
   "outputs": [],
   "source": [
    "##Fetaure Engineering Process\n",
    "df['year']=df['ActivityMonth'].str.split('-').str[0]\n",
    "df['Month']=df['ActivityMonth'].str.split('-').str[1]\n",
    "df['Date']=df['ActivityMonth'].str.split('-').str[2]"
   ]
  },
  {
   "cell_type": "code",
   "execution_count": 9,
   "id": "50a5b2ff",
   "metadata": {},
   "outputs": [
    {
     "data": {
      "text/html": [
       "<div>\n",
       "<style scoped>\n",
       "    .dataframe tbody tr th:only-of-type {\n",
       "        vertical-align: middle;\n",
       "    }\n",
       "\n",
       "    .dataframe tbody tr th {\n",
       "        vertical-align: top;\n",
       "    }\n",
       "\n",
       "    .dataframe thead th {\n",
       "        text-align: right;\n",
       "    }\n",
       "</style>\n",
       "<table border=\"1\" class=\"dataframe\">\n",
       "  <thead>\n",
       "    <tr style=\"text-align: right;\">\n",
       "      <th></th>\n",
       "      <th>src_player_id</th>\n",
       "      <th>ActivityMonth</th>\n",
       "      <th>Product</th>\n",
       "      <th>SubProduct</th>\n",
       "      <th>ActivePlayerDays</th>\n",
       "      <th>Bet_Amount</th>\n",
       "      <th>Win_Amount</th>\n",
       "      <th>Gross_Win</th>\n",
       "      <th>Net_Gross_Win</th>\n",
       "      <th>year</th>\n",
       "      <th>Month</th>\n",
       "      <th>Date</th>\n",
       "    </tr>\n",
       "  </thead>\n",
       "  <tbody>\n",
       "    <tr>\n",
       "      <th>0</th>\n",
       "      <td>16585649</td>\n",
       "      <td>2020-08-31</td>\n",
       "      <td>SportsBook</td>\n",
       "      <td>Livebook</td>\n",
       "      <td>1</td>\n",
       "      <td>500.0</td>\n",
       "      <td>0.0</td>\n",
       "      <td>500.0</td>\n",
       "      <td>420.0</td>\n",
       "      <td>2020</td>\n",
       "      <td>08</td>\n",
       "      <td>31</td>\n",
       "    </tr>\n",
       "  </tbody>\n",
       "</table>\n",
       "</div>"
      ],
      "text/plain": [
       "   src_player_id ActivityMonth     Product SubProduct  ActivePlayerDays  \\\n",
       "0       16585649    2020-08-31  SportsBook   Livebook                 1   \n",
       "\n",
       "   Bet_Amount  Win_Amount  Gross_Win  Net_Gross_Win  year Month Date  \n",
       "0       500.0         0.0      500.0          420.0  2020    08   31  "
      ]
     },
     "execution_count": 9,
     "metadata": {},
     "output_type": "execute_result"
    }
   ],
   "source": [
    "df.head(1)"
   ]
  },
  {
   "cell_type": "code",
   "execution_count": 10,
   "id": "e8acf948",
   "metadata": {},
   "outputs": [],
   "source": [
    "df.drop('ActivityMonth' , axis = 1 , inplace = True)"
   ]
  },
  {
   "cell_type": "code",
   "execution_count": 11,
   "id": "ffb8be74",
   "metadata": {},
   "outputs": [
    {
     "data": {
      "text/html": [
       "<div>\n",
       "<style scoped>\n",
       "    .dataframe tbody tr th:only-of-type {\n",
       "        vertical-align: middle;\n",
       "    }\n",
       "\n",
       "    .dataframe tbody tr th {\n",
       "        vertical-align: top;\n",
       "    }\n",
       "\n",
       "    .dataframe thead th {\n",
       "        text-align: right;\n",
       "    }\n",
       "</style>\n",
       "<table border=\"1\" class=\"dataframe\">\n",
       "  <thead>\n",
       "    <tr style=\"text-align: right;\">\n",
       "      <th></th>\n",
       "      <th>src_player_id</th>\n",
       "      <th>Product</th>\n",
       "      <th>SubProduct</th>\n",
       "      <th>ActivePlayerDays</th>\n",
       "      <th>Bet_Amount</th>\n",
       "      <th>Win_Amount</th>\n",
       "      <th>Gross_Win</th>\n",
       "      <th>Net_Gross_Win</th>\n",
       "      <th>year</th>\n",
       "      <th>Month</th>\n",
       "      <th>Date</th>\n",
       "    </tr>\n",
       "  </thead>\n",
       "  <tbody>\n",
       "    <tr>\n",
       "      <th>0</th>\n",
       "      <td>16585649</td>\n",
       "      <td>SportsBook</td>\n",
       "      <td>Livebook</td>\n",
       "      <td>1</td>\n",
       "      <td>500.0</td>\n",
       "      <td>0.0</td>\n",
       "      <td>500.0</td>\n",
       "      <td>420.0</td>\n",
       "      <td>2020</td>\n",
       "      <td>08</td>\n",
       "      <td>31</td>\n",
       "    </tr>\n",
       "  </tbody>\n",
       "</table>\n",
       "</div>"
      ],
      "text/plain": [
       "   src_player_id     Product SubProduct  ActivePlayerDays  Bet_Amount  \\\n",
       "0       16585649  SportsBook   Livebook                 1       500.0   \n",
       "\n",
       "   Win_Amount  Gross_Win  Net_Gross_Win  year Month Date  \n",
       "0         0.0      500.0          420.0  2020    08   31  "
      ]
     },
     "execution_count": 11,
     "metadata": {},
     "output_type": "execute_result"
    }
   ],
   "source": [
    "df.head(1)"
   ]
  },
  {
   "cell_type": "code",
   "execution_count": 12,
   "id": "6a84af52",
   "metadata": {},
   "outputs": [
    {
     "data": {
      "text/plain": [
       "<AxesSubplot:xlabel='Product', ylabel='Bet_Amount'>"
      ]
     },
     "execution_count": 12,
     "metadata": {},
     "output_type": "execute_result"
    },
    {
     "data": {
      "image/png": "[encoded data removed]",
      "text/plain": [
       "<Figure size 432x288 with 1 Axes>"
      ]
     },
     "metadata": {
      "needs_background": "light"
     },
     "output_type": "display_data"
    }
   ],
   "source": [
    "import seaborn as sns\n",
    "sns.barplot(x = df['Product'] , y = df['Bet_Amount'])"
   ]
  },
  {
   "cell_type": "code",
   "execution_count": 13,
   "id": "05425605",
   "metadata": {},
   "outputs": [
    {
     "data": {
      "text/plain": [
       "<AxesSubplot:xlabel='Bet_Amount', ylabel='Month'>"
      ]
     },
     "execution_count": 13,
     "metadata": {},
     "output_type": "execute_result"
    },
    {
     "data": {
      "image/png": "[encoded data removed]",
      "text/plain": [
       "<Figure size 432x288 with 1 Axes>"
      ]
     },
     "metadata": {
      "needs_background": "light"
     },
     "output_type": "display_data"
    }
   ],
   "source": [
    "sns.barplot(x = df['Bet_Amount'] , y = df['Month'])"
   ]
  },
  {
   "cell_type": "code",
   "execution_count": 14,
   "id": "184eddec",
   "metadata": {},
   "outputs": [
    {
     "data": {
      "text/plain": [
       "<AxesSubplot:xlabel='SubProduct', ylabel='Bet_Amount'>"
      ]
     },
     "execution_count": 14,
     "metadata": {},
     "output_type": "execute_result"
    },
    {
     "data": {
      "image/png": "[encoded data removed]",
      "text/plain": [
       "<Figure size 1440x720 with 1 Axes>"
      ]
     },
     "metadata": {
      "needs_background": "light"
     },
     "output_type": "display_data"
    }
   ],
   "source": [
    "import matplotlib.pyplot as plt\n",
    "fig, ax = plt.subplots(figsize=(20, 10))\n",
    "\n",
    "sns.barplot(x = df['SubProduct'] , y = df['Bet_Amount'])"
   ]
  },
  {
   "cell_type": "code",
   "execution_count": 15,
   "id": "2a16c385",
   "metadata": {},
   "outputs": [
    {
     "data": {
      "text/html": [
       "<div>\n",
       "<style scoped>\n",
       "    .dataframe tbody tr th:only-of-type {\n",
       "        vertical-align: middle;\n",
       "    }\n",
       "\n",
       "    .dataframe tbody tr th {\n",
       "        vertical-align: top;\n",
       "    }\n",
       "\n",
       "    .dataframe thead th {\n",
       "        text-align: right;\n",
       "    }\n",
       "</style>\n",
       "<table border=\"1\" class=\"dataframe\">\n",
       "  <thead>\n",
       "    <tr style=\"text-align: right;\">\n",
       "      <th></th>\n",
       "      <th>src_player_id</th>\n",
       "      <th>Product</th>\n",
       "      <th>SubProduct</th>\n",
       "      <th>ActivePlayerDays</th>\n",
       "      <th>Bet_Amount</th>\n",
       "      <th>Win_Amount</th>\n",
       "      <th>Gross_Win</th>\n",
       "      <th>Net_Gross_Win</th>\n",
       "      <th>year</th>\n",
       "      <th>Month</th>\n",
       "      <th>Date</th>\n",
       "    </tr>\n",
       "  </thead>\n",
       "  <tbody>\n",
       "    <tr>\n",
       "      <th>0</th>\n",
       "      <td>16585649</td>\n",
       "      <td>SportsBook</td>\n",
       "      <td>Livebook</td>\n",
       "      <td>1</td>\n",
       "      <td>500.0</td>\n",
       "      <td>0.0</td>\n",
       "      <td>500.0</td>\n",
       "      <td>420.0</td>\n",
       "      <td>2020</td>\n",
       "      <td>08</td>\n",
       "      <td>31</td>\n",
       "    </tr>\n",
       "  </tbody>\n",
       "</table>\n",
       "</div>"
      ],
      "text/plain": [
       "   src_player_id     Product SubProduct  ActivePlayerDays  Bet_Amount  \\\n",
       "0       16585649  SportsBook   Livebook                 1       500.0   \n",
       "\n",
       "   Win_Amount  Gross_Win  Net_Gross_Win  year Month Date  \n",
       "0         0.0      500.0          420.0  2020    08   31  "
      ]
     },
     "execution_count": 15,
     "metadata": {},
     "output_type": "execute_result"
    }
   ],
   "source": [
    "df.head(1)"
   ]
  },
  {
   "cell_type": "code",
   "execution_count": 16,
   "id": "2b22c64a",
   "metadata": {},
   "outputs": [
    {
     "data": {
      "text/plain": [
       "<AxesSubplot:xlabel='Bet_Amount', ylabel='year'>"
      ]
     },
     "execution_count": 16,
     "metadata": {},
     "output_type": "execute_result"
    },
    {
     "data": {
      "image/png": "[encoded data removed]",
      "text/plain": [
       "<Figure size 432x288 with 1 Axes>"
      ]
     },
     "metadata": {
      "needs_background": "light"
     },
     "output_type": "display_data"
    }
   ],
   "source": [
    "sns.barplot(x = df['Bet_Amount'] , y = df['year'])"
   ]
  },
  {
   "cell_type": "code",
   "execution_count": 17,
   "id": "939856a8",
   "metadata": {},
   "outputs": [
    {
     "data": {
      "text/plain": [
       "<AxesSubplot:xlabel='SubProduct', ylabel='Gross_Win'>"
      ]
     },
     "execution_count": 17,
     "metadata": {},
     "output_type": "execute_result"
    },
    {
     "data": {
      "image/png": "[encoded data removed]",
      "text/plain": [
       "<Figure size 1440x720 with 1 Axes>"
      ]
     },
     "metadata": {
      "needs_background": "light"
     },
     "output_type": "display_data"
    }
   ],
   "source": [
    "fig, ax = plt.subplots(figsize=(20, 10))\n",
    "sns.barplot(x = df['SubProduct'], y = df['Gross_Win'])"
   ]
  },
  {
   "cell_type": "code",
   "execution_count": 19,
   "id": "6932c2e2",
   "metadata": {},
   "outputs": [
    {
     "data": {
      "text/plain": [
       "'C:\\\\Users\\\\win10'"
      ]
     },
     "execution_count": 19,
     "metadata": {},
     "output_type": "execute_result"
    }
   ],
   "source": [
    "import os\n",
    "os.getcwd()"
   ]
  },
  {
   "cell_type": "code",
   "execution_count": 22,
   "id": "67b4f86a",
   "metadata": {},
   "outputs": [],
   "source": [
    "df.to_csv('player.xlsx')"
   ]
  },
  {
   "cell_type": "code",
   "execution_count": null,
   "id": "c5e0fc25",
   "metadata": {},
   "outputs": [],
   "source": []
  }
 ],
 "metadata": {
  "kernelspec": {
   "display_name": "Python 3 (ipykernel)",
   "language": "python",
   "name": "python3"
  },
  "language_info": {
   "codemirror_mode": {
    "name": "ipython",
    "version": 3
   },
   "file_extension": ".py",
   "mimetype": "text/x-python",
   "name": "python",
   "nbconvert_exporter": "python",
   "pygments_lexer": "ipython3",
   "version": "3.9.7"
  }
 },
 "nbformat": 4,
 "nbformat_minor": 5
}
