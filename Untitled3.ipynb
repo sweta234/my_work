{
 "cells": [
  {
   "cell_type": "code",
   "execution_count": 238,
   "id": "8ba1f9a8",
   "metadata": {},
   "outputs": [],
   "source": [
    "import pandas as pd\n",
    "import numpy as np\n"
   ]
  },
  {
   "cell_type": "code",
   "execution_count": 239,
   "id": "8f7a1706",
   "metadata": {},
   "outputs": [],
   "source": [
    "df = pd.read_csv('telecom_customer_churn.csv')"
   ]
  },
  {
   "cell_type": "code",
   "execution_count": 240,
   "id": "c8ee5d02",
   "metadata": {},
   "outputs": [
    {
     "name": "stdout",
     "output_type": "stream",
     "text": [
      "<class 'pandas.core.frame.DataFrame'>\n",
      "RangeIndex: 7043 entries, 0 to 7042\n",
      "Data columns (total 38 columns):\n",
      " #   Column                             Non-Null Count  Dtype  \n",
      "---  ------                             --------------  -----  \n",
      " 0   Customer ID                        7043 non-null   object \n",
      " 1   Gender                             7043 non-null   object \n",
      " 2   Age                                7043 non-null   int64  \n",
      " 3   Married                            7043 non-null   object \n",
      " 4   Number of Dependents               7043 non-null   int64  \n",
      " 5   City                               7043 non-null   object \n",
      " 6   Zip Code                           7043 non-null   int64  \n",
      " 7   Latitude                           7043 non-null   float64\n",
      " 8   Longitude                          7043 non-null   float64\n",
      " 9   Number of Referrals                7043 non-null   int64  \n",
      " 10  Tenure in Months                   7043 non-null   int64  \n",
      " 11  Offer                              7043 non-null   object \n",
      " 12  Phone Service                      7043 non-null   object \n",
      " 13  Avg Monthly Long Distance Charges  6361 non-null   float64\n",
      " 14  Multiple Lines                     6361 non-null   object \n",
      " 15  Internet Service                   7043 non-null   object \n",
      " 16  Internet Type                      5517 non-null   object \n",
      " 17  Avg Monthly GB Download            5517 non-null   float64\n",
      " 18  Online Security                    5517 non-null   object \n",
      " 19  Online Backup                      5517 non-null   object \n",
      " 20  Device Protection Plan             5517 non-null   object \n",
      " 21  Premium Tech Support               5517 non-null   object \n",
      " 22  Streaming TV                       5517 non-null   object \n",
      " 23  Streaming Movies                   5517 non-null   object \n",
      " 24  Streaming Music                    5517 non-null   object \n",
      " 25  Unlimited Data                     5517 non-null   object \n",
      " 26  Contract                           7043 non-null   object \n",
      " 27  Paperless Billing                  7043 non-null   object \n",
      " 28  Payment Method                     7043 non-null   object \n",
      " 29  Monthly Charge                     7043 non-null   float64\n",
      " 30  Total Charges                      7043 non-null   float64\n",
      " 31  Total Refunds                      7043 non-null   float64\n",
      " 32  Total Extra Data Charges           7043 non-null   int64  \n",
      " 33  Total Long Distance Charges        7043 non-null   float64\n",
      " 34  Total Revenue                      7043 non-null   float64\n",
      " 35  Customer Status                    7043 non-null   object \n",
      " 36  Churn Category                     1869 non-null   object \n",
      " 37  Churn Reason                       1869 non-null   object \n",
      "dtypes: float64(9), int64(6), object(23)\n",
      "memory usage: 2.0+ MB\n"
     ]
    }
   ],
   "source": [
    "df.info()"
   ]
  },
  {
   "cell_type": "code",
   "execution_count": 241,
   "id": "d9709da2",
   "metadata": {},
   "outputs": [
    {
     "data": {
      "text/html": [
       "<div>\n",
       "<style scoped>\n",
       "    .dataframe tbody tr th:only-of-type {\n",
       "        vertical-align: middle;\n",
       "    }\n",
       "\n",
       "    .dataframe tbody tr th {\n",
       "        vertical-align: top;\n",
       "    }\n",
       "\n",
       "    .dataframe thead th {\n",
       "        text-align: right;\n",
       "    }\n",
       "</style>\n",
       "<table border=\"1\" class=\"dataframe\">\n",
       "  <thead>\n",
       "    <tr style=\"text-align: right;\">\n",
       "      <th></th>\n",
       "      <th>Customer ID</th>\n",
       "      <th>Gender</th>\n",
       "      <th>Age</th>\n",
       "      <th>Married</th>\n",
       "      <th>Number of Dependents</th>\n",
       "      <th>City</th>\n",
       "      <th>Zip Code</th>\n",
       "      <th>Latitude</th>\n",
       "      <th>Longitude</th>\n",
       "      <th>Number of Referrals</th>\n",
       "      <th>...</th>\n",
       "      <th>Payment Method</th>\n",
       "      <th>Monthly Charge</th>\n",
       "      <th>Total Charges</th>\n",
       "      <th>Total Refunds</th>\n",
       "      <th>Total Extra Data Charges</th>\n",
       "      <th>Total Long Distance Charges</th>\n",
       "      <th>Total Revenue</th>\n",
       "      <th>Customer Status</th>\n",
       "      <th>Churn Category</th>\n",
       "      <th>Churn Reason</th>\n",
       "    </tr>\n",
       "  </thead>\n",
       "  <tbody>\n",
       "    <tr>\n",
       "      <th>0</th>\n",
       "      <td>0002-ORFBO</td>\n",
       "      <td>Female</td>\n",
       "      <td>37</td>\n",
       "      <td>Yes</td>\n",
       "      <td>0</td>\n",
       "      <td>Frazier Park</td>\n",
       "      <td>93225</td>\n",
       "      <td>34.827662</td>\n",
       "      <td>-118.999073</td>\n",
       "      <td>2</td>\n",
       "      <td>...</td>\n",
       "      <td>Credit Card</td>\n",
       "      <td>65.6</td>\n",
       "      <td>593.30</td>\n",
       "      <td>0.00</td>\n",
       "      <td>0</td>\n",
       "      <td>381.51</td>\n",
       "      <td>974.81</td>\n",
       "      <td>Stayed</td>\n",
       "      <td>NaN</td>\n",
       "      <td>NaN</td>\n",
       "    </tr>\n",
       "    <tr>\n",
       "      <th>1</th>\n",
       "      <td>0003-MKNFE</td>\n",
       "      <td>Male</td>\n",
       "      <td>46</td>\n",
       "      <td>No</td>\n",
       "      <td>0</td>\n",
       "      <td>Glendale</td>\n",
       "      <td>91206</td>\n",
       "      <td>34.162515</td>\n",
       "      <td>-118.203869</td>\n",
       "      <td>0</td>\n",
       "      <td>...</td>\n",
       "      <td>Credit Card</td>\n",
       "      <td>-4.0</td>\n",
       "      <td>542.40</td>\n",
       "      <td>38.33</td>\n",
       "      <td>10</td>\n",
       "      <td>96.21</td>\n",
       "      <td>610.28</td>\n",
       "      <td>Stayed</td>\n",
       "      <td>NaN</td>\n",
       "      <td>NaN</td>\n",
       "    </tr>\n",
       "    <tr>\n",
       "      <th>2</th>\n",
       "      <td>0004-TLHLJ</td>\n",
       "      <td>Male</td>\n",
       "      <td>50</td>\n",
       "      <td>No</td>\n",
       "      <td>0</td>\n",
       "      <td>Costa Mesa</td>\n",
       "      <td>92627</td>\n",
       "      <td>33.645672</td>\n",
       "      <td>-117.922613</td>\n",
       "      <td>0</td>\n",
       "      <td>...</td>\n",
       "      <td>Bank Withdrawal</td>\n",
       "      <td>73.9</td>\n",
       "      <td>280.85</td>\n",
       "      <td>0.00</td>\n",
       "      <td>0</td>\n",
       "      <td>134.60</td>\n",
       "      <td>415.45</td>\n",
       "      <td>Churned</td>\n",
       "      <td>Competitor</td>\n",
       "      <td>Competitor had better devices</td>\n",
       "    </tr>\n",
       "    <tr>\n",
       "      <th>3</th>\n",
       "      <td>0011-IGKFF</td>\n",
       "      <td>Male</td>\n",
       "      <td>78</td>\n",
       "      <td>Yes</td>\n",
       "      <td>0</td>\n",
       "      <td>Martinez</td>\n",
       "      <td>94553</td>\n",
       "      <td>38.014457</td>\n",
       "      <td>-122.115432</td>\n",
       "      <td>1</td>\n",
       "      <td>...</td>\n",
       "      <td>Bank Withdrawal</td>\n",
       "      <td>98.0</td>\n",
       "      <td>1237.85</td>\n",
       "      <td>0.00</td>\n",
       "      <td>0</td>\n",
       "      <td>361.66</td>\n",
       "      <td>1599.51</td>\n",
       "      <td>Churned</td>\n",
       "      <td>Dissatisfaction</td>\n",
       "      <td>Product dissatisfaction</td>\n",
       "    </tr>\n",
       "    <tr>\n",
       "      <th>4</th>\n",
       "      <td>0013-EXCHZ</td>\n",
       "      <td>Female</td>\n",
       "      <td>75</td>\n",
       "      <td>Yes</td>\n",
       "      <td>0</td>\n",
       "      <td>Camarillo</td>\n",
       "      <td>93010</td>\n",
       "      <td>34.227846</td>\n",
       "      <td>-119.079903</td>\n",
       "      <td>3</td>\n",
       "      <td>...</td>\n",
       "      <td>Credit Card</td>\n",
       "      <td>83.9</td>\n",
       "      <td>267.40</td>\n",
       "      <td>0.00</td>\n",
       "      <td>0</td>\n",
       "      <td>22.14</td>\n",
       "      <td>289.54</td>\n",
       "      <td>Churned</td>\n",
       "      <td>Dissatisfaction</td>\n",
       "      <td>Network reliability</td>\n",
       "    </tr>\n",
       "  </tbody>\n",
       "</table>\n",
       "<p>5 rows × 38 columns</p>\n",
       "</div>"
      ],
      "text/plain": [
       "  Customer ID  Gender  Age Married  Number of Dependents          City  \\\n",
       "0  0002-ORFBO  Female   37     Yes                     0  Frazier Park   \n",
       "1  0003-MKNFE    Male   46      No                     0      Glendale   \n",
       "2  0004-TLHLJ    Male   50      No                     0    Costa Mesa   \n",
       "3  0011-IGKFF    Male   78     Yes                     0      Martinez   \n",
       "4  0013-EXCHZ  Female   75     Yes                     0     Camarillo   \n",
       "\n",
       "   Zip Code   Latitude   Longitude  Number of Referrals  ...   Payment Method  \\\n",
       "0     93225  34.827662 -118.999073                    2  ...      Credit Card   \n",
       "1     91206  34.162515 -118.203869                    0  ...      Credit Card   \n",
       "2     92627  33.645672 -117.922613                    0  ...  Bank Withdrawal   \n",
       "3     94553  38.014457 -122.115432                    1  ...  Bank Withdrawal   \n",
       "4     93010  34.227846 -119.079903                    3  ...      Credit Card   \n",
       "\n",
       "  Monthly Charge Total Charges  Total Refunds Total Extra Data Charges  \\\n",
       "0           65.6        593.30           0.00                        0   \n",
       "1           -4.0        542.40          38.33                       10   \n",
       "2           73.9        280.85           0.00                        0   \n",
       "3           98.0       1237.85           0.00                        0   \n",
       "4           83.9        267.40           0.00                        0   \n",
       "\n",
       "  Total Long Distance Charges Total Revenue  Customer Status   Churn Category  \\\n",
       "0                      381.51        974.81           Stayed              NaN   \n",
       "1                       96.21        610.28           Stayed              NaN   \n",
       "2                      134.60        415.45          Churned       Competitor   \n",
       "3                      361.66       1599.51          Churned  Dissatisfaction   \n",
       "4                       22.14        289.54          Churned  Dissatisfaction   \n",
       "\n",
       "                    Churn Reason  \n",
       "0                            NaN  \n",
       "1                            NaN  \n",
       "2  Competitor had better devices  \n",
       "3        Product dissatisfaction  \n",
       "4            Network reliability  \n",
       "\n",
       "[5 rows x 38 columns]"
      ]
     },
     "execution_count": 241,
     "metadata": {},
     "output_type": "execute_result"
    }
   ],
   "source": [
    "df.head()"
   ]
  },
  {
   "cell_type": "code",
   "execution_count": 242,
   "id": "b4e5c59e",
   "metadata": {},
   "outputs": [
    {
     "data": {
      "text/plain": [
       "Customer ID                             0\n",
       "Gender                                  0\n",
       "Age                                     0\n",
       "Married                                 0\n",
       "Number of Dependents                    0\n",
       "City                                    0\n",
       "Zip Code                                0\n",
       "Latitude                                0\n",
       "Longitude                               0\n",
       "Number of Referrals                     0\n",
       "Tenure in Months                        0\n",
       "Offer                                   0\n",
       "Phone Service                           0\n",
       "Avg Monthly Long Distance Charges     682\n",
       "Multiple Lines                        682\n",
       "Internet Service                        0\n",
       "Internet Type                        1526\n",
       "Avg Monthly GB Download              1526\n",
       "Online Security                      1526\n",
       "Online Backup                        1526\n",
       "Device Protection Plan               1526\n",
       "Premium Tech Support                 1526\n",
       "Streaming TV                         1526\n",
       "Streaming Movies                     1526\n",
       "Streaming Music                      1526\n",
       "Unlimited Data                       1526\n",
       "Contract                                0\n",
       "Paperless Billing                       0\n",
       "Payment Method                          0\n",
       "Monthly Charge                          0\n",
       "Total Charges                           0\n",
       "Total Refunds                           0\n",
       "Total Extra Data Charges                0\n",
       "Total Long Distance Charges             0\n",
       "Total Revenue                           0\n",
       "Customer Status                         0\n",
       "Churn Category                       5174\n",
       "Churn Reason                         5174\n",
       "dtype: int64"
      ]
     },
     "execution_count": 242,
     "metadata": {},
     "output_type": "execute_result"
    }
   ],
   "source": [
    "df.isnull().sum()"
   ]
  },
  {
   "cell_type": "code",
   "execution_count": 243,
   "id": "104e7737",
   "metadata": {},
   "outputs": [
    {
     "data": {
      "text/html": [
       "<div>\n",
       "<style scoped>\n",
       "    .dataframe tbody tr th:only-of-type {\n",
       "        vertical-align: middle;\n",
       "    }\n",
       "\n",
       "    .dataframe tbody tr th {\n",
       "        vertical-align: top;\n",
       "    }\n",
       "\n",
       "    .dataframe thead th {\n",
       "        text-align: right;\n",
       "    }\n",
       "</style>\n",
       "<table border=\"1\" class=\"dataframe\">\n",
       "  <thead>\n",
       "    <tr style=\"text-align: right;\">\n",
       "      <th></th>\n",
       "      <th>Age</th>\n",
       "      <th>Number of Dependents</th>\n",
       "      <th>Zip Code</th>\n",
       "      <th>Latitude</th>\n",
       "      <th>Longitude</th>\n",
       "      <th>Number of Referrals</th>\n",
       "      <th>Tenure in Months</th>\n",
       "      <th>Avg Monthly Long Distance Charges</th>\n",
       "      <th>Avg Monthly GB Download</th>\n",
       "      <th>Monthly Charge</th>\n",
       "      <th>Total Charges</th>\n",
       "      <th>Total Refunds</th>\n",
       "      <th>Total Extra Data Charges</th>\n",
       "      <th>Total Long Distance Charges</th>\n",
       "      <th>Total Revenue</th>\n",
       "    </tr>\n",
       "  </thead>\n",
       "  <tbody>\n",
       "    <tr>\n",
       "      <th>Age</th>\n",
       "      <td>1.000000</td>\n",
       "      <td>-0.119000</td>\n",
       "      <td>-0.008183</td>\n",
       "      <td>-0.010305</td>\n",
       "      <td>0.007612</td>\n",
       "      <td>-0.025141</td>\n",
       "      <td>0.009927</td>\n",
       "      <td>-0.020010</td>\n",
       "      <td>-0.566518</td>\n",
       "      <td>0.134511</td>\n",
       "      <td>0.059684</td>\n",
       "      <td>0.024168</td>\n",
       "      <td>0.025036</td>\n",
       "      <td>0.003065</td>\n",
       "      <td>0.048265</td>\n",
       "    </tr>\n",
       "    <tr>\n",
       "      <th>Number of Dependents</th>\n",
       "      <td>-0.119000</td>\n",
       "      <td>1.000000</td>\n",
       "      <td>0.016493</td>\n",
       "      <td>0.029081</td>\n",
       "      <td>-0.024271</td>\n",
       "      <td>0.278003</td>\n",
       "      <td>0.108237</td>\n",
       "      <td>-0.002898</td>\n",
       "      <td>0.300802</td>\n",
       "      <td>-0.125649</td>\n",
       "      <td>0.022535</td>\n",
       "      <td>0.014023</td>\n",
       "      <td>-0.014436</td>\n",
       "      <td>0.068966</td>\n",
       "      <td>0.038038</td>\n",
       "    </tr>\n",
       "    <tr>\n",
       "      <th>Zip Code</th>\n",
       "      <td>-0.008183</td>\n",
       "      <td>0.016493</td>\n",
       "      <td>1.000000</td>\n",
       "      <td>0.894769</td>\n",
       "      <td>-0.790564</td>\n",
       "      <td>0.001463</td>\n",
       "      <td>0.007146</td>\n",
       "      <td>0.012298</td>\n",
       "      <td>-0.002859</td>\n",
       "      <td>-0.002517</td>\n",
       "      <td>0.001978</td>\n",
       "      <td>-0.003797</td>\n",
       "      <td>-0.014550</td>\n",
       "      <td>0.005063</td>\n",
       "      <td>0.002944</td>\n",
       "    </tr>\n",
       "    <tr>\n",
       "      <th>Latitude</th>\n",
       "      <td>-0.010305</td>\n",
       "      <td>0.029081</td>\n",
       "      <td>0.894769</td>\n",
       "      <td>1.000000</td>\n",
       "      <td>-0.885979</td>\n",
       "      <td>0.018715</td>\n",
       "      <td>0.011963</td>\n",
       "      <td>0.014450</td>\n",
       "      <td>-0.013485</td>\n",
       "      <td>-0.021613</td>\n",
       "      <td>-0.002784</td>\n",
       "      <td>-0.009901</td>\n",
       "      <td>-0.013233</td>\n",
       "      <td>0.008029</td>\n",
       "      <td>0.000082</td>\n",
       "    </tr>\n",
       "    <tr>\n",
       "      <th>Longitude</th>\n",
       "      <td>0.007612</td>\n",
       "      <td>-0.024271</td>\n",
       "      <td>-0.790564</td>\n",
       "      <td>-0.885979</td>\n",
       "      <td>1.000000</td>\n",
       "      <td>-0.009893</td>\n",
       "      <td>-0.009672</td>\n",
       "      <td>-0.015420</td>\n",
       "      <td>0.015195</td>\n",
       "      <td>0.021052</td>\n",
       "      <td>0.003811</td>\n",
       "      <td>-0.000597</td>\n",
       "      <td>0.010461</td>\n",
       "      <td>-0.006923</td>\n",
       "      <td>0.001062</td>\n",
       "    </tr>\n",
       "    <tr>\n",
       "      <th>Number of Referrals</th>\n",
       "      <td>-0.025141</td>\n",
       "      <td>0.278003</td>\n",
       "      <td>0.001463</td>\n",
       "      <td>0.018715</td>\n",
       "      <td>-0.009893</td>\n",
       "      <td>1.000000</td>\n",
       "      <td>0.326975</td>\n",
       "      <td>0.001800</td>\n",
       "      <td>0.080243</td>\n",
       "      <td>0.026301</td>\n",
       "      <td>0.250378</td>\n",
       "      <td>0.024756</td>\n",
       "      <td>0.000350</td>\n",
       "      <td>0.216190</td>\n",
       "      <td>0.261853</td>\n",
       "    </tr>\n",
       "    <tr>\n",
       "      <th>Tenure in Months</th>\n",
       "      <td>0.009927</td>\n",
       "      <td>0.108237</td>\n",
       "      <td>0.007146</td>\n",
       "      <td>0.011963</td>\n",
       "      <td>-0.009672</td>\n",
       "      <td>0.326975</td>\n",
       "      <td>1.000000</td>\n",
       "      <td>0.012713</td>\n",
       "      <td>0.038173</td>\n",
       "      <td>0.239065</td>\n",
       "      <td>0.826074</td>\n",
       "      <td>0.059021</td>\n",
       "      <td>0.082266</td>\n",
       "      <td>0.674149</td>\n",
       "      <td>0.853146</td>\n",
       "    </tr>\n",
       "    <tr>\n",
       "      <th>Avg Monthly Long Distance Charges</th>\n",
       "      <td>-0.020010</td>\n",
       "      <td>-0.002898</td>\n",
       "      <td>0.012298</td>\n",
       "      <td>0.014450</td>\n",
       "      <td>-0.015420</td>\n",
       "      <td>0.001800</td>\n",
       "      <td>0.012713</td>\n",
       "      <td>1.000000</td>\n",
       "      <td>0.019047</td>\n",
       "      <td>0.019149</td>\n",
       "      <td>0.016946</td>\n",
       "      <td>-0.026072</td>\n",
       "      <td>0.021162</td>\n",
       "      <td>0.548759</td>\n",
       "      <td>0.173072</td>\n",
       "    </tr>\n",
       "    <tr>\n",
       "      <th>Avg Monthly GB Download</th>\n",
       "      <td>-0.566518</td>\n",
       "      <td>0.300802</td>\n",
       "      <td>-0.002859</td>\n",
       "      <td>-0.013485</td>\n",
       "      <td>0.015195</td>\n",
       "      <td>0.080243</td>\n",
       "      <td>0.038173</td>\n",
       "      <td>0.019047</td>\n",
       "      <td>1.000000</td>\n",
       "      <td>-0.017283</td>\n",
       "      <td>0.031957</td>\n",
       "      <td>-0.011000</td>\n",
       "      <td>0.015451</td>\n",
       "      <td>0.024101</td>\n",
       "      <td>0.031922</td>\n",
       "    </tr>\n",
       "    <tr>\n",
       "      <th>Monthly Charge</th>\n",
       "      <td>0.134511</td>\n",
       "      <td>-0.125649</td>\n",
       "      <td>-0.002517</td>\n",
       "      <td>-0.021613</td>\n",
       "      <td>0.021052</td>\n",
       "      <td>0.026301</td>\n",
       "      <td>0.239065</td>\n",
       "      <td>0.019149</td>\n",
       "      <td>-0.017283</td>\n",
       "      <td>1.000000</td>\n",
       "      <td>0.622810</td>\n",
       "      <td>0.023963</td>\n",
       "      <td>0.121238</td>\n",
       "      <td>0.235685</td>\n",
       "      <td>0.563249</td>\n",
       "    </tr>\n",
       "    <tr>\n",
       "      <th>Total Charges</th>\n",
       "      <td>0.059684</td>\n",
       "      <td>0.022535</td>\n",
       "      <td>0.001978</td>\n",
       "      <td>-0.002784</td>\n",
       "      <td>0.003811</td>\n",
       "      <td>0.250378</td>\n",
       "      <td>0.826074</td>\n",
       "      <td>0.016946</td>\n",
       "      <td>0.031957</td>\n",
       "      <td>0.622810</td>\n",
       "      <td>1.000000</td>\n",
       "      <td>0.039558</td>\n",
       "      <td>0.121859</td>\n",
       "      <td>0.610185</td>\n",
       "      <td>0.972212</td>\n",
       "    </tr>\n",
       "    <tr>\n",
       "      <th>Total Refunds</th>\n",
       "      <td>0.024168</td>\n",
       "      <td>0.014023</td>\n",
       "      <td>-0.003797</td>\n",
       "      <td>-0.009901</td>\n",
       "      <td>-0.000597</td>\n",
       "      <td>0.024756</td>\n",
       "      <td>0.059021</td>\n",
       "      <td>-0.026072</td>\n",
       "      <td>-0.011000</td>\n",
       "      <td>0.023963</td>\n",
       "      <td>0.039558</td>\n",
       "      <td>1.000000</td>\n",
       "      <td>0.016755</td>\n",
       "      <td>0.028113</td>\n",
       "      <td>0.036984</td>\n",
       "    </tr>\n",
       "    <tr>\n",
       "      <th>Total Extra Data Charges</th>\n",
       "      <td>0.025036</td>\n",
       "      <td>-0.014436</td>\n",
       "      <td>-0.014550</td>\n",
       "      <td>-0.013233</td>\n",
       "      <td>0.010461</td>\n",
       "      <td>0.000350</td>\n",
       "      <td>0.082266</td>\n",
       "      <td>0.021162</td>\n",
       "      <td>0.015451</td>\n",
       "      <td>0.121238</td>\n",
       "      <td>0.121859</td>\n",
       "      <td>0.016755</td>\n",
       "      <td>1.000000</td>\n",
       "      <td>0.058871</td>\n",
       "      <td>0.122496</td>\n",
       "    </tr>\n",
       "    <tr>\n",
       "      <th>Total Long Distance Charges</th>\n",
       "      <td>0.003065</td>\n",
       "      <td>0.068966</td>\n",
       "      <td>0.005063</td>\n",
       "      <td>0.008029</td>\n",
       "      <td>-0.006923</td>\n",
       "      <td>0.216190</td>\n",
       "      <td>0.674149</td>\n",
       "      <td>0.548759</td>\n",
       "      <td>0.024101</td>\n",
       "      <td>0.235685</td>\n",
       "      <td>0.610185</td>\n",
       "      <td>0.028113</td>\n",
       "      <td>0.058871</td>\n",
       "      <td>1.000000</td>\n",
       "      <td>0.778559</td>\n",
       "    </tr>\n",
       "    <tr>\n",
       "      <th>Total Revenue</th>\n",
       "      <td>0.048265</td>\n",
       "      <td>0.038038</td>\n",
       "      <td>0.002944</td>\n",
       "      <td>0.000082</td>\n",
       "      <td>0.001062</td>\n",
       "      <td>0.261853</td>\n",
       "      <td>0.853146</td>\n",
       "      <td>0.173072</td>\n",
       "      <td>0.031922</td>\n",
       "      <td>0.563249</td>\n",
       "      <td>0.972212</td>\n",
       "      <td>0.036984</td>\n",
       "      <td>0.122496</td>\n",
       "      <td>0.778559</td>\n",
       "      <td>1.000000</td>\n",
       "    </tr>\n",
       "  </tbody>\n",
       "</table>\n",
       "</div>"
      ],
      "text/plain": [
       "                                        Age  Number of Dependents  Zip Code  \\\n",
       "Age                                1.000000             -0.119000 -0.008183   \n",
       "Number of Dependents              -0.119000              1.000000  0.016493   \n",
       "Zip Code                          -0.008183              0.016493  1.000000   \n",
       "Latitude                          -0.010305              0.029081  0.894769   \n",
       "Longitude                          0.007612             -0.024271 -0.790564   \n",
       "Number of Referrals               -0.025141              0.278003  0.001463   \n",
       "Tenure in Months                   0.009927              0.108237  0.007146   \n",
       "Avg Monthly Long Distance Charges -0.020010             -0.002898  0.012298   \n",
       "Avg Monthly GB Download           -0.566518              0.300802 -0.002859   \n",
       "Monthly Charge                     0.134511             -0.125649 -0.002517   \n",
       "Total Charges                      0.059684              0.022535  0.001978   \n",
       "Total Refunds                      0.024168              0.014023 -0.003797   \n",
       "Total Extra Data Charges           0.025036             -0.014436 -0.014550   \n",
       "Total Long Distance Charges        0.003065              0.068966  0.005063   \n",
       "Total Revenue                      0.048265              0.038038  0.002944   \n",
       "\n",
       "                                   Latitude  Longitude  Number of Referrals  \\\n",
       "Age                               -0.010305   0.007612            -0.025141   \n",
       "Number of Dependents               0.029081  -0.024271             0.278003   \n",
       "Zip Code                           0.894769  -0.790564             0.001463   \n",
       "Latitude                           1.000000  -0.885979             0.018715   \n",
       "Longitude                         -0.885979   1.000000            -0.009893   \n",
       "Number of Referrals                0.018715  -0.009893             1.000000   \n",
       "Tenure in Months                   0.011963  -0.009672             0.326975   \n",
       "Avg Monthly Long Distance Charges  0.014450  -0.015420             0.001800   \n",
       "Avg Monthly GB Download           -0.013485   0.015195             0.080243   \n",
       "Monthly Charge                    -0.021613   0.021052             0.026301   \n",
       "Total Charges                     -0.002784   0.003811             0.250378   \n",
       "Total Refunds                     -0.009901  -0.000597             0.024756   \n",
       "Total Extra Data Charges          -0.013233   0.010461             0.000350   \n",
       "Total Long Distance Charges        0.008029  -0.006923             0.216190   \n",
       "Total Revenue                      0.000082   0.001062             0.261853   \n",
       "\n",
       "                                   Tenure in Months  \\\n",
       "Age                                        0.009927   \n",
       "Number of Dependents                       0.108237   \n",
       "Zip Code                                   0.007146   \n",
       "Latitude                                   0.011963   \n",
       "Longitude                                 -0.009672   \n",
       "Number of Referrals                        0.326975   \n",
       "Tenure in Months                           1.000000   \n",
       "Avg Monthly Long Distance Charges          0.012713   \n",
       "Avg Monthly GB Download                    0.038173   \n",
       "Monthly Charge                             0.239065   \n",
       "Total Charges                              0.826074   \n",
       "Total Refunds                              0.059021   \n",
       "Total Extra Data Charges                   0.082266   \n",
       "Total Long Distance Charges                0.674149   \n",
       "Total Revenue                              0.853146   \n",
       "\n",
       "                                   Avg Monthly Long Distance Charges  \\\n",
       "Age                                                        -0.020010   \n",
       "Number of Dependents                                       -0.002898   \n",
       "Zip Code                                                    0.012298   \n",
       "Latitude                                                    0.014450   \n",
       "Longitude                                                  -0.015420   \n",
       "Number of Referrals                                         0.001800   \n",
       "Tenure in Months                                            0.012713   \n",
       "Avg Monthly Long Distance Charges                           1.000000   \n",
       "Avg Monthly GB Download                                     0.019047   \n",
       "Monthly Charge                                              0.019149   \n",
       "Total Charges                                               0.016946   \n",
       "Total Refunds                                              -0.026072   \n",
       "Total Extra Data Charges                                    0.021162   \n",
       "Total Long Distance Charges                                 0.548759   \n",
       "Total Revenue                                               0.173072   \n",
       "\n",
       "                                   Avg Monthly GB Download  Monthly Charge  \\\n",
       "Age                                              -0.566518        0.134511   \n",
       "Number of Dependents                              0.300802       -0.125649   \n",
       "Zip Code                                         -0.002859       -0.002517   \n",
       "Latitude                                         -0.013485       -0.021613   \n",
       "Longitude                                         0.015195        0.021052   \n",
       "Number of Referrals                               0.080243        0.026301   \n",
       "Tenure in Months                                  0.038173        0.239065   \n",
       "Avg Monthly Long Distance Charges                 0.019047        0.019149   \n",
       "Avg Monthly GB Download                           1.000000       -0.017283   \n",
       "Monthly Charge                                   -0.017283        1.000000   \n",
       "Total Charges                                     0.031957        0.622810   \n",
       "Total Refunds                                    -0.011000        0.023963   \n",
       "Total Extra Data Charges                          0.015451        0.121238   \n",
       "Total Long Distance Charges                       0.024101        0.235685   \n",
       "Total Revenue                                     0.031922        0.563249   \n",
       "\n",
       "                                   Total Charges  Total Refunds  \\\n",
       "Age                                     0.059684       0.024168   \n",
       "Number of Dependents                    0.022535       0.014023   \n",
       "Zip Code                                0.001978      -0.003797   \n",
       "Latitude                               -0.002784      -0.009901   \n",
       "Longitude                               0.003811      -0.000597   \n",
       "Number of Referrals                     0.250378       0.024756   \n",
       "Tenure in Months                        0.826074       0.059021   \n",
       "Avg Monthly Long Distance Charges       0.016946      -0.026072   \n",
       "Avg Monthly GB Download                 0.031957      -0.011000   \n",
       "Monthly Charge                          0.622810       0.023963   \n",
       "Total Charges                           1.000000       0.039558   \n",
       "Total Refunds                           0.039558       1.000000   \n",
       "Total Extra Data Charges                0.121859       0.016755   \n",
       "Total Long Distance Charges             0.610185       0.028113   \n",
       "Total Revenue                           0.972212       0.036984   \n",
       "\n",
       "                                   Total Extra Data Charges  \\\n",
       "Age                                                0.025036   \n",
       "Number of Dependents                              -0.014436   \n",
       "Zip Code                                          -0.014550   \n",
       "Latitude                                          -0.013233   \n",
       "Longitude                                          0.010461   \n",
       "Number of Referrals                                0.000350   \n",
       "Tenure in Months                                   0.082266   \n",
       "Avg Monthly Long Distance Charges                  0.021162   \n",
       "Avg Monthly GB Download                            0.015451   \n",
       "Monthly Charge                                     0.121238   \n",
       "Total Charges                                      0.121859   \n",
       "Total Refunds                                      0.016755   \n",
       "Total Extra Data Charges                           1.000000   \n",
       "Total Long Distance Charges                        0.058871   \n",
       "Total Revenue                                      0.122496   \n",
       "\n",
       "                                   Total Long Distance Charges  Total Revenue  \n",
       "Age                                                   0.003065       0.048265  \n",
       "Number of Dependents                                  0.068966       0.038038  \n",
       "Zip Code                                              0.005063       0.002944  \n",
       "Latitude                                              0.008029       0.000082  \n",
       "Longitude                                            -0.006923       0.001062  \n",
       "Number of Referrals                                   0.216190       0.261853  \n",
       "Tenure in Months                                      0.674149       0.853146  \n",
       "Avg Monthly Long Distance Charges                     0.548759       0.173072  \n",
       "Avg Monthly GB Download                               0.024101       0.031922  \n",
       "Monthly Charge                                        0.235685       0.563249  \n",
       "Total Charges                                         0.610185       0.972212  \n",
       "Total Refunds                                         0.028113       0.036984  \n",
       "Total Extra Data Charges                              0.058871       0.122496  \n",
       "Total Long Distance Charges                           1.000000       0.778559  \n",
       "Total Revenue                                         0.778559       1.000000  "
      ]
     },
     "execution_count": 243,
     "metadata": {},
     "output_type": "execute_result"
    }
   ],
   "source": [
    "df.corr()"
   ]
  },
  {
   "cell_type": "markdown",
   "id": "a65e2ca0",
   "metadata": {},
   "source": [
    "# drop columns which is not usedful."
   ]
  },
  {
   "cell_type": "code",
   "execution_count": 244,
   "id": "d0704e0b",
   "metadata": {},
   "outputs": [],
   "source": [
    "df.drop('Customer ID', axis = 1 , inplace=True)"
   ]
  },
  {
   "cell_type": "code",
   "execution_count": 245,
   "id": "4b60d990",
   "metadata": {},
   "outputs": [],
   "source": [
    "df.drop('Zip Code', axis = 1 , inplace=True)"
   ]
  },
  {
   "cell_type": "code",
   "execution_count": 246,
   "id": "d1209873",
   "metadata": {},
   "outputs": [],
   "source": [
    "df.drop('Latitude', axis = 1 , inplace=True)"
   ]
  },
  {
   "cell_type": "code",
   "execution_count": 247,
   "id": "2faf3ed2",
   "metadata": {},
   "outputs": [],
   "source": [
    "df.drop('Longitude', axis = 1 , inplace=True)"
   ]
  },
  {
   "cell_type": "code",
   "execution_count": 248,
   "id": "d098c700",
   "metadata": {},
   "outputs": [],
   "source": [
    "df.drop('Number of Referrals', axis = 1 , inplace=True)"
   ]
  },
  {
   "cell_type": "code",
   "execution_count": 249,
   "id": "9c8b1afa",
   "metadata": {},
   "outputs": [],
   "source": [
    "df.drop('Offer', axis = 1 , inplace=True)"
   ]
  },
  {
   "cell_type": "code",
   "execution_count": 250,
   "id": "3e4a2197",
   "metadata": {},
   "outputs": [],
   "source": [
    "df.drop('Paperless Billing', axis = 1 , inplace=True)"
   ]
  },
  {
   "cell_type": "code",
   "execution_count": 251,
   "id": "edda7b75",
   "metadata": {},
   "outputs": [],
   "source": [
    "df.drop('Churn Reason', axis = 1 , inplace=True)"
   ]
  },
  {
   "cell_type": "code",
   "execution_count": 252,
   "id": "b323773f",
   "metadata": {},
   "outputs": [
    {
     "name": "stdout",
     "output_type": "stream",
     "text": [
      "<class 'pandas.core.frame.DataFrame'>\n",
      "RangeIndex: 7043 entries, 0 to 7042\n",
      "Data columns (total 30 columns):\n",
      " #   Column                             Non-Null Count  Dtype  \n",
      "---  ------                             --------------  -----  \n",
      " 0   Gender                             7043 non-null   object \n",
      " 1   Age                                7043 non-null   int64  \n",
      " 2   Married                            7043 non-null   object \n",
      " 3   Number of Dependents               7043 non-null   int64  \n",
      " 4   City                               7043 non-null   object \n",
      " 5   Tenure in Months                   7043 non-null   int64  \n",
      " 6   Phone Service                      7043 non-null   object \n",
      " 7   Avg Monthly Long Distance Charges  6361 non-null   float64\n",
      " 8   Multiple Lines                     6361 non-null   object \n",
      " 9   Internet Service                   7043 non-null   object \n",
      " 10  Internet Type                      5517 non-null   object \n",
      " 11  Avg Monthly GB Download            5517 non-null   float64\n",
      " 12  Online Security                    5517 non-null   object \n",
      " 13  Online Backup                      5517 non-null   object \n",
      " 14  Device Protection Plan             5517 non-null   object \n",
      " 15  Premium Tech Support               5517 non-null   object \n",
      " 16  Streaming TV                       5517 non-null   object \n",
      " 17  Streaming Movies                   5517 non-null   object \n",
      " 18  Streaming Music                    5517 non-null   object \n",
      " 19  Unlimited Data                     5517 non-null   object \n",
      " 20  Contract                           7043 non-null   object \n",
      " 21  Payment Method                     7043 non-null   object \n",
      " 22  Monthly Charge                     7043 non-null   float64\n",
      " 23  Total Charges                      7043 non-null   float64\n",
      " 24  Total Refunds                      7043 non-null   float64\n",
      " 25  Total Extra Data Charges           7043 non-null   int64  \n",
      " 26  Total Long Distance Charges        7043 non-null   float64\n",
      " 27  Total Revenue                      7043 non-null   float64\n",
      " 28  Customer Status                    7043 non-null   object \n",
      " 29  Churn Category                     1869 non-null   object \n",
      "dtypes: float64(7), int64(4), object(19)\n",
      "memory usage: 1.6+ MB\n"
     ]
    }
   ],
   "source": [
    "df.info()"
   ]
  },
  {
   "cell_type": "code",
   "execution_count": 253,
   "id": "23966815",
   "metadata": {},
   "outputs": [
    {
     "data": {
      "text/plain": [
       "Gender                                  0\n",
       "Age                                     0\n",
       "Married                                 0\n",
       "Number of Dependents                    0\n",
       "City                                    0\n",
       "Tenure in Months                        0\n",
       "Phone Service                           0\n",
       "Avg Monthly Long Distance Charges     682\n",
       "Multiple Lines                        682\n",
       "Internet Service                        0\n",
       "Internet Type                        1526\n",
       "Avg Monthly GB Download              1526\n",
       "Online Security                      1526\n",
       "Online Backup                        1526\n",
       "Device Protection Plan               1526\n",
       "Premium Tech Support                 1526\n",
       "Streaming TV                         1526\n",
       "Streaming Movies                     1526\n",
       "Streaming Music                      1526\n",
       "Unlimited Data                       1526\n",
       "Contract                                0\n",
       "Payment Method                          0\n",
       "Monthly Charge                          0\n",
       "Total Charges                           0\n",
       "Total Refunds                           0\n",
       "Total Extra Data Charges                0\n",
       "Total Long Distance Charges             0\n",
       "Total Revenue                           0\n",
       "Customer Status                         0\n",
       "Churn Category                       5174\n",
       "dtype: int64"
      ]
     },
     "execution_count": 253,
     "metadata": {},
     "output_type": "execute_result"
    }
   ],
   "source": [
    "df.isnull().sum()"
   ]
  },
  {
   "cell_type": "markdown",
   "id": "293186a3",
   "metadata": {},
   "source": [
    "# Fill the missing value"
   ]
  },
  {
   "cell_type": "code",
   "execution_count": 254,
   "id": "946c0083",
   "metadata": {},
   "outputs": [],
   "source": [
    "mean_age = df['Avg Monthly Long Distance Charges'].mean()\n"
   ]
  },
  {
   "cell_type": "code",
   "execution_count": 255,
   "id": "122cd7be",
   "metadata": {},
   "outputs": [],
   "source": [
    "df['Age_Avg Monthly Long Distance Charges'] = df['Avg Monthly Long Distance Charges'].fillna(mean_age)\n"
   ]
  },
  {
   "cell_type": "code",
   "execution_count": 256,
   "id": "c016dbb7",
   "metadata": {},
   "outputs": [],
   "source": [
    "from sklearn.preprocessing import LabelEncoder"
   ]
  },
  {
   "cell_type": "code",
   "execution_count": 257,
   "id": "7ee620ae",
   "metadata": {},
   "outputs": [],
   "source": [
    "labelencoder = LabelEncoder()\n"
   ]
  },
  {
   "cell_type": "code",
   "execution_count": 258,
   "id": "a7b057bb",
   "metadata": {},
   "outputs": [],
   "source": [
    "df['Multiple Lines_'] = labelencoder.fit_transform(df['Multiple Lines'])"
   ]
  },
  {
   "cell_type": "code",
   "execution_count": 259,
   "id": "523bed94",
   "metadata": {},
   "outputs": [],
   "source": [
    "df['Online Security_'] = labelencoder.fit_transform(df['Online Security'])"
   ]
  },
  {
   "cell_type": "code",
   "execution_count": 260,
   "id": "15452827",
   "metadata": {},
   "outputs": [],
   "source": [
    "df['Online Backup_'] = labelencoder.fit_transform(df['Online Backup'])"
   ]
  },
  {
   "cell_type": "code",
   "execution_count": 261,
   "id": "ff4f60d2",
   "metadata": {},
   "outputs": [],
   "source": [
    "df['Device Protection Plan_'] = labelencoder.fit_transform(df['Device Protection Plan'])"
   ]
  },
  {
   "cell_type": "code",
   "execution_count": 262,
   "id": "bd9ef303",
   "metadata": {},
   "outputs": [],
   "source": [
    "df['Premium Tech Support_'] = labelencoder.fit_transform(df['Premium Tech Support'])"
   ]
  },
  {
   "cell_type": "code",
   "execution_count": 263,
   "id": "e567e385",
   "metadata": {},
   "outputs": [],
   "source": [
    "df['Streaming TV_'] = labelencoder.fit_transform(df['Streaming TV'])"
   ]
  },
  {
   "cell_type": "code",
   "execution_count": 264,
   "id": "9d3f60b8",
   "metadata": {},
   "outputs": [],
   "source": [
    "df['Streaming Movies_'] = labelencoder.fit_transform(df['Streaming Movies'])"
   ]
  },
  {
   "cell_type": "code",
   "execution_count": 265,
   "id": "b868bb81",
   "metadata": {},
   "outputs": [],
   "source": [
    "df['Streaming Music_'] = labelencoder.fit_transform(df['Streaming Music'])"
   ]
  },
  {
   "cell_type": "code",
   "execution_count": 266,
   "id": "4815a50a",
   "metadata": {},
   "outputs": [],
   "source": [
    "df['Unlimited Data_'] = labelencoder.fit_transform(df['Unlimited Data'])"
   ]
  },
  {
   "cell_type": "code",
   "execution_count": 267,
   "id": "f079cb76",
   "metadata": {},
   "outputs": [],
   "source": [
    "df['Internet Type_']= labelencoder.fit_transform(df['Internet Type'])"
   ]
  },
  {
   "cell_type": "code",
   "execution_count": 270,
   "id": "fe248e4f",
   "metadata": {},
   "outputs": [],
   "source": [
    "df.drop('Multiple Lines', axis = 1 , inplace=True)"
   ]
  },
  {
   "cell_type": "code",
   "execution_count": 271,
   "id": "f5f02ff5",
   "metadata": {},
   "outputs": [],
   "source": [
    "df.drop('Online Security', axis = 1 , inplace=True)"
   ]
  },
  {
   "cell_type": "code",
   "execution_count": 272,
   "id": "d15c456b",
   "metadata": {},
   "outputs": [],
   "source": [
    "df.drop('Online Backup', axis = 1 , inplace=True)"
   ]
  },
  {
   "cell_type": "code",
   "execution_count": 273,
   "id": "1d446729",
   "metadata": {},
   "outputs": [],
   "source": [
    "df.drop('Device Protection Plan', axis = 1 , inplace=True)"
   ]
  },
  {
   "cell_type": "code",
   "execution_count": 274,
   "id": "ca93c1d1",
   "metadata": {},
   "outputs": [],
   "source": [
    "df.drop('Premium Tech Support', axis = 1 , inplace=True)"
   ]
  },
  {
   "cell_type": "code",
   "execution_count": 275,
   "id": "a56fd573",
   "metadata": {},
   "outputs": [],
   "source": [
    "df.drop('Streaming TV', axis = 1 , inplace=True)"
   ]
  },
  {
   "cell_type": "code",
   "execution_count": 276,
   "id": "fe308605",
   "metadata": {},
   "outputs": [],
   "source": [
    "df.drop('Streaming Movies', axis = 1 , inplace=True)"
   ]
  },
  {
   "cell_type": "code",
   "execution_count": 277,
   "id": "bccfb584",
   "metadata": {},
   "outputs": [],
   "source": [
    "df.drop('Streaming Music', axis = 1 , inplace=True)"
   ]
  },
  {
   "cell_type": "code",
   "execution_count": 278,
   "id": "24a0ece9",
   "metadata": {},
   "outputs": [],
   "source": [
    "df.drop('Unlimited Data', axis = 1 , inplace = True)"
   ]
  },
  {
   "cell_type": "code",
   "execution_count": 279,
   "id": "6953db66",
   "metadata": {},
   "outputs": [],
   "source": [
    "df.drop('Avg Monthly Long Distance Charges',axis=1 ,inplace = True)\n"
   ]
  },
  {
   "cell_type": "code",
   "execution_count": 280,
   "id": "64bf8813",
   "metadata": {},
   "outputs": [],
   "source": [
    "mean_age = df['Avg Monthly GB Download'].mean()\n"
   ]
  },
  {
   "cell_type": "code",
   "execution_count": 281,
   "id": "5db6c7d5",
   "metadata": {},
   "outputs": [],
   "source": [
    "df['Avg Monthly GB Download'] = df['Avg Monthly GB Download'].fillna(mean_age)\n"
   ]
  },
  {
   "cell_type": "code",
   "execution_count": 283,
   "id": "500993ea",
   "metadata": {},
   "outputs": [],
   "source": [
    "df.drop('Internet Type',axis = 1 , inplace = True)"
   ]
  },
  {
   "cell_type": "code",
   "execution_count": 285,
   "id": "c6d2a8cf",
   "metadata": {},
   "outputs": [],
   "source": [
    "df.drop('Churn Category', axis = 1 , inplace = True)"
   ]
  },
  {
   "cell_type": "code",
   "execution_count": 286,
   "id": "8b30d15b",
   "metadata": {},
   "outputs": [
    {
     "data": {
      "text/plain": [
       "Gender                                   0\n",
       "Age                                      0\n",
       "Married                                  0\n",
       "Number of Dependents                     0\n",
       "City                                     0\n",
       "Tenure in Months                         0\n",
       "Phone Service                            0\n",
       "Internet Service                         0\n",
       "Avg Monthly GB Download                  0\n",
       "Contract                                 0\n",
       "Payment Method                           0\n",
       "Monthly Charge                           0\n",
       "Total Charges                            0\n",
       "Total Refunds                            0\n",
       "Total Extra Data Charges                 0\n",
       "Total Long Distance Charges              0\n",
       "Total Revenue                            0\n",
       "Customer Status                          0\n",
       "Age_Avg Monthly Long Distance Charges    0\n",
       "Multiple Lines_                          0\n",
       "Online Security_                         0\n",
       "Online Backup_                           0\n",
       "Device Protection Plan_                  0\n",
       "Premium Tech Support_                    0\n",
       "Streaming TV_                            0\n",
       "Streaming Movies_                        0\n",
       "Streaming Music_                         0\n",
       "Unlimited Data_                          0\n",
       "Internet Type_                           0\n",
       "dtype: int64"
      ]
     },
     "execution_count": 286,
     "metadata": {},
     "output_type": "execute_result"
    }
   ],
   "source": [
    "df.isnull().sum()"
   ]
  },
  {
   "cell_type": "code",
   "execution_count": 287,
   "id": "b175792a",
   "metadata": {},
   "outputs": [],
   "source": [
    "import seaborn as sns"
   ]
  },
  {
   "cell_type": "code",
   "execution_count": 289,
   "id": "77718c0b",
   "metadata": {},
   "outputs": [
    {
     "data": {
      "text/plain": [
       "<AxesSubplot:xlabel='Avg Monthly GB Download', ylabel='Density'>"
      ]
     },
     "execution_count": 289,
     "metadata": {},
     "output_type": "execute_result"
    },
    {
     "data": {
      "image/png": "[encoded data removed]",
      "text/plain": [
       "<Figure size 432x288 with 1 Axes>"
      ]
     },
     "metadata": {
      "needs_background": "light"
     },
     "output_type": "display_data"
    }
   ],
   "source": [
    "sns.distplot(df ['Avg Monthly GB Download'])"
   ]
  },
  {
   "cell_type": "code",
   "execution_count": 290,
   "id": "83aa7491",
   "metadata": {},
   "outputs": [
    {
     "data": {
      "text/plain": [
       "<AxesSubplot:>"
      ]
     },
     "execution_count": 290,
     "metadata": {},
     "output_type": "execute_result"
    },
    {
     "data": {
      "image/png": "[encoded data removed]",
      "text/plain": [
       "<Figure size 432x288 with 1 Axes>"
      ]
     },
     "metadata": {
      "needs_background": "light"
     },
     "output_type": "display_data"
    }
   ],
   "source": [
    "df.boxplot('Avg Monthly GB Download')"
   ]
  },
  {
   "cell_type": "code",
   "execution_count": 292,
   "id": "a77b980e",
   "metadata": {},
   "outputs": [
    {
     "ename": "AttributeError",
     "evalue": "'DataFrame' object has no attribute 'distplot'",
     "output_type": "error",
     "traceback": [
      "\u001b[1;31m---------------------------------------------------------------------------\u001b[0m",
      "\u001b[1;31mAttributeError\u001b[0m                            Traceback (most recent call last)",
      "\u001b[1;32m~\\AppData\\Local\\Temp/ipykernel_13844/2463019980.py\u001b[0m in \u001b[0;36m<module>\u001b[1;34m\u001b[0m\n\u001b[1;32m----> 1\u001b[1;33m \u001b[0mdf\u001b[0m\u001b[1;33m.\u001b[0m\u001b[0mdistplot\u001b[0m\u001b[1;33m(\u001b[0m\u001b[0mdf\u001b[0m\u001b[1;33m)\u001b[0m\u001b[1;33m\u001b[0m\u001b[1;33m\u001b[0m\u001b[0m\n\u001b[0m",
      "\u001b[1;32m~\\anaconda3\\lib\\site-packages\\pandas\\core\\generic.py\u001b[0m in \u001b[0;36m__getattr__\u001b[1;34m(self, name)\u001b[0m\n\u001b[0;32m   5485\u001b[0m         ):\n\u001b[0;32m   5486\u001b[0m             \u001b[1;32mreturn\u001b[0m \u001b[0mself\u001b[0m\u001b[1;33m[\u001b[0m\u001b[0mname\u001b[0m\u001b[1;33m]\u001b[0m\u001b[1;33m\u001b[0m\u001b[1;33m\u001b[0m\u001b[0m\n\u001b[1;32m-> 5487\u001b[1;33m         \u001b[1;32mreturn\u001b[0m \u001b[0mobject\u001b[0m\u001b[1;33m.\u001b[0m\u001b[0m__getattribute__\u001b[0m\u001b[1;33m(\u001b[0m\u001b[0mself\u001b[0m\u001b[1;33m,\u001b[0m \u001b[0mname\u001b[0m\u001b[1;33m)\u001b[0m\u001b[1;33m\u001b[0m\u001b[1;33m\u001b[0m\u001b[0m\n\u001b[0m\u001b[0;32m   5488\u001b[0m \u001b[1;33m\u001b[0m\u001b[0m\n\u001b[0;32m   5489\u001b[0m     \u001b[1;32mdef\u001b[0m \u001b[0m__setattr__\u001b[0m\u001b[1;33m(\u001b[0m\u001b[0mself\u001b[0m\u001b[1;33m,\u001b[0m \u001b[0mname\u001b[0m\u001b[1;33m:\u001b[0m \u001b[0mstr\u001b[0m\u001b[1;33m,\u001b[0m \u001b[0mvalue\u001b[0m\u001b[1;33m)\u001b[0m \u001b[1;33m->\u001b[0m \u001b[1;32mNone\u001b[0m\u001b[1;33m:\u001b[0m\u001b[1;33m\u001b[0m\u001b[1;33m\u001b[0m\u001b[0m\n",
      "\u001b[1;31mAttributeError\u001b[0m: 'DataFrame' object has no attribute 'distplot'"
     ]
    }
   ],
   "source": [
    "df."
   ]
  },
  {
   "cell_type": "code",
   "execution_count": null,
   "id": "9a5d9ead",
   "metadata": {},
   "outputs": [],
   "source": []
  }
 ],
 "metadata": {
  "kernelspec": {
   "display_name": "Python 3 (ipykernel)",
   "language": "python",
   "name": "python3"
  },
  "language_info": {
   "codemirror_mode": {
    "name": "ipython",
    "version": 3
   },
   "file_extension": ".py",
   "mimetype": "text/x-python",
   "name": "python",
   "nbconvert_exporter": "python",
   "pygments_lexer": "ipython3",
   "version": "3.9.7"
  }
 },
 "nbformat": 4,
 "nbformat_minor": 5
}
