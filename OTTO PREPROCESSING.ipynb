{
 "cells": [
  {
   "cell_type": "code",
   "execution_count": 40,
   "id": "d2f99aa8",
   "metadata": {},
   "outputs": [],
   "source": [
    "import os\n",
    "os.environ[\"CUDA_VISIBLE_DEVICES\"]=\"0\"\n",
    "\n",
    "import pandas as pd\n",
    "pd.options.display.max_rows = 999\n",
    "import gc\n",
    "import numpy as np\n",
    "#import cudf\n",
    "from glob import glob\n",
    "from tqdm import tqdm\n",
    "import gc\n",
    "#import cudf\n",
    "\n"
   ]
  },
  {
   "cell_type": "code",
   "execution_count": 41,
   "id": "88fb2faa",
   "metadata": {},
   "outputs": [
    {
     "name": "stderr",
     "output_type": "stream",
     "text": [
      "C:\\Users\\win10\\AppData\\Local\\Temp/ipykernel_108/1676143532.py:1: DtypeWarning: Columns (0) have mixed types. Specify dtype option on import or set low_memory=False.\n",
      "  df = pd.read_csv('OTTO.csv')\n"
     ]
    }
   ],
   "source": [
    "df = pd.read_csv('OTTO.csv')"
   ]
  },
  {
   "cell_type": "code",
   "execution_count": 42,
   "id": "e43a67eb",
   "metadata": {},
   "outputs": [
    {
     "data": {
      "text/html": [
       "<div>\n",
       "<style scoped>\n",
       "    .dataframe tbody tr th:only-of-type {\n",
       "        vertical-align: middle;\n",
       "    }\n",
       "\n",
       "    .dataframe tbody tr th {\n",
       "        vertical-align: top;\n",
       "    }\n",
       "\n",
       "    .dataframe thead th {\n",
       "        text-align: right;\n",
       "    }\n",
       "</style>\n",
       "<table border=\"1\" class=\"dataframe\">\n",
       "  <thead>\n",
       "    <tr style=\"text-align: right;\">\n",
       "      <th></th>\n",
       "      <th>Unnamed: 0</th>\n",
       "      <th>session</th>\n",
       "      <th>aid</th>\n",
       "      <th>ts</th>\n",
       "      <th>type</th>\n",
       "    </tr>\n",
       "  </thead>\n",
       "  <tbody>\n",
       "    <tr>\n",
       "      <th>0</th>\n",
       "      <td>Unnamed: 0</td>\n",
       "      <td>0</td>\n",
       "      <td>1</td>\n",
       "      <td>2</td>\n",
       "      <td>3</td>\n",
       "    </tr>\n",
       "    <tr>\n",
       "      <th>1</th>\n",
       "      <td>0</td>\n",
       "      <td>11098528</td>\n",
       "      <td>11830</td>\n",
       "      <td>1661119200</td>\n",
       "      <td>0</td>\n",
       "    </tr>\n",
       "    <tr>\n",
       "      <th>2</th>\n",
       "      <td>1</td>\n",
       "      <td>11098529</td>\n",
       "      <td>1105029</td>\n",
       "      <td>1661119200</td>\n",
       "      <td>0</td>\n",
       "    </tr>\n",
       "    <tr>\n",
       "      <th>3</th>\n",
       "      <td>2</td>\n",
       "      <td>11098530</td>\n",
       "      <td>264500</td>\n",
       "      <td>1661119200</td>\n",
       "      <td>0</td>\n",
       "    </tr>\n",
       "    <tr>\n",
       "      <th>4</th>\n",
       "      <td>3</td>\n",
       "      <td>11098530</td>\n",
       "      <td>264500</td>\n",
       "      <td>1661119288</td>\n",
       "      <td>0</td>\n",
       "    </tr>\n",
       "    <tr>\n",
       "      <th>...</th>\n",
       "      <td>...</td>\n",
       "      <td>...</td>\n",
       "      <td>...</td>\n",
       "      <td>...</td>\n",
       "      <td>...</td>\n",
       "    </tr>\n",
       "    <tr>\n",
       "      <th>7683573</th>\n",
       "      <td>7683572</td>\n",
       "      <td>12899774</td>\n",
       "      <td>33035</td>\n",
       "      <td>1661723968</td>\n",
       "      <td>0</td>\n",
       "    </tr>\n",
       "    <tr>\n",
       "      <th>7683574</th>\n",
       "      <td>7683573</td>\n",
       "      <td>12899775</td>\n",
       "      <td>1743151</td>\n",
       "      <td>1661723970</td>\n",
       "      <td>0</td>\n",
       "    </tr>\n",
       "    <tr>\n",
       "      <th>7683575</th>\n",
       "      <td>7683574</td>\n",
       "      <td>12899776</td>\n",
       "      <td>548599</td>\n",
       "      <td>1661723972</td>\n",
       "      <td>0</td>\n",
       "    </tr>\n",
       "    <tr>\n",
       "      <th>7683576</th>\n",
       "      <td>7683575</td>\n",
       "      <td>12899777</td>\n",
       "      <td>384045</td>\n",
       "      <td>1661723976</td>\n",
       "      <td>0</td>\n",
       "    </tr>\n",
       "    <tr>\n",
       "      <th>7683577</th>\n",
       "      <td>7683576</td>\n",
       "      <td>12899778</td>\n",
       "      <td>561560</td>\n",
       "      <td>1661723983</td>\n",
       "      <td>0</td>\n",
       "    </tr>\n",
       "  </tbody>\n",
       "</table>\n",
       "<p>7683578 rows × 5 columns</p>\n",
       "</div>"
      ],
      "text/plain": [
       "         Unnamed: 0   session      aid          ts  type\n",
       "0        Unnamed: 0         0        1           2     3\n",
       "1                 0  11098528    11830  1661119200     0\n",
       "2                 1  11098529  1105029  1661119200     0\n",
       "3                 2  11098530   264500  1661119200     0\n",
       "4                 3  11098530   264500  1661119288     0\n",
       "...             ...       ...      ...         ...   ...\n",
       "7683573     7683572  12899774    33035  1661723968     0\n",
       "7683574     7683573  12899775  1743151  1661723970     0\n",
       "7683575     7683574  12899776   548599  1661723972     0\n",
       "7683576     7683575  12899777   384045  1661723976     0\n",
       "7683577     7683576  12899778   561560  1661723983     0\n",
       "\n",
       "[7683578 rows x 5 columns]"
      ]
     },
     "execution_count": 42,
     "metadata": {},
     "output_type": "execute_result"
    }
   ],
   "source": [
    "df"
   ]
  },
  {
   "cell_type": "code",
   "execution_count": 43,
   "id": "b75a4a61",
   "metadata": {},
   "outputs": [
    {
     "data": {
      "text/plain": [
       "11150244    465\n",
       "12224837    422\n",
       "11886540    366\n",
       "12238424    355\n",
       "11831609    355\n",
       "           ... \n",
       "11944124      1\n",
       "11944126      1\n",
       "11944127      1\n",
       "11944128      1\n",
       "12899778      1\n",
       "Name: session, Length: 1801252, dtype: int64"
      ]
     },
     "execution_count": 43,
     "metadata": {},
     "output_type": "execute_result"
    }
   ],
   "source": [
    "df['session'].value_counts()\n"
   ]
  },
  {
   "cell_type": "code",
   "execution_count": 44,
   "id": "1d57f04a",
   "metadata": {},
   "outputs": [
    {
     "data": {
      "text/plain": [
       "485256     36584\n",
       "1460571     8008\n",
       "33343       7198\n",
       "613493      6616\n",
       "108125      6073\n",
       "876493      5847\n",
       "152547      5807\n",
       "1551213     5642\n",
       "1406660     4336\n",
       "1236775     4293\n",
       "184976      4168\n",
       "836852      3857\n",
       "1531805     3776\n",
       "331708      3624\n",
       "29735       3567\n",
       "554660      3320\n",
       "634452      3271\n",
       "986164      3168\n",
       "832192      3121\n",
       "166037      3076\n",
       "Name: aid, dtype: int64"
      ]
     },
     "execution_count": 44,
     "metadata": {},
     "output_type": "execute_result"
    }
   ],
   "source": [
    "df['aid'].value_counts().head(20)"
   ]
  },
  {
   "cell_type": "code",
   "execution_count": 45,
   "id": "4630cb01",
   "metadata": {},
   "outputs": [
    {
     "data": {
      "text/plain": [
       "0    6958277\n",
       "1     650768\n",
       "2      74532\n",
       "3          1\n",
       "Name: type, dtype: int64"
      ]
     },
     "execution_count": 45,
     "metadata": {},
     "output_type": "execute_result"
    }
   ],
   "source": [
    "df['type'].value_counts()"
   ]
  },
  {
   "cell_type": "code",
   "execution_count": 46,
   "id": "91b6433c",
   "metadata": {},
   "outputs": [],
   "source": [
    "import numpy as np\n",
    "import pandas as pd\n",
    "from datetime import datetime\n",
    "import matplotlib.pyplot as plt\n",
    "# from google.cloud import storage\n",
    "#import polars as pl\n",
    "#import gc\n",
    "\n"
   ]
  },
  {
   "cell_type": "code",
   "execution_count": 47,
   "id": "ab74eade",
   "metadata": {},
   "outputs": [],
   "source": [
    "df['ts']= pd.to_datetime(df['ts'], unit='s')\n"
   ]
  },
  {
   "cell_type": "code",
   "execution_count": 48,
   "id": "f0df2b9c",
   "metadata": {},
   "outputs": [],
   "source": [
    "df['year'] = pd.DatetimeIndex(df['ts']).year\n",
    "#df['year'] = pd.DatetimeIndex(df['birth_date']).year\n",
    "\n",
    "df['month'] = pd.DatetimeIndex(df['ts']).month\n",
    "df['Day'] = pd.DatetimeIndex(df['ts']).day"
   ]
  },
  {
   "cell_type": "code",
   "execution_count": 49,
   "id": "6a29c24f",
   "metadata": {},
   "outputs": [
    {
     "data": {
      "text/plain": [
       "array([1970, 2022], dtype=int64)"
      ]
     },
     "execution_count": 49,
     "metadata": {},
     "output_type": "execute_result"
    }
   ],
   "source": [
    "df['year'].unique()"
   ]
  },
  {
   "cell_type": "code",
   "execution_count": 50,
   "id": "0d960e05",
   "metadata": {},
   "outputs": [
    {
     "data": {
      "text/plain": [
       "array([1, 8], dtype=int64)"
      ]
     },
     "execution_count": 50,
     "metadata": {},
     "output_type": "execute_result"
    }
   ],
   "source": [
    "df['month'].unique()"
   ]
  },
  {
   "cell_type": "code",
   "execution_count": 51,
   "id": "2dc52f8f",
   "metadata": {},
   "outputs": [
    {
     "data": {
      "text/plain": [
       "array([ 1, 21, 22, 23, 24, 26, 28, 27, 25], dtype=int64)"
      ]
     },
     "execution_count": 51,
     "metadata": {},
     "output_type": "execute_result"
    }
   ],
   "source": [
    "df['Day'].unique()"
   ]
  },
  {
   "cell_type": "code",
   "execution_count": 52,
   "id": "d2478ce6",
   "metadata": {},
   "outputs": [
    {
     "data": {
      "text/html": [
       "<div>\n",
       "<style scoped>\n",
       "    .dataframe tbody tr th:only-of-type {\n",
       "        vertical-align: middle;\n",
       "    }\n",
       "\n",
       "    .dataframe tbody tr th {\n",
       "        vertical-align: top;\n",
       "    }\n",
       "\n",
       "    .dataframe thead th {\n",
       "        text-align: right;\n",
       "    }\n",
       "</style>\n",
       "<table border=\"1\" class=\"dataframe\">\n",
       "  <thead>\n",
       "    <tr style=\"text-align: right;\">\n",
       "      <th></th>\n",
       "      <th>Unnamed: 0</th>\n",
       "      <th>session</th>\n",
       "      <th>aid</th>\n",
       "      <th>ts</th>\n",
       "      <th>type</th>\n",
       "      <th>year</th>\n",
       "      <th>month</th>\n",
       "      <th>Day</th>\n",
       "    </tr>\n",
       "  </thead>\n",
       "  <tbody>\n",
       "    <tr>\n",
       "      <th>0</th>\n",
       "      <td>Unnamed: 0</td>\n",
       "      <td>0</td>\n",
       "      <td>1</td>\n",
       "      <td>1970-01-01 00:00:02</td>\n",
       "      <td>3</td>\n",
       "      <td>1970</td>\n",
       "      <td>1</td>\n",
       "      <td>1</td>\n",
       "    </tr>\n",
       "    <tr>\n",
       "      <th>1</th>\n",
       "      <td>0</td>\n",
       "      <td>11098528</td>\n",
       "      <td>11830</td>\n",
       "      <td>2022-08-21 22:00:00</td>\n",
       "      <td>0</td>\n",
       "      <td>2022</td>\n",
       "      <td>8</td>\n",
       "      <td>21</td>\n",
       "    </tr>\n",
       "    <tr>\n",
       "      <th>2</th>\n",
       "      <td>1</td>\n",
       "      <td>11098529</td>\n",
       "      <td>1105029</td>\n",
       "      <td>2022-08-21 22:00:00</td>\n",
       "      <td>0</td>\n",
       "      <td>2022</td>\n",
       "      <td>8</td>\n",
       "      <td>21</td>\n",
       "    </tr>\n",
       "    <tr>\n",
       "      <th>3</th>\n",
       "      <td>2</td>\n",
       "      <td>11098530</td>\n",
       "      <td>264500</td>\n",
       "      <td>2022-08-21 22:00:00</td>\n",
       "      <td>0</td>\n",
       "      <td>2022</td>\n",
       "      <td>8</td>\n",
       "      <td>21</td>\n",
       "    </tr>\n",
       "    <tr>\n",
       "      <th>4</th>\n",
       "      <td>3</td>\n",
       "      <td>11098530</td>\n",
       "      <td>264500</td>\n",
       "      <td>2022-08-21 22:01:28</td>\n",
       "      <td>0</td>\n",
       "      <td>2022</td>\n",
       "      <td>8</td>\n",
       "      <td>21</td>\n",
       "    </tr>\n",
       "    <tr>\n",
       "      <th>...</th>\n",
       "      <td>...</td>\n",
       "      <td>...</td>\n",
       "      <td>...</td>\n",
       "      <td>...</td>\n",
       "      <td>...</td>\n",
       "      <td>...</td>\n",
       "      <td>...</td>\n",
       "      <td>...</td>\n",
       "    </tr>\n",
       "    <tr>\n",
       "      <th>7683573</th>\n",
       "      <td>7683572</td>\n",
       "      <td>12899774</td>\n",
       "      <td>33035</td>\n",
       "      <td>2022-08-28 21:59:28</td>\n",
       "      <td>0</td>\n",
       "      <td>2022</td>\n",
       "      <td>8</td>\n",
       "      <td>28</td>\n",
       "    </tr>\n",
       "    <tr>\n",
       "      <th>7683574</th>\n",
       "      <td>7683573</td>\n",
       "      <td>12899775</td>\n",
       "      <td>1743151</td>\n",
       "      <td>2022-08-28 21:59:30</td>\n",
       "      <td>0</td>\n",
       "      <td>2022</td>\n",
       "      <td>8</td>\n",
       "      <td>28</td>\n",
       "    </tr>\n",
       "    <tr>\n",
       "      <th>7683575</th>\n",
       "      <td>7683574</td>\n",
       "      <td>12899776</td>\n",
       "      <td>548599</td>\n",
       "      <td>2022-08-28 21:59:32</td>\n",
       "      <td>0</td>\n",
       "      <td>2022</td>\n",
       "      <td>8</td>\n",
       "      <td>28</td>\n",
       "    </tr>\n",
       "    <tr>\n",
       "      <th>7683576</th>\n",
       "      <td>7683575</td>\n",
       "      <td>12899777</td>\n",
       "      <td>384045</td>\n",
       "      <td>2022-08-28 21:59:36</td>\n",
       "      <td>0</td>\n",
       "      <td>2022</td>\n",
       "      <td>8</td>\n",
       "      <td>28</td>\n",
       "    </tr>\n",
       "    <tr>\n",
       "      <th>7683577</th>\n",
       "      <td>7683576</td>\n",
       "      <td>12899778</td>\n",
       "      <td>561560</td>\n",
       "      <td>2022-08-28 21:59:43</td>\n",
       "      <td>0</td>\n",
       "      <td>2022</td>\n",
       "      <td>8</td>\n",
       "      <td>28</td>\n",
       "    </tr>\n",
       "  </tbody>\n",
       "</table>\n",
       "<p>7683578 rows × 8 columns</p>\n",
       "</div>"
      ],
      "text/plain": [
       "         Unnamed: 0   session      aid                  ts  type  year  month  \\\n",
       "0        Unnamed: 0         0        1 1970-01-01 00:00:02     3  1970      1   \n",
       "1                 0  11098528    11830 2022-08-21 22:00:00     0  2022      8   \n",
       "2                 1  11098529  1105029 2022-08-21 22:00:00     0  2022      8   \n",
       "3                 2  11098530   264500 2022-08-21 22:00:00     0  2022      8   \n",
       "4                 3  11098530   264500 2022-08-21 22:01:28     0  2022      8   \n",
       "...             ...       ...      ...                 ...   ...   ...    ...   \n",
       "7683573     7683572  12899774    33035 2022-08-28 21:59:28     0  2022      8   \n",
       "7683574     7683573  12899775  1743151 2022-08-28 21:59:30     0  2022      8   \n",
       "7683575     7683574  12899776   548599 2022-08-28 21:59:32     0  2022      8   \n",
       "7683576     7683575  12899777   384045 2022-08-28 21:59:36     0  2022      8   \n",
       "7683577     7683576  12899778   561560 2022-08-28 21:59:43     0  2022      8   \n",
       "\n",
       "         Day  \n",
       "0          1  \n",
       "1         21  \n",
       "2         21  \n",
       "3         21  \n",
       "4         21  \n",
       "...      ...  \n",
       "7683573   28  \n",
       "7683574   28  \n",
       "7683575   28  \n",
       "7683576   28  \n",
       "7683577   28  \n",
       "\n",
       "[7683578 rows x 8 columns]"
      ]
     },
     "execution_count": 52,
     "metadata": {},
     "output_type": "execute_result"
    }
   ],
   "source": [
    "df"
   ]
  },
  {
   "cell_type": "code",
   "execution_count": 53,
   "id": "41c25608",
   "metadata": {},
   "outputs": [
    {
     "data": {
      "text/plain": [
       "0          False\n",
       "1           True\n",
       "2           True\n",
       "3           True\n",
       "4           True\n",
       "           ...  \n",
       "7683573     True\n",
       "7683574     True\n",
       "7683575     True\n",
       "7683576     True\n",
       "7683577     True\n",
       "Name: type, Length: 7683578, dtype: bool"
      ]
     },
     "execution_count": 53,
     "metadata": {},
     "output_type": "execute_result"
    }
   ],
   "source": [
    "type_0 = df['type'] == 0\n",
    "type_0"
   ]
  },
  {
   "cell_type": "code",
   "execution_count": 54,
   "id": "cb526c79",
   "metadata": {},
   "outputs": [
    {
     "data": {
      "text/plain": [
       "0          False\n",
       "1          False\n",
       "2          False\n",
       "3          False\n",
       "4          False\n",
       "           ...  \n",
       "7683573    False\n",
       "7683574    False\n",
       "7683575    False\n",
       "7683576    False\n",
       "7683577    False\n",
       "Name: type, Length: 7683578, dtype: bool"
      ]
     },
     "execution_count": 54,
     "metadata": {},
     "output_type": "execute_result"
    }
   ],
   "source": [
    "type_1 = df['type'] == 1\n",
    "type_1"
   ]
  },
  {
   "cell_type": "code",
   "execution_count": 55,
   "id": "c5097ec8",
   "metadata": {},
   "outputs": [
    {
     "data": {
      "text/plain": [
       "0          False\n",
       "1          False\n",
       "2          False\n",
       "3          False\n",
       "4          False\n",
       "           ...  \n",
       "7683573    False\n",
       "7683574    False\n",
       "7683575    False\n",
       "7683576    False\n",
       "7683577    False\n",
       "Name: type, Length: 7683578, dtype: bool"
      ]
     },
     "execution_count": 55,
     "metadata": {},
     "output_type": "execute_result"
    }
   ],
   "source": [
    "type_2  = df['type'] == 2\n",
    "type_2"
   ]
  },
  {
   "cell_type": "code",
   "execution_count": 56,
   "id": "f6e8d020",
   "metadata": {},
   "outputs": [
    {
     "ename": "ModuleNotFoundError",
     "evalue": "No module named 'cudf'",
     "output_type": "error",
     "traceback": [
      "\u001b[1;31m---------------------------------------------------------------------------\u001b[0m",
      "\u001b[1;31mModuleNotFoundError\u001b[0m                       Traceback (most recent call last)",
      "\u001b[1;32m~\\AppData\\Local\\Temp/ipykernel_108/2009255633.py\u001b[0m in \u001b[0;36m<module>\u001b[1;34m\u001b[0m\n\u001b[0;32m      6\u001b[0m \u001b[1;32mimport\u001b[0m \u001b[0mgc\u001b[0m\u001b[1;33m\u001b[0m\u001b[1;33m\u001b[0m\u001b[0m\n\u001b[0;32m      7\u001b[0m \u001b[1;32mimport\u001b[0m \u001b[0mnumpy\u001b[0m \u001b[1;32mas\u001b[0m \u001b[0mnp\u001b[0m\u001b[1;33m\u001b[0m\u001b[1;33m\u001b[0m\u001b[0m\n\u001b[1;32m----> 8\u001b[1;33m \u001b[1;32mimport\u001b[0m \u001b[0mcudf\u001b[0m\u001b[1;33m\u001b[0m\u001b[1;33m\u001b[0m\u001b[0m\n\u001b[0m\u001b[0;32m      9\u001b[0m \u001b[1;32mfrom\u001b[0m \u001b[0mglob\u001b[0m \u001b[1;32mimport\u001b[0m \u001b[0mglob\u001b[0m\u001b[1;33m\u001b[0m\u001b[1;33m\u001b[0m\u001b[0m\n\u001b[0;32m     10\u001b[0m \u001b[1;32mfrom\u001b[0m \u001b[0mtqdm\u001b[0m \u001b[1;32mimport\u001b[0m \u001b[0mtqdm\u001b[0m\u001b[1;33m\u001b[0m\u001b[1;33m\u001b[0m\u001b[0m\n",
      "\u001b[1;31mModuleNotFoundError\u001b[0m: No module named 'cudf'"
     ]
    }
   ],
   "source": [
    "import os\n",
    "os.environ[\"CUDA_VISIBLE_DEVICES\"]=\"0\"\n",
    "\n",
    "import pandas as pd\n",
    "pd.options.display.max_rows = 999\n",
    "import gc\n",
    "import numpy as np\n",
    "import cudf\n",
    "from glob import glob\n",
    "from tqdm import tqdm\n",
    "import gc\n",
    "import cudf"
   ]
  },
  {
   "cell_type": "code",
   "execution_count": 57,
   "id": "38dc3c12",
   "metadata": {},
   "outputs": [
    {
     "name": "stderr",
     "output_type": "stream",
     "text": [
      "C:\\Users\\win10\\AppData\\Local\\Temp/ipykernel_108/3107583915.py:2: DtypeWarning: Columns (0) have mixed types. Specify dtype option on import or set low_memory=False.\n",
      "  test = pd.read_csv('OTTO.csv')\n"
     ]
    },
    {
     "name": "stdout",
     "output_type": "stream",
     "text": [
      "(7683578, 6)\n"
     ]
    },
    {
     "data": {
      "text/plain": [
       "76"
      ]
     },
     "execution_count": 57,
     "metadata": {},
     "output_type": "execute_result"
    }
   ],
   "source": [
    "#train = cudf.read_parquet('../input/train.parquet')\n",
    "test = pd.read_csv('OTTO.csv')\n",
    "\n",
    "#train = train.sort_values(['session', 'ts', 'type'], ascending=[True, False, True]).reset_index(drop=True)\n",
    "#train['n'] = train.groupby('session')['ts'].cumcount()\n",
    "test = test.sort_values(['session', 'ts', 'type'], ascending=[True, False, True]).reset_index(drop=True)\n",
    "test['n'] = test.groupby('session')['ts'].cumcount()\n",
    "\n",
    "print(test.shape)\n",
    "\n",
    "#train['ts'] = train['ts'].astype('int64') // 1000000\n",
    "test['ts'] = test['ts'].astype('int64') // 1000000\n",
    "#freemem(train)\n",
    "#freemem(test)\n",
    "gc.collect()"
   ]
  },
  {
   "cell_type": "code",
   "execution_count": 58,
   "id": "d9975a51",
   "metadata": {},
   "outputs": [
    {
     "data": {
      "text/html": [
       "<div>\n",
       "<style scoped>\n",
       "    .dataframe tbody tr th:only-of-type {\n",
       "        vertical-align: middle;\n",
       "    }\n",
       "\n",
       "    .dataframe tbody tr th {\n",
       "        vertical-align: top;\n",
       "    }\n",
       "\n",
       "    .dataframe thead th {\n",
       "        text-align: right;\n",
       "    }\n",
       "</style>\n",
       "<table border=\"1\" class=\"dataframe\">\n",
       "  <thead>\n",
       "    <tr style=\"text-align: right;\">\n",
       "      <th></th>\n",
       "      <th>Unnamed: 0</th>\n",
       "      <th>session</th>\n",
       "      <th>aid</th>\n",
       "      <th>ts</th>\n",
       "      <th>type</th>\n",
       "      <th>n</th>\n",
       "    </tr>\n",
       "  </thead>\n",
       "  <tbody>\n",
       "    <tr>\n",
       "      <th>0</th>\n",
       "      <td>Unnamed: 0</td>\n",
       "      <td>0</td>\n",
       "      <td>1</td>\n",
       "      <td>0</td>\n",
       "      <td>3</td>\n",
       "      <td>0</td>\n",
       "    </tr>\n",
       "    <tr>\n",
       "      <th>1</th>\n",
       "      <td>0</td>\n",
       "      <td>11098528</td>\n",
       "      <td>11830</td>\n",
       "      <td>1661</td>\n",
       "      <td>0</td>\n",
       "      <td>0</td>\n",
       "    </tr>\n",
       "    <tr>\n",
       "      <th>2</th>\n",
       "      <td>1</td>\n",
       "      <td>11098529</td>\n",
       "      <td>1105029</td>\n",
       "      <td>1661</td>\n",
       "      <td>0</td>\n",
       "      <td>0</td>\n",
       "    </tr>\n",
       "    <tr>\n",
       "      <th>3</th>\n",
       "      <td>7</td>\n",
       "      <td>11098530</td>\n",
       "      <td>409236</td>\n",
       "      <td>1661</td>\n",
       "      <td>1</td>\n",
       "      <td>0</td>\n",
       "    </tr>\n",
       "    <tr>\n",
       "      <th>4</th>\n",
       "      <td>6</td>\n",
       "      <td>11098530</td>\n",
       "      <td>409236</td>\n",
       "      <td>1661</td>\n",
       "      <td>0</td>\n",
       "      <td>1</td>\n",
       "    </tr>\n",
       "    <tr>\n",
       "      <th>...</th>\n",
       "      <td>...</td>\n",
       "      <td>...</td>\n",
       "      <td>...</td>\n",
       "      <td>...</td>\n",
       "      <td>...</td>\n",
       "      <td>...</td>\n",
       "    </tr>\n",
       "    <tr>\n",
       "      <th>7683573</th>\n",
       "      <td>7683572</td>\n",
       "      <td>12899774</td>\n",
       "      <td>33035</td>\n",
       "      <td>1661</td>\n",
       "      <td>0</td>\n",
       "      <td>0</td>\n",
       "    </tr>\n",
       "    <tr>\n",
       "      <th>7683574</th>\n",
       "      <td>7683573</td>\n",
       "      <td>12899775</td>\n",
       "      <td>1743151</td>\n",
       "      <td>1661</td>\n",
       "      <td>0</td>\n",
       "      <td>0</td>\n",
       "    </tr>\n",
       "    <tr>\n",
       "      <th>7683575</th>\n",
       "      <td>7683574</td>\n",
       "      <td>12899776</td>\n",
       "      <td>548599</td>\n",
       "      <td>1661</td>\n",
       "      <td>0</td>\n",
       "      <td>0</td>\n",
       "    </tr>\n",
       "    <tr>\n",
       "      <th>7683576</th>\n",
       "      <td>7683575</td>\n",
       "      <td>12899777</td>\n",
       "      <td>384045</td>\n",
       "      <td>1661</td>\n",
       "      <td>0</td>\n",
       "      <td>0</td>\n",
       "    </tr>\n",
       "    <tr>\n",
       "      <th>7683577</th>\n",
       "      <td>7683576</td>\n",
       "      <td>12899778</td>\n",
       "      <td>561560</td>\n",
       "      <td>1661</td>\n",
       "      <td>0</td>\n",
       "      <td>0</td>\n",
       "    </tr>\n",
       "  </tbody>\n",
       "</table>\n",
       "<p>7683578 rows × 6 columns</p>\n",
       "</div>"
      ],
      "text/plain": [
       "         Unnamed: 0   session      aid    ts  type  n\n",
       "0        Unnamed: 0         0        1     0     3  0\n",
       "1                 0  11098528    11830  1661     0  0\n",
       "2                 1  11098529  1105029  1661     0  0\n",
       "3                 7  11098530   409236  1661     1  0\n",
       "4                 6  11098530   409236  1661     0  1\n",
       "...             ...       ...      ...   ...   ... ..\n",
       "7683573     7683572  12899774    33035  1661     0  0\n",
       "7683574     7683573  12899775  1743151  1661     0  0\n",
       "7683575     7683574  12899776   548599  1661     0  0\n",
       "7683576     7683575  12899777   384045  1661     0  0\n",
       "7683577     7683576  12899778   561560  1661     0  0\n",
       "\n",
       "[7683578 rows x 6 columns]"
      ]
     },
     "execution_count": 58,
     "metadata": {},
     "output_type": "execute_result"
    }
   ],
   "source": [
    "test"
   ]
  },
  {
   "cell_type": "code",
   "execution_count": 59,
   "id": "613c74c1",
   "metadata": {},
   "outputs": [
    {
     "name": "stdout",
     "output_type": "stream",
     "text": [
      "(100185, 2)\n"
     ]
    },
    {
     "data": {
      "text/html": [
       "<div>\n",
       "<style scoped>\n",
       "    .dataframe tbody tr th:only-of-type {\n",
       "        vertical-align: middle;\n",
       "    }\n",
       "\n",
       "    .dataframe tbody tr th {\n",
       "        vertical-align: top;\n",
       "    }\n",
       "\n",
       "    .dataframe thead th {\n",
       "        text-align: right;\n",
       "    }\n",
       "</style>\n",
       "<table border=\"1\" class=\"dataframe\">\n",
       "  <thead>\n",
       "    <tr style=\"text-align: right;\">\n",
       "      <th></th>\n",
       "      <th>session</th>\n",
       "      <th>aid</th>\n",
       "    </tr>\n",
       "  </thead>\n",
       "  <tbody>\n",
       "    <tr>\n",
       "      <th>1001303</th>\n",
       "      <td>11786420</td>\n",
       "      <td>293</td>\n",
       "    </tr>\n",
       "    <tr>\n",
       "      <th>1001308</th>\n",
       "      <td>12202120</td>\n",
       "      <td>298</td>\n",
       "    </tr>\n",
       "    <tr>\n",
       "      <th>1001309</th>\n",
       "      <td>11278970</td>\n",
       "      <td>299</td>\n",
       "    </tr>\n",
       "    <tr>\n",
       "      <th>1001323</th>\n",
       "      <td>11222220</td>\n",
       "      <td>350</td>\n",
       "    </tr>\n",
       "    <tr>\n",
       "      <th>1001326</th>\n",
       "      <td>11886540</td>\n",
       "      <td>366</td>\n",
       "    </tr>\n",
       "  </tbody>\n",
       "</table>\n",
       "</div>"
      ],
      "text/plain": [
       "          session  aid\n",
       "1001303  11786420  293\n",
       "1001308  12202120  298\n",
       "1001309  11278970  299\n",
       "1001323  11222220  350\n",
       "1001326  11886540  366"
      ]
     },
     "execution_count": 59,
     "metadata": {},
     "output_type": "execute_result"
    }
   ],
   "source": [
    "dt = test.groupby('session')['aid'].count()\n",
    "dt = dt[dt>=2]\n",
    "dt = dt.sort_values().reset_index()\n",
    "dt = dt.loc[((dt['session'] % 10)==0) & (dt['aid']>=2) ]\n",
    "print(dt.shape)\n",
    "dt.tail(5)"
   ]
  },
  {
   "cell_type": "code",
   "execution_count": 60,
   "id": "41d94324",
   "metadata": {},
   "outputs": [
    {
     "data": {
      "text/plain": [
       "((695259, 6), (695259, 6))"
      ]
     },
     "execution_count": 60,
     "metadata": {},
     "output_type": "execute_result"
    }
   ],
   "source": [
    "valid = test.loc[test.session.isin(dt['session']) ].reset_index(drop=True)\n",
    "test = test.loc[test.session.isin(dt['session']) ].reset_index(drop=True)\n",
    "\n",
    "valid.shape, test.shape"
   ]
  },
  {
   "cell_type": "code",
   "execution_count": 61,
   "id": "224c8c74",
   "metadata": {},
   "outputs": [
    {
     "data": {
      "text/html": [
       "<div>\n",
       "<style scoped>\n",
       "    .dataframe tbody tr th:only-of-type {\n",
       "        vertical-align: middle;\n",
       "    }\n",
       "\n",
       "    .dataframe tbody tr th {\n",
       "        vertical-align: top;\n",
       "    }\n",
       "\n",
       "    .dataframe thead th {\n",
       "        text-align: right;\n",
       "    }\n",
       "</style>\n",
       "<table border=\"1\" class=\"dataframe\">\n",
       "  <thead>\n",
       "    <tr style=\"text-align: right;\">\n",
       "      <th></th>\n",
       "      <th>Unnamed: 0</th>\n",
       "      <th>session</th>\n",
       "      <th>aid</th>\n",
       "      <th>ts</th>\n",
       "      <th>type</th>\n",
       "      <th>n</th>\n",
       "    </tr>\n",
       "  </thead>\n",
       "  <tbody>\n",
       "    <tr>\n",
       "      <th>0</th>\n",
       "      <td>7</td>\n",
       "      <td>11098530</td>\n",
       "      <td>409236</td>\n",
       "      <td>1661</td>\n",
       "      <td>1</td>\n",
       "      <td>0</td>\n",
       "    </tr>\n",
       "    <tr>\n",
       "      <th>1</th>\n",
       "      <td>6</td>\n",
       "      <td>11098530</td>\n",
       "      <td>409236</td>\n",
       "      <td>1661</td>\n",
       "      <td>0</td>\n",
       "      <td>1</td>\n",
       "    </tr>\n",
       "    <tr>\n",
       "      <th>2</th>\n",
       "      <td>5</td>\n",
       "      <td>11098530</td>\n",
       "      <td>409236</td>\n",
       "      <td>1661</td>\n",
       "      <td>0</td>\n",
       "      <td>2</td>\n",
       "    </tr>\n",
       "    <tr>\n",
       "      <th>3</th>\n",
       "      <td>4</td>\n",
       "      <td>11098530</td>\n",
       "      <td>409236</td>\n",
       "      <td>1661</td>\n",
       "      <td>0</td>\n",
       "      <td>3</td>\n",
       "    </tr>\n",
       "    <tr>\n",
       "      <th>4</th>\n",
       "      <td>3</td>\n",
       "      <td>11098530</td>\n",
       "      <td>264500</td>\n",
       "      <td>1661</td>\n",
       "      <td>0</td>\n",
       "      <td>4</td>\n",
       "    </tr>\n",
       "    <tr>\n",
       "      <th>...</th>\n",
       "      <td>...</td>\n",
       "      <td>...</td>\n",
       "      <td>...</td>\n",
       "      <td>...</td>\n",
       "      <td>...</td>\n",
       "      <td>...</td>\n",
       "    </tr>\n",
       "    <tr>\n",
       "      <th>695254</th>\n",
       "      <td>7683296</td>\n",
       "      <td>12899580</td>\n",
       "      <td>1604220</td>\n",
       "      <td>1661</td>\n",
       "      <td>0</td>\n",
       "      <td>1</td>\n",
       "    </tr>\n",
       "    <tr>\n",
       "      <th>695255</th>\n",
       "      <td>7683328</td>\n",
       "      <td>12899600</td>\n",
       "      <td>1409732</td>\n",
       "      <td>1661</td>\n",
       "      <td>0</td>\n",
       "      <td>0</td>\n",
       "    </tr>\n",
       "    <tr>\n",
       "      <th>695256</th>\n",
       "      <td>7683327</td>\n",
       "      <td>12899600</td>\n",
       "      <td>1022807</td>\n",
       "      <td>1661</td>\n",
       "      <td>0</td>\n",
       "      <td>1</td>\n",
       "    </tr>\n",
       "    <tr>\n",
       "      <th>695257</th>\n",
       "      <td>7683347</td>\n",
       "      <td>12899610</td>\n",
       "      <td>527101</td>\n",
       "      <td>1661</td>\n",
       "      <td>0</td>\n",
       "      <td>0</td>\n",
       "    </tr>\n",
       "    <tr>\n",
       "      <th>695258</th>\n",
       "      <td>7683346</td>\n",
       "      <td>12899610</td>\n",
       "      <td>1406630</td>\n",
       "      <td>1661</td>\n",
       "      <td>0</td>\n",
       "      <td>1</td>\n",
       "    </tr>\n",
       "  </tbody>\n",
       "</table>\n",
       "<p>695259 rows × 6 columns</p>\n",
       "</div>"
      ],
      "text/plain": [
       "       Unnamed: 0   session      aid    ts  type  n\n",
       "0               7  11098530   409236  1661     1  0\n",
       "1               6  11098530   409236  1661     0  1\n",
       "2               5  11098530   409236  1661     0  2\n",
       "3               4  11098530   409236  1661     0  3\n",
       "4               3  11098530   264500  1661     0  4\n",
       "...           ...       ...      ...   ...   ... ..\n",
       "695254    7683296  12899580  1604220  1661     0  1\n",
       "695255    7683328  12899600  1409732  1661     0  0\n",
       "695256    7683327  12899600  1022807  1661     0  1\n",
       "695257    7683347  12899610   527101  1661     0  0\n",
       "695258    7683346  12899610  1406630  1661     0  1\n",
       "\n",
       "[695259 rows x 6 columns]"
      ]
     },
     "execution_count": 61,
     "metadata": {},
     "output_type": "execute_result"
    }
   ],
   "source": [
    "valid"
   ]
  },
  {
   "cell_type": "code",
   "execution_count": 62,
   "id": "51deb7b5",
   "metadata": {},
   "outputs": [
    {
     "name": "stdout",
     "output_type": "stream",
     "text": [
      "0.0\n"
     ]
    },
    {
     "data": {
      "text/html": [
       "<div>\n",
       "<style scoped>\n",
       "    .dataframe tbody tr th:only-of-type {\n",
       "        vertical-align: middle;\n",
       "    }\n",
       "\n",
       "    .dataframe tbody tr th {\n",
       "        vertical-align: top;\n",
       "    }\n",
       "\n",
       "    .dataframe thead th {\n",
       "        text-align: right;\n",
       "    }\n",
       "</style>\n",
       "<table border=\"1\" class=\"dataframe\">\n",
       "  <thead>\n",
       "    <tr style=\"text-align: right;\">\n",
       "      <th></th>\n",
       "      <th>Unnamed: 0</th>\n",
       "      <th>session</th>\n",
       "      <th>aid</th>\n",
       "      <th>ts</th>\n",
       "      <th>type</th>\n",
       "      <th>n</th>\n",
       "      <th>ts_diff</th>\n",
       "      <th>subses</th>\n",
       "    </tr>\n",
       "  </thead>\n",
       "  <tbody>\n",
       "    <tr>\n",
       "      <th>0</th>\n",
       "      <td>7</td>\n",
       "      <td>11098530</td>\n",
       "      <td>409236</td>\n",
       "      <td>1661</td>\n",
       "      <td>1</td>\n",
       "      <td>0</td>\n",
       "      <td>0</td>\n",
       "      <td>0</td>\n",
       "    </tr>\n",
       "    <tr>\n",
       "      <th>1</th>\n",
       "      <td>6</td>\n",
       "      <td>11098530</td>\n",
       "      <td>409236</td>\n",
       "      <td>1661</td>\n",
       "      <td>0</td>\n",
       "      <td>1</td>\n",
       "      <td>0</td>\n",
       "      <td>0</td>\n",
       "    </tr>\n",
       "  </tbody>\n",
       "</table>\n",
       "</div>"
      ],
      "text/plain": [
       "  Unnamed: 0   session     aid    ts  type  n  ts_diff  subses\n",
       "0          7  11098530  409236  1661     1  0        0       0\n",
       "1          6  11098530  409236  1661     0  1        0       0"
      ]
     },
     "execution_count": 62,
     "metadata": {},
     "output_type": "execute_result"
    }
   ],
   "source": [
    "test[f'ts_diff'] = test.groupby('session')['ts'].shift(1).fillna(0).astype('int32')\n",
    "test[f'ts_diff'] = (test[f'ts'] - test[f'ts_diff'])\n",
    "test[f'ts_diff'] = test[f'ts_diff'].clip(0, 24*60*60)\n",
    "test.loc[test.ts_diff<2*60*60 , f'ts_diff'] = 0\n",
    "test.loc[test.ts_diff>=2*60*60 , f'ts_diff'] = 1\n",
    "gc.collect()\n",
    "test[f'subses'] = test.groupby('session')['ts_diff'].cumsum()\n",
    "test[f'subses'] = (test[f'session']*128 + test[f'subses']).factorize()[0]\n",
    "print(test[f'ts_diff'].mean())\n",
    "test.head(2)\n"
   ]
  },
  {
   "cell_type": "code",
   "execution_count": 63,
   "id": "c2472ccf",
   "metadata": {},
   "outputs": [],
   "source": [
    " \n",
    "\n",
    "#def freemem(df):\n",
    "    #for col in df.columns:\n",
    "        #if df[col].dtype == 'int64':\n",
    "            #df[col] = df[col].astype('int32')\n",
    "        #elif df[col].dtype == 'float64':\n",
    "            #df[col] = df[col].astype('float32')\n",
    "    #gc.collect()\n",
    "    #return\n",
    "\n",
    "#device = 'cuda'\n",
    "#USE_GPU = torch.cuda.is_available()\n",
    "#print('Is GPU available?', USE_GPU)"
   ]
  },
  {
   "cell_type": "code",
   "execution_count": 64,
   "id": "55e63146",
   "metadata": {},
   "outputs": [],
   "source": [
    "#for lag in range(11):\n",
    "    #test[f'lag{lag}'] = test.groupby('subses')['aid'].shift(lag).fillna(-1).astype('int32')\n",
    "    #gc.collect()\n",
    "    \n",
    "#del test['aid']\n",
    "#gc.collect()\n",
    "#freemem(test); gc.collect()\n",
    "\n",
    "#test.head(6)"
   ]
  },
  {
   "cell_type": "code",
   "execution_count": 65,
   "id": "6f1d0707",
   "metadata": {},
   "outputs": [],
   "source": [
    "#print(test.shape)\n",
    "#del test['ts_diff']; gc.collect()\n",
    "\n",
    "#test = test.loc[(test['type'] == 0) & (test['lag1'] >= 0)].reset_index(drop=True)\n",
    "#del test['type']\n",
    "#gc.collect()\n",
    "\n",
    "#print(test.shape)\n",
    "#test.head(6)"
   ]
  },
  {
   "cell_type": "code",
   "execution_count": 66,
   "id": "772da29d",
   "metadata": {},
   "outputs": [],
   "source": [
    "#test['hour'] = ((test['ts']-test['ts'].min()) // (8*60*60)).astype('int8') \n",
    "#del test['ts'], test['subses']\n",
    "#gc.collect()\n",
    "#test.tail(2)"
   ]
  },
  {
   "cell_type": "code",
   "execution_count": 67,
   "id": "be1b940a",
   "metadata": {},
   "outputs": [],
   "source": [
    "#test['hour'].max()\n"
   ]
  },
  {
   "cell_type": "code",
   "execution_count": null,
   "id": "6573a446",
   "metadata": {},
   "outputs": [],
   "source": [
    "test[f'ts_diff'] = test.groupby('session')['ts'].shift(1).fillna(0).astype('int32')\n",
    "test[f'ts_diff'] = (test[f'ts'] - test[f'ts_diff'])\n",
    "test[f'ts_diff'] = test[f'ts_diff'].clip(0, 24*60*60)\n",
    "test.loc[test.ts_diff<2*60*60 , f'ts_diff'] = 0\n",
    "test.loc[test.ts_diff>=2*60*60 , f'ts_diff'] = 1\n",
    "gc.collect()\n",
    "test[f'subses'] = test.groupby('session')['ts_diff'].cumsum()\n",
    "test[f'subses'] = (test[f'session']*128 + test[f'subses']).factorize()[0]\n",
    "print(test[f'ts_diff'].mean())\n",
    "test.head(2)"
   ]
  },
  {
   "cell_type": "code",
   "execution_count": 71,
   "id": "af4b17f1",
   "metadata": {},
   "outputs": [
    {
     "data": {
      "text/plain": [
       "0         1661\n",
       "1            0\n",
       "2            0\n",
       "3            0\n",
       "4            0\n",
       "          ... \n",
       "695254       0\n",
       "695255    1661\n",
       "695256       0\n",
       "695257    1661\n",
       "695258       0\n",
       "Name: ts_diff, Length: 695259, dtype: int64"
      ]
     },
     "execution_count": 71,
     "metadata": {},
     "output_type": "execute_result"
    }
   ],
   "source": [
    "test[f'ts_diff'] = test.groupby('session')['ts'].shift(1).fillna(0).astype('int32')\n",
    "test[f'ts_diff'] = (test[f'ts'] - test[f'ts_diff'])\n",
    "test[f'ts_diff'] = test[f'ts_diff'].clip(0, 24*60*60)\n",
    "test[f'ts_diff']\n"
   ]
  },
  {
   "cell_type": "code",
   "execution_count": 72,
   "id": "87df5450",
   "metadata": {},
   "outputs": [
    {
     "data": {
      "text/plain": [
       "0"
      ]
     },
     "execution_count": 72,
     "metadata": {},
     "output_type": "execute_result"
    }
   ],
   "source": [
    "r = test.loc[test.ts_diff<2*60*60 , f'ts_diff'] = 0\n",
    "r"
   ]
  },
  {
   "cell_type": "code",
   "execution_count": 73,
   "id": "c9dadadf",
   "metadata": {},
   "outputs": [
    {
     "data": {
      "text/plain": [
       "0"
      ]
     },
     "execution_count": 73,
     "metadata": {},
     "output_type": "execute_result"
    }
   ],
   "source": [
    " test.loc[test.ts_diff>=2*60*60 , f'ts_diff'] = 1\n",
    "gc.collect()"
   ]
  },
  {
   "cell_type": "code",
   "execution_count": 75,
   "id": "1aa65803",
   "metadata": {},
   "outputs": [
    {
     "data": {
      "text/plain": [
       "array([0], dtype=int64)"
      ]
     },
     "execution_count": 75,
     "metadata": {},
     "output_type": "execute_result"
    }
   ],
   "source": [
    "test[f'subses'] = test.groupby('session')['ts_diff'].cumsum()\n",
    "test[f'subses'].unique()"
   ]
  },
  {
   "cell_type": "code",
   "execution_count": 76,
   "id": "2a669605",
   "metadata": {},
   "outputs": [
    {
     "name": "stdout",
     "output_type": "stream",
     "text": [
      "0.0\n"
     ]
    },
    {
     "data": {
      "text/html": [
       "<div>\n",
       "<style scoped>\n",
       "    .dataframe tbody tr th:only-of-type {\n",
       "        vertical-align: middle;\n",
       "    }\n",
       "\n",
       "    .dataframe tbody tr th {\n",
       "        vertical-align: top;\n",
       "    }\n",
       "\n",
       "    .dataframe thead th {\n",
       "        text-align: right;\n",
       "    }\n",
       "</style>\n",
       "<table border=\"1\" class=\"dataframe\">\n",
       "  <thead>\n",
       "    <tr style=\"text-align: right;\">\n",
       "      <th></th>\n",
       "      <th>Unnamed: 0</th>\n",
       "      <th>session</th>\n",
       "      <th>aid</th>\n",
       "      <th>ts</th>\n",
       "      <th>type</th>\n",
       "      <th>n</th>\n",
       "      <th>ts_diff</th>\n",
       "      <th>subses</th>\n",
       "    </tr>\n",
       "  </thead>\n",
       "  <tbody>\n",
       "    <tr>\n",
       "      <th>0</th>\n",
       "      <td>7</td>\n",
       "      <td>11098530</td>\n",
       "      <td>409236</td>\n",
       "      <td>1661</td>\n",
       "      <td>1</td>\n",
       "      <td>0</td>\n",
       "      <td>0</td>\n",
       "      <td>0</td>\n",
       "    </tr>\n",
       "    <tr>\n",
       "      <th>1</th>\n",
       "      <td>6</td>\n",
       "      <td>11098530</td>\n",
       "      <td>409236</td>\n",
       "      <td>1661</td>\n",
       "      <td>0</td>\n",
       "      <td>1</td>\n",
       "      <td>0</td>\n",
       "      <td>0</td>\n",
       "    </tr>\n",
       "  </tbody>\n",
       "</table>\n",
       "</div>"
      ],
      "text/plain": [
       "  Unnamed: 0   session     aid    ts  type  n  ts_diff  subses\n",
       "0          7  11098530  409236  1661     1  0        0       0\n",
       "1          6  11098530  409236  1661     0  1        0       0"
      ]
     },
     "execution_count": 76,
     "metadata": {},
     "output_type": "execute_result"
    }
   ],
   "source": [
    "test[f'subses'] = (test[f'session']*128 + test[f'subses']).factorize()[0]\n",
    "print(test[f'ts_diff'].mean())\n",
    "test.head(2)"
   ]
  },
  {
   "cell_type": "code",
   "execution_count": null,
   "id": "ea2ef7ef",
   "metadata": {},
   "outputs": [],
   "source": []
  }
 ],
 "metadata": {
  "kernelspec": {
   "display_name": "Python 3 (ipykernel)",
   "language": "python",
   "name": "python3"
  },
  "language_info": {
   "codemirror_mode": {
    "name": "ipython",
    "version": 3
   },
   "file_extension": ".py",
   "mimetype": "text/x-python",
   "name": "python",
   "nbconvert_exporter": "python",
   "pygments_lexer": "ipython3",
   "version": "3.9.7"
  }
 },
 "nbformat": 4,
 "nbformat_minor": 5
}
