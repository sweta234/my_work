{
 "cells": [
  {
   "cell_type": "code",
   "execution_count": 2,
   "id": "e300781d",
   "metadata": {},
   "outputs": [
    {
     "name": "stdout",
     "output_type": "stream",
     "text": [
      "1 ['hindi', 'physics']\n"
     ]
    }
   ],
   "source": [
    "# Creating Our First Class In Python\n",
    "\n",
    "class Student:\n",
    "    pass\n",
    "\n",
    "harry = Student()\n",
    "larry = Student()\n",
    "\n",
    "harry.name = \"Harry\"\n",
    "harry.std = 12\n",
    "harry.section = 1\n",
    "larry.std = 9\n",
    "larry.subjects = [\"hindi\", \"physics\"]\n",
    "print(harry.section, larry.subjects)"
   ]
  },
  {
   "cell_type": "code",
   "execution_count": 3,
   "id": "42d3e3d9",
   "metadata": {},
   "outputs": [
    {
     "name": "stdout",
     "output_type": "stream",
     "text": [
      "8\n",
      "{'__module__': '__main__', 'no_of_leaves': 8, '__dict__': <attribute '__dict__' of 'Employee' objects>, '__weakref__': <attribute '__weakref__' of 'Employee' objects>, '__doc__': None}\n",
      "{'__module__': '__main__', 'no_of_leaves': 9, '__dict__': <attribute '__dict__' of 'Employee' objects>, '__weakref__': <attribute '__weakref__' of 'Employee' objects>, '__doc__': None}\n",
      "9\n"
     ]
    }
   ],
   "source": [
    "# Instance & Class Variables | Python Tutorials For Absolute Beginners In Hindi #54\n",
    "class Employee:\n",
    "    no_of_leaves = 8\n",
    "    pass\n",
    "\n",
    "harry = Employee()\n",
    "rohan = Employee()\n",
    "\n",
    "harry.name = \"Harry\"\n",
    "harry.salary = 455\n",
    "harry.role = \"Instructor\"\n",
    "\n",
    "rohan.name = \"Rohan\"\n",
    "rohan.salary = 4554\n",
    "rohan.role = \"Student\"\n",
    "\n",
    "print(Employee.no_of_leaves)\n",
    "print(Employee.__dict__)\n",
    "Employee.no_of_leaves = 9\n",
    "print(Employee.__dict__)\n",
    "print(Employee.no_of_leaves)\n",
    "\n"
   ]
  },
  {
   "cell_type": "code",
   "execution_count": 4,
   "id": "00f16a8a",
   "metadata": {},
   "outputs": [
    {
     "name": "stdout",
     "output_type": "stream",
     "text": [
      "255\n"
     ]
    }
   ],
   "source": [
    "# Self & __init__() (Constructors) | Python Tutorials For Absolute Beginners In Hindi #55\n",
    "\n",
    "class Employee:\n",
    "    no_of_leaves = 8\n",
    "\n",
    "    def __init__(self, aname, asalary, arole):\n",
    "        self.name = aname\n",
    "        self.salary = asalary\n",
    "        self.role = arole\n",
    "\n",
    "    def printdetails(self):\n",
    "        return f\"The Name is {self.name}. Salary is {self.salary} and role is {self.role}\"\n",
    "\n",
    "\n",
    "harry = Employee(\"Harry\", 255, \"Instructor\")\n",
    "\n",
    "# rohan = Employee()\n",
    "# harry.name = \"Harry\"\n",
    "# harry.salary = 455\n",
    "# harry.role = \"Instructor\"\n",
    "#\n",
    "# rohan.name = \"Rohan\"\n",
    "# rohan.salary = 4554\n",
    "# rohan.role = \"Student\"\n",
    "\n",
    "print(harry.salary)\n",
    "\n"
   ]
  },
  {
   "cell_type": "code",
   "execution_count": null,
   "id": "038113c8",
   "metadata": {},
   "outputs": [],
   "source": [
    "# Class Methods In Python | Python Tutorials For Absolute Beginners In Hindi #56\n"
   ]
  },
  {
   "cell_type": "code",
   "execution_count": 5,
   "id": "71d66d6a",
   "metadata": {},
   "outputs": [
    {
     "name": "stdout",
     "output_type": "stream",
     "text": [
      "8\n"
     ]
    }
   ],
   "source": [
    "# Class Methods As Alternative Constructors | Python Tutorials For Absolute Beginners In Hindi #57\n",
    "\n",
    "class Employee:\n",
    "    no_of_leaves = 8\n",
    "\n",
    "    def __init__(self, aname, asalary, arole):\n",
    "        self.name = aname\n",
    "        self.salary = asalary\n",
    "        self.role = arole\n",
    "\n",
    "    def printdetails(self):\n",
    "        return f\"The Name is {self.name}. Salary is {self.salary} and role is {self.role}\"\n",
    "\n",
    "    @classmethod\n",
    "    def change_leaves(cls, newleaves):\n",
    "        cls.no_of_leaves = newleaves\n",
    "\n",
    "    @classmethod\n",
    "    def from_dash(cls, string):\n",
    "        # params = string.split(\"-\")\n",
    "        # print(params)\n",
    "        # return cls(params[0], params[1], params[2])\n",
    "        return cls(*string.split(\"-\"))\n",
    "\n",
    "\n",
    "harry = Employee(\"Harry\", 255, \"Instructor\")\n",
    "rohan = Employee(\"Rohan\", 455, \"Student\")\n",
    "karan = Employee.from_dash(\"Karan-480-Student\")\n",
    "\n",
    "print(karan.no_of_leaves)\n",
    "# rohan.change_leaves(34)\n",
    "#\n",
    "# print(harry.no_of_leaves)\n",
    "\n"
   ]
  },
  {
   "cell_type": "code",
   "execution_count": 6,
   "id": "d34f5d7b",
   "metadata": {},
   "outputs": [
    {
     "name": "stdout",
     "output_type": "stream",
     "text": [
      "This is good Rohan\n"
     ]
    }
   ],
   "source": [
    "# Static Methods In Python | Python Tutorials For Absolute Beginners In Hindi #58\n",
    "\n",
    "class Employee:\n",
    "    no_of_leaves = 8\n",
    "\n",
    "    def __init__(self, aname, asalary, arole):\n",
    "        self.name = aname\n",
    "        self.salary = asalary\n",
    "        self.role = arole\n",
    "\n",
    "    def printdetails(self):\n",
    "        return f\"The Name is {self.name}. Salary is {self.salary} and role is {self.role}\"\n",
    "\n",
    "    @classmethod\n",
    "    def change_leaves(cls, newleaves):\n",
    "        cls.no_of_leaves = newleaves\n",
    "\n",
    "    @classmethod\n",
    "    def from_dash(cls, string):\n",
    "        return cls(*string.split(\"-\"))\n",
    "\n",
    "    @staticmethod\n",
    "    def printgood(string):\n",
    "        print(\"This is good \" + string)\n",
    "\n",
    "harry = Employee(\"Harry\", 255, \"Instructor\")\n",
    "rohan = Employee(\"Rohan\", 455, \"Student\")\n",
    "karan = Employee.from_dash(\"Karan-480-Student\")\n",
    "\n",
    "Employee.printgood(\"Rohan\")\n",
    "\n",
    "\n"
   ]
  },
  {
   "cell_type": "code",
   "execution_count": 7,
   "id": "320c97fd",
   "metadata": {},
   "outputs": [
    {
     "name": "stdout",
     "output_type": "stream",
     "text": [
      "This is good Rohan\n"
     ]
    }
   ],
   "source": [
    "# Abstraction & Encapsulation | Python Tutorials For Absolute Beginners In Hindi #59\n",
    "\n",
    "class Employee:\n",
    "    no_of_leaves = 8\n",
    "\n",
    "    def __init__(self, aname, asalary, arole):\n",
    "        self.name = aname\n",
    "        self.salary = asalary\n",
    "        self.role = arole\n",
    "\n",
    "    def printdetails(self):\n",
    "        return f\"The Name is {self.name}. Salary is {self.salary} and role is {self.role}\"\n",
    "\n",
    "    @classmethod\n",
    "    def change_leaves(cls, newleaves):\n",
    "        cls.no_of_leaves = newleaves\n",
    "\n",
    "    @classmethod\n",
    "    def from_dash(cls, string):\n",
    "        return cls(*string.split(\"-\"))\n",
    "\n",
    "    @staticmethod\n",
    "    def printgood(string):\n",
    "        print(\"This is good \" + string)\n",
    "\n",
    "harry = Employee(\"Harry\", 255, \"Instructor\")\n",
    "rohan = Employee(\"Rohan\", 455, \"Student\")\n",
    "karan = Employee.from_dash(\"Karan-480-Student\")\n",
    "\n",
    "Employee.printgood(\"Rohan\")\n",
    "\n",
    "\n"
   ]
  },
  {
   "cell_type": "code",
   "execution_count": 8,
   "id": "bdabe894",
   "metadata": {},
   "outputs": [
    {
     "name": "stdout",
     "output_type": "stream",
     "text": [
      "56\n"
     ]
    }
   ],
   "source": [
    "# Single Inheritance | Python Tutorials For Absolute Beginners In Hindi #60\n",
    "\n",
    "class Employee:\n",
    "    no_of_leaves = 8\n",
    "\n",
    "    def __init__(self, aname, asalary, arole):\n",
    "        self.name = aname\n",
    "        self.salary = asalary\n",
    "        self.role = arole\n",
    "\n",
    "    def printdetails(self):\n",
    "        return f\"The Name is {self.name}. Salary is {self.salary} and role is {self.role}\"\n",
    "\n",
    "    @classmethod\n",
    "    def change_leaves(cls, newleaves):\n",
    "        cls.no_of_leaves = newleaves\n",
    "\n",
    "    @classmethod\n",
    "    def from_dash(cls, string):\n",
    "        return cls(*string.split(\"-\"))\n",
    "\n",
    "    @staticmethod\n",
    "    def printgood(string):\n",
    "        print(\"This is good \" + string)\n",
    "\n",
    "\n",
    "class Programmer(Employee):\n",
    "    no_of_holiday = 56\n",
    "    def __init__(self, aname, asalary, arole, languages):\n",
    "        self.name = aname\n",
    "        self.salary = asalary\n",
    "        self.role = arole\n",
    "        self.languages = languages\n",
    "\n",
    "\n",
    "    def printprog(self):\n",
    "        return f\"The Programmer's Name is {self.name}. Salary is {self.salary} and role is {self.role}.The languages are {self.languages}\"\n",
    "\n",
    "\n",
    "\n",
    "harry = Employee(\"Harry\", 255, \"Instructor\")\n",
    "rohan = Employee(\"Rohan\", 455, \"Student\")\n",
    "\n",
    "shubham = Programmer(\"Shubham\", 555, \"Programmer\", [\"python\"])\n",
    "karan = Programmer(\"Karan\", 777, \"Programmer\", [\"python\", \"Cpp\"])\n",
    "print(karan.no_of_holiday)\n",
    "\n"
   ]
  },
  {
   "cell_type": "code",
   "execution_count": 9,
   "id": "1de2c727",
   "metadata": {},
   "outputs": [
    {
     "name": "stdout",
     "output_type": "stream",
     "text": [
      "9\n"
     ]
    }
   ],
   "source": [
    "\n",
    "class Employee:\n",
    "    no_of_leaves = 8\n",
    "    var = 8\n",
    "\n",
    "    def __init__(self, aname, asalary, arole):\n",
    "        self.name = aname\n",
    "        self.salary = asalary\n",
    "        self.role = arole\n",
    "\n",
    "    def printdetails(self):\n",
    "        return f\"The Name is {self.name}. Salary is {self.salary} and role is {self.role}\"\n",
    "\n",
    "    @classmethod\n",
    "    def change_leaves(cls, newleaves):\n",
    "        cls.no_of_leaves = newleaves\n",
    "\n",
    "    @classmethod\n",
    "    def from_dash(cls, string):\n",
    "        return cls(*string.split(\"-\"))\n",
    "\n",
    "    @staticmethod\n",
    "    def printgood(string):\n",
    "        print(\"This is good \" + string)\n",
    "\n",
    "class Player:\n",
    "    var = 9\n",
    "    no_of_games = 4\n",
    "    def __init__(self, name, game):\n",
    "        self.name = name\n",
    "        self.game =game\n",
    "\n",
    "    def printdetails(self):\n",
    "        return f\"The Name is {self.name}. Game is {self.game}\"\n",
    "\n",
    "class CoolProgramer(Player, Employee):\n",
    "\n",
    "    language = \"C++\"\n",
    "    def printlanguage(self):\n",
    "        print(self.language)\n",
    "\n",
    "harry = Employee(\"Harry\", 255, \"Instructor\")\n",
    "rohan = Employee(\"Rohan\", 455, \"Student\")\n",
    "\n",
    "shubham = Player(\"Shubham\", [\"Cricket\"])\n",
    "karan = CoolProgramer(\"Karan\",[\"Cricket\"])\n",
    "# det = karan.printdetails()\n",
    "# karan.printlanguage()\n",
    "# print(det)\n",
    "print(karan.var)\n",
    "\n"
   ]
  },
  {
   "cell_type": "code",
   "execution_count": null,
   "id": "2dd4db71",
   "metadata": {},
   "outputs": [],
   "source": []
  }
 ],
 "metadata": {
  "kernelspec": {
   "display_name": "Python 3 (ipykernel)",
   "language": "python",
   "name": "python3"
  },
  "language_info": {
   "codemirror_mode": {
    "name": "ipython",
    "version": 3
   },
   "file_extension": ".py",
   "mimetype": "text/x-python",
   "name": "python",
   "nbconvert_exporter": "python",
   "pygments_lexer": "ipython3",
   "version": "3.9.7"
  }
 },
 "nbformat": 4,
 "nbformat_minor": 5
}
