{
 "cells": [
  {
   "cell_type": "code",
   "execution_count": 3,
   "id": "0791e880",
   "metadata": {},
   "outputs": [],
   "source": [
    "import numpy as np\n",
    "import pandas as pd\n",
    "import matplotlib.pyplot as plt\n",
    "import seaborn as sns"
   ]
  },
  {
   "cell_type": "code",
   "execution_count": 4,
   "id": "41819f04",
   "metadata": {},
   "outputs": [],
   "source": [
    "df = pd.read_excel('First_Bet_Data.xlsx', header = 1)"
   ]
  },
  {
   "cell_type": "code",
   "execution_count": 5,
   "id": "c3b8344e",
   "metadata": {},
   "outputs": [
    {
     "data": {
      "text/html": [
       "<div>\n",
       "<style scoped>\n",
       "    .dataframe tbody tr th:only-of-type {\n",
       "        vertical-align: middle;\n",
       "    }\n",
       "\n",
       "    .dataframe tbody tr th {\n",
       "        vertical-align: top;\n",
       "    }\n",
       "\n",
       "    .dataframe thead th {\n",
       "        text-align: right;\n",
       "    }\n",
       "</style>\n",
       "<table border=\"1\" class=\"dataframe\">\n",
       "  <thead>\n",
       "    <tr style=\"text-align: right;\">\n",
       "      <th></th>\n",
       "      <th>Unnamed: 0</th>\n",
       "      <th>Src_Player_Id</th>\n",
       "      <th>System_First_Bet_Datetime</th>\n",
       "      <th>System_First_BetSlip_Amt</th>\n",
       "      <th>System_First_Bet_Product_Group</th>\n",
       "      <th>System_First_Bet_Product</th>\n",
       "      <th>System_First_Bet_Channel</th>\n",
       "      <th>System_First_Bet_Platform</th>\n",
       "    </tr>\n",
       "  </thead>\n",
       "  <tbody>\n",
       "    <tr>\n",
       "      <th>0</th>\n",
       "      <td>NaN</td>\n",
       "      <td>15643431</td>\n",
       "      <td>2020-10-09 03:57:29.000</td>\n",
       "      <td>2.5</td>\n",
       "      <td>eGaming</td>\n",
       "      <td>Non Table Games</td>\n",
       "      <td>Online</td>\n",
       "      <td>Mobile</td>\n",
       "    </tr>\n",
       "    <tr>\n",
       "      <th>1</th>\n",
       "      <td>NaN</td>\n",
       "      <td>13593034</td>\n",
       "      <td>2019-09-27 15:03:58.244</td>\n",
       "      <td>10.0</td>\n",
       "      <td>Sports</td>\n",
       "      <td>Prematch</td>\n",
       "      <td>Online</td>\n",
       "      <td>Mobile</td>\n",
       "    </tr>\n",
       "    <tr>\n",
       "      <th>2</th>\n",
       "      <td>NaN</td>\n",
       "      <td>15894194</td>\n",
       "      <td>2021-02-28 02:22:07.000</td>\n",
       "      <td>2.0</td>\n",
       "      <td>eGaming</td>\n",
       "      <td>Non Table Games</td>\n",
       "      <td>Online</td>\n",
       "      <td>Web</td>\n",
       "    </tr>\n",
       "    <tr>\n",
       "      <th>3</th>\n",
       "      <td>NaN</td>\n",
       "      <td>13238000</td>\n",
       "      <td>2019-07-08 10:39:45.000</td>\n",
       "      <td>0.4</td>\n",
       "      <td>eGaming</td>\n",
       "      <td>Non Table Games</td>\n",
       "      <td>Online</td>\n",
       "      <td>Mobile</td>\n",
       "    </tr>\n",
       "    <tr>\n",
       "      <th>4</th>\n",
       "      <td>NaN</td>\n",
       "      <td>12866848</td>\n",
       "      <td>2019-04-27 14:20:27.000</td>\n",
       "      <td>0.4</td>\n",
       "      <td>eGaming</td>\n",
       "      <td>Non Table Games</td>\n",
       "      <td>Online</td>\n",
       "      <td>Mobile</td>\n",
       "    </tr>\n",
       "    <tr>\n",
       "      <th>...</th>\n",
       "      <td>...</td>\n",
       "      <td>...</td>\n",
       "      <td>...</td>\n",
       "      <td>...</td>\n",
       "      <td>...</td>\n",
       "      <td>...</td>\n",
       "      <td>...</td>\n",
       "      <td>...</td>\n",
       "    </tr>\n",
       "    <tr>\n",
       "      <th>292780</th>\n",
       "      <td>NaN</td>\n",
       "      <td>18703784</td>\n",
       "      <td>NaT</td>\n",
       "      <td>NaN</td>\n",
       "      <td>NaN</td>\n",
       "      <td>NaN</td>\n",
       "      <td>NaN</td>\n",
       "      <td>NaN</td>\n",
       "    </tr>\n",
       "    <tr>\n",
       "      <th>292781</th>\n",
       "      <td>NaN</td>\n",
       "      <td>12340331</td>\n",
       "      <td>2020-05-19 07:44:29.000</td>\n",
       "      <td>0.8</td>\n",
       "      <td>eGaming</td>\n",
       "      <td>Non Table Games</td>\n",
       "      <td>Online</td>\n",
       "      <td>Web</td>\n",
       "    </tr>\n",
       "    <tr>\n",
       "      <th>292782</th>\n",
       "      <td>NaN</td>\n",
       "      <td>12343435</td>\n",
       "      <td>2019-01-04 14:08:42.000</td>\n",
       "      <td>1.0</td>\n",
       "      <td>eGaming</td>\n",
       "      <td>Non Table Games</td>\n",
       "      <td>Online</td>\n",
       "      <td>Mobile</td>\n",
       "    </tr>\n",
       "    <tr>\n",
       "      <th>292783</th>\n",
       "      <td>NaN</td>\n",
       "      <td>12358643</td>\n",
       "      <td>2019-01-08 12:22:11.442</td>\n",
       "      <td>1.0</td>\n",
       "      <td>Sports</td>\n",
       "      <td>Prematch</td>\n",
       "      <td>Online</td>\n",
       "      <td>Mobile</td>\n",
       "    </tr>\n",
       "    <tr>\n",
       "      <th>292784</th>\n",
       "      <td>NaN</td>\n",
       "      <td>12360437</td>\n",
       "      <td>NaT</td>\n",
       "      <td>NaN</td>\n",
       "      <td>NaN</td>\n",
       "      <td>NaN</td>\n",
       "      <td>NaN</td>\n",
       "      <td>NaN</td>\n",
       "    </tr>\n",
       "  </tbody>\n",
       "</table>\n",
       "<p>292785 rows × 8 columns</p>\n",
       "</div>"
      ],
      "text/plain": [
       "        Unnamed: 0  Src_Player_Id System_First_Bet_Datetime  \\\n",
       "0              NaN       15643431   2020-10-09 03:57:29.000   \n",
       "1              NaN       13593034   2019-09-27 15:03:58.244   \n",
       "2              NaN       15894194   2021-02-28 02:22:07.000   \n",
       "3              NaN       13238000   2019-07-08 10:39:45.000   \n",
       "4              NaN       12866848   2019-04-27 14:20:27.000   \n",
       "...            ...            ...                       ...   \n",
       "292780         NaN       18703784                       NaT   \n",
       "292781         NaN       12340331   2020-05-19 07:44:29.000   \n",
       "292782         NaN       12343435   2019-01-04 14:08:42.000   \n",
       "292783         NaN       12358643   2019-01-08 12:22:11.442   \n",
       "292784         NaN       12360437                       NaT   \n",
       "\n",
       "        System_First_BetSlip_Amt System_First_Bet_Product_Group  \\\n",
       "0                            2.5                        eGaming   \n",
       "1                           10.0                         Sports   \n",
       "2                            2.0                        eGaming   \n",
       "3                            0.4                        eGaming   \n",
       "4                            0.4                        eGaming   \n",
       "...                          ...                            ...   \n",
       "292780                       NaN                            NaN   \n",
       "292781                       0.8                        eGaming   \n",
       "292782                       1.0                        eGaming   \n",
       "292783                       1.0                         Sports   \n",
       "292784                       NaN                            NaN   \n",
       "\n",
       "       System_First_Bet_Product System_First_Bet_Channel  \\\n",
       "0               Non Table Games                   Online   \n",
       "1                      Prematch                   Online   \n",
       "2               Non Table Games                   Online   \n",
       "3               Non Table Games                   Online   \n",
       "4               Non Table Games                   Online   \n",
       "...                         ...                      ...   \n",
       "292780                      NaN                      NaN   \n",
       "292781          Non Table Games                   Online   \n",
       "292782          Non Table Games                   Online   \n",
       "292783                 Prematch                   Online   \n",
       "292784                      NaN                      NaN   \n",
       "\n",
       "       System_First_Bet_Platform  \n",
       "0                         Mobile  \n",
       "1                         Mobile  \n",
       "2                            Web  \n",
       "3                         Mobile  \n",
       "4                         Mobile  \n",
       "...                          ...  \n",
       "292780                       NaN  \n",
       "292781                       Web  \n",
       "292782                    Mobile  \n",
       "292783                    Mobile  \n",
       "292784                       NaN  \n",
       "\n",
       "[292785 rows x 8 columns]"
      ]
     },
     "execution_count": 5,
     "metadata": {},
     "output_type": "execute_result"
    }
   ],
   "source": [
    "df"
   ]
  },
  {
   "cell_type": "code",
   "execution_count": 6,
   "id": "c205d235",
   "metadata": {},
   "outputs": [
    {
     "data": {
      "text/plain": [
       "Unnamed: 0                        292785\n",
       "Src_Player_Id                          0\n",
       "System_First_Bet_Datetime         133619\n",
       "System_First_BetSlip_Amt          133619\n",
       "System_First_Bet_Product_Group    133619\n",
       "System_First_Bet_Product          133619\n",
       "System_First_Bet_Channel          133619\n",
       "System_First_Bet_Platform         133619\n",
       "dtype: int64"
      ]
     },
     "execution_count": 6,
     "metadata": {},
     "output_type": "execute_result"
    }
   ],
   "source": [
    "df.isnull().sum()"
   ]
  },
  {
   "cell_type": "code",
   "execution_count": 7,
   "id": "fb29238d",
   "metadata": {},
   "outputs": [],
   "source": [
    "df.drop('Unnamed: 0', axis = 1 , inplace = True)"
   ]
  },
  {
   "cell_type": "code",
   "execution_count": 8,
   "id": "64553329",
   "metadata": {},
   "outputs": [
    {
     "data": {
      "text/plain": [
       "eGaming    94593\n",
       "Sports     61351\n",
       "Lotto       1742\n",
       "Lottery     1113\n",
       "IVG          367\n",
       "Name: System_First_Bet_Product_Group, dtype: int64"
      ]
     },
     "execution_count": 8,
     "metadata": {},
     "output_type": "execute_result"
    }
   ],
   "source": [
    "df['System_First_Bet_Product_Group'].value_counts()"
   ]
  },
  {
   "cell_type": "code",
   "execution_count": 9,
   "id": "c4464c47",
   "metadata": {},
   "outputs": [
    {
     "data": {
      "text/plain": [
       "Non Table Games    91147\n",
       "Prematch           44898\n",
       "Live               16453\n",
       "Table Games         3446\n",
       "Lotto               1742\n",
       "Lucky Six           1017\n",
       "IVG                  367\n",
       "LuckyX                72\n",
       "Next Six              24\n",
       "Name: System_First_Bet_Product, dtype: int64"
      ]
     },
     "execution_count": 9,
     "metadata": {},
     "output_type": "execute_result"
    }
   ],
   "source": [
    "df['System_First_Bet_Product'].value_counts()"
   ]
  },
  {
   "cell_type": "code",
   "execution_count": 10,
   "id": "e905e35a",
   "metadata": {},
   "outputs": [
    {
     "data": {
      "text/plain": [
       "Online    159166\n",
       "Name: System_First_Bet_Channel, dtype: int64"
      ]
     },
     "execution_count": 10,
     "metadata": {},
     "output_type": "execute_result"
    }
   ],
   "source": [
    "df['System_First_Bet_Channel'].value_counts()"
   ]
  },
  {
   "cell_type": "code",
   "execution_count": 11,
   "id": "73cd5d7b",
   "metadata": {},
   "outputs": [
    {
     "data": {
      "text/plain": [
       "Mobile    127948\n",
       "Web        31218\n",
       "Name: System_First_Bet_Platform, dtype: int64"
      ]
     },
     "execution_count": 11,
     "metadata": {},
     "output_type": "execute_result"
    }
   ],
   "source": [
    "df['System_First_Bet_Platform'].value_counts()"
   ]
  },
  {
   "cell_type": "markdown",
   "id": "c669cec1",
   "metadata": {},
   "source": [
    "# we can't fill amount and date columns because it imposible to fill amount and date columns"
   ]
  },
  {
   "cell_type": "code",
   "execution_count": 12,
   "id": "156599e0",
   "metadata": {},
   "outputs": [],
   "source": [
    "# Filling mssing value\n",
    "df['System_First_Bet_Product_Group'].fillna('missing',  inplace = True)\n",
    "df['System_First_Bet_Product'].fillna('missing',  inplace = True)\n",
    "df['System_First_Bet_Channel'].fillna('missing',  inplace = True)\n",
    "df['System_First_Bet_Platform'].fillna('missing',  inplace = True)"
   ]
  },
  {
   "cell_type": "code",
   "execution_count": 13,
   "id": "d3b28b3d",
   "metadata": {},
   "outputs": [
    {
     "data": {
      "text/plain": [
       "Src_Player_Id                          0\n",
       "System_First_Bet_Datetime         133619\n",
       "System_First_BetSlip_Amt          133619\n",
       "System_First_Bet_Product_Group         0\n",
       "System_First_Bet_Product               0\n",
       "System_First_Bet_Channel               0\n",
       "System_First_Bet_Platform              0\n",
       "dtype: int64"
      ]
     },
     "execution_count": 13,
     "metadata": {},
     "output_type": "execute_result"
    }
   ],
   "source": [
    "df.isnull().sum()"
   ]
  },
  {
   "cell_type": "code",
   "execution_count": 14,
   "id": "1df359eb",
   "metadata": {},
   "outputs": [
    {
     "data": {
      "text/plain": [
       "missing    133619\n",
       "eGaming     94593\n",
       "Sports      61351\n",
       "Lotto        1742\n",
       "Lottery      1113\n",
       "IVG           367\n",
       "Name: System_First_Bet_Product_Group, dtype: int64"
      ]
     },
     "execution_count": 14,
     "metadata": {},
     "output_type": "execute_result"
    }
   ],
   "source": [
    "df['System_First_Bet_Product_Group'].value_counts()\n"
   ]
  },
  {
   "cell_type": "code",
   "execution_count": 15,
   "id": "4b4cbbeb",
   "metadata": {},
   "outputs": [
    {
     "data": {
      "text/plain": [
       "<AxesSubplot:xlabel='System_First_Bet_Product_Group', ylabel='System_First_BetSlip_Amt'>"
      ]
     },
     "execution_count": 15,
     "metadata": {},
     "output_type": "execute_result"
    },
    {
     "data": {
      "image/png": "[encoded data removed]",
      "text/plain": [
       "<Figure size 432x288 with 1 Axes>"
      ]
     },
     "metadata": {
      "needs_background": "light"
     },
     "output_type": "display_data"
    }
   ],
   "source": [
    "sns.barplot(x = df['System_First_Bet_Product_Group'] , y = df['System_First_BetSlip_Amt'])"
   ]
  },
  {
   "cell_type": "code",
   "execution_count": 16,
   "id": "ff28af89",
   "metadata": {},
   "outputs": [
    {
     "data": {
      "text/html": [
       "<div>\n",
       "<style scoped>\n",
       "    .dataframe tbody tr th:only-of-type {\n",
       "        vertical-align: middle;\n",
       "    }\n",
       "\n",
       "    .dataframe tbody tr th {\n",
       "        vertical-align: top;\n",
       "    }\n",
       "\n",
       "    .dataframe thead th {\n",
       "        text-align: right;\n",
       "    }\n",
       "</style>\n",
       "<table border=\"1\" class=\"dataframe\">\n",
       "  <thead>\n",
       "    <tr style=\"text-align: right;\">\n",
       "      <th></th>\n",
       "      <th>Src_Player_Id</th>\n",
       "      <th>System_First_Bet_Datetime</th>\n",
       "      <th>System_First_BetSlip_Amt</th>\n",
       "      <th>System_First_Bet_Product_Group</th>\n",
       "      <th>System_First_Bet_Product</th>\n",
       "      <th>System_First_Bet_Channel</th>\n",
       "      <th>System_First_Bet_Platform</th>\n",
       "    </tr>\n",
       "  </thead>\n",
       "  <tbody>\n",
       "    <tr>\n",
       "      <th>0</th>\n",
       "      <td>15643431</td>\n",
       "      <td>2020-10-09 03:57:29.000</td>\n",
       "      <td>2.5</td>\n",
       "      <td>eGaming</td>\n",
       "      <td>Non Table Games</td>\n",
       "      <td>Online</td>\n",
       "      <td>Mobile</td>\n",
       "    </tr>\n",
       "    <tr>\n",
       "      <th>1</th>\n",
       "      <td>13593034</td>\n",
       "      <td>2019-09-27 15:03:58.244</td>\n",
       "      <td>10.0</td>\n",
       "      <td>Sports</td>\n",
       "      <td>Prematch</td>\n",
       "      <td>Online</td>\n",
       "      <td>Mobile</td>\n",
       "    </tr>\n",
       "    <tr>\n",
       "      <th>2</th>\n",
       "      <td>15894194</td>\n",
       "      <td>2021-02-28 02:22:07.000</td>\n",
       "      <td>2.0</td>\n",
       "      <td>eGaming</td>\n",
       "      <td>Non Table Games</td>\n",
       "      <td>Online</td>\n",
       "      <td>Web</td>\n",
       "    </tr>\n",
       "    <tr>\n",
       "      <th>3</th>\n",
       "      <td>13238000</td>\n",
       "      <td>2019-07-08 10:39:45.000</td>\n",
       "      <td>0.4</td>\n",
       "      <td>eGaming</td>\n",
       "      <td>Non Table Games</td>\n",
       "      <td>Online</td>\n",
       "      <td>Mobile</td>\n",
       "    </tr>\n",
       "    <tr>\n",
       "      <th>4</th>\n",
       "      <td>12866848</td>\n",
       "      <td>2019-04-27 14:20:27.000</td>\n",
       "      <td>0.4</td>\n",
       "      <td>eGaming</td>\n",
       "      <td>Non Table Games</td>\n",
       "      <td>Online</td>\n",
       "      <td>Mobile</td>\n",
       "    </tr>\n",
       "    <tr>\n",
       "      <th>...</th>\n",
       "      <td>...</td>\n",
       "      <td>...</td>\n",
       "      <td>...</td>\n",
       "      <td>...</td>\n",
       "      <td>...</td>\n",
       "      <td>...</td>\n",
       "      <td>...</td>\n",
       "    </tr>\n",
       "    <tr>\n",
       "      <th>292780</th>\n",
       "      <td>18703784</td>\n",
       "      <td>NaT</td>\n",
       "      <td>NaN</td>\n",
       "      <td>missing</td>\n",
       "      <td>missing</td>\n",
       "      <td>missing</td>\n",
       "      <td>missing</td>\n",
       "    </tr>\n",
       "    <tr>\n",
       "      <th>292781</th>\n",
       "      <td>12340331</td>\n",
       "      <td>2020-05-19 07:44:29.000</td>\n",
       "      <td>0.8</td>\n",
       "      <td>eGaming</td>\n",
       "      <td>Non Table Games</td>\n",
       "      <td>Online</td>\n",
       "      <td>Web</td>\n",
       "    </tr>\n",
       "    <tr>\n",
       "      <th>292782</th>\n",
       "      <td>12343435</td>\n",
       "      <td>2019-01-04 14:08:42.000</td>\n",
       "      <td>1.0</td>\n",
       "      <td>eGaming</td>\n",
       "      <td>Non Table Games</td>\n",
       "      <td>Online</td>\n",
       "      <td>Mobile</td>\n",
       "    </tr>\n",
       "    <tr>\n",
       "      <th>292783</th>\n",
       "      <td>12358643</td>\n",
       "      <td>2019-01-08 12:22:11.442</td>\n",
       "      <td>1.0</td>\n",
       "      <td>Sports</td>\n",
       "      <td>Prematch</td>\n",
       "      <td>Online</td>\n",
       "      <td>Mobile</td>\n",
       "    </tr>\n",
       "    <tr>\n",
       "      <th>292784</th>\n",
       "      <td>12360437</td>\n",
       "      <td>NaT</td>\n",
       "      <td>NaN</td>\n",
       "      <td>missing</td>\n",
       "      <td>missing</td>\n",
       "      <td>missing</td>\n",
       "      <td>missing</td>\n",
       "    </tr>\n",
       "  </tbody>\n",
       "</table>\n",
       "<p>292785 rows × 7 columns</p>\n",
       "</div>"
      ],
      "text/plain": [
       "        Src_Player_Id System_First_Bet_Datetime  System_First_BetSlip_Amt  \\\n",
       "0            15643431   2020-10-09 03:57:29.000                       2.5   \n",
       "1            13593034   2019-09-27 15:03:58.244                      10.0   \n",
       "2            15894194   2021-02-28 02:22:07.000                       2.0   \n",
       "3            13238000   2019-07-08 10:39:45.000                       0.4   \n",
       "4            12866848   2019-04-27 14:20:27.000                       0.4   \n",
       "...               ...                       ...                       ...   \n",
       "292780       18703784                       NaT                       NaN   \n",
       "292781       12340331   2020-05-19 07:44:29.000                       0.8   \n",
       "292782       12343435   2019-01-04 14:08:42.000                       1.0   \n",
       "292783       12358643   2019-01-08 12:22:11.442                       1.0   \n",
       "292784       12360437                       NaT                       NaN   \n",
       "\n",
       "       System_First_Bet_Product_Group System_First_Bet_Product  \\\n",
       "0                             eGaming          Non Table Games   \n",
       "1                              Sports                 Prematch   \n",
       "2                             eGaming          Non Table Games   \n",
       "3                             eGaming          Non Table Games   \n",
       "4                             eGaming          Non Table Games   \n",
       "...                               ...                      ...   \n",
       "292780                        missing                  missing   \n",
       "292781                        eGaming          Non Table Games   \n",
       "292782                        eGaming          Non Table Games   \n",
       "292783                         Sports                 Prematch   \n",
       "292784                        missing                  missing   \n",
       "\n",
       "       System_First_Bet_Channel System_First_Bet_Platform  \n",
       "0                        Online                    Mobile  \n",
       "1                        Online                    Mobile  \n",
       "2                        Online                       Web  \n",
       "3                        Online                    Mobile  \n",
       "4                        Online                    Mobile  \n",
       "...                         ...                       ...  \n",
       "292780                  missing                   missing  \n",
       "292781                   Online                       Web  \n",
       "292782                   Online                    Mobile  \n",
       "292783                   Online                    Mobile  \n",
       "292784                  missing                   missing  \n",
       "\n",
       "[292785 rows x 7 columns]"
      ]
     },
     "execution_count": 16,
     "metadata": {},
     "output_type": "execute_result"
    }
   ],
   "source": [
    "df"
   ]
  },
  {
   "cell_type": "code",
   "execution_count": 17,
   "id": "e9c02f7e",
   "metadata": {},
   "outputs": [
    {
     "data": {
      "text/plain": [
       "<AxesSubplot:xlabel='System_First_BetSlip_Amt', ylabel='System_First_Bet_Product'>"
      ]
     },
     "execution_count": 17,
     "metadata": {},
     "output_type": "execute_result"
    },
    {
     "data": {
      "image/png": "[encoded data removed]",
      "text/plain": [
       "<Figure size 1440x720 with 1 Axes>"
      ]
     },
     "metadata": {
      "needs_background": "light"
     },
     "output_type": "display_data"
    }
   ],
   "source": [
    "plt.figure(figsize = (20,10))\n",
    "sns.barplot(x = df['System_First_BetSlip_Amt'], y = df['System_First_Bet_Product'])"
   ]
  },
  {
   "cell_type": "code",
   "execution_count": 18,
   "id": "d8ee3dbc",
   "metadata": {},
   "outputs": [
    {
     "data": {
      "text/html": [
       "<div>\n",
       "<style scoped>\n",
       "    .dataframe tbody tr th:only-of-type {\n",
       "        vertical-align: middle;\n",
       "    }\n",
       "\n",
       "    .dataframe tbody tr th {\n",
       "        vertical-align: top;\n",
       "    }\n",
       "\n",
       "    .dataframe thead th {\n",
       "        text-align: right;\n",
       "    }\n",
       "</style>\n",
       "<table border=\"1\" class=\"dataframe\">\n",
       "  <thead>\n",
       "    <tr style=\"text-align: right;\">\n",
       "      <th></th>\n",
       "      <th>Src_Player_Id</th>\n",
       "      <th>System_First_Bet_Datetime</th>\n",
       "      <th>System_First_BetSlip_Amt</th>\n",
       "      <th>System_First_Bet_Product_Group</th>\n",
       "      <th>System_First_Bet_Product</th>\n",
       "      <th>System_First_Bet_Channel</th>\n",
       "      <th>System_First_Bet_Platform</th>\n",
       "    </tr>\n",
       "  </thead>\n",
       "  <tbody>\n",
       "    <tr>\n",
       "      <th>0</th>\n",
       "      <td>15643431</td>\n",
       "      <td>2020-10-09 03:57:29</td>\n",
       "      <td>2.5</td>\n",
       "      <td>eGaming</td>\n",
       "      <td>Non Table Games</td>\n",
       "      <td>Online</td>\n",
       "      <td>Mobile</td>\n",
       "    </tr>\n",
       "  </tbody>\n",
       "</table>\n",
       "</div>"
      ],
      "text/plain": [
       "   Src_Player_Id System_First_Bet_Datetime  System_First_BetSlip_Amt  \\\n",
       "0       15643431       2020-10-09 03:57:29                       2.5   \n",
       "\n",
       "  System_First_Bet_Product_Group System_First_Bet_Product  \\\n",
       "0                        eGaming          Non Table Games   \n",
       "\n",
       "  System_First_Bet_Channel System_First_Bet_Platform  \n",
       "0                   Online                    Mobile  "
      ]
     },
     "execution_count": 18,
     "metadata": {},
     "output_type": "execute_result"
    }
   ],
   "source": [
    "df.head(1)"
   ]
  },
  {
   "cell_type": "code",
   "execution_count": 19,
   "id": "a084dd37",
   "metadata": {},
   "outputs": [
    {
     "data": {
      "text/plain": [
       "Online     159166\n",
       "missing    133619\n",
       "Name: System_First_Bet_Channel, dtype: int64"
      ]
     },
     "execution_count": 19,
     "metadata": {},
     "output_type": "execute_result"
    }
   ],
   "source": [
    "df['System_First_Bet_Channel'].value_counts()"
   ]
  },
  {
   "cell_type": "code",
   "execution_count": 20,
   "id": "2a67d4bd",
   "metadata": {},
   "outputs": [
    {
     "data": {
      "text/plain": [
       "<AxesSubplot:xlabel='System_First_Bet_Channel', ylabel='System_First_BetSlip_Amt'>"
      ]
     },
     "execution_count": 20,
     "metadata": {},
     "output_type": "execute_result"
    },
    {
     "data": {
      "image/png": "[encoded data removed]",
      "text/plain": [
       "<Figure size 432x288 with 1 Axes>"
      ]
     },
     "metadata": {
      "needs_background": "light"
     },
     "output_type": "display_data"
    }
   ],
   "source": [
    "sns.barplot(x = df['System_First_Bet_Channel'], y = df['System_First_BetSlip_Amt'])"
   ]
  },
  {
   "cell_type": "code",
   "execution_count": 21,
   "id": "6a6d6985",
   "metadata": {},
   "outputs": [
    {
     "name": "stderr",
     "output_type": "stream",
     "text": [
      "C:\\Users\\win10\\anaconda3\\lib\\site-packages\\seaborn\\_decorators.py:36: FutureWarning: Pass the following variable as a keyword arg: x. From version 0.12, the only valid positional argument will be `data`, and passing other arguments without an explicit keyword will result in an error or misinterpretation.\n",
      "  warnings.warn(\n"
     ]
    },
    {
     "data": {
      "text/plain": [
       "<AxesSubplot:xlabel='System_First_Bet_Platform', ylabel='count'>"
      ]
     },
     "execution_count": 21,
     "metadata": {},
     "output_type": "execute_result"
    },
    {
     "data": {
      "image/png": "[encoded data removed]",
      "text/plain": [
       "<Figure size 432x288 with 1 Axes>"
      ]
     },
     "metadata": {
      "needs_background": "light"
     },
     "output_type": "display_data"
    }
   ],
   "source": [
    "sns.countplot(df['System_First_Bet_Platform'])"
   ]
  },
  {
   "cell_type": "code",
   "execution_count": 22,
   "id": "8ba9bf1c",
   "metadata": {},
   "outputs": [
    {
     "data": {
      "text/plain": [
       "<AxesSubplot:xlabel='System_First_Bet_Platform', ylabel='System_First_BetSlip_Amt'>"
      ]
     },
     "execution_count": 22,
     "metadata": {},
     "output_type": "execute_result"
    },
    {
     "data": {
      "image/png": "[encoded data removed]",
      "text/plain": [
       "<Figure size 432x288 with 1 Axes>"
      ]
     },
     "metadata": {
      "needs_background": "light"
     },
     "output_type": "display_data"
    }
   ],
   "source": [
    "sns.barplot(x = df['System_First_Bet_Platform'], y = df['System_First_BetSlip_Amt'])"
   ]
  },
  {
   "cell_type": "code",
   "execution_count": 23,
   "id": "7944d2e2",
   "metadata": {},
   "outputs": [
    {
     "data": {
      "text/plain": [
       "<AxesSubplot:xlabel='System_First_Bet_Channel', ylabel='System_First_BetSlip_Amt'>"
      ]
     },
     "execution_count": 23,
     "metadata": {},
     "output_type": "execute_result"
    },
    {
     "data": {
      "image/png": "[encoded data removed]",
      "text/plain": [
       "<Figure size 432x288 with 1 Axes>"
      ]
     },
     "metadata": {
      "needs_background": "light"
     },
     "output_type": "display_data"
    }
   ],
   "source": [
    "sns.barplot(x = df['System_First_Bet_Channel'] , y = df['System_First_BetSlip_Amt'].value_counts())"
   ]
  },
  {
   "cell_type": "code",
   "execution_count": 24,
   "id": "45f1c7cd",
   "metadata": {},
   "outputs": [
    {
     "data": {
      "text/plain": [
       "<seaborn.axisgrid.FacetGrid at 0x228e6e60730>"
      ]
     },
     "execution_count": 24,
     "metadata": {},
     "output_type": "execute_result"
    },
    {
     "data": {
      "text/plain": [
       "<Figure size 1440x720 with 0 Axes>"
      ]
     },
     "metadata": {},
     "output_type": "display_data"
    },
    {
     "data": {
      "image/png": "[encoded data removed]",
      "text/plain": [
       "<Figure size 360x360 with 1 Axes>"
      ]
     },
     "metadata": {
      "needs_background": "light"
     },
     "output_type": "display_data"
    }
   ],
   "source": [
    "plt.figure(figsize = (20,10))\n",
    "sns.catplot(x ='System_First_Bet_Channel', y = 'System_First_Bet_Product', data = df)"
   ]
  },
  {
   "cell_type": "code",
   "execution_count": 25,
   "id": "b5983f3f",
   "metadata": {},
   "outputs": [
    {
     "data": {
      "text/plain": [
       "'C:\\\\Users\\\\win10'"
      ]
     },
     "execution_count": 25,
     "metadata": {},
     "output_type": "execute_result"
    }
   ],
   "source": [
    "import os\n",
    "os.getcwd()"
   ]
  },
  {
   "cell_type": "code",
   "execution_count": 26,
   "id": "0f197b6d",
   "metadata": {},
   "outputs": [],
   "source": [
    "df.to_csv('bet.xlsx')"
   ]
  },
  {
   "cell_type": "code",
   "execution_count": null,
   "id": "b91377c1",
   "metadata": {},
   "outputs": [],
   "source": []
  }
 ],
 "metadata": {
  "kernelspec": {
   "display_name": "Python 3 (ipykernel)",
   "language": "python",
   "name": "python3"
  },
  "language_info": {
   "codemirror_mode": {
    "name": "ipython",
    "version": 3
   },
   "file_extension": ".py",
   "mimetype": "text/x-python",
   "name": "python",
   "nbconvert_exporter": "python",
   "pygments_lexer": "ipython3",
   "version": "3.9.7"
  }
 },
 "nbformat": 4,
 "nbformat_minor": 5
}
