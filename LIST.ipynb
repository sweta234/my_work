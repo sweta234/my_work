{
 "cells": [
  {
   "cell_type": "code",
   "execution_count": 1,
   "id": "e7129a9b",
   "metadata": {},
   "outputs": [
    {
     "name": "stdout",
     "output_type": "stream",
     "text": [
      "15\n"
     ]
    }
   ],
   "source": [
    "a = [1, 2, 3, 4, 5]\n",
    "x = sum(a)\n",
    "print (x)"
   ]
  },
  {
   "cell_type": "code",
   "execution_count": 9,
   "id": "b594adbd",
   "metadata": {},
   "outputs": [
    {
     "name": "stdout",
     "output_type": "stream",
     "text": [
      "[11, 12, 4, 3]\n",
      "product: \n",
      "1584\n"
     ]
    }
   ],
   "source": [
    "#multiply all numbers in list\n",
    "\n",
    "#function\n",
    "def mul_list(list) :\n",
    "     \n",
    "    # Multiply elements one by one\n",
    "    product = 1\n",
    "    for i in list:\n",
    "         product = product * i\n",
    "    return product\n",
    "     \n",
    "\n",
    "list1 = [11, 12, 4, 3]\n",
    "print(list1)\n",
    "print(\"product: \") \n",
    "print(mul_list(list1))"
   ]
  },
  {
   "cell_type": "code",
   "execution_count": 14,
   "id": "acec23ea",
   "metadata": {},
   "outputs": [
    {
     "ename": "SyntaxError",
     "evalue": "'return' outside function (Temp/ipykernel_29848/1015253485.py, line 5)",
     "output_type": "error",
     "traceback": [
      "\u001b[1;36m  File \u001b[1;32m\"C:\\Users\\win10\\AppData\\Local\\Temp/ipykernel_29848/1015253485.py\"\u001b[1;36m, line \u001b[1;32m5\u001b[0m\n\u001b[1;33m    return count +1\u001b[0m\n\u001b[1;37m    ^\u001b[0m\n\u001b[1;31mSyntaxError\u001b[0m\u001b[1;31m:\u001b[0m 'return' outside function\n"
     ]
    }
   ],
   "source": [
    "Sample_List = ['abc', 'xyz', 'aba', '1221']\n",
    "for i in Sample_List:\n",
    "    count = 1\n",
    "    if i in x == (str):\n",
    "        return count +1\n",
    "            \n",
    "        "
   ]
  },
  {
   "cell_type": "code",
   "execution_count": 16,
   "id": "aaecf5bc",
   "metadata": {},
   "outputs": [
    {
     "name": "stdout",
     "output_type": "stream",
     "text": [
      "[(1, 2), (2, 1), (2, 3), (2, 5), (4, 4)]\n"
     ]
    }
   ],
   "source": [
    "Sample_List = [(2, 5), (1, 2), (4, 4), (2, 3), (2, 1)]\n",
    "print (sorted(Sample_List, reverse=False))"
   ]
  },
  {
   "cell_type": "code",
   "execution_count": 22,
   "id": "89c3b019",
   "metadata": {},
   "outputs": [],
   "source": [
    "_List = [(2, 5), (1, 2), (4, 4), (2, 3), (2, 5)]\n",
    "def dup(_List):\n",
    "    for i in _List:\n",
    "        if i not in _List:\n",
    "            print (i)"
   ]
  },
  {
   "cell_type": "code",
   "execution_count": 23,
   "id": "46a64f1e",
   "metadata": {},
   "outputs": [
    {
     "name": "stdout",
     "output_type": "stream",
     "text": [
      "None\n"
     ]
    }
   ],
   "source": [
    "print(dup([10,20,30,20,10,50,60,40,80,50,40]))"
   ]
  },
  {
   "cell_type": "code",
   "execution_count": 24,
   "id": "0a9fe35b",
   "metadata": {},
   "outputs": [
    {
     "name": "stdout",
     "output_type": "stream",
     "text": [
      "{40, 10, 80, 50, 20, 60, 30}\n"
     ]
    }
   ],
   "source": [
    "a = [10,20,30,20,10,50,60,40,80,50,40]\n",
    "\n",
    "dup_items = set()\n",
    "uniq_items = []\n",
    "for x in a:\n",
    "    if x not in dup_items:\n",
    "        uniq_items.append(x)\n",
    "        dup_items.add(x)\n",
    "\n",
    "print(dup_items)\n"
   ]
  },
  {
   "cell_type": "code",
   "execution_count": 32,
   "id": "dbd3b5e3",
   "metadata": {},
   "outputs": [],
   "source": [
    "def che(str1):\n",
    "    g = 3\n",
    "    h = []\n",
    "    for word in str1:\n",
    "        if len(word) > g:\n",
    "             h.append(word)"
   ]
  },
  {
   "cell_type": "code",
   "execution_count": 33,
   "id": "42ad5a61",
   "metadata": {},
   "outputs": [
    {
     "name": "stdout",
     "output_type": "stream",
     "text": [
      "None\n"
     ]
    }
   ],
   "source": [
    "print (che(['asdfgfd', 'asdfgf']))"
   ]
  },
  {
   "cell_type": "code",
   "execution_count": 36,
   "id": "1480456f",
   "metadata": {},
   "outputs": [
    {
     "name": "stdout",
     "output_type": "stream",
     "text": [
      "sdf\n",
      "asdfg\n",
      "present\n",
      "present\n",
      "present\n",
      "not present\n",
      "not present\n",
      "not present\n",
      "None\n"
     ]
    }
   ],
   "source": [
    "d = input()\n",
    "h = input()\n",
    "def pr(d,h):\n",
    "    for word in d:\n",
    "        if word in h:\n",
    "            print ('present')\n",
    "    for w in h:\n",
    "        if w in d:\n",
    "            print ('not present')\n",
    "print (pr(d,h))"
   ]
  },
  {
   "cell_type": "code",
   "execution_count": 37,
   "id": "f5cb06fd",
   "metadata": {},
   "outputs": [
    {
     "name": "stdout",
     "output_type": "stream",
     "text": [
      "Red\n"
     ]
    }
   ],
   "source": [
    "u  = ['Red', 'Green', 'White', 'Black', 'Pink', 'Yellow']\n",
    "print (u.pop(0))"
   ]
  },
  {
   "cell_type": "code",
   "execution_count": 38,
   "id": "cf3481e9",
   "metadata": {},
   "outputs": [
    {
     "name": "stdout",
     "output_type": "stream",
     "text": [
      "['Green', 'White', 'Black']\n"
     ]
    }
   ],
   "source": [
    "color = ['Red', 'Green', 'White', 'Black', 'Pink', 'Yellow']\n",
    "color = [x for (i,x) in enumerate(color) if i not in (0,4,5)]\n",
    "print(color)\n"
   ]
  },
  {
   "cell_type": "code",
   "execution_count": 39,
   "id": "ac3e453b",
   "metadata": {},
   "outputs": [
    {
     "name": "stdout",
     "output_type": "stream",
     "text": [
      "[3, 6, 7, 0]\n"
     ]
    }
   ],
   "source": [
    "g = [3,4,6,5,7,9,0]\n",
    "g = [x for (i,x ) in enumerate(g) if i % 2 == 0] \n",
    "print (g)"
   ]
  },
  {
   "cell_type": "code",
   "execution_count": 40,
   "id": "079318e7",
   "metadata": {},
   "outputs": [
    {
     "name": "stdout",
     "output_type": "stream",
     "text": [
      "['banana', 'apple', 'cherry']\n"
     ]
    }
   ],
   "source": [
    "import random\n",
    "\n",
    "mylist = [\"apple\", \"banana\", \"cherry\"]\n",
    "random.shuffle(mylist)\n",
    "\n",
    "print(mylist)"
   ]
  },
  {
   "cell_type": "code",
   "execution_count": 41,
   "id": "eddf7171",
   "metadata": {},
   "outputs": [
    {
     "name": "stdout",
     "output_type": "stream",
     "text": [
      "[(1, 2, 3), (1, 3, 2), (2, 1, 3), (2, 3, 1), (3, 1, 2), (3, 2, 1)]\n"
     ]
    }
   ],
   "source": [
    "from itertools import permutations\n",
    "l = list(permutations(range(1, 4)))\n",
    "print(l)\n"
   ]
  },
  {
   "cell_type": "code",
   "execution_count": 43,
   "id": "5daf7f38",
   "metadata": {},
   "outputs": [
    {
     "name": "stdout",
     "output_type": "stream",
     "text": [
      "0\n",
      "-2\n",
      "-3\n",
      "-5\n",
      "-6\n",
      "-6\n",
      "-5\n",
      "1\n",
      "-1\n",
      "-2\n",
      "-4\n",
      "-5\n",
      "-5\n",
      "-4\n",
      "3\n",
      "1\n",
      "0\n",
      "-2\n",
      "-3\n",
      "-3\n",
      "-2\n",
      "2\n",
      "0\n",
      "-1\n",
      "-3\n",
      "-4\n",
      "-4\n",
      "-3\n",
      "4\n",
      "2\n",
      "1\n",
      "-1\n",
      "-2\n",
      "-2\n",
      "-1\n",
      "6\n",
      "4\n",
      "3\n",
      "1\n",
      "0\n",
      "0\n",
      "1\n",
      "-3\n",
      "-5\n",
      "-6\n",
      "-8\n",
      "-9\n",
      "-9\n",
      "-8\n"
     ]
    }
   ],
   "source": [
    "g = [3,4,6,5,7,9,0]\n",
    "h = [3,5,6,8,9,9,8]\n",
    "for u in g:\n",
    "    for i in h:\n",
    "        print (u-i)"
   ]
  },
  {
   "cell_type": "code",
   "execution_count": 44,
   "id": "e901f554",
   "metadata": {},
   "outputs": [
    {
     "name": "stdout",
     "output_type": "stream",
     "text": [
      "[9, 3, 5, 8, 2, 4, 6]\n"
     ]
    }
   ],
   "source": [
    "list1 = [1, 3, 5, 7, 9]\n",
    "list2=[1, 2, 4, 6, 7, 8]\n",
    "diff_list1_list2 = list(set(list1) - set(list2))\n",
    "diff_list2_list1 = list(set(list2) - set(list1))\n",
    "total_diff = diff_list1_list2 + diff_list2_list1\n",
    "print(total_diff)\n"
   ]
  },
  {
   "cell_type": "code",
   "execution_count": 45,
   "id": "46cdcdad",
   "metadata": {},
   "outputs": [
    {
     "name": "stdout",
     "output_type": "stream",
     "text": [
      "0\n"
     ]
    }
   ],
   "source": [
    "list1 = [1, 3, 5, 7, 9]\n",
    "print (list1.index(1))"
   ]
  },
  {
   "cell_type": "code",
   "execution_count": 48,
   "id": "b3ddf5a5",
   "metadata": {},
   "outputs": [
    {
     "name": "stdout",
     "output_type": "stream",
     "text": [
      "[1, 3, 5, 7, 9, 1, 2, 4, 6, 7, 8]\n"
     ]
    }
   ],
   "source": [
    "list1 = [1, 3, 5, 7, 9]\n",
    "list2=[1, 2, 4, 6, 7, 8]\n",
    "list4 = list1+list2\n",
    "print (list4)"
   ]
  },
  {
   "cell_type": "code",
   "execution_count": 49,
   "id": "0857ed3e",
   "metadata": {},
   "outputs": [
    {
     "name": "stdout",
     "output_type": "stream",
     "text": [
      "3\n"
     ]
    }
   ],
   "source": [
    "# import random\n",
    "import random\n",
    "\n",
    "# prints a random value from the list\n",
    "list1 = [1, 2, 3, 4, 5, 6]\n",
    "print(random.choice(list1))\n"
   ]
  },
  {
   "cell_type": "code",
   "execution_count": 3,
   "id": "02405916",
   "metadata": {},
   "outputs": [
    {
     "name": "stdout",
     "output_type": "stream",
     "text": [
      "2345\n",
      "2345\n"
     ]
    }
   ],
   "source": [
    "d = int(input())\n",
    "g = int(input())\n",
    "def lis(d,g):\n",
    "    f = []\n",
    "    h = []\n",
    "    print (f.append(g))\n",
    "    print (h.append(d))"
   ]
  },
  {
   "cell_type": "code",
   "execution_count": 5,
   "id": "bf6d7a6a",
   "metadata": {},
   "outputs": [
    {
     "name": "stdout",
     "output_type": "stream",
     "text": [
      "no\n",
      "no\n",
      "3\n",
      "4\n",
      "5\n",
      "6\n"
     ]
    }
   ],
   "source": [
    "list1 = [1, 2, 3, 4, 5, 6]\n",
    "list2 = [4,5,3,4,5,6]\n",
    "for item in list1:\n",
    "    if item  in list2:\n",
    "        print (item)\n",
    "    else:\n",
    "        print ('no')"
   ]
  },
  {
   "cell_type": "code",
   "execution_count": 9,
   "id": "d59e1d5d",
   "metadata": {},
   "outputs": [
    {
     "name": "stdout",
     "output_type": "stream",
     "text": [
      "1\n",
      "2\n",
      "3\n",
      "4\n",
      "5\n"
     ]
    }
   ],
   "source": [
    "d = []\n",
    "for d in range(1,6):\n",
    "    print (d)\n"
   ]
  },
  {
   "cell_type": "code",
   "execution_count": 10,
   "id": "a555b139",
   "metadata": {},
   "outputs": [
    {
     "name": "stdout",
     "output_type": "stream",
     "text": [
      "[6, 12, 34]\n"
     ]
    }
   ],
   "source": [
    "d = {12:'u',34:'df',6:'sd'}\n",
    "print (sorted(d))"
   ]
  },
  {
   "cell_type": "code",
   "execution_count": 11,
   "id": "1c4e95a9",
   "metadata": {},
   "outputs": [
    {
     "name": "stdout",
     "output_type": "stream",
     "text": [
      "Original List:  ['Red', 'Green', 'Black']\n",
      "Original List:  ['c', 'Red', 'c', 'Green', 'c', 'Black']\n"
     ]
    }
   ],
   "source": [
    "color = ['Red', 'Green', 'Black']\n",
    "print(\"Original List: \",color)\n",
    "color = [v for elt in color for v in ('c', elt)]\n",
    "print(\"Original List: \",color)\n"
   ]
  },
  {
   "cell_type": "code",
   "execution_count": 14,
   "id": "082e8fa8",
   "metadata": {},
   "outputs": [
    {
     "name": "stdout",
     "output_type": "stream",
     "text": [
      "{'a': 1, 'b': 2, 'c': 3}\n"
     ]
    }
   ],
   "source": [
    "# Python3 program to Convert a\n",
    "# list to dictionary\n",
    "\n",
    "def Convert(lst):\n",
    "\tres_dct = {lst[i]: lst[i + 1] for i in range(0, len(lst), 2)}\n",
    "\treturn res_dct\n",
    "\t\t\n",
    "# Driver code\n",
    "lst = ['a', 1, 'b', 2, 'c', 3]\n",
    "print(Convert(lst))\n"
   ]
  },
  {
   "cell_type": "code",
   "execution_count": 15,
   "id": "39f20008",
   "metadata": {},
   "outputs": [
    {
     "name": "stdout",
     "output_type": "stream",
     "text": [
      "['child1', 'child2', 'child3']\n"
     ]
    }
   ],
   "source": [
    "myfamily = {\n",
    "  \"child1\" : {\n",
    "    \"name\" : \"Emil\",\n",
    "    \"year\" : 2004\n",
    "  },\n",
    "  \"child2\" : {\n",
    "    \"name\" : \"Tobias\",\n",
    "    \"year\" : 2007\n",
    "  },\n",
    "  \"child3\" : {\n",
    "    \"name\" : \"Linus\",\n",
    "    \"year\" : 2011\n",
    "  }\n",
    "}\n",
    "print (sorted(myfamily))"
   ]
  },
  {
   "cell_type": "code",
   "execution_count": 21,
   "id": "40f1e9ba",
   "metadata": {},
   "outputs": [
    {
     "ename": "TypeError",
     "evalue": "'<' not supported between instances of 'dict' and 'dict'",
     "output_type": "error",
     "traceback": [
      "\u001b[1;31m---------------------------------------------------------------------------\u001b[0m",
      "\u001b[1;31mTypeError\u001b[0m                                 Traceback (most recent call last)",
      "\u001b[1;32m~\\AppData\\Local\\Temp/ipykernel_1984/351046910.py\u001b[0m in \u001b[0;36m<module>\u001b[1;34m\u001b[0m\n\u001b[0;32m      1\u001b[0m \u001b[0mmy_list\u001b[0m \u001b[1;33m=\u001b[0m \u001b[1;33m[\u001b[0m \u001b[1;33m{\u001b[0m\u001b[1;34m'subkey'\u001b[0m\u001b[1;33m:\u001b[0m \u001b[1;36m1\u001b[0m\u001b[1;33m}\u001b[0m\u001b[1;33m,\u001b[0m  \u001b[1;33m{\u001b[0m\u001b[1;34m'subkey'\u001b[0m\u001b[1;33m:\u001b[0m \u001b[1;36m10\u001b[0m\u001b[1;33m}\u001b[0m\u001b[1;33m,\u001b[0m  \u001b[1;33m{\u001b[0m\u001b[1;34m'subkey'\u001b[0m\u001b[1;33m:\u001b[0m \u001b[1;36m5\u001b[0m\u001b[1;33m}\u001b[0m\u001b[1;33m]\u001b[0m\u001b[1;33m\u001b[0m\u001b[1;33m\u001b[0m\u001b[0m\n\u001b[0;32m      2\u001b[0m \u001b[1;31m#for key, value in my_list:\u001b[0m\u001b[1;33m\u001b[0m\u001b[1;33m\u001b[0m\u001b[0m\n\u001b[1;32m----> 3\u001b[1;33m \u001b[0mprint\u001b[0m \u001b[1;33m(\u001b[0m\u001b[0msorted\u001b[0m\u001b[1;33m(\u001b[0m\u001b[0mmy_list\u001b[0m\u001b[1;33m)\u001b[0m\u001b[1;33m)\u001b[0m\u001b[1;33m\u001b[0m\u001b[1;33m\u001b[0m\u001b[0m\n\u001b[0m",
      "\u001b[1;31mTypeError\u001b[0m: '<' not supported between instances of 'dict' and 'dict'"
     ]
    }
   ],
   "source": [
    "my_list = [ {'subkey': 1},  {'subkey': 10},  {'subkey': 5}]\n",
    "#for key, value in my_list:\n",
    "print (sorted(my_list))"
   ]
  },
  {
   "cell_type": "code",
   "execution_count": 25,
   "id": "6f746cf8",
   "metadata": {},
   "outputs": [
    {
     "name": "stdout",
     "output_type": "stream",
     "text": [
      "RedGreenBlack\n"
     ]
    }
   ],
   "source": [
    "color = ['Red', 'Green', 'Black']\n",
    "#for i in color:\n",
    "print (''.join(color))"
   ]
  },
  {
   "cell_type": "code",
   "execution_count": 26,
   "id": "b55eaf6c",
   "metadata": {},
   "outputs": [
    {
     "ename": "TypeError",
     "evalue": "'str' object cannot be interpreted as an integer",
     "output_type": "error",
     "traceback": [
      "\u001b[1;31m---------------------------------------------------------------------------\u001b[0m",
      "\u001b[1;31mTypeError\u001b[0m                                 Traceback (most recent call last)",
      "\u001b[1;32m~\\AppData\\Local\\Temp/ipykernel_1984/1885576874.py\u001b[0m in \u001b[0;36m<module>\u001b[1;34m\u001b[0m\n\u001b[0;32m      1\u001b[0m \u001b[0moriginal_list\u001b[0m \u001b[1;33m=\u001b[0m \u001b[1;33m[\u001b[0m\u001b[1;33m{\u001b[0m\u001b[1;34m'key1'\u001b[0m\u001b[1;33m:\u001b[0m\u001b[1;34m'value1'\u001b[0m\u001b[1;33m,\u001b[0m \u001b[1;34m'key2'\u001b[0m\u001b[1;33m:\u001b[0m\u001b[1;34m'value2'\u001b[0m\u001b[1;33m}\u001b[0m\u001b[1;33m,\u001b[0m \u001b[1;33m{\u001b[0m\u001b[1;34m'key1'\u001b[0m\u001b[1;33m:\u001b[0m\u001b[1;34m'value3'\u001b[0m\u001b[1;33m,\u001b[0m \u001b[1;34m'key2'\u001b[0m\u001b[1;33m:\u001b[0m\u001b[1;34m'value4'\u001b[0m\u001b[1;33m}\u001b[0m\u001b[1;33m]\u001b[0m\u001b[1;33m\u001b[0m\u001b[1;33m\u001b[0m\u001b[0m\n\u001b[1;32m----> 2\u001b[1;33m \u001b[0mprint\u001b[0m \u001b[1;33m(\u001b[0m\u001b[0moriginal_list\u001b[0m\u001b[1;33m.\u001b[0m\u001b[0mpop\u001b[0m\u001b[1;33m(\u001b[0m\u001b[1;34m'key1'\u001b[0m\u001b[1;33m)\u001b[0m\u001b[1;33m)\u001b[0m\u001b[1;33m\u001b[0m\u001b[1;33m\u001b[0m\u001b[0m\n\u001b[0m",
      "\u001b[1;31mTypeError\u001b[0m: 'str' object cannot be interpreted as an integer"
     ]
    }
   ],
   "source": [
    "original_list = [{'key1':'value1', 'key2':'value2'}, {'key1':'value3', 'key2':'value4'}]\n",
    "print (original_list.pop('key1'))"
   ]
  },
  {
   "cell_type": "code",
   "execution_count": 28,
   "id": "d0bca253",
   "metadata": {},
   "outputs": [
    {
     "ename": "TypeError",
     "evalue": "'int' object is not subscriptable",
     "output_type": "error",
     "traceback": [
      "\u001b[1;31m---------------------------------------------------------------------------\u001b[0m",
      "\u001b[1;31mTypeError\u001b[0m                                 Traceback (most recent call last)",
      "\u001b[1;32m~\\AppData\\Local\\Temp/ipykernel_1984/2372388435.py\u001b[0m in \u001b[0;36m<module>\u001b[1;34m\u001b[0m\n\u001b[0;32m      1\u001b[0m \u001b[0mSample\u001b[0m \u001b[1;33m=\u001b[0m  \u001b[1;33m[\u001b[0m\u001b[1;36m1\u001b[0m\u001b[1;33m,\u001b[0m \u001b[1;36m3\u001b[0m\u001b[1;33m,\u001b[0m \u001b[1;36m5\u001b[0m\u001b[1;33m,\u001b[0m \u001b[1;36m7\u001b[0m\u001b[1;33m,\u001b[0m \u001b[1;36m9\u001b[0m\u001b[1;33m,\u001b[0m \u001b[1;36m10\u001b[0m\u001b[1;33m]\u001b[0m\u001b[1;33m\u001b[0m\u001b[1;33m\u001b[0m\u001b[0m\n\u001b[0;32m      2\u001b[0m \u001b[1;32mfor\u001b[0m \u001b[0mi\u001b[0m \u001b[1;32min\u001b[0m \u001b[0mSample\u001b[0m\u001b[1;33m:\u001b[0m\u001b[1;33m\u001b[0m\u001b[1;33m\u001b[0m\u001b[0m\n\u001b[1;32m----> 3\u001b[1;33m     \u001b[0mSample\u001b[0m\u001b[1;33m.\u001b[0m\u001b[0mremove\u001b[0m\u001b[1;33m(\u001b[0m\u001b[0mi\u001b[0m\u001b[1;33m[\u001b[0m\u001b[1;33m-\u001b[0m\u001b[1;36m1\u001b[0m\u001b[1;33m]\u001b[0m\u001b[1;33m)\u001b[0m\u001b[1;33m\u001b[0m\u001b[1;33m\u001b[0m\u001b[0m\n\u001b[0m",
      "\u001b[1;31mTypeError\u001b[0m: 'int' object is not subscriptable"
     ]
    }
   ],
   "source": [
    "Sample =  [1, 3, 5, 7, 9, 10]\n",
    "for i in Sample:\n",
    "    Sample.remove(i[-1])"
   ]
  },
  {
   "cell_type": "code",
   "execution_count": 3,
   "id": "dbb702f4",
   "metadata": {},
   "outputs": [
    {
     "name": "stdout",
     "output_type": "stream",
     "text": [
      "not equal\n",
      "not equal\n",
      "not equal\n",
      "not equal\n",
      "not equal\n"
     ]
    }
   ],
   "source": [
    "d = ['n','h','f','k','g']\n",
    "f = ['asdfg']\n",
    "for i in d:\n",
    "    if len(d)==len(f):\n",
    "        print ('equal')\n",
    "    else:\n",
    "        print ('not equal')"
   ]
  },
  {
   "cell_type": "code",
   "execution_count": 5,
   "id": "2327841e",
   "metadata": {},
   "outputs": [
    {
     "name": "stdout",
     "output_type": "stream",
     "text": [
      "gv\n"
     ]
    }
   ],
   "source": [
    "d = ['n','h','f','k','g']\n",
    "f = ['asdfg']\n",
    "if d in f:\n",
    "    print ('asdfg')\n",
    "else:\n",
    "    print ('gv')"
   ]
  },
  {
   "cell_type": "code",
   "execution_count": 6,
   "id": "3a04ba1e",
   "metadata": {},
   "outputs": [
    {
     "name": "stdout",
     "output_type": "stream",
     "text": [
      "False\n",
      "True\n"
     ]
    }
   ],
   "source": [
    "def all_equal(nums):\n",
    "  return len(set(nums)) == 1\n",
    "print(all_equal([1, 2, 3, 4, 5, 6]))\n",
    "print(all_equal([4, 4, 4, 4, 4])) \n"
   ]
  },
  {
   "cell_type": "code",
   "execution_count": 8,
   "id": "1a276e90",
   "metadata": {},
   "outputs": [],
   "source": [
    "d = ['n','h','f','k','g']\n",
    "f = ['asdfg']\n",
    "if 'a' in d:\n",
    "    print ('sdfg')"
   ]
  },
  {
   "cell_type": "code",
   "execution_count": 9,
   "id": "f62be727",
   "metadata": {},
   "outputs": [
    {
     "name": "stdout",
     "output_type": "stream",
     "text": [
      "[{}, {}, {}, {}, {}, {}]\n"
     ]
    }
   ],
   "source": [
    "d = [{}] * 6\n",
    "print (d)"
   ]
  },
  {
   "cell_type": "code",
   "execution_count": 16,
   "id": "ddad3638",
   "metadata": {},
   "outputs": [
    {
     "name": "stdout",
     "output_type": "stream",
     "text": [
      "['emp1', 'emp2', 'emp3', 'emp4']\n"
     ]
    }
   ],
   "source": [
    "num = [1,2,3,4]\n",
    "print(['emp{0}'.format(i) for i in  num])\n"
   ]
  },
  {
   "cell_type": "code",
   "execution_count": 22,
   "id": "3b8368d1",
   "metadata": {},
   "outputs": [
    {
     "name": "stdout",
     "output_type": "stream",
     "text": [
      "[0, 0, 0, 0, 0, 0, 0, 0, 0, 1, 2, 2, 3, 3, 4, 4, 4, 5, 6, 6, 6, 7, 7, 7, 9, 9, 10]\n"
     ]
    }
   ],
   "source": [
    "d = [3, 4, 0, 0, 0, 6, 2, 0, 6, 7, 6, 0, 0, 0, 9, 10, 7, 4, 4, 5, 3, 0, 0, 2, 9, 7, 1]\n",
    "print (sorted(d))"
   ]
  },
  {
   "cell_type": "code",
   "execution_count": 27,
   "id": "a3b453fd",
   "metadata": {},
   "outputs": [],
   "source": [
    "Sample =  [1,2,3], [4,5,6], [10,11,12], [7,8,9]\n",
    "for i in Sample:\n",
    "    if (sum(i)) == (max(i)):\n",
    "        print (i)"
   ]
  },
  {
   "cell_type": "code",
   "execution_count": 28,
   "id": "61ae8419",
   "metadata": {},
   "outputs": [
    {
     "name": "stdout",
     "output_type": "stream",
     "text": [
      "[7, 8, 9]\n"
     ]
    }
   ],
   "source": [
    "print (i)"
   ]
  },
  {
   "cell_type": "code",
   "execution_count": 29,
   "id": "4733570e",
   "metadata": {},
   "outputs": [],
   "source": [
    "d = [3, 4, 0, 0, 0, 6, 2, 0, 6, 7, 6, 0, 0, 0, 9, 10, 7, 4, 4, 5, 3, 0, 0, 2, 9, 7, 1]\n",
    "def d(d):\n",
    "    f = 8\n",
    "    for i in d:\n",
    "        if i > f:\n",
    "            print (i)"
   ]
  },
  {
   "cell_type": "code",
   "execution_count": 31,
   "id": "e4747514",
   "metadata": {},
   "outputs": [
    {
     "name": "stdout",
     "output_type": "stream",
     "text": [
      "9\n",
      "10\n",
      "9\n",
      "None\n"
     ]
    }
   ],
   "source": [
    "print (d( [3, 4, 0, 0, 0, 6, 2, 0, 6, 7, 6, 0, 0, 0, 9, 10, 7, 4, 4, 5, 3, 0, 0, 2, 9, 7, 1]))"
   ]
  },
  {
   "cell_type": "code",
   "execution_count": 34,
   "id": "aff46fee",
   "metadata": {},
   "outputs": [
    {
     "name": "stdout",
     "output_type": "stream",
     "text": [
      "[1, 2, 3, 1, 2, 3]\n",
      "[4, 5, 6, 4, 5, 6]\n"
     ]
    }
   ],
   "source": [
    "Sample =  [1,2,3], [4,5,6]\n",
    "for list1 in Sample:\n",
    "    print (list1+list1)"
   ]
  },
  {
   "cell_type": "code",
   "execution_count": 36,
   "id": "3f95bace",
   "metadata": {},
   "outputs": [
    {
     "name": "stdout",
     "output_type": "stream",
     "text": [
      "abcd\n",
      "abc\n",
      "acjd\n"
     ]
    }
   ],
   "source": [
    "d = ['abcd', 'abc', 'bcd', 'bkie', 'cder', 'cdsw', 'sdfsd', 'dagfa', 'acjd']\n",
    "for i in d:\n",
    "    if i.startswith('a'):\n",
    "        print (i)\n"
   ]
  },
  {
   "cell_type": "code",
   "execution_count": 39,
   "id": "8feb0aaf",
   "metadata": {},
   "outputs": [],
   "source": [
    "Sample = [{},{},{}]\n",
    "if len(Sample) == 0:\n",
    "    print ('true')\n"
   ]
  },
  {
   "cell_type": "code",
   "execution_count": 44,
   "id": "6f0a63ae",
   "metadata": {},
   "outputs": [
    {
     "name": "stdout",
     "output_type": "stream",
     "text": [
      "None\n"
     ]
    }
   ],
   "source": [
    "Original = [0, 10, [20, 30], 40, 50, [60, 70, 80], [90, 100, 110, 120]]\n",
    "def h(Original):\n",
    "    f = []\n",
    "    for i in Original:\n",
    "        return f.append(i)\n",
    "print (h( [0, 10, [20, 30], 40, 50, [60, 70, 80], [90, 100, 110, 120]]))    \n"
   ]
  },
  {
   "cell_type": "code",
   "execution_count": 43,
   "id": "2e43adf0",
   "metadata": {},
   "outputs": [],
   "source": [
    "#print (h( [0, 10, [20, 30], 40, 50, [60, 70, 80], [90, 100, 110, 120]]))"
   ]
  },
  {
   "cell_type": "code",
   "execution_count": 45,
   "id": "16fc1269",
   "metadata": {},
   "outputs": [
    {
     "name": "stdout",
     "output_type": "stream",
     "text": [
      "Original list:\n",
      "[0, 10, [20, 30], 40, 50, [60, 70, 80], [90, 100, 110, 120]]\n",
      "\n",
      "Flatten list:\n",
      "[0, 10, 20, 30, 40, 50, 60, 70, 80, 90, 100, 110, 120]\n"
     ]
    }
   ],
   "source": [
    "def flatten_list(n_list):\n",
    "    result_list = []\n",
    "    if not n_list: return result_list\n",
    "    stack = [list(n_list)]\n",
    "    while stack:\n",
    "        c_num = stack.pop()\n",
    "        next = c_num.pop()\n",
    "        if c_num: stack.append(c_num)\n",
    "        if isinstance(next, list):\n",
    "            if next: stack.append(list(next))\n",
    "        else: result_list.append(next)\n",
    "    result_list.reverse()\n",
    "    return result_list \n",
    "n_list = [0, 10, [20, 30], 40, 50, [60, 70, 80], [90, 100, 110, 120]]\n",
    "print(\"Original list:\") \n",
    "print(n_list)\n",
    "print(\"\\nFlatten list:\")\n",
    "print(flatten_list(n_list))\n"
   ]
  },
  {
   "cell_type": "code",
   "execution_count": 2,
   "id": "1a1d32a9",
   "metadata": {},
   "outputs": [
    {
     "name": "stdout",
     "output_type": "stream",
     "text": [
      "[1, 1, 2]\n"
     ]
    }
   ],
   "source": [
    "org = [1, 1, 2, 3, 4, 4, 5, 1,8]\n",
    "leng = len(org)\n",
    "\n",
    "f = leng//3\n",
    "fis = org[:f]\n",
    "li = org[f:]\n",
    "print (fis)"
   ]
  },
  {
   "cell_type": "code",
   "execution_count": 8,
   "id": "c74af578",
   "metadata": {},
   "outputs": [
    {
     "name": "stdout",
     "output_type": "stream",
     "text": [
      "Original list:\n",
      "[1, 1, 2, 3, 4, 4, 5, 1]\n",
      "\n",
      "After removing an element at the kth position of the said list:\n",
      "[1, 1, 3, 4, 4, 5, 1]\n"
     ]
    }
   ],
   "source": [
    "def remove_kth_element(n_list, L):\n",
    "    return  n_list[:L-1] + n_list[L:]\n",
    "\n",
    "n_list = [1,1,2,3,4,4,5,1]\n",
    "print(\"Original list:\") \n",
    "print(n_list)\n",
    "kth_position = 3\n",
    "result = remove_kth_element(n_list, kth_position)\n",
    "print(\"\\nAfter removing an element at the kth position of the said list:\")\n",
    "print(result)\n"
   ]
  },
  {
   "cell_type": "code",
   "execution_count": 3,
   "id": "2fd1f60a",
   "metadata": {},
   "outputs": [
    {
     "name": "stdout",
     "output_type": "stream",
     "text": [
      "[15, 3]\n",
      "[3, 9]\n"
     ]
    }
   ],
   "source": [
    "test_list = [(15, 3), (3, 9)] \n",
    "for i in test_list:\n",
    "    print (list(i))"
   ]
  },
  {
   "cell_type": "code",
   "execution_count": 5,
   "id": "51342656",
   "metadata": {},
   "outputs": [],
   "source": [
    "test_list1 = [(1, 7), (6, 7), (8, 100), (4, 21)] \n",
    "test_list2 = [(1, 3), (2, 1), (9, 7), (2, 17)]\n",
    "for i in test_list1:\n",
    "    for j in test_list2:\n",
    "        if j in test_list1 or i in test_list2:\n",
    "            print (i,j)\n"
   ]
  },
  {
   "cell_type": "code",
   "execution_count": 9,
   "id": "a3fbddf4",
   "metadata": {},
   "outputs": [
    {
     "name": "stdout",
     "output_type": "stream",
     "text": [
      "5\n",
      "6\n",
      "3\n",
      "8\n"
     ]
    }
   ],
   "source": [
    "#test_list = [(5, 4, 2), (1, 3, 4), (5, 7, 8), (7, 4, 3)] \n",
    "#K = 0 \n",
    "test_tuple = ([5], [6], [3], [8]) \n",
    "for i in test_tuple:\n",
    "    print (sum(tuple(i)))\n",
    "\n"
   ]
  },
  {
   "cell_type": "code",
   "execution_count": 12,
   "id": "40c1f4b8",
   "metadata": {},
   "outputs": [
    {
     "name": "stdout",
     "output_type": "stream",
     "text": [
      "1 4 6 5 8 2 9 1 10\n"
     ]
    }
   ],
   "source": [
    "list1 = [('1', '4', '6'), ('5', '8'), ('2', '9'), ('1', '10')]\n",
    "res = ' '.join([idx for tup in list1 for idx in tup])\n",
    "print (res)\n"
   ]
  },
  {
   "cell_type": "code",
   "execution_count": 13,
   "id": "7e63dba0",
   "metadata": {},
   "outputs": [
    {
     "name": "stdout",
     "output_type": "stream",
     "text": [
      "[(5, 6), (7, 5), (7, 8), (10, 1), (10, 4)]\n"
     ]
    }
   ],
   "source": [
    "list1 = [(7, 8), (5, 6), (7, 5), (10, 4), (10, 1)]\n",
    "print (sorted(list1))\n"
   ]
  },
  {
   "cell_type": "code",
   "execution_count": 18,
   "id": "2811dfec",
   "metadata": {},
   "outputs": [
    {
     "name": "stdout",
     "output_type": "stream",
     "text": [
      "[5, 'Gfg', 6, 'Gfg', 7, 'Gfg']\n"
     ]
    }
   ],
   "source": [
    "test_tup = (5, 6, 7)\n",
    "K = \"Gfg\"\n",
    "res = [ele for sub in test_tup for ele in (sub, K)]\n",
    "print (res)"
   ]
  },
  {
   "cell_type": "code",
   "execution_count": 23,
   "id": "2b67077d",
   "metadata": {},
   "outputs": [
    {
     "name": "stdout",
     "output_type": "stream",
     "text": [
      "[(4, 7, 10, 18), (5, 8, 13, 17)]\n"
     ]
    }
   ],
   "source": [
    "test_list = [[(4, 5), (7, 8)], [(10, 13), (18, 17)]] \n",
    "temp = [ele for sub in test_list for ele in sub]\n",
    "res = list(zip(*temp))\n",
    "print (res)"
   ]
  },
  {
   "cell_type": "code",
   "execution_count": 26,
   "id": "2542b797",
   "metadata": {},
   "outputs": [
    {
     "name": "stdout",
     "output_type": "stream",
     "text": [
      "(['Best'], ['Gfg'], ['Gfg'])\n"
     ]
    }
   ],
   "source": [
    "test_list = [['Best'], ['Gfg'], ['Gfg']] \n",
    "tem = (ele for ele in test_list)\n",
    "res = (tuple(tem))\n",
    "print (res)"
   ]
  },
  {
   "cell_type": "code",
   "execution_count": 30,
   "id": "98ddd06b",
   "metadata": {},
   "outputs": [
    {
     "name": "stdout",
     "output_type": "stream",
     "text": [
      "[[4, 5], ['Gfg', 'best'], [7, 3], ['Gfg', 'best']]\n"
     ]
    }
   ],
   "source": [
    "test_list = [[4, 5], [7, 3]] \n",
    "add_list = ['Gfg', 'best'] \n",
    "res = [ele for sub in test_list for ele in (sub,add_list)]\n",
    "print(res)\n"
   ]
  },
  {
   "cell_type": "code",
   "execution_count": 34,
   "id": "8b5e6c99",
   "metadata": {},
   "outputs": [
    {
     "name": "stdout",
     "output_type": "stream",
     "text": [
      "[(6, 24, 12), (60, 12, 6)]\n"
     ]
    }
   ],
   "source": [
    "test_list = [(6, 24, 12), (60, 12, 6), (12, 18, 21)] \n",
    "K = 6\n",
    "res = [sub for sub in test_list if all(ele % K == 0 for ele in sub)]\n",
    "print(res)\n"
   ]
  },
  {
   "cell_type": "code",
   "execution_count": 40,
   "id": "28b3307f",
   "metadata": {},
   "outputs": [
    {
     "name": "stdout",
     "output_type": "stream",
     "text": [
      "[]\n"
     ]
    }
   ],
   "source": [
    "test_tup = ([4, 7, 8], [1, 2, 3], [4, 7, 8], [9, 10, 11], [1, 2, 3])\n",
    "res = [sub for sub in test_tup if sub != sub]\n",
    "print(res)"
   ]
  },
  {
   "cell_type": "code",
   "execution_count": 46,
   "id": "cffab776",
   "metadata": {},
   "outputs": [
    {
     "name": "stdout",
     "output_type": "stream",
     "text": [
      "[(34, 55), (12, 45), (78,)]\n"
     ]
    }
   ],
   "source": [
    "test_list = [(54, 2), (34, 55), (222, 23), (12, 45), (78, )] \n",
    "K = 2 \n",
    "res = [sub for sub in test_list if all(len(str(ele)) == K for ele in sub)]\n",
    "\n",
    "print (res)"
   ]
  },
  {
   "cell_type": "code",
   "execution_count": 45,
   "id": "f53aee06",
   "metadata": {},
   "outputs": [
    {
     "name": "stdout",
     "output_type": "stream",
     "text": [
      "The original list is : [(54, 2), (34, 55), (222, 23), (12, 45), (78,)]\n",
      "The Extracted tuples : [(34, 55), (12, 45), (78,)]\n"
     ]
    }
   ],
   "source": [
    "# Python3 code to demonstrate working of\n",
    "# Extract K digit Elements Tuples\n",
    "# Using all() + list comprehension\n",
    "\n",
    "# initializing list\n",
    "test_list = [(54, 2), (34, 55), (222, 23), (12, 45), (78, )]\n",
    "\n",
    "# printing original list\n",
    "print(\"The original list is : \" + str(test_list))\n",
    "\n",
    "# initializing K\n",
    "K = 2\n",
    "\n",
    "# using len() and str() to check length and\n",
    "# perform string conversion\n",
    "res = [sub for sub in test_list if all(len(str(ele)) == K for ele in sub)]\n",
    "\n",
    "# printing result\n",
    "print(\"The Extracted tuples : \" + str(res))\n"
   ]
  },
  {
   "cell_type": "code",
   "execution_count": 52,
   "id": "4572e419",
   "metadata": {},
   "outputs": [
    {
     "name": "stdout",
     "output_type": "stream",
     "text": [
      "(19, 4, 5, 3)\n"
     ]
    }
   ],
   "source": [
    "test_list = [(4, 5, 5, 7), (1, 3, 7, 4), (19, 4, 5, 3), (1, 2)] \n",
    "\n",
    "print (max(sorted(test_list)))"
   ]
  },
  {
   "cell_type": "code",
   "execution_count": 58,
   "id": "e6bc6707",
   "metadata": {},
   "outputs": [
    {
     "name": "stdout",
     "output_type": "stream",
     "text": [
      "Counter({5: 1, (6, (7, 8, 6)): 1})\n"
     ]
    }
   ],
   "source": [
    "from collections import Counter\n",
    "test_tuple = (5, (6, (7, 8, 6)))\n",
    "RES = (ele for ele in test_tuple )\n",
    "print (Counter(RES))"
   ]
  },
  {
   "cell_type": "code",
   "execution_count": 1,
   "id": "79df8b8e",
   "metadata": {},
   "outputs": [
    {
     "name": "stdout",
     "output_type": "stream",
     "text": [
      "[12, 35, 9, 56]\n"
     ]
    }
   ],
   "source": [
    "Input = [12, 35, 9, 56, 24]\n",
    "print(Input[:-1])"
   ]
  },
  {
   "cell_type": "code",
   "execution_count": 2,
   "id": "394ffe28",
   "metadata": {},
   "outputs": [
    {
     "name": "stdout",
     "output_type": "stream",
     "text": [
      "[24, 35, 9, 56, 12]\n"
     ]
    }
   ],
   "source": [
    "# Python3 program to swap first\n",
    "# and last element of a list\n",
    "\n",
    "# Swap function\n",
    "def swapList(newList):\n",
    "\t\n",
    "\tnewList[0], newList[-1] = newList[-1], newList[0]\n",
    "\n",
    "\treturn newList\n",
    "\t\n",
    "# Driver code\n",
    "newList = [12, 35, 9, 56, 24]\n",
    "print(swapList(newList))\n"
   ]
  },
  {
   "cell_type": "code",
   "execution_count": 4,
   "id": "4d9bac14",
   "metadata": {},
   "outputs": [
    {
     "name": "stdout",
     "output_type": "stream",
     "text": [
      "None\n"
     ]
    }
   ],
   "source": [
    "#List = [23, 65, 19, 90]\n",
    "def swap(List):\n",
    "    List[2] = List[0]\n",
    "List = [23, 65, 19, 90]\n",
    "print(swap(List))\n"
   ]
  },
  {
   "cell_type": "code",
   "execution_count": 5,
   "id": "a3f35b05",
   "metadata": {},
   "outputs": [
    {
     "name": "stdout",
     "output_type": "stream",
     "text": [
      "4\n"
     ]
    }
   ],
   "source": [
    "lst = [10,20,30,40]\n",
    "print(len(lst))"
   ]
  },
  {
   "cell_type": "code",
   "execution_count": 9,
   "id": "ae1e975f",
   "metadata": {},
   "outputs": [
    {
     "name": "stdout",
     "output_type": "stream",
     "text": [
      "05\n",
      "07\n",
      "7\n"
     ]
    }
   ],
   "source": [
    "\n",
    "def maxi(d,f):\n",
    "    if d > f:\n",
    "        return(d)\n",
    "    else:\n",
    "        return(f)\n",
    "d = input(int())\n",
    "f = input(int())\n",
    "print(maxi(d,f))"
   ]
  },
  {
   "cell_type": "code",
   "execution_count": 12,
   "id": "eeb599f1",
   "metadata": {},
   "outputs": [
    {
     "name": "stdout",
     "output_type": "stream",
     "text": [
      "sdfg\n",
      "asdfgh\n",
      "asdfgh sdfg\n"
     ]
    }
   ],
   "source": [
    "\n",
    "def reverse(f,g):\n",
    "    print(g, f)\n",
    "f = input()\n",
    "g = input()\n",
    "reverse(f,g)"
   ]
  },
  {
   "cell_type": "code",
   "execution_count": 13,
   "id": "c3503c07",
   "metadata": {},
   "outputs": [
    {
     "name": "stdout",
     "output_type": "stream",
     "text": [
      "[3, 5, 7, 23]\n"
     ]
    }
   ],
   "source": [
    "data = 3, 5, 7, 23\n",
    "print(list(data))"
   ]
  },
  {
   "cell_type": "code",
   "execution_count": 14,
   "id": "22f74f66",
   "metadata": {},
   "outputs": [
    {
     "name": "stdout",
     "output_type": "stream",
     "text": [
      "Input some comma seprated numbers : 234567\n",
      "List :  ['234567']\n",
      "Tuple :  ('234567',)\n"
     ]
    }
   ],
   "source": [
    "values = input(\"Input some comma seprated numbers : \")\n",
    "list = values.split(\",\")\n",
    "tuple = tuple(list)\n",
    "print('List : ',list)\n",
    "print('Tuple : ',tuple)"
   ]
  },
  {
   "cell_type": "code",
   "execution_count": 27,
   "id": "7b59e427",
   "metadata": {},
   "outputs": [
    {
     "name": "stdout",
     "output_type": "stream",
     "text": [
      "Red\n"
     ]
    }
   ],
   "source": [
    "color_list = [\"Red\",\"Green\",\"White\" ,\"Black\"]\n",
    "print(color_list[0])"
   ]
  },
  {
   "cell_type": "code",
   "execution_count": 5,
   "id": "00c8f9da",
   "metadata": {},
   "outputs": [
    {
     "name": "stdout",
     "output_type": "stream",
     "text": [
      "06\n",
      "067\n"
     ]
    },
    {
     "ename": "TypeError",
     "evalue": "unsupported operand type(s) for -: 'str' and 'int'",
     "output_type": "error",
     "traceback": [
      "\u001b[1;31m---------------------------------------------------------------------------\u001b[0m",
      "\u001b[1;31mTypeError\u001b[0m                                 Traceback (most recent call last)",
      "\u001b[1;32m~\\AppData\\Local\\Temp/ipykernel_14072/1282265874.py\u001b[0m in \u001b[0;36m<module>\u001b[1;34m\u001b[0m\n\u001b[0;32m      7\u001b[0m         \u001b[1;32mreturn\u001b[0m \u001b[0my\u001b[0m\u001b[1;33m\u001b[0m\u001b[1;33m\u001b[0m\u001b[0m\n\u001b[0;32m      8\u001b[0m \u001b[0mf\u001b[0m \u001b[1;33m=\u001b[0m \u001b[0minput\u001b[0m\u001b[1;33m(\u001b[0m\u001b[0mint\u001b[0m\u001b[1;33m(\u001b[0m\u001b[1;33m)\u001b[0m\u001b[1;33m)\u001b[0m\u001b[1;33m\u001b[0m\u001b[1;33m\u001b[0m\u001b[0m\n\u001b[1;32m----> 9\u001b[1;33m \u001b[0mdiff\u001b[0m\u001b[1;33m(\u001b[0m\u001b[0mf\u001b[0m \u001b[1;33m,\u001b[0m \u001b[0mg\u001b[0m \u001b[1;33m=\u001b[0m \u001b[1;36m17\u001b[0m\u001b[1;33m)\u001b[0m\u001b[1;33m\u001b[0m\u001b[1;33m\u001b[0m\u001b[0m\n\u001b[0m",
      "\u001b[1;32m~\\AppData\\Local\\Temp/ipykernel_14072/1282265874.py\u001b[0m in \u001b[0;36mdiff\u001b[1;34m(f, g)\u001b[0m\n\u001b[0;32m      1\u001b[0m \u001b[0mf\u001b[0m \u001b[1;33m=\u001b[0m \u001b[0minput\u001b[0m\u001b[1;33m(\u001b[0m\u001b[0mint\u001b[0m\u001b[1;33m(\u001b[0m\u001b[1;33m)\u001b[0m\u001b[1;33m)\u001b[0m\u001b[1;33m\u001b[0m\u001b[1;33m\u001b[0m\u001b[0m\n\u001b[0;32m      2\u001b[0m \u001b[1;32mdef\u001b[0m \u001b[0mdiff\u001b[0m\u001b[1;33m(\u001b[0m\u001b[0mf\u001b[0m\u001b[1;33m,\u001b[0m\u001b[0mg\u001b[0m\u001b[1;33m=\u001b[0m\u001b[1;36m17\u001b[0m\u001b[1;33m)\u001b[0m\u001b[1;33m:\u001b[0m\u001b[1;33m\u001b[0m\u001b[1;33m\u001b[0m\u001b[0m\n\u001b[1;32m----> 3\u001b[1;33m     \u001b[0my\u001b[0m \u001b[1;33m=\u001b[0m  \u001b[1;33m(\u001b[0m\u001b[0mf\u001b[0m \u001b[1;33m-\u001b[0m \u001b[0mg\u001b[0m\u001b[1;33m)\u001b[0m\u001b[1;33m\u001b[0m\u001b[1;33m\u001b[0m\u001b[0m\n\u001b[0m\u001b[0;32m      4\u001b[0m     \u001b[1;32mif\u001b[0m \u001b[0mf\u001b[0m\u001b[1;33m>\u001b[0m\u001b[1;36m17\u001b[0m\u001b[1;33m:\u001b[0m\u001b[1;33m\u001b[0m\u001b[1;33m\u001b[0m\u001b[0m\n\u001b[0;32m      5\u001b[0m         \u001b[0my\u001b[0m\u001b[1;33m**\u001b[0m\u001b[1;36m2\u001b[0m\u001b[1;33m\u001b[0m\u001b[1;33m\u001b[0m\u001b[0m\n",
      "\u001b[1;31mTypeError\u001b[0m: unsupported operand type(s) for -: 'str' and 'int'"
     ]
    }
   ],
   "source": [
    "f = input(int())\n",
    "def diff(f,g=17):\n",
    "    y =  (f - g)\n",
    "    if f>17:\n",
    "        y**2\n",
    "    else:\n",
    "        return y\n",
    "f = input(int())\n",
    "diff(f , g = 17)"
   ]
  },
  {
   "cell_type": "code",
   "execution_count": 6,
   "id": "32a73c90",
   "metadata": {},
   "outputs": [],
   "source": [
    "def within(d):\n",
    "    for d in range(100):\n",
    "        if i in d:\n",
    "            print ('yes')\n",
    "        else:\n",
    "            print ('no')"
   ]
  },
  {
   "cell_type": "code",
   "execution_count": 16,
   "id": "65c46899",
   "metadata": {},
   "outputs": [
    {
     "ename": "SyntaxError",
     "evalue": "'return' outside function (Temp/ipykernel_14072/2085595760.py, line 4)",
     "output_type": "error",
     "traceback": [
      "\u001b[1;36m  File \u001b[1;32m\"C:\\Users\\win10\\AppData\\Local\\Temp/ipykernel_14072/2085595760.py\"\u001b[1;36m, line \u001b[1;32m4\u001b[0m\n\u001b[1;33m    return 3*(a+b+c)\u001b[0m\n\u001b[1;37m    ^\u001b[0m\n\u001b[1;31mSyntaxError\u001b[0m\u001b[1;31m:\u001b[0m 'return' outside function\n"
     ]
    }
   ],
   "source": [
    "def sumn(a,b,c):\n",
    "    return (a+b+c)\n",
    "if a==b==c:\n",
    "      return 3*(a+b+c)\n"
   ]
  },
  {
   "cell_type": "code",
   "execution_count": 21,
   "id": "a94a1b50",
   "metadata": {},
   "outputs": [
    {
     "name": "stdout",
     "output_type": "stream",
     "text": [
      "4\n"
     ]
    }
   ],
   "source": [
    "listw = [3,4,4,4,4,6,7,7,8]\n",
    "x = listw.count(4)\n",
    "print(4)"
   ]
  },
  {
   "cell_type": "code",
   "execution_count": 23,
   "id": "5a7fb478",
   "metadata": {},
   "outputs": [
    {
     "name": "stdout",
     "output_type": "stream",
     "text": [
      "no\n",
      "yes\n",
      "yes\n",
      "yes\n",
      "yes\n",
      "no\n",
      "no\n",
      "no\n",
      "no\n"
     ]
    }
   ],
   "source": [
    "l = [3,4,4,4,4,6,7,7,8]\n",
    "for i in l:\n",
    "    if  i == 4:\n",
    "        print('yes')\n",
    "    else:\n",
    "        print ('no')"
   ]
  },
  {
   "cell_type": "code",
   "execution_count": 24,
   "id": "11ba63d1",
   "metadata": {},
   "outputs": [
    {
     "name": "stdout",
     "output_type": "stream",
     "text": [
      "[3, 4, 4, 4, 4, 6, 7, 7, 8]\n"
     ]
    }
   ],
   "source": [
    "l = [3,4,4,4,4,6,7,7,8]\n",
    "print(str(l))"
   ]
  },
  {
   "cell_type": "code",
   "execution_count": 28,
   "id": "4af7df5f",
   "metadata": {},
   "outputs": [
    {
     "ename": "SyntaxError",
     "evalue": "'return' outside function (Temp/ipykernel_14072/1141814624.py, line 9)",
     "output_type": "error",
     "traceback": [
      "\u001b[1;36m  File \u001b[1;32m\"C:\\Users\\win10\\AppData\\Local\\Temp/ipykernel_14072/1141814624.py\"\u001b[1;36m, line \u001b[1;32m9\u001b[0m\n\u001b[1;33m    return i\u001b[0m\n\u001b[1;37m    ^\u001b[0m\n\u001b[1;31mSyntaxError\u001b[0m\u001b[1;31m:\u001b[0m 'return' outside function\n"
     ]
    }
   ],
   "source": [
    "numbers = [    \n",
    "    386, 462, 47, 418, 907, 344, 236, 375, 823, 566, 597, 978, 328, 615, 953, 345, \n",
    "    399, 162, 758, 219, 918, 237, 412, 566, 826, 248, 866, 950, 626, 949, 687, 217, \n",
    "    815, 67, 104, 58, 512, 24, 892, 894, 767, 553, 81, 379, 843, 831, 445, 742, 717, \n",
    "    958,743, 527\n",
    "    ]\n",
    "for i in numbers:\n",
    "    if i %2 == 0 :\n",
    "        return i\n",
    "    elif i == 237:\n",
    "        break"
   ]
  },
  {
   "cell_type": "code",
   "execution_count": 31,
   "id": "fc895b58",
   "metadata": {},
   "outputs": [
    {
     "ename": "SyntaxError",
     "evalue": "'return' outside function (Temp/ipykernel_14072/4213436754.py, line 6)",
     "output_type": "error",
     "traceback": [
      "\u001b[1;36m  File \u001b[1;32m\"C:\\Users\\win10\\AppData\\Local\\Temp/ipykernel_14072/4213436754.py\"\u001b[1;36m, line \u001b[1;32m6\u001b[0m\n\u001b[1;33m    return i\u001b[0m\n\u001b[1;37m    ^\u001b[0m\n\u001b[1;31mSyntaxError\u001b[0m\u001b[1;31m:\u001b[0m 'return' outside function\n"
     ]
    }
   ],
   "source": [
    "color_list_1 = set([\"White\", \"Black\", \"Red\"])\n",
    "color_list_2 = set([\"Red\", \"Green\"])\n",
    "for i in color_list_1:\n",
    "    for j in color_list_2:\n",
    "        if i != j:\n",
    "            return i\n",
    "            "
   ]
  },
  {
   "cell_type": "code",
   "execution_count": 16,
   "id": "eae6c4b6",
   "metadata": {},
   "outputs": [
    {
     "name": "stdout",
     "output_type": "stream",
     "text": [
      "w3w3\n"
     ]
    }
   ],
   "source": [
    "\n",
    "#Sample[0:2]\n",
    "#Sample[-2:]\n",
    "\n",
    "def give(Sample):\n",
    "    print(Sample[0:2]+Sample[-2:])\n",
    "Sample = 'w3'   \n",
    "give(Sample)"
   ]
  },
  {
   "cell_type": "code",
   "execution_count": 17,
   "id": "6584e93a",
   "metadata": {},
   "outputs": [
    {
     "name": "stdout",
     "output_type": "stream",
     "text": [
      "resta$t\n"
     ]
    }
   ],
   "source": [
    "def change_char(str1):\n",
    "  char = str1[0]\n",
    "  str1 = str1.replace(char, '$')\n",
    "  str1 = char + str1[1:]\n",
    "\n",
    "  return str1\n",
    "\n",
    "print(change_char('restart'))\n",
    "\n",
    "    "
   ]
  },
  {
   "cell_type": "code",
   "execution_count": 23,
   "id": "d76948ad",
   "metadata": {},
   "outputs": [
    {
     "name": "stdout",
     "output_type": "stream",
     "text": [
      "False\n"
     ]
    }
   ],
   "source": [
    "\n",
    "def swap(Sample):\n",
    "    return Sample[0] == Sample[1] and Sample[1] == Sample[0]\n",
    "Sample = 'abc', 'xyz'\n",
    "print(swap(Sample))\n",
    "    "
   ]
  },
  {
   "cell_type": "code",
   "execution_count": 28,
   "id": "79ce535b",
   "metadata": {},
   "outputs": [
    {
     "name": "stdout",
     "output_type": "stream",
     "text": [
      "abcing\n"
     ]
    },
    {
     "ename": "AttributeError",
     "evalue": "'str' object has no attribute 'endwith'",
     "output_type": "error",
     "traceback": [
      "\u001b[1;31m---------------------------------------------------------------------------\u001b[0m",
      "\u001b[1;31mAttributeError\u001b[0m                            Traceback (most recent call last)",
      "\u001b[1;32m~\\AppData\\Local\\Temp/ipykernel_11608/1935731604.py\u001b[0m in \u001b[0;36m<module>\u001b[1;34m\u001b[0m\n\u001b[0;32m      6\u001b[0m         \u001b[1;32mreturn\u001b[0m \u001b[0msample\u001b[0m\u001b[1;33m\u001b[0m\u001b[1;33m\u001b[0m\u001b[0m\n\u001b[0;32m      7\u001b[0m \u001b[0msample\u001b[0m \u001b[1;33m=\u001b[0m \u001b[1;34m'abc'\u001b[0m\u001b[1;33m\u001b[0m\u001b[1;33m\u001b[0m\u001b[0m\n\u001b[1;32m----> 8\u001b[1;33m \u001b[0mg\u001b[0m\u001b[1;33m(\u001b[0m\u001b[0msample\u001b[0m\u001b[1;33m)\u001b[0m\u001b[1;33m\u001b[0m\u001b[1;33m\u001b[0m\u001b[0m\n\u001b[0m\u001b[0;32m      9\u001b[0m \u001b[1;33m\u001b[0m\u001b[0m\n",
      "\u001b[1;32m~\\AppData\\Local\\Temp/ipykernel_11608/1935731604.py\u001b[0m in \u001b[0;36mg\u001b[1;34m(sample)\u001b[0m\n\u001b[0;32m      3\u001b[0m     \u001b[1;32mif\u001b[0m \u001b[0mlen\u001b[0m\u001b[1;33m(\u001b[0m\u001b[0msample\u001b[0m\u001b[1;33m)\u001b[0m\u001b[1;33m<\u001b[0m\u001b[1;36m3\u001b[0m\u001b[1;33m:\u001b[0m\u001b[1;33m\u001b[0m\u001b[1;33m\u001b[0m\u001b[0m\n\u001b[0;32m      4\u001b[0m         \u001b[1;32mreturn\u001b[0m \u001b[0msample\u001b[0m\u001b[1;33m\u001b[0m\u001b[1;33m\u001b[0m\u001b[0m\n\u001b[1;32m----> 5\u001b[1;33m     \u001b[1;32melif\u001b[0m \u001b[0msample\u001b[0m\u001b[1;33m.\u001b[0m\u001b[0mendwith\u001b[0m\u001b[1;33m(\u001b[0m\u001b[1;34m'ing'\u001b[0m\u001b[1;33m)\u001b[0m\u001b[1;33m:\u001b[0m\u001b[1;33m\u001b[0m\u001b[1;33m\u001b[0m\u001b[0m\n\u001b[0m\u001b[0;32m      6\u001b[0m         \u001b[1;32mreturn\u001b[0m \u001b[0msample\u001b[0m\u001b[1;33m\u001b[0m\u001b[1;33m\u001b[0m\u001b[0m\n\u001b[0;32m      7\u001b[0m \u001b[0msample\u001b[0m \u001b[1;33m=\u001b[0m \u001b[1;34m'abc'\u001b[0m\u001b[1;33m\u001b[0m\u001b[1;33m\u001b[0m\u001b[0m\n",
      "\u001b[1;31mAttributeError\u001b[0m: 'str' object has no attribute 'endwith'"
     ]
    }
   ],
   "source": [
    "def g(sample):\n",
    "    print(sample+'ing')\n",
    "    if len(sample)<3:\n",
    "        return sample\n",
    "    elif sample.endwith('ing'):\n",
    "        return sample\n",
    "sample = 'abc'\n",
    "g(sample)\n",
    "    "
   ]
  },
  {
   "cell_type": "code",
   "execution_count": 32,
   "id": "96d00790",
   "metadata": {},
   "outputs": [
    {
     "name": "stdout",
     "output_type": "stream",
     "text": [
      "The lyrics is not that good!\n",
      "The lyrics is not that good!\n",
      "The lyrics is not that good!\n",
      "The lyrics is not that good!\n",
      "The lyrics is not that good!\n",
      "The lyrics is not that good!\n",
      "The lyrics is not that good!\n",
      "The lyrics is not that good!\n",
      "The lyrics is not that good!\n",
      "The lyrics is not that good!\n",
      "The lyrics is not that good!\n",
      "The lyrics is not that good!\n",
      "The lyrics is not that good!\n",
      "The lyrics is not that good!\n",
      "The lyrics is not that good!\n",
      "The lyrics is not that good!\n",
      "The lyrics is not that good!\n",
      "The lyrics is not that good!\n",
      "The lyrics is not that good!\n",
      "The lyrics is not that good!\n",
      "The lyrics is not that good!\n",
      "The lyrics is not that good!\n",
      "The lyrics is not that good!\n",
      "The lyrics is not that good!\n",
      "The lyrics is not that good!\n",
      "The lyrics is not that good!\n",
      "The lyrics is not that good!\n",
      "The lyrics is not that good!\n"
     ]
    }
   ],
   "source": [
    "Sample = 'The lyrics is not that poor!'\n",
    "'The lyrics is poor!'\n",
    "for i in Sample:\n",
    "    if 'not' and 'poor' in Sample:\n",
    "        print(Sample.replace('not' and 'poor', 'good'))"
   ]
  },
  {
   "cell_type": "code",
   "execution_count": 33,
   "id": "5a7c81e0",
   "metadata": {},
   "outputs": [
    {
     "name": "stdout",
     "output_type": "stream",
     "text": [
      "The lyrics is good!\n",
      "The lyrics is poor!\n"
     ]
    }
   ],
   "source": [
    "def not_poor(str1):\n",
    "  snot = str1.find('not')\n",
    "  spoor = str1.find('poor')\n",
    "  \n",
    "\n",
    "  if spoor > snot and snot>0 and spoor>0:\n",
    "    str1 = str1.replace(str1[snot:(spoor+4)], 'good')\n",
    "    return str1\n",
    "  else:\n",
    "    return str1\n",
    "print(not_poor('The lyrics is not that poor!'))\n",
    "print(not_poor('The lyrics is poor!'))\n"
   ]
  },
  {
   "cell_type": "code",
   "execution_count": 35,
   "id": "1a0e9cf5",
   "metadata": {},
   "outputs": [
    {
     "ename": "SyntaxError",
     "evalue": "'return' outside function (Temp/ipykernel_11608/640664724.py, line 3)",
     "output_type": "error",
     "traceback": [
      "\u001b[1;36m  File \u001b[1;32m\"C:\\Users\\win10\\AppData\\Local\\Temp/ipykernel_11608/640664724.py\"\u001b[1;36m, line \u001b[1;32m3\u001b[0m\n\u001b[1;33m    return max(len(word))\u001b[0m\n\u001b[1;37m    ^\u001b[0m\n\u001b[1;31mSyntaxError\u001b[0m\u001b[1;31m:\u001b[0m 'return' outside function\n"
     ]
    }
   ],
   "source": [
    "Sample =  'bnmkl' 'that', 'poordfghhgfc'\n",
    "for word in Sample:\n",
    "    return max(len(word))"
   ]
  },
  {
   "cell_type": "code",
   "execution_count": 39,
   "id": "a2049761",
   "metadata": {},
   "outputs": [
    {
     "name": "stdout",
     "output_type": "stream",
     "text": [
      "False\n"
     ]
    }
   ],
   "source": [
    "#Sample = 'abcd'\n",
    "def change(Sample):\n",
    "    print (Sample[0] == Sample[-1] and Sample[-1] == Sample[0])\n",
    "Sample = 'abcd'\n",
    "change(Sample)"
   ]
  },
  {
   "cell_type": "code",
   "execution_count": 38,
   "id": "1665327b",
   "metadata": {},
   "outputs": [
    {
     "name": "stdout",
     "output_type": "stream",
     "text": [
      "dbca\n",
      "52341\n"
     ]
    }
   ],
   "source": [
    "def change_sring(str1):\n",
    "      return str1[-1:] + str1[1:-1] + str1[:1]\n",
    "\t  \n",
    "print(change_sring('abcd'))\n",
    "print(change_sring('12345'))"
   ]
  },
  {
   "cell_type": "code",
   "execution_count": 46,
   "id": "a66f1536",
   "metadata": {},
   "outputs": [],
   "source": [
    "Sample = 'abcd'\n",
    "def i(Sample):\n",
    "    for i in range(len(Sample)):\n",
    "        if i %2 == 0:\n",
    "            print(i.remove())\n",
    "     \n",
    "   \n",
    "    "
   ]
  },
  {
   "cell_type": "code",
   "execution_count": 47,
   "id": "bd10e980",
   "metadata": {},
   "outputs": [
    {
     "ename": "SyntaxError",
     "evalue": "'return' outside function (Temp/ipykernel_11608/1668593920.py, line 4)",
     "output_type": "error",
     "traceback": [
      "\u001b[1;36m  File \u001b[1;32m\"C:\\Users\\win10\\AppData\\Local\\Temp/ipykernel_11608/1668593920.py\"\u001b[1;36m, line \u001b[1;32m4\u001b[0m\n\u001b[1;33m    return Sample.remove(word,'')\u001b[0m\n\u001b[1;37m    ^\u001b[0m\n\u001b[1;31mSyntaxError\u001b[0m\u001b[1;31m:\u001b[0m 'return' outside function\n"
     ]
    }
   ],
   "source": [
    "Sample = 'red, white, black, red, green, black'\n",
    "for word in Sample:\n",
    "    if word == word:\n",
    "        return Sample.remove(word,'')"
   ]
  },
  {
   "cell_type": "code",
   "execution_count": 50,
   "id": "ba815bb0",
   "metadata": {},
   "outputs": [
    {
     "name": "stdout",
     "output_type": "stream",
     "text": [
      "None\n"
     ]
    }
   ],
   "source": [
    "inser=('{{}}', 'PHP')\n",
    "f = (list(inser))\n",
    "print(f.insert(0, f[1]))"
   ]
  },
  {
   "cell_type": "code",
   "execution_count": 54,
   "id": "2cf054f5",
   "metadata": {},
   "outputs": [
    {
     "name": "stdout",
     "output_type": "stream",
     "text": [
      "onononon\n"
     ]
    }
   ],
   "source": [
    "insert_=('Python')\n",
    "print(insert_[-2:]*4)"
   ]
  },
  {
   "cell_type": "code",
   "execution_count": 2,
   "id": "768dbc34",
   "metadata": {},
   "outputs": [
    {
     "ename": "IndentationError",
     "evalue": "unexpected indent (Temp/ipykernel_11608/4280222577.py, line 3)",
     "output_type": "error",
     "traceback": [
      "\u001b[1;36m  File \u001b[1;32m\"C:\\Users\\win10\\AppData\\Local\\Temp/ipykernel_11608/4280222577.py\"\u001b[1;36m, line \u001b[1;32m3\u001b[0m\n\u001b[1;33m    if len(Sample)<3:\u001b[0m\n\u001b[1;37m    ^\u001b[0m\n\u001b[1;31mIndentationError\u001b[0m\u001b[1;31m:\u001b[0m unexpected indent\n"
     ]
    }
   ],
   "source": [
    "def gh(Sample):\n",
    "    return (Sample[:4])\n",
    "\n",
    "          if len(Sample)<3:\n",
    "                  print(Sample)"
   ]
  },
  {
   "cell_type": "code",
   "execution_count": 8,
   "id": "b9a1f549",
   "metadata": {},
   "outputs": [
    {
     "name": "stdout",
     "output_type": "stream",
     "text": [
      "dfg\n"
     ]
    }
   ],
   "source": [
    "def rev(sam):\n",
    "    if len(sam) == 4:\n",
    "        return (sam[:-1])\n",
    "    else:\n",
    "        return sam\n",
    "sam = 'dfg'\n",
    "print (rev(sam))\n",
    "        "
   ]
  },
  {
   "cell_type": "code",
   "execution_count": 11,
   "id": "5382b244",
   "metadata": {},
   "outputs": [],
   "source": [
    "def gh(sam):\n",
    "    if sam.startwith('a'):\n",
    "        print ('True')\n",
    "    else:\n",
    "        print('false')\n",
    "\n",
    "        "
   ]
  },
  {
   "cell_type": "code",
   "execution_count": 14,
   "id": "d2458531",
   "metadata": {},
   "outputs": [
    {
     "name": "stdout",
     "output_type": "stream",
     "text": [
      "sdfghsdfghsdfghsdfghsdfgh\n"
     ]
    }
   ],
   "source": [
    "d = 'sdfgh'\n",
    "print (d * len(d))"
   ]
  },
  {
   "cell_type": "code",
   "execution_count": 15,
   "id": "dbbdb07e",
   "metadata": {},
   "outputs": [
    {
     "name": "stdout",
     "output_type": "stream",
     "text": [
      "\n",
      "Original Number:  3000000\n",
      "Formatted Number with comma separator: 3,000,000\n",
      "Original Number:  30000000\n",
      "Formatted Number with comma separator: 30,000,000\n",
      "\n"
     ]
    }
   ],
   "source": [
    "x = 3000000\n",
    "y = 30000000\n",
    "print(\"\\nOriginal Number: \", x)\n",
    "print(\"Formatted Number with comma separator: \"+\"{:,}\".format(x));\n",
    "print(\"Original Number: \", y)\n",
    "print(\"Formatted Number with comma separator: \"+\"{:,}\".format(y));\n",
    "print()\n"
   ]
  },
  {
   "cell_type": "code",
   "execution_count": 23,
   "id": "1f7c686b",
   "metadata": {},
   "outputs": [
    {
     "name": "stdout",
     "output_type": "stream",
     "text": [
      "hgfds\n"
     ]
    }
   ],
   "source": [
    "d = 'sdfgh'\n",
    "print(d[::-1])"
   ]
  },
  {
   "cell_type": "code",
   "execution_count": 24,
   "id": "93ec34d7",
   "metadata": {},
   "outputs": [
    {
     "name": "stdout",
     "output_type": "stream",
     "text": [
      "\n",
      "Original String: \n",
      "The quick brown fox jumps over the lazy dog.\n",
      "After stripping a,e,i,o,u\n",
      "Th qck brwn fx jmps vr th lzy dg.\n",
      "\n"
     ]
    }
   ],
   "source": [
    "def strip_chars(str, chars):\n",
    "    return \"\".join(c for c in str if c not in chars)\n",
    "\n",
    "print(\"\\nOriginal String: \")\n",
    "print(\"The quick brown fox jumps over the lazy dog.\")\n",
    "print(\"After stripping a,e,i,o,u\")      \n",
    "print(strip_chars(\"The quick brown fox jumps over the lazy dog.\", \"aeiou\"))\n",
    "print()\n"
   ]
  },
  {
   "cell_type": "code",
   "execution_count": 26,
   "id": "7a486dcf",
   "metadata": {},
   "outputs": [
    {
     "name": "stdout",
     "output_type": "stream",
     "text": [
      "0\n",
      "1\n",
      "2\n",
      "3\n",
      "4\n",
      "5\n",
      "6\n",
      "2\n",
      "8\n",
      "3\n"
     ]
    }
   ],
   "source": [
    "Sample = 'w3resource'\n",
    "for i in Sample:\n",
    "    print(Sample.index(i))"
   ]
  },
  {
   "cell_type": "code",
   "execution_count": 28,
   "id": "663fbc04",
   "metadata": {},
   "outputs": [
    {
     "name": "stdout",
     "output_type": "stream",
     "text": [
      "False\n"
     ]
    }
   ],
   "source": [
    "def cheak(sam):\n",
    "    if sam == ('a,b,c,d,e,f,g,h'):\n",
    "        print ('True')\n",
    "    else:\n",
    "        print ('False')\n",
    "sam = 'sdfghj'\n",
    "cheak(sam)\n",
    "        "
   ]
  },
  {
   "cell_type": "code",
   "execution_count": 29,
   "id": "88dfa13a",
   "metadata": {},
   "outputs": [
    {
     "name": "stdout",
     "output_type": "stream",
     "text": [
      "True\n",
      "False\n"
     ]
    }
   ],
   "source": [
    "import string\n",
    "alphabet = set(string.ascii_lowercase)\n",
    "input_string = 'The quick brown fox jumps over the lazy dog'\n",
    "print(set(input_string.lower()) >= alphabet)\n",
    "input_string = 'The quick brown fox jumps over the lazy cat'\n",
    "print(set(input_string.lower()) >= alphabet)\n"
   ]
  },
  {
   "cell_type": "code",
   "execution_count": 30,
   "id": "801cfb28",
   "metadata": {},
   "outputs": [
    {
     "name": "stdout",
     "output_type": "stream",
     "text": [
      "['The', 'quick', 'brown', 'fox', 'jumps', 'over', 'the', 'lazy', 'dog.']\n"
     ]
    }
   ],
   "source": [
    "\n",
    "r = ('The', 'quick', 'brown', 'fox', 'jumps', 'over', 'the', 'lazy', 'dog.')\n",
    "print (list(r))"
   ]
  },
  {
   "cell_type": "code",
   "execution_count": 32,
   "id": "a74b1d39",
   "metadata": {},
   "outputs": [
    {
     "name": "stdout",
     "output_type": "stream",
     "text": [
      "['The', 'quick', 'brown', 'fox', 'jumps', 'over', 'the', 'lazy', 'dog.']\n"
     ]
    }
   ],
   "source": [
    "str1 = \"The quick brown fox jumps over the lazy dog.\"\n",
    "print (str1.split())"
   ]
  },
  {
   "cell_type": "code",
   "execution_count": 37,
   "id": "a8bee8b0",
   "metadata": {},
   "outputs": [
    {
     "name": "stdout",
     "output_type": "stream",
     "text": [
      "theq\n"
     ]
    }
   ],
   "source": [
    "str1 = \"Thequick\"\n",
    "print (str1[:4].lower())"
   ]
  },
  {
   "cell_type": "code",
   "execution_count": 36,
   "id": "6d4ba471",
   "metadata": {},
   "outputs": [
    {
     "name": "stdout",
     "output_type": "stream",
     "text": [
      "w3re\n"
     ]
    }
   ],
   "source": [
    "str1 = 'W3RESOURCE.COM'\n",
    "print(str1[:4].lower())\n"
   ]
  },
  {
   "cell_type": "code",
   "execution_count": 39,
   "id": "2fee76c9",
   "metadata": {},
   "outputs": [],
   "source": [
    "str1 = \"The quick brown fox jumps over the lazy dog.\"\n",
    "def cout(str1):\n",
    "    for word in str1:\n",
    "        f = 'a, e, i, o, u'\n",
    "        g = []\n",
    "        if str1 in f:\n",
    "            print ('yes')\n",
    "        "
   ]
  },
  {
   "cell_type": "code",
   "execution_count": 40,
   "id": "60fdf07f",
   "metadata": {},
   "outputs": [
    {
     "name": "stdout",
     "output_type": "stream",
     "text": [
      "a\n",
      "None\n"
     ]
    }
   ],
   "source": [
    "def first_repeated_char(str1):\n",
    "  for index,c in enumerate(str1):\n",
    "    if str1[:index+1].count(c) > 1:\n",
    "      return c \n",
    "  return \"None\"\n",
    "\n",
    "print(first_repeated_char(\"abcdabcd\"))\n",
    "print(first_repeated_char(\"abcd\"))\n"
   ]
  },
  {
   "cell_type": "code",
   "execution_count": 43,
   "id": "906770c8",
   "metadata": {},
   "outputs": [
    {
     "name": "stdout",
     "output_type": "stream",
     "text": [
      "a\n"
     ]
    }
   ],
   "source": [
    "def g(str1):\n",
    "    for  word in str1:\n",
    "        if str1.count(word)>1:\n",
    "            return word\n",
    "        else:\n",
    "            print ('none')\n",
    "print(g(\"abcdabcd\"))"
   ]
  },
  {
   "cell_type": "code",
   "execution_count": 45,
   "id": "5254cd33",
   "metadata": {},
   "outputs": [
    {
     "name": "stdout",
     "output_type": "stream",
     "text": [
      "a\n"
     ]
    }
   ],
   "source": [
    "def g(str1):\n",
    "    for  word in str1:\n",
    "        if str1.count(word)>2:\n",
    "            return word\n",
    "        else:\n",
    "            print ('none')\n",
    "print(g(\"abcdabcdaaa\"))"
   ]
  },
  {
   "cell_type": "code",
   "execution_count": 53,
   "id": "88430fd0",
   "metadata": {},
   "outputs": [
    {
     "name": "stdout",
     "output_type": "stream",
     "text": [
      "{(29, 'r'), (42, 'g'), (14, 'n'), (43, '.'), (9, ' '), (27, 'v'), (32, 'h'), (16, 'f'), (1, 'h'), (31, 't'), (11, 'r'), (21, 'u'), (15, ' '), (22, 'm'), (39, ' '), (7, 'c'), (5, 'u'), (23, 'p'), (37, 'z'), (19, ' '), (30, ' '), (38, 'y'), (20, 'j'), (26, 'o'), (40, 'd'), (24, 's'), (34, ' '), (4, 'q'), (17, 'o'), (33, 'e'), (0, 'T'), (2, 'e'), (10, 'b'), (3, ' '), (41, 'o'), (8, 'k'), (18, 'x'), (13, 'w'), (6, 'i'), (36, 'a'), (25, ' '), (35, 'l'), (28, 'e'), (12, 'o')}\n"
     ]
    }
   ],
   "source": [
    "str1 = \"The quick brown fox jumps over the lazy dog.\"\n",
    "d = (set(enumerate(str1)))\n",
    "print  (d)"
   ]
  },
  {
   "cell_type": "code",
   "execution_count": 57,
   "id": "6994d052",
   "metadata": {},
   "outputs": [
    {
     "data": {
      "text/plain": [
       "('T', 'G')"
      ]
     },
     "execution_count": 57,
     "metadata": {},
     "output_type": "execute_result"
    }
   ],
   "source": [
    "def cap(str1):\n",
    "    return (str1[0].upper(),str1[-1].upper())\n",
    "str1 = \"The quick brown fox jumps over the lazy dog\"\n",
    "cap(str1)"
   ]
  },
  {
   "cell_type": "code",
   "execution_count": 60,
   "id": "7433fd70",
   "metadata": {},
   "outputs": [
    {
     "ename": "AttributeError",
     "evalue": "'str' object has no attribute 'remove'",
     "output_type": "error",
     "traceback": [
      "\u001b[1;31m---------------------------------------------------------------------------\u001b[0m",
      "\u001b[1;31mAttributeError\u001b[0m                            Traceback (most recent call last)",
      "\u001b[1;32m~\\AppData\\Local\\Temp/ipykernel_11608/1261213318.py\u001b[0m in \u001b[0;36m<module>\u001b[1;34m\u001b[0m\n\u001b[0;32m      2\u001b[0m \u001b[1;32mfor\u001b[0m \u001b[0mword\u001b[0m \u001b[1;32min\u001b[0m \u001b[0mstr1\u001b[0m\u001b[1;33m:\u001b[0m\u001b[1;33m\u001b[0m\u001b[1;33m\u001b[0m\u001b[0m\n\u001b[0;32m      3\u001b[0m     \u001b[1;32mif\u001b[0m \u001b[0mword\u001b[0m \u001b[1;33m==\u001b[0m \u001b[0mword\u001b[0m\u001b[1;33m:\u001b[0m\u001b[1;33m\u001b[0m\u001b[1;33m\u001b[0m\u001b[0m\n\u001b[1;32m----> 4\u001b[1;33m         \u001b[0mprint\u001b[0m \u001b[1;33m(\u001b[0m\u001b[0mword\u001b[0m\u001b[1;33m.\u001b[0m\u001b[0mremove\u001b[0m\u001b[1;33m(\u001b[0m\u001b[1;33m)\u001b[0m\u001b[1;33m)\u001b[0m\u001b[1;33m\u001b[0m\u001b[1;33m\u001b[0m\u001b[0m\n\u001b[0m",
      "\u001b[1;31mAttributeError\u001b[0m: 'str' object has no attribute 'remove'"
     ]
    }
   ],
   "source": [
    "str1 = \"The quick brown fox jumps over the lazy dog.\"\n",
    "for word in str1:\n",
    "    if word == word:\n",
    "        print (re())"
   ]
  },
  {
   "cell_type": "code",
   "execution_count": 61,
   "id": "0137eb39",
   "metadata": {},
   "outputs": [],
   "source": [
    "def coun(str1):\n",
    "    for i in str1:\n",
    "        sum_digit = 0\n",
    "        if i.isdigit() == True:\n",
    "            d = int(i)\n",
    "            return sum_digit + d"
   ]
  },
  {
   "cell_type": "code",
   "execution_count": 63,
   "id": "aede0089",
   "metadata": {},
   "outputs": [],
   "source": [
    "for num in str1:\n",
    "    f = 0\n",
    "    if num == f:\n",
    "        print (len(f))\n",
    "str1 = 111000111"
   ]
  },
  {
   "cell_type": "code",
   "execution_count": 1,
   "id": "9fe7daf7",
   "metadata": {},
   "outputs": [
    {
     "name": "stdout",
     "output_type": "stream",
     "text": [
      "Original string:xxxxxyyyyy\n",
      "After removing consecutive duplicates: xxxxxyyyyy\n",
      "xy\n"
     ]
    }
   ],
   "source": [
    "from itertools import groupby \n",
    "def remove_all_consecutive(str1): \n",
    "\tresult_str = [] \n",
    "\tfor (key,group) in groupby(str1): \n",
    "\t\tresult_str.append(key) \n",
    "\n",
    "\treturn ''.join(result_str)\n",
    "\t\n",
    "str1 = 'xxxxxyyyyy'\n",
    "print(\"Original string:\" + str1)\n",
    "print(\"After removing consecutive duplicates: \" + str1)\n",
    "print(remove_all_consecutive(str1))\n"
   ]
  },
  {
   "cell_type": "code",
   "execution_count": 7,
   "id": "4e7291d3",
   "metadata": {},
   "outputs": [
    {
     "name": "stdout",
     "output_type": "stream",
     "text": [
      "a a\n",
      "b b\n",
      "c c\n",
      "d d\n"
     ]
    }
   ],
   "source": [
    "def dfg(str1,str2):\n",
    "    for  i in str1:\n",
    "        for j in str2:\n",
    "            if i == j:\n",
    "                print(i,j)\n",
    "            \n",
    "str1 = 'abcdpqr'\n",
    "str2 = 'xyzabcd'\n",
    "dfg(str1,str2)"
   ]
  },
  {
   "cell_type": "code",
   "execution_count": 9,
   "id": "017ee2d8",
   "metadata": {},
   "outputs": [
    {
     "name": "stdout",
     "output_type": "stream",
     "text": [
      "PythonExercises\n"
     ]
    }
   ],
   "source": [
    "f = 'Python Exercises'\n",
    "print (f.replace(\" \", ''))"
   ]
  },
  {
   "cell_type": "code",
   "execution_count": null,
   "id": "d6470a83",
   "metadata": {},
   "outputs": [],
   "source": [
    "gh= 'Python Exercises'\n",
    "def fg(gh):\n",
    "    g = 'p'\n",
    "    \n",
    "    "
   ]
  },
  {
   "cell_type": "code",
   "execution_count": 5,
   "id": "84c1d6d5",
   "metadata": {},
   "outputs": [
    {
     "name": "stdout",
     "output_type": "stream",
     "text": [
      "None\n"
     ]
    }
   ],
   "source": [
    "f = [[1, 2, 3], [2, 4, 5], [1, 1, 1]]\n",
    "print(f.sort())"
   ]
  },
  {
   "cell_type": "code",
   "execution_count": 6,
   "id": "2a890d0d",
   "metadata": {},
   "outputs": [],
   "source": [
    "def exc(g):\n",
    "    if len(g) == 8:\n",
    "        print(g)"
   ]
  },
  {
   "cell_type": "code",
   "execution_count": 8,
   "id": "815d8de3",
   "metadata": {},
   "outputs": [
    {
     "name": "stdout",
     "output_type": "stream",
     "text": [
      "1\n",
      "1\n",
      "3\n",
      "4\n",
      "4\n",
      "5\n",
      "6\n",
      "7\n"
     ]
    }
   ],
   "source": [
    "def ext(d):\n",
    "    for i in d:\n",
    "        if i == i:\n",
    "            print(i)\n",
    "d = [1, 1, 3, 4, 4, 5, 6, 7]\n",
    "ext(d)"
   ]
  },
  {
   "cell_type": "code",
   "execution_count": 10,
   "id": "cde32d03",
   "metadata": {},
   "outputs": [
    {
     "data": {
      "text/plain": [
       "0"
      ]
     },
     "execution_count": 10,
     "metadata": {},
     "output_type": "execute_result"
    }
   ],
   "source": [
    "def gh(f):\n",
    "    for i in f:\n",
    "        return i-i\n",
    "f = [1, 1, 3, 4, 4, 5, 6, 7]\n",
    "gh(f)\n"
   ]
  },
  {
   "cell_type": "code",
   "execution_count": 13,
   "id": "44a01f67",
   "metadata": {},
   "outputs": [
    {
     "ename": "SyntaxError",
     "evalue": "'return' outside function (Temp/ipykernel_11436/4142418296.py, line 5)",
     "output_type": "error",
     "traceback": [
      "\u001b[1;36m  File \u001b[1;32m\"C:\\Users\\win10\\AppData\\Local\\Temp/ipykernel_11436/4142418296.py\"\u001b[1;36m, line \u001b[1;32m5\u001b[0m\n\u001b[1;33m    return (sum(f,d)/len(f,d))\u001b[0m\n\u001b[1;37m    ^\u001b[0m\n\u001b[1;31mSyntaxError\u001b[0m\u001b[1;31m:\u001b[0m 'return' outside function\n"
     ]
    }
   ],
   "source": [
    "f = [1, 1, 3, 4, 4, 5, 6, 7]\n",
    "h = [0, 1, 2, 3, 4, 4, 5, 7, 8]\n",
    "for i in f:\n",
    "    for j in d:\n",
    "        return (sum(f,d)/len(f,d))"
   ]
  },
  {
   "cell_type": "code",
   "execution_count": 15,
   "id": "397ed2c0",
   "metadata": {},
   "outputs": [
    {
     "name": "stdout",
     "output_type": "stream",
     "text": [
      "[[2], [4], [1]]\n"
     ]
    }
   ],
   "source": [
    "def remove_column(nums, n, y):\n",
    "   for i in nums: \n",
    "    del i[n],i[y]\n",
    "   return nums\n",
    "list1 = [[1, 2, 3], [2, 4, 5], [1, 1, 1]]\n",
    "n = 0\n",
    "y = 1\n",
    "print(remove_column(list1, n, y))"
   ]
  },
  {
   "cell_type": "code",
   "execution_count": 18,
   "id": "935e1cf1",
   "metadata": {},
   "outputs": [
    {
     "name": "stdout",
     "output_type": "stream",
     "text": [
      "False\n"
     ]
    }
   ],
   "source": [
    "\n",
    "def cheak(d):\n",
    "    if d.sort():\n",
    "        print('True')\n",
    "    else:\n",
    "        print ('False')\n",
    "d = [1, 2, 4, 6, 8, 10, 12, 14, 16, 17]\n",
    "cheak(d)"
   ]
  },
  {
   "cell_type": "code",
   "execution_count": 21,
   "id": "d355b702",
   "metadata": {},
   "outputs": [
    {
     "name": "stdout",
     "output_type": "stream",
     "text": [
      "None\n",
      "None\n"
     ]
    }
   ],
   "source": [
    "g = [{'Green': '#008000'}, {'Black': '#000000'}, {'Blue': '#0000FF'}, {'Green': '#008000'}]\n",
    "for key in g:\n",
    "    if key == key :\n",
    "        print (g.remove(key))\n",
    "    "
   ]
  },
  {
   "cell_type": "code",
   "execution_count": 29,
   "id": "5ebdbec5",
   "metadata": {},
   "outputs": [
    {
     "name": "stdout",
     "output_type": "stream",
     "text": [
      "Greyson Fulton\n",
      "Brady Kent\n",
      "Wyatt Knott\n",
      "Beau Turnbull\n"
     ]
    }
   ],
   "source": [
    "\n",
    "def vg(g,n):\n",
    "    for  i in g:\n",
    "        #for i in n:\n",
    "            print (i[n])\n",
    "g = [('Greyson Fulton', 98, 99), ('Brady Kent', 97, 96), ('Wyatt Knott', 91, 94), ('Beau Turnbull', 94, 98)]\n",
    "n = 0\n",
    "vg(g,n)"
   ]
  },
  {
   "cell_type": "code",
   "execution_count": 32,
   "id": "3dab5ada",
   "metadata": {},
   "outputs": [
    {
     "name": "stdout",
     "output_type": "stream",
     "text": [
      "False\n",
      "False\n",
      "False\n",
      "False\n",
      "False\n",
      "False\n",
      "False\n",
      "False\n",
      "False\n",
      "False\n",
      "False\n",
      "False\n",
      "False\n",
      "False\n"
     ]
    }
   ],
   "source": [
    "f = [1, 2, 4, 6, 8, 2, 1, 4, 10, 12, 14, 12, 16, 17]\n",
    "for i in f:\n",
    "    if i != i:\n",
    "        print ('tryue')\n",
    "    else:\n",
    "        print ('False')"
   ]
  },
  {
   "cell_type": "code",
   "execution_count": 34,
   "id": "67d9befb",
   "metadata": {},
   "outputs": [],
   "source": [
    "d = ['red', 'black', 'white', 'green', 'orange']\n",
    "f = 'ack'\n",
    "for i in d:\n",
    "    if i == f:\n",
    "        print ('True')"
   ]
  },
  {
   "cell_type": "code",
   "execution_count": 35,
   "id": "a377969d",
   "metadata": {},
   "outputs": [
    {
     "name": "stdout",
     "output_type": "stream",
     "text": [
      "['red', 'white', 'orange']\n"
     ]
    }
   ],
   "source": [
    "d = ['red', 'black', 'white', 'green', 'orange']\n",
    "print (d[::2])"
   ]
  },
  {
   "cell_type": "code",
   "execution_count": 36,
   "id": "8d41b84b",
   "metadata": {},
   "outputs": [],
   "source": [
    "g =[1, 2, 3, 4, 5, 6, 7, 8, 9, 10, 11, 12, 13, 14]\n",
    "f = [[12, 18, 23, 25, 45], [7, 11, 19, 24, 28], [1, 5, 8, 18, 15, 16]]\n",
    "def chaek (g,h):\n",
    "    for i in g:\n",
    "        for j in h:\n",
    "            if j in g:\n",
    "                print (j)\n",
    "        \n"
   ]
  },
  {
   "cell_type": "code",
   "execution_count": 38,
   "id": "14880961",
   "metadata": {},
   "outputs": [
    {
     "name": "stdout",
     "output_type": "stream",
     "text": [
      "False\n"
     ]
    }
   ],
   "source": [
    "g = [[12, 18, 23, 25, 45], [7, 12, 18, 24, 28], [1, 5, 8, 12, 15, 16, 18]]\n",
    "def chaek(g):\n",
    "    for i in g:\n",
    "        if i == i:\n",
    "            print (i)\n",
    "g = [[12, 18, 23, 25, 45], [7, 12, 18, 24, 28], [1, 5, 8, 12, 15, 16, 18]]\n",
    "cheak(g)"
   ]
  },
  {
   "cell_type": "code",
   "execution_count": 43,
   "id": "9ae83f01",
   "metadata": {},
   "outputs": [
    {
     "name": "stdout",
     "output_type": "stream",
     "text": [
      "deR\n",
      "neerG\n",
      "eulB\n",
      "etihW\n",
      "kcalB\n"
     ]
    }
   ],
   "source": [
    "\n",
    "def rev(f):\n",
    "    for i in f:\n",
    "         print (i[::-1])\n",
    "f = ['Red', 'Green', 'Blue', 'White', 'Black']\n",
    "rev(f)"
   ]
  },
  {
   "cell_type": "code",
   "execution_count": 51,
   "id": "04b50ff5",
   "metadata": {},
   "outputs": [
    {
     "name": "stdout",
     "output_type": "stream",
     "text": [
      "100\n",
      "400\n",
      "900\n",
      "1600\n",
      "400\n",
      "2500\n",
      "3600\n",
      "1600\n"
     ]
    }
   ],
   "source": [
    "Original = [10, 20, 30, 40, 20, 50, 60, 40]\n",
    "for i in Original:\n",
    "    print ((i*i))"
   ]
  },
  {
   "cell_type": "code",
   "execution_count": 53,
   "id": "89465265",
   "metadata": {},
   "outputs": [
    {
     "name": "stdout",
     "output_type": "stream",
     "text": [
      "<zip object at 0x0000022AD3A221C0>\n"
     ]
    }
   ],
   "source": [
    "list1= [1, 2, 3, 4, 5, 6, 7]\n",
    "list2 = [10, 20, 30, 40, 50, 60, 70]\n",
    "list3 = [100, 200, 300, 400, 500, 600, 700]\n",
    "f = zip(list1,list2,list3)\n",
    "print(f)"
   ]
  },
  {
   "cell_type": "code",
   "execution_count": 55,
   "id": "1e511c6f",
   "metadata": {},
   "outputs": [
    {
     "ename": "TypeError",
     "evalue": "string indices must be integers",
     "output_type": "error",
     "traceback": [
      "\u001b[1;31m---------------------------------------------------------------------------\u001b[0m",
      "\u001b[1;31mTypeError\u001b[0m                                 Traceback (most recent call last)",
      "\u001b[1;32m~\\AppData\\Local\\Temp/ipykernel_11436/3692423979.py\u001b[0m in \u001b[0;36m<module>\u001b[1;34m\u001b[0m\n\u001b[0;32m      4\u001b[0m \u001b[0mlist1\u001b[0m \u001b[1;33m=\u001b[0m  \u001b[1;33m[\u001b[0m\u001b[1;34m'Red color'\u001b[0m\u001b[1;33m,\u001b[0m \u001b[1;34m'Orange#'\u001b[0m\u001b[1;33m,\u001b[0m \u001b[1;34m'Green'\u001b[0m\u001b[1;33m,\u001b[0m \u001b[1;34m'Orange @'\u001b[0m\u001b[1;33m,\u001b[0m \u001b[1;34m'White'\u001b[0m\u001b[1;33m]\u001b[0m\u001b[1;33m\u001b[0m\u001b[1;33m\u001b[0m\u001b[0m\n\u001b[0;32m      5\u001b[0m \u001b[0mf\u001b[0m \u001b[1;33m=\u001b[0m \u001b[1;33m[\u001b[0m\u001b[1;34m'#'\u001b[0m\u001b[1;33m,\u001b[0m \u001b[1;34m'color'\u001b[0m\u001b[1;33m,\u001b[0m \u001b[1;34m'@'\u001b[0m\u001b[1;33m]\u001b[0m\u001b[1;33m\u001b[0m\u001b[1;33m\u001b[0m\u001b[0m\n\u001b[1;32m----> 6\u001b[1;33m \u001b[0mgh\u001b[0m\u001b[1;33m(\u001b[0m\u001b[0mlist1\u001b[0m\u001b[1;33m,\u001b[0m\u001b[0mf\u001b[0m\u001b[1;33m)\u001b[0m\u001b[1;33m\u001b[0m\u001b[1;33m\u001b[0m\u001b[0m\n\u001b[0m",
      "\u001b[1;32m~\\AppData\\Local\\Temp/ipykernel_11436/3692423979.py\u001b[0m in \u001b[0;36mgh\u001b[1;34m(list1, f)\u001b[0m\n\u001b[0;32m      1\u001b[0m \u001b[1;32mdef\u001b[0m \u001b[0mgh\u001b[0m\u001b[1;33m(\u001b[0m\u001b[0mlist1\u001b[0m\u001b[1;33m,\u001b[0m \u001b[0mf\u001b[0m\u001b[1;33m)\u001b[0m\u001b[1;33m:\u001b[0m\u001b[1;33m\u001b[0m\u001b[1;33m\u001b[0m\u001b[0m\n\u001b[0;32m      2\u001b[0m     \u001b[1;32mfor\u001b[0m \u001b[0mi\u001b[0m \u001b[1;32min\u001b[0m \u001b[0mlist1\u001b[0m\u001b[1;33m:\u001b[0m\u001b[1;33m\u001b[0m\u001b[1;33m\u001b[0m\u001b[0m\n\u001b[1;32m----> 3\u001b[1;33m         \u001b[0mprint\u001b[0m \u001b[1;33m(\u001b[0m\u001b[0mi\u001b[0m\u001b[1;33m[\u001b[0m\u001b[0mf\u001b[0m\u001b[1;33m]\u001b[0m\u001b[1;33m)\u001b[0m\u001b[1;33m\u001b[0m\u001b[1;33m\u001b[0m\u001b[0m\n\u001b[0m\u001b[0;32m      4\u001b[0m \u001b[0mlist1\u001b[0m \u001b[1;33m=\u001b[0m  \u001b[1;33m[\u001b[0m\u001b[1;34m'Red color'\u001b[0m\u001b[1;33m,\u001b[0m \u001b[1;34m'Orange#'\u001b[0m\u001b[1;33m,\u001b[0m \u001b[1;34m'Green'\u001b[0m\u001b[1;33m,\u001b[0m \u001b[1;34m'Orange @'\u001b[0m\u001b[1;33m,\u001b[0m \u001b[1;34m'White'\u001b[0m\u001b[1;33m]\u001b[0m\u001b[1;33m\u001b[0m\u001b[1;33m\u001b[0m\u001b[0m\n\u001b[0;32m      5\u001b[0m \u001b[0mf\u001b[0m \u001b[1;33m=\u001b[0m \u001b[1;33m[\u001b[0m\u001b[1;34m'#'\u001b[0m\u001b[1;33m,\u001b[0m \u001b[1;34m'color'\u001b[0m\u001b[1;33m,\u001b[0m \u001b[1;34m'@'\u001b[0m\u001b[1;33m]\u001b[0m\u001b[1;33m\u001b[0m\u001b[1;33m\u001b[0m\u001b[0m\n",
      "\u001b[1;31mTypeError\u001b[0m: string indices must be integers"
     ]
    }
   ],
   "source": [
    "\n",
    "def gh(list1, f):\n",
    "    for i in list1:\n",
    "        print (i[f])\n",
    "list1 =  ['Red color', 'Orange#', 'Green', 'Orange @', 'White']\n",
    "f = ['#', 'color', '@']\n",
    "gh(list1,f)"
   ]
  },
  {
   "cell_type": "code",
   "execution_count": 62,
   "id": "668c2888",
   "metadata": {},
   "outputs": [
    {
     "ename": "TypeError",
     "evalue": "'int' object is not iterable",
     "output_type": "error",
     "traceback": [
      "\u001b[1;31m---------------------------------------------------------------------------\u001b[0m",
      "\u001b[1;31mTypeError\u001b[0m                                 Traceback (most recent call last)",
      "\u001b[1;32m~\\AppData\\Local\\Temp/ipykernel_11436/2947708719.py\u001b[0m in \u001b[0;36m<module>\u001b[1;34m\u001b[0m\n\u001b[0;32m      4\u001b[0m             \u001b[0mprint\u001b[0m \u001b[1;33m(\u001b[0m\u001b[0msum\u001b[0m\u001b[1;33m(\u001b[0m\u001b[0mOriginal\u001b[0m\u001b[1;33m)\u001b[0m\u001b[1;33m)\u001b[0m\u001b[1;33m\u001b[0m\u001b[1;33m\u001b[0m\u001b[0m\n\u001b[0;32m      5\u001b[0m \u001b[0mOriginal\u001b[0m \u001b[1;33m=\u001b[0m \u001b[1;33m[\u001b[0m\u001b[1;36m2\u001b[0m\u001b[1;33m,\u001b[0m \u001b[1;36m1\u001b[0m\u001b[1;33m,\u001b[0m \u001b[1;36m5\u001b[0m\u001b[1;33m,\u001b[0m \u001b[1;36m6\u001b[0m\u001b[1;33m,\u001b[0m \u001b[1;36m8\u001b[0m\u001b[1;33m,\u001b[0m \u001b[1;36m3\u001b[0m\u001b[1;33m,\u001b[0m \u001b[1;36m4\u001b[0m\u001b[1;33m,\u001b[0m \u001b[1;36m9\u001b[0m\u001b[1;33m,\u001b[0m \u001b[1;36m10\u001b[0m\u001b[1;33m,\u001b[0m \u001b[1;36m11\u001b[0m\u001b[1;33m,\u001b[0m \u001b[1;36m8\u001b[0m\u001b[1;33m,\u001b[0m \u001b[1;36m12\u001b[0m\u001b[1;33m]\u001b[0m\u001b[1;33m\u001b[0m\u001b[1;33m\u001b[0m\u001b[0m\n\u001b[1;32m----> 6\u001b[1;33m \u001b[0mprint\u001b[0m\u001b[1;33m(\u001b[0m\u001b[0mg\u001b[0m\u001b[1;33m(\u001b[0m\u001b[0mOriginal\u001b[0m\u001b[1;33m)\u001b[0m\u001b[1;33m)\u001b[0m\u001b[1;33m\u001b[0m\u001b[1;33m\u001b[0m\u001b[0m\n\u001b[0m",
      "\u001b[1;32m~\\AppData\\Local\\Temp/ipykernel_11436/2947708719.py\u001b[0m in \u001b[0;36mg\u001b[1;34m(Original)\u001b[0m\n\u001b[0;32m      2\u001b[0m     \u001b[1;32mfor\u001b[0m \u001b[0mi\u001b[0m \u001b[1;32min\u001b[0m \u001b[0mOriginal\u001b[0m\u001b[1;33m:\u001b[0m\u001b[1;33m\u001b[0m\u001b[1;33m\u001b[0m\u001b[0m\n\u001b[0;32m      3\u001b[0m         \u001b[1;32mfor\u001b[0m \u001b[0mOriginal\u001b[0m \u001b[1;32min\u001b[0m \u001b[0mrange\u001b[0m\u001b[1;33m(\u001b[0m\u001b[1;36m8\u001b[0m\u001b[1;33m,\u001b[0m\u001b[1;36m10\u001b[0m\u001b[1;33m)\u001b[0m\u001b[1;33m:\u001b[0m\u001b[1;33m\u001b[0m\u001b[1;33m\u001b[0m\u001b[0m\n\u001b[1;32m----> 4\u001b[1;33m             \u001b[0mprint\u001b[0m \u001b[1;33m(\u001b[0m\u001b[0msum\u001b[0m\u001b[1;33m(\u001b[0m\u001b[0mOriginal\u001b[0m\u001b[1;33m)\u001b[0m\u001b[1;33m)\u001b[0m\u001b[1;33m\u001b[0m\u001b[1;33m\u001b[0m\u001b[0m\n\u001b[0m\u001b[0;32m      5\u001b[0m \u001b[0mOriginal\u001b[0m \u001b[1;33m=\u001b[0m \u001b[1;33m[\u001b[0m\u001b[1;36m2\u001b[0m\u001b[1;33m,\u001b[0m \u001b[1;36m1\u001b[0m\u001b[1;33m,\u001b[0m \u001b[1;36m5\u001b[0m\u001b[1;33m,\u001b[0m \u001b[1;36m6\u001b[0m\u001b[1;33m,\u001b[0m \u001b[1;36m8\u001b[0m\u001b[1;33m,\u001b[0m \u001b[1;36m3\u001b[0m\u001b[1;33m,\u001b[0m \u001b[1;36m4\u001b[0m\u001b[1;33m,\u001b[0m \u001b[1;36m9\u001b[0m\u001b[1;33m,\u001b[0m \u001b[1;36m10\u001b[0m\u001b[1;33m,\u001b[0m \u001b[1;36m11\u001b[0m\u001b[1;33m,\u001b[0m \u001b[1;36m8\u001b[0m\u001b[1;33m,\u001b[0m \u001b[1;36m12\u001b[0m\u001b[1;33m]\u001b[0m\u001b[1;33m\u001b[0m\u001b[1;33m\u001b[0m\u001b[0m\n\u001b[0;32m      6\u001b[0m \u001b[0mprint\u001b[0m\u001b[1;33m(\u001b[0m\u001b[0mg\u001b[0m\u001b[1;33m(\u001b[0m\u001b[0mOriginal\u001b[0m\u001b[1;33m)\u001b[0m\u001b[1;33m)\u001b[0m\u001b[1;33m\u001b[0m\u001b[1;33m\u001b[0m\u001b[0m\n",
      "\u001b[1;31mTypeError\u001b[0m: 'int' object is not iterable"
     ]
    }
   ],
   "source": [
    "\n",
    "\n",
    "def g (Original):\n",
    "    for i in Original:\n",
    "        for Original in range(8,10):\n",
    "            print (sum(Original))\n",
    "Original = [2, 1, 5, 6, 8, 3, 4, 9, 10, 11, 8, 12]\n",
    "print(g(Original))"
   ]
  },
  {
   "cell_type": "code",
   "execution_count": 68,
   "id": "e0eba275",
   "metadata": {},
   "outputs": [
    {
     "name": "stdout",
     "output_type": "stream",
     "text": [
      "[4, 3, 2, 1]\n",
      "[8, 7, 6, 5]\n",
      "[12, 11, 10, 9]\n",
      "[16, 15, 14, 13]\n",
      "None\n"
     ]
    }
   ],
   "source": [
    "\n",
    "def rev(f):\n",
    "    for i in f:\n",
    "        print (i[::-1])\n",
    "f = [[1, 2, 3, 4], [5, 6, 7, 8], [9, 10, 11, 12], [13, 14, 15, 16]]\n",
    "print (rev(f))"
   ]
  },
  {
   "cell_type": "code",
   "execution_count": 5,
   "id": "b3e6ef50",
   "metadata": {},
   "outputs": [
    {
     "name": "stdout",
     "output_type": "stream",
     "text": [
      "<built-in method index of list object at 0x00000218D9079600>\n"
     ]
    }
   ],
   "source": [
    "\n",
    "def inx (f):\n",
    "    for i  in f:\n",
    "        if i == max(f):\n",
    "            print (f.index)\n",
    "f = [12, 33, 23, 10, 67, 89, 45, 667, 23, 12, 11, 10, 54]\n",
    "inx(f)"
   ]
  },
  {
   "cell_type": "code",
   "execution_count": 9,
   "id": "5e2a25fe",
   "metadata": {},
   "outputs": [
    {
     "name": "stdout",
     "output_type": "stream",
     "text": [
      "True\n"
     ]
    }
   ],
   "source": [
    "g= ['red', 'green', 'black', 'orange']\n",
    "h =['red', 'pink', 'green', 'white', 'black']\n",
    "f= ['white', 'orange', 'pink', 'black']\n",
    "for i ,j in enumerate(g):\n",
    "    for u,n in enumerate(h):\n",
    "        if  j == n and i == u:\n",
    "            print ('True')"
   ]
  },
  {
   "cell_type": "code",
   "execution_count": 10,
   "id": "69965b4f",
   "metadata": {},
   "outputs": [
    {
     "name": "stdout",
     "output_type": "stream",
     "text": [
      "{'Solution', 'Python', 'Practice', 'Exercises'}\n"
     ]
    }
   ],
   "source": [
    "f = ['Python', 'Exercises', 'Practice', 'Solution', 'Exercises']\n",
    "print (set(list(f)))"
   ]
  },
  {
   "cell_type": "code",
   "execution_count": 14,
   "id": "a86e477d",
   "metadata": {},
   "outputs": [
    {
     "name": "stdout",
     "output_type": "stream",
     "text": [
      "['-12', '-500', '0', '100', '12', '200', '4', '45', '7']\n"
     ]
    }
   ],
   "source": [
    "d= ['4', '12', '45', '7', '0', '100', '200', '-12', '-500']\n",
    "print (sorted(d))"
   ]
  },
  {
   "cell_type": "code",
   "execution_count": 17,
   "id": "632d7215",
   "metadata": {},
   "outputs": [
    {
     "name": "stdout",
     "output_type": "stream",
     "text": [
      "None\n",
      "None\n",
      "None\n"
     ]
    }
   ],
   "source": [
    "g = [[], [], [], 'Red', 'Green', [1, 2], 'Blue', [], []]\n",
    "for i in g:\n",
    "    if i == []:\n",
    "        print (g.remove(i))"
   ]
  },
  {
   "cell_type": "code",
   "execution_count": 21,
   "id": "c296005a",
   "metadata": {},
   "outputs": [
    {
     "name": "stdout",
     "output_type": "stream",
     "text": [
      "8\n",
      "17\n",
      "29\n"
     ]
    }
   ],
   "source": [
    "f= [[1, 2, 3, 2], [4, 5, 6, 2], [7, 8, 9, 5]]\n",
    "for x in f:\n",
    "    print (sum(x))"
   ]
  },
  {
   "cell_type": "code",
   "execution_count": 22,
   "id": "64a30063",
   "metadata": {},
   "outputs": [
    {
     "name": "stdout",
     "output_type": "stream",
     "text": [
      "Original list of lists:\n",
      "[[1, 2, 3, 2], [4, 5, 6, 2], [7, 8, 9, 5]]\n",
      "\n",
      "Sum: 1st column of the said list of lists:\n",
      "12\n",
      "\n",
      "Sum: 2nd column of the said list of lists:\n",
      "15\n",
      "\n",
      "Sum: 4th column of the said list of lists:\n",
      "9\n"
     ]
    }
   ],
   "source": [
    "def sum_column(nums, C):\n",
    "    result = sum(row[C] for row in nums)\n",
    "    return result\n",
    "\n",
    "nums = [\n",
    "        [1,2,3,2],\n",
    "        [4,5,6,2],\n",
    "        [7,8,9,5],\n",
    "        ]\n",
    "print(\"Original list of lists:\")\n",
    "print(nums)\n",
    "\n",
    "column = 0\n",
    "print(\"\\nSum: 1st column of the said list of lists:\")\n",
    "print(sum_column(nums, column))\n",
    "column = 1\n",
    "print(\"\\nSum: 2nd column of the said list of lists:\")\n",
    "print(sum_column(nums, column))\n",
    "column = 3\n",
    "print(\"\\nSum: 4th column of the said list of lists:\")\n",
    "print(sum_column(nums, column))\n"
   ]
  },
  {
   "cell_type": "code",
   "execution_count": 24,
   "id": "32cd947c",
   "metadata": {},
   "outputs": [
    {
     "data": {
      "text/plain": [
       "[1, 4, 7]"
      ]
     },
     "execution_count": 24,
     "metadata": {},
     "output_type": "execute_result"
    }
   ],
   "source": [
    "\n",
    "def gh(f, c):\n",
    "    result = [row[c] for row in f]\n",
    "    return result\n",
    "f = [[1, 2, 3, 2], [4, 5, 6, 2], [7, 1, 9, 5]] \n",
    "c = 0\n",
    "gh(f,c)    "
   ]
  },
  {
   "cell_type": "code",
   "execution_count": 27,
   "id": "08cb59f9",
   "metadata": {},
   "outputs": [
    {
     "name": "stdout",
     "output_type": "stream",
     "text": [
      "1\n"
     ]
    }
   ],
   "source": [
    "for i in range(1, 7):\n",
    "    print (i)\n",
    "    if i == 2 or 9 or 10:\n",
    "        break\n",
    "    \n",
    "    "
   ]
  },
  {
   "cell_type": "code",
   "execution_count": 3,
   "id": "a66b1fa7",
   "metadata": {},
   "outputs": [
    {
     "ename": "SyntaxError",
     "evalue": "'return' outside function (Temp/ipykernel_10680/3616557133.py, line 3)",
     "output_type": "error",
     "traceback": [
      "\u001b[1;36m  File \u001b[1;32m\"C:\\Users\\win10\\AppData\\Local\\Temp/ipykernel_10680/3616557133.py\"\u001b[1;36m, line \u001b[1;32m3\u001b[0m\n\u001b[1;33m    return (sum(i))\u001b[0m\n\u001b[1;37m    ^\u001b[0m\n\u001b[1;31mSyntaxError\u001b[0m\u001b[1;31m:\u001b[0m 'return' outside function\n"
     ]
    }
   ],
   "source": [
    "fg = [10, 2, 56]\n",
    "for i in fg:\n",
    "       return (sum(i))"
   ]
  },
  {
   "cell_type": "code",
   "execution_count": 8,
   "id": "4a9a25c4",
   "metadata": {},
   "outputs": [],
   "source": [
    "f = ['red', 'green', 'blue', 'white', 'black', 'orange']\n",
    "g = ['white', 'orange']\n",
    "for word in f:\n",
    "    if word == g:\n",
    "        print (f.remove(g))"
   ]
  },
  {
   "cell_type": "code",
   "execution_count": 9,
   "id": "45627277",
   "metadata": {},
   "outputs": [
    {
     "name": "stdout",
     "output_type": "stream",
     "text": [
      "Original list:\n",
      "['orange', 'red', 'green', 'blue']\n",
      "\n",
      "All possible combinations of the said list’s elements:\n",
      "[[], ['orange'], ['red'], ['red', 'orange'], ['green'], ['green', 'orange'], ['green', 'red'], ['green', 'red', 'orange'], ['blue'], ['blue', 'orange'], ['blue', 'red'], ['blue', 'red', 'orange'], ['blue', 'green'], ['blue', 'green', 'orange'], ['blue', 'green', 'red'], ['blue', 'green', 'red', 'orange']]\n"
     ]
    }
   ],
   "source": [
    "def combinations_list(colors):\n",
    "    if len(colors) == 0:\n",
    "        return [[]]\n",
    "    result = []\n",
    "    for el in combinations_list(colors[1:]):\n",
    "        result += [el, el+[colors[0]]]\n",
    "    return result\n",
    "colors = ['orange', 'red', 'green', 'blue']\n",
    "print(\"Original list:\")\n",
    "print(colors)\n",
    "print(\"\\nAll possible combinations of the said list’s elements:\")\n",
    "print(combinations_list(colors))\n"
   ]
  },
  {
   "cell_type": "code",
   "execution_count": 15,
   "id": "310c7ea1",
   "metadata": {},
   "outputs": [
    {
     "name": "stdout",
     "output_type": "stream",
     "text": [
      "[0, 1, 2, 3, 4, 5, 6, 7, 8, 9, 10, 11]\n"
     ]
    }
   ],
   "source": [
    "fg =[1, 3, 5, 7, 9, 11]\n",
    "h = [0, 2, 4, 6, 8, 10]\n",
    "print (sorted(fg+h))"
   ]
  },
  {
   "cell_type": "code",
   "execution_count": 24,
   "id": "ce5414fd",
   "metadata": {},
   "outputs": [
    {
     "ename": "SyntaxError",
     "evalue": "'return' outside function (Temp/ipykernel_10680/2618494956.py, line 5)",
     "output_type": "error",
     "traceback": [
      "\u001b[1;36m  File \u001b[1;32m\"C:\\Users\\win10\\AppData\\Local\\Temp/ipykernel_10680/2618494956.py\"\u001b[1;36m, line \u001b[1;32m5\u001b[0m\n\u001b[1;33m    return ((i,j))\u001b[0m\n\u001b[1;37m    ^\u001b[0m\n\u001b[1;31mSyntaxError\u001b[0m\u001b[1;31m:\u001b[0m 'return' outside function\n"
     ]
    }
   ],
   "source": [
    "gh = [[10, 20], [30, 40], [50, 60], [30, 20, 80]]\n",
    "h= [[61], [12, 14, 15], [12, 13, 19, 20], [12]]\n",
    "for i in gh:\n",
    "    for j in h:\n",
    "        return ((i,j))\n",
    "    "
   ]
  },
  {
   "cell_type": "code",
   "execution_count": null,
   "id": "fe2b4829",
   "metadata": {},
   "outputs": [],
   "source": []
  },
  {
   "cell_type": "code",
   "execution_count": null,
   "id": "7c05573c",
   "metadata": {},
   "outputs": [],
   "source": []
  },
  {
   "cell_type": "code",
   "execution_count": null,
   "id": "d5a49607",
   "metadata": {},
   "outputs": [],
   "source": []
  },
  {
   "cell_type": "code",
   "execution_count": null,
   "id": "60b14164",
   "metadata": {},
   "outputs": [],
   "source": []
  }
 ],
 "metadata": {
  "kernelspec": {
   "display_name": "Python 3 (ipykernel)",
   "language": "python",
   "name": "python3"
  },
  "language_info": {
   "codemirror_mode": {
    "name": "ipython",
    "version": 3
   },
   "file_extension": ".py",
   "mimetype": "text/x-python",
   "name": "python",
   "nbconvert_exporter": "python",
   "pygments_lexer": "ipython3",
   "version": "3.9.7"
  }
 },
 "nbformat": 4,
 "nbformat_minor": 5
}
